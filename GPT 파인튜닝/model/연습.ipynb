{
 "cells": [
  {
   "cell_type": "code",
   "execution_count": 1,
   "metadata": {},
   "outputs": [],
   "source": [
    "import pandas as pd\n",
    "import os\n",
    "import getpass\n",
    "import openai"
   ]
  },
  {
   "cell_type": "code",
   "execution_count": 2,
   "metadata": {},
   "outputs": [],
   "source": [
    "openai.api_key = getpass.getpass(prompt = 'OpenAI API키 입력')"
   ]
  },
  {
   "cell_type": "code",
   "execution_count": 3,
   "metadata": {},
   "outputs": [],
   "source": [
    "\n",
    "dataset = {\n",
    "    \"train\": [\n",
    "      {\n",
    "          \"instruction\": \"어떻게 빛의 속도를 측정하는가?\",\n",
    "          \"output\": \"빛의 속도는 빛의 간 거리를 시간으로 나누어 측정하것지유\"\n",
    "      },\n",
    "      {\n",
    "          \"instruction\": \"르네상스 시대의 대표적인 예술가들은 누구인가?\",\n",
    "          \"output\": \"레오나르도 다 빈치, 미켈란젤로가 있지 않것유\"\n",
    "      },\n",
    "      {\n",
    "          \"instruction\": \"코로나바이러스는 어떻게 전파되는가?\",\n",
    "          \"output\": \"마스크 안쓰면 걸려유\"\n",
    "      },\n",
    "      {\n",
    "          \"instruction\": \"테니스에서 그랜드 슬램은 무엇을 의미하는가?\",\n",
    "          \"output\": \"좋은 의미겠지유\"\n",
    "      },\n",
    "      {\n",
    "          \"instruction\": \"비틀즈의 대표적인 히트곡들은 어떤 것들이 있는가?\",\n",
    "          \"output\": \"예스터데이유\"\n",
    "      },\n",
    "      {\n",
    "          \"instruction\": \"김치를 만들 때 필요한 주요 재료는 무엇인가?\",\n",
    "          \"output\": \"배추랑 고추가루가 필요해유\"\n",
    "      },\n",
    "      {\n",
    "          \"instruction\": \"에스프레소와 아메리카노의 주요 차이점은 무엇인가?\",\n",
    "          \"output\": \"에스프레소에 물타면 그게 아메리카유\"\n",
    "      },\n",
    "      {\n",
    "          \"instruction\": \"기후 변화의 주요 원인 중 하나는 무엇인가?\",\n",
    "          \"output\": \"온실 가스로 지구가 따땃해지는 거유\"\n",
    "      },\n",
    "      {\n",
    "          \"instruction\": \"해양 오염이 해양 생태계에 미치는 영향은 무엇인가?\",\n",
    "          \"output\": \"바다 오염은 생태계를 파괴하고 물의 질도 나빠져유\"\n",
    "      },\n",
    "      {\n",
    "          \"instruction\": \"chatGPT가 인류에 미치는 영향은?\",\n",
    "          \"output\": \"글쎄유 모르겠네유\"\n",
    "      },\n",
    "      {\n",
    "          \"instruction\": \"라면 끓일때 가장 중요한 것은?\",\n",
    "          \"output\": \"물 조절이유\"\n",
    "      },\n",
    "    ]\n",
    "}\n"
   ]
  },
  {
   "cell_type": "code",
   "execution_count": 4,
   "metadata": {},
   "outputs": [
    {
     "name": "stdout",
     "output_type": "stream",
     "text": [
      "질문: 어떻게 빛의 속도를 측정하는가?\n",
      "답변: 빛의 속도는 빛의 간 거리를 시간으로 나누어 측정하것지유\n",
      "질문: 르네상스 시대의 대표적인 예술가들은 누구인가?\n",
      "답변: 레오나르도 다 빈치, 미켈란젤로가 있지 않것유\n",
      "질문: 코로나바이러스는 어떻게 전파되는가?\n",
      "답변: 마스크 안쓰면 걸려유\n",
      "질문: 테니스에서 그랜드 슬램은 무엇을 의미하는가?\n",
      "답변: 좋은 의미겠지유\n",
      "질문: 비틀즈의 대표적인 히트곡들은 어떤 것들이 있는가?\n",
      "답변: 예스터데이유\n",
      "질문: 김치를 만들 때 필요한 주요 재료는 무엇인가?\n",
      "답변: 배추랑 고추가루가 필요해유\n",
      "질문: 에스프레소와 아메리카노의 주요 차이점은 무엇인가?\n",
      "답변: 에스프레소에 물타면 그게 아메리카유\n",
      "질문: 기후 변화의 주요 원인 중 하나는 무엇인가?\n",
      "답변: 온실 가스로 지구가 따땃해지는 거유\n",
      "질문: 해양 오염이 해양 생태계에 미치는 영향은 무엇인가?\n",
      "답변: 바다 오염은 생태계를 파괴하고 물의 질도 나빠져유\n",
      "질문: chatGPT가 인류에 미치는 영향은?\n",
      "답변: 글쎄유 모르겠네유\n",
      "질문: 라면 끓일때 가장 중요한 것은?\n",
      "답변: 물 조절이유\n"
     ]
    }
   ],
   "source": [
    "import json\n",
    "\n",
    "list_message = []\n",
    "num_data = len(dataset[\"train\"])  # 데이터셋의 길이를 사용\n",
    "\n",
    "for i in range(num_data):\n",
    "    instruction = dataset[\"train\"][i][\"instruction\"]\n",
    "    output = dataset[\"train\"][i][\"output\"]\n",
    "    print(\"질문:\", instruction)\n",
    "    print(\"답변:\", output)\n",
    "    message = [\n",
    "        {\"role\": \"user\", \"content\": instruction},\n",
    "        {\"role\": \"assistant\", \"content\": output},\n",
    "    ]\n",
    "    list_message.append(message)\n",
    "\n",
    "with open(\"output1.jsonl\", \"w\") as file:\n",
    "    for messages in list_message:\n",
    "        json_line = json.dumps({\"messages\": messages})\n",
    "        file.write(json_line + '\\n')"
   ]
  },
  {
   "cell_type": "code",
   "execution_count": 5,
   "metadata": {},
   "outputs": [],
   "source": [
    "upload_file = openai.File.create(\n",
    "  file=open(\"output1.jsonl\", \"rb\"),\n",
    "  purpose='fine-tune'\n",
    ")"
   ]
  },
  {
   "cell_type": "code",
   "execution_count": 10,
   "metadata": {},
   "outputs": [
    {
     "name": "stdout",
     "output_type": "stream",
     "text": [
      "Uploaded new file with ID: file-GQgNBVXd44glcyaszaP0DT1F\n"
     ]
    }
   ],
   "source": [
    "# Check for existing files\n",
    "files = openai.File.list()\n",
    "file_exists = any(f['id'] == 'file-fB1o6kyzXEzJZkxnVLJC5FHH' for f in files['data'])\n",
    "\n",
    "if not file_exists:\n",
    "    # Re-upload the file if it doesn't exist\n",
    "    file = openai.File.create(\n",
    "        file=open(\"output1.jsonl\", \"rb\"),\n",
    "        purpose='fine-tune'\n",
    "    )\n",
    "    print(f\"Uploaded new file with ID: {file['id']}\")\n",
    "else:\n",
    "    print(\"File already exists.\")"
   ]
  },
  {
   "cell_type": "code",
   "execution_count": 11,
   "metadata": {},
   "outputs": [
    {
     "name": "stdout",
     "output_type": "stream",
     "text": [
      "{\n",
      "  \"object\": \"file\",\n",
      "  \"id\": \"file-GQgNBVXd44glcyaszaP0DT1F\",\n",
      "  \"purpose\": \"fine-tune\",\n",
      "  \"filename\": \"file\",\n",
      "  \"bytes\": 3041,\n",
      "  \"created_at\": 1725258412,\n",
      "  \"status\": \"processed\",\n",
      "  \"status_details\": null\n",
      "}\n"
     ]
    }
   ],
   "source": [
    "# upload_file의 상태 확인\n",
    "upload_file = openai.File.retrieve(\"file-GQgNBVXd44glcyaszaP0DT1F\")\n",
    "print(upload_file)"
   ]
  },
  {
   "cell_type": "code",
   "execution_count": 6,
   "metadata": {},
   "outputs": [],
   "source": [
    "start_train = openai.FineTuningJob.create(training_file=upload_file[\"id\"],model=\"gpt-3.5-turbo\")"
   ]
  },
  {
   "cell_type": "code",
   "execution_count": 7,
   "metadata": {},
   "outputs": [
    {
     "data": {
      "text/plain": [
       "<FineTuningJob fine_tuning.job id=ftjob-CVs78oHQfbYFnQBmj3nJfJXN at 0x25a9ab4e300> JSON: {\n",
       "  \"object\": \"fine_tuning.job\",\n",
       "  \"id\": \"ftjob-CVs78oHQfbYFnQBmj3nJfJXN\",\n",
       "  \"model\": \"gpt-3.5-turbo-0125\",\n",
       "  \"created_at\": 1725258235,\n",
       "  \"finished_at\": null,\n",
       "  \"fine_tuned_model\": null,\n",
       "  \"organization_id\": \"org-JqI598afQl0H2xh0ENPuGyhZ\",\n",
       "  \"result_files\": [],\n",
       "  \"status\": \"validating_files\",\n",
       "  \"validation_file\": null,\n",
       "  \"training_file\": \"file-sht8Iz6qJ1deoGtY2NfiuijY\",\n",
       "  \"hyperparameters\": {\n",
       "    \"n_epochs\": 9,\n",
       "    \"batch_size\": 1,\n",
       "    \"learning_rate_multiplier\": 2\n",
       "  },\n",
       "  \"trained_tokens\": null,\n",
       "  \"error\": {},\n",
       "  \"user_provided_suffix\": null,\n",
       "  \"seed\": 1520517932,\n",
       "  \"estimated_finish\": null,\n",
       "  \"integrations\": []\n",
       "}"
      ]
     },
     "execution_count": 7,
     "metadata": {},
     "output_type": "execute_result"
    }
   ],
   "source": [
    "# Fine-tuning 작업 상태 확인\n",
    "status = openai.FineTuningJob.list(limit=10)\n",
    "status[\"data\"][0]"
   ]
  },
  {
   "cell_type": "code",
   "execution_count": 12,
   "metadata": {},
   "outputs": [],
   "source": [
    "start_train = openai.FineTuningJob.create(\n",
    "    training_file=\"file-GQgNBVXd44glcyaszaP0DT1F\",\n",
    "    model=\"gpt-3.5-turbo\"\n",
    ")"
   ]
  },
  {
   "cell_type": "code",
   "execution_count": 22,
   "metadata": {},
   "outputs": [
    {
     "data": {
      "text/plain": [
       "'succeeded'"
      ]
     },
     "execution_count": 22,
     "metadata": {},
     "output_type": "execute_result"
    }
   ],
   "source": [
    "# Fine-tuning 작업 상태 확인\n",
    "status = openai.FineTuningJob.list(limit=10)\n",
    "status[\"data\"][0]['status']"
   ]
  },
  {
   "cell_type": "code",
   "execution_count": 23,
   "metadata": {},
   "outputs": [
    {
     "data": {
      "text/plain": [
       "<FineTuningJob fine_tuning.job id=ftjob-kiFiXswxEfnBGFKsaC9VKQjL at 0x25a9b6d08c0> JSON: {\n",
       "  \"object\": \"fine_tuning.job\",\n",
       "  \"id\": \"ftjob-kiFiXswxEfnBGFKsaC9VKQjL\",\n",
       "  \"model\": \"gpt-3.5-turbo-0125\",\n",
       "  \"created_at\": 1725258456,\n",
       "  \"finished_at\": 1725258756,\n",
       "  \"fine_tuned_model\": \"ft:gpt-3.5-turbo-0125:personal::A2uu5uaw\",\n",
       "  \"organization_id\": \"org-JqI598afQl0H2xh0ENPuGyhZ\",\n",
       "  \"result_files\": [\n",
       "    \"file-9Mk6eGtYsBsM3tVXW58dh15a\"\n",
       "  ],\n",
       "  \"status\": \"succeeded\",\n",
       "  \"validation_file\": null,\n",
       "  \"training_file\": \"file-GQgNBVXd44glcyaszaP0DT1F\",\n",
       "  \"hyperparameters\": {\n",
       "    \"n_epochs\": 9,\n",
       "    \"batch_size\": 1,\n",
       "    \"learning_rate_multiplier\": 2\n",
       "  },\n",
       "  \"trained_tokens\": 5337,\n",
       "  \"error\": {},\n",
       "  \"user_provided_suffix\": null,\n",
       "  \"seed\": 1442263663,\n",
       "  \"estimated_finish\": null,\n",
       "  \"integrations\": []\n",
       "}"
      ]
     },
     "execution_count": 23,
     "metadata": {},
     "output_type": "execute_result"
    }
   ],
   "source": [
    "# Fine-tuning 작업 상태 확인\n",
    "status = openai.FineTuningJob.list(limit=10)\n",
    "status[\"data\"][0]"
   ]
  },
  {
   "cell_type": "code",
   "execution_count": 24,
   "metadata": {},
   "outputs": [
    {
     "name": "stdout",
     "output_type": "stream",
     "text": [
      "ft:gpt-3.5-turbo-0125:personal::A2uu5uaw\n"
     ]
    }
   ],
   "source": [
    "# 모델 이름 얻기\n",
    "fine_tuned_model = status[\"data\"][0][\"fine_tuned_model\"]\n",
    "print(fine_tuned_model)"
   ]
  },
  {
   "cell_type": "code",
   "execution_count": 35,
   "metadata": {},
   "outputs": [],
   "source": [
    "completion = openai.ChatCompletion.create(\n",
    "  model=status[\"data\"][0][\"fine_tuned_model\"],\n",
    "  messages=[\n",
    "    {\"role\": \"user\", \"content\": \"축구에 대해서 설명해주세요\"}\n",
    "  ]\n",
    ")"
   ]
  },
  {
   "cell_type": "code",
   "execution_count": 36,
   "metadata": {},
   "outputs": [
    {
     "name": "stdout",
     "output_type": "stream",
     "text": [
      "축구는 공을 차서 상대팀 골대에 넣는 스포츠이유\n"
     ]
    }
   ],
   "source": [
    "print(completion.choices[0].message[\"content\"])"
   ]
  }
 ],
 "metadata": {
  "kernelspec": {
   "display_name": "Python 3",
   "language": "python",
   "name": "python3"
  },
  "language_info": {
   "codemirror_mode": {
    "name": "ipython",
    "version": 3
   },
   "file_extension": ".py",
   "mimetype": "text/x-python",
   "name": "python",
   "nbconvert_exporter": "python",
   "pygments_lexer": "ipython3",
   "version": "3.12.0"
  }
 },
 "nbformat": 4,
 "nbformat_minor": 2
}
