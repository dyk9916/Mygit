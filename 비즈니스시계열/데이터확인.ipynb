{
 "cells": [
  {
   "cell_type": "code",
   "execution_count": 1,
   "id": "70f3f67d",
   "metadata": {},
   "outputs": [],
   "source": [
    "import pandas as pd"
   ]
  },
  {
   "cell_type": "code",
   "execution_count": 2,
   "id": "9df709d5",
   "metadata": {},
   "outputs": [],
   "source": [
    "\n",
    "df = pd.read_csv('D:/김동영/11_Github/mygit-1/비즈니스시계열/Data/분석용_데이터셋_기후_관중합.csv', encoding='cp949')"
   ]
  },
  {
   "cell_type": "code",
   "execution_count": 5,
   "id": "ef66c5db",
   "metadata": {},
   "outputs": [
    {
     "name": "stdout",
     "output_type": "stream",
     "text": [
      "<class 'pandas.core.frame.DataFrame'>\n",
      "RangeIndex: 126 entries, 0 to 125\n",
      "Data columns (total 11 columns):\n",
      " #   Column      Non-Null Count  Dtype  \n",
      "---  ------      --------------  -----  \n",
      " 0   년월          126 non-null    object \n",
      " 1   관중수         126 non-null    int64  \n",
      " 2   경기당 관중수     126 non-null    int64  \n",
      " 3   월별_더비매치_비중  126 non-null    float64\n",
      " 4   월드컵/아시안컵유무  126 non-null    int64  \n",
      " 5   코로나 유무      126 non-null    int64  \n",
      " 6   평균기온(℃)     126 non-null    float64\n",
      " 7   평균최저기온(℃)   126 non-null    float64\n",
      " 8   평균최고기온(℃)   126 non-null    float64\n",
      " 9   평균 강수량(mm)  117 non-null    float64\n",
      " 10  미세먼지        117 non-null    float64\n",
      "dtypes: float64(6), int64(4), object(1)\n",
      "memory usage: 11.0+ KB\n"
     ]
    }
   ],
   "source": [
    "df.info()\n",
    "\n",
    "df['년월'] = pd.to_datetime(df['년월'])"
   ]
  },
  {
   "cell_type": "code",
   "execution_count": 7,
   "id": "ecc20074",
   "metadata": {},
   "outputs": [
    {
     "name": "stdout",
     "output_type": "stream",
     "text": [
      "<class 'pandas.core.frame.DataFrame'>\n",
      "RangeIndex: 126 entries, 0 to 125\n",
      "Data columns (total 11 columns):\n",
      " #   Column      Non-Null Count  Dtype         \n",
      "---  ------      --------------  -----         \n",
      " 0   년월          126 non-null    datetime64[ns]\n",
      " 1   관중수         126 non-null    int64         \n",
      " 2   경기당 관중수     126 non-null    int64         \n",
      " 3   월별_더비매치_비중  126 non-null    float64       \n",
      " 4   월드컵/아시안컵유무  126 non-null    int64         \n",
      " 5   코로나 유무      126 non-null    int64         \n",
      " 6   평균기온(℃)     126 non-null    float64       \n",
      " 7   평균최저기온(℃)   126 non-null    float64       \n",
      " 8   평균최고기온(℃)   126 non-null    float64       \n",
      " 9   평균 강수량(mm)  117 non-null    float64       \n",
      " 10  미세먼지        117 non-null    float64       \n",
      "dtypes: datetime64[ns](1), float64(6), int64(4)\n",
      "memory usage: 11.0 KB\n"
     ]
    }
   ],
   "source": [
    "df.info()\n",
    "\n",
    "df.to_csv('D:/김동영/11_Github/mygit-1/비즈니스시계열/Data/분석용_데이터셋_기후_관중합_최종.csv', encoding='cp949', index=False)"
   ]
  }
 ],
 "metadata": {
  "kernelspec": {
   "display_name": "Python 3",
   "language": "python",
   "name": "python3"
  },
  "language_info": {
   "codemirror_mode": {
    "name": "ipython",
    "version": 3
   },
   "file_extension": ".py",
   "mimetype": "text/x-python",
   "name": "python",
   "nbconvert_exporter": "python",
   "pygments_lexer": "ipython3",
   "version": "3.12.0"
  }
 },
 "nbformat": 4,
 "nbformat_minor": 5
}
