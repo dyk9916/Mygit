{
 "cells": [
  {
   "cell_type": "code",
   "execution_count": 149,
   "metadata": {},
   "outputs": [],
   "source": [
    "import numpy as np\n",
    "import matplotlib.pyplot as plt\n",
    "import pandas as pd\n",
    "import seaborn as sns\n",
    "import matplotlib.font_manager as fm\n",
    "import category_encoders as ce\n",
    "\n",
    "# 한글 폰트 설정\n",
    "font_path = 'C:/Windows/Fonts/H2GTRM.TTF'  # 폰트 파일 경로\n",
    "fontprop = fm.FontProperties(fname=font_path, size=12)\n",
    "plt.rc('font', family=fontprop.get_name())"
   ]
  },
  {
   "cell_type": "code",
   "execution_count": 150,
   "metadata": {},
   "outputs": [],
   "source": [
    "df = pd.read_csv('D:/김동영/11_Github/mygit/LGaimers 6기/Data/train.csv')\n",
    "test_df = pd.read_csv('D:/김동영/11_Github/mygit/LGaimers 6기/Data/test.csv')"
   ]
  },
  {
   "cell_type": "code",
   "execution_count": 151,
   "metadata": {},
   "outputs": [],
   "source": [
    "# 결측치 전부 0으로 대체\n",
    "df['PGD 시술 여부'] = df['PGD 시술 여부'].fillna(0)\n",
    "df['PGS 시술 여부'] = df['PGS 시술 여부'].fillna(0)\n",
    "\n",
    "test_df['PGD 시술 여부'] = test_df['PGD 시술 여부'].fillna(0)\n",
    "test_df['PGS 시술 여부'] = test_df['PGS 시술 여부'].fillna(0)"
   ]
  },
  {
   "cell_type": "code",
   "execution_count": 152,
   "metadata": {},
   "outputs": [],
   "source": [
    "# 새로운 변수 생성\n",
    "df['시술 여부'] = df.apply(lambda row: 1 if row['PGD 시술 여부'] == 1 else (-1 if row['PGS 시술 여부'] == 1 else 0), axis=1)\n",
    "\n",
    "test_df['시술 여부'] = test_df.apply(lambda row: 1 if row['PGD 시술 여부'] == 1 else (-1 if row['PGS 시술 여부'] == 1 else 0), axis=1)"
   ]
  },
  {
   "cell_type": "code",
   "execution_count": 153,
   "metadata": {},
   "outputs": [],
   "source": [
    "df = df.drop(['PGD 시술 여부', 'PGS 시술 여부'], axis=1)\n",
    "test_df = test_df.drop(['PGD 시술 여부', 'PGS 시술 여부'], axis=1)"
   ]
  },
  {
   "cell_type": "code",
   "execution_count": 154,
   "metadata": {},
   "outputs": [
    {
     "data": {
      "text/plain": [
       "시술 유형\n",
       "0.261605    87891\n",
       "0.128914     2176\n",
       "Name: count, dtype: int64"
      ]
     },
     "execution_count": 154,
     "metadata": {},
     "output_type": "execute_result"
    }
   ],
   "source": [
    "# Target Encoding을 사용하여 '시술 유형' 변수를 수치형 변수로 변환\n",
    "encoder = ce.TargetEncoder(cols=['시술 유형'])\n",
    "df['시술 유형'] = encoder.fit_transform(df['시술 유형'], df['임신 성공 여부'])\n",
    "\n",
    "# 학습된 인코더를 사용하여 테스트 데이터프레임에 동일한 인코딩 적용\n",
    "test_df['시술 유형'] = encoder.transform(test_df['시술 유형'])\n",
    "\n",
    "test_df['시술 유형'].value_counts()"
   ]
  },
  {
   "cell_type": "code",
   "execution_count": 155,
   "metadata": {},
   "outputs": [],
   "source": [
    "df['특정 시술 유형'] = df['특정 시술 유형'].replace('ICSI / BLASTOCYST :IVF / BLASTOCYST', 'ICSI / BLASTOCYST:IVF / BLASTOCYST')\n",
    "test_df['특정 시술 유형'] = test_df['특정 시술 유형'].replace('ICSI / BLASTOCYST :IVF / BLASTOCYST', 'ICSI / BLASTOCYST:IVF / BLASTOCYST')\n",
    "\n",
    "test_df['특정 시술 유형'] = test_df['특정 시술 유형'].replace('IVF:Unknown:Unknown:Unknown', 'IVF:Unknown')\n",
    "\n",
    "df['특정 시술 유형'].unique()\n",
    "\n",
    "df['특정 시술 유형'].isna().sum()\n",
    "# 결측치 Unknown으로 대체\n",
    "df['특정 시술 유형'] = df['특정 시술 유형'].fillna('Unknown')\n",
    "test_df['특정 시술 유형'] = test_df['특정 시술 유형'].fillna('Unknown')"
   ]
  },
  {
   "cell_type": "code",
   "execution_count": 156,
   "metadata": {},
   "outputs": [
    {
     "name": "stdout",
     "output_type": "stream",
     "text": [
      "특정 시술 유형\n",
      "0.272825    122368\n",
      "0.261457     91755\n",
      "0.237185     26941\n",
      "0.128525      6100\n",
      "0.009939      2314\n",
      "0.356743      1609\n",
      "0.366186      1248\n",
      "0.010471      1146\n",
      "0.234822       873\n",
      "0.217165       769\n",
      "0.283163       392\n",
      "0.184953       319\n",
      "0.101449       207\n",
      "0.170030       100\n",
      "0.135478        96\n",
      "0.169555        71\n",
      "0.159894        23\n",
      "0.269551        10\n",
      "0.221702         4\n",
      "0.269931         3\n",
      "0.292627         2\n",
      "0.354844         1\n",
      "Name: count, dtype: int64\n",
      "특정 시술 유형\n",
      "0.272825    43237\n",
      "0.261457    32350\n",
      "0.237185     9216\n",
      "0.128525     2112\n",
      "0.009939      797\n",
      "0.356743      584\n",
      "0.010471      406\n",
      "0.366186      389\n",
      "0.234822      298\n",
      "0.217165      264\n",
      "0.283163      133\n",
      "0.184953      105\n",
      "0.101449       68\n",
      "0.170030       42\n",
      "0.135478       28\n",
      "0.169555       26\n",
      "0.159894        8\n",
      "0.269551        2\n",
      "0.258349        2\n",
      "Name: count, dtype: int64\n"
     ]
    }
   ],
   "source": [
    "# Target Encoding을 사용하여 '시술 유형' 변수를 수치형 변수로 변환\n",
    "encoder = ce.TargetEncoder(cols=['특정 시술 유형'])\n",
    "df['특정 시술 유형'] = encoder.fit_transform(df['특정 시술 유형'], df['임신 성공 여부'])\n",
    "\n",
    "# 학습된 인코더를 사용하여 테스트 데이터프레임에 동일한 인코딩 적용\n",
    "test_df['특정 시술 유형'] = encoder.transform(test_df['특정 시술 유형'])\n",
    "\n",
    "print(df['특정 시술 유형'].value_counts())\n",
    "print(test_df['특정 시술 유형'].value_counts())"
   ]
  },
  {
   "cell_type": "code",
   "execution_count": 157,
   "metadata": {},
   "outputs": [],
   "source": [
    "df['단일 배아 이식 여부'] = df['단일 배아 이식 여부'].fillna(-1)\n",
    "test_df['단일 배아 이식 여부'] = test_df['단일 배아 이식 여부'].fillna(-1)"
   ]
  },
  {
   "cell_type": "code",
   "execution_count": 158,
   "metadata": {},
   "outputs": [],
   "source": [
    "# 결측치 -1로 대체\n",
    "df['착상 전 유전 검사 사용 여부'] = df['착상 전 유전 검사 사용 여부'].fillna(-1)\n",
    "df['착상 전 유전 진단 사용 여부'] = df['착상 전 유전 진단 사용 여부'].fillna(-1)\n",
    "\n",
    "test_df['착상 전 유전 검사 사용 여부'] = test_df['착상 전 유전 검사 사용 여부'].fillna(-1)\n",
    "test_df['착상 전 유전 진단 사용 여부'] = test_df['착상 전 유전 진단 사용 여부'].fillna(-1)"
   ]
  },
  {
   "cell_type": "code",
   "execution_count": 159,
   "metadata": {},
   "outputs": [
    {
     "name": "stdout",
     "output_type": "stream",
     "text": [
      "배아 생성 주요 이유\n",
      "0.273570    233732\n",
      "0.000870      9192\n",
      "0.128914      6291\n",
      "0.379757      3784\n",
      "0.000000      3067\n",
      "0.000007       125\n",
      "0.265048        83\n",
      "0.021488        44\n",
      "0.304174        20\n",
      "0.207243         6\n",
      "0.247705         5\n",
      "0.224736         2\n",
      "Name: count, dtype: int64\n",
      "배아 생성 주요 이유\n",
      "0.273570    82253\n",
      "0.000870     3151\n",
      "0.128914     2176\n",
      "0.379757     1327\n",
      "0.000000     1048\n",
      "0.000007       47\n",
      "0.265048       38\n",
      "0.021488       19\n",
      "0.304174        6\n",
      "0.247705        1\n",
      "0.207243        1\n",
      "Name: count, dtype: int64\n"
     ]
    }
   ],
   "source": [
    "# 결측치 -1로 대체\n",
    "df['배아 생성 주요 이유'] = df['배아 생성 주요 이유'].fillna(-1)\n",
    "test_df['배아 생성 주요 이유'] = test_df['배아 생성 주요 이유'].fillna(-1)\n",
    "\n",
    "# Target Encoding을 사용하여 '시술 유형' 변수를 수치형 변수로 변환\n",
    "encoder = ce.TargetEncoder(cols=['배아 생성 주요 이유'])\n",
    "df['배아 생성 주요 이유'] = encoder.fit_transform(df['배아 생성 주요 이유'], df['임신 성공 여부'])\n",
    "\n",
    "# 학습된 인코더를 사용하여 테스트 데이터프레임에 동일한 인코딩 적용\n",
    "test_df['배아 생성 주요 이유'] = encoder.transform(test_df['배아 생성 주요 이유'])\n",
    "\n",
    "print(df['배아 생성 주요 이유'].value_counts())\n",
    "print(test_df['배아 생성 주요 이유'].value_counts())"
   ]
  },
  {
   "cell_type": "code",
   "execution_count": 160,
   "metadata": {},
   "outputs": [],
   "source": [
    "# 사용할 변수 목록\n",
    "selected_columns = [\n",
    "    '시술 당시 나이', '시술 유형', '배란 자극 여부', '단일 배아 이식 여부', '착상 전 유전 검사 사용 여부', '착상 전 유전 진단 사용 여부',\n",
    "    '남성 주 불임 원인', '여성 주 불임 원인', '부부 주 불임 원인', '배아 생성 주요 이유',\n",
    "    'IVF 시술 횟수', 'DI 시술 횟수', 'IVF 임신 횟수', 'DI 임신 횟수', 'IVF 출산 횟수', 'DI 출산 횟수',\n",
    "    '미세주입에서 생성된 배아 수', '미세주입 배아 이식 수', '미세주입 후 저장된 배아 수', '해동 난자 수', '파트너 정자와 혼합된 난자 수',\n",
    "    '난자 출처', '정자 출처', '난자 기증자 나이', '정자 기증자 나이', '신선 배아 사용 여부', '시술 여부','임신 성공 여부'\n",
    "]\n",
    "\n",
    "# 선택한 변수들만 포함된 데이터프레임 생성\n",
    "filtered_df = df[selected_columns]\n",
    "filtered_test_df = test_df[selected_columns[:-1]]"
   ]
  },
  {
   "cell_type": "code",
   "execution_count": 161,
   "metadata": {},
   "outputs": [
    {
     "name": "stdout",
     "output_type": "stream",
     "text": [
      "<class 'pandas.core.frame.DataFrame'>\n",
      "RangeIndex: 256351 entries, 0 to 256350\n",
      "Data columns (total 28 columns):\n",
      " #   Column            Non-Null Count   Dtype  \n",
      "---  ------            --------------   -----  \n",
      " 0   시술 당시 나이          256351 non-null  object \n",
      " 1   시술 유형             256351 non-null  float64\n",
      " 2   배란 자극 여부          256351 non-null  int64  \n",
      " 3   단일 배아 이식 여부       256351 non-null  float64\n",
      " 4   착상 전 유전 검사 사용 여부  256351 non-null  float64\n",
      " 5   착상 전 유전 진단 사용 여부  256351 non-null  float64\n",
      " 6   남성 주 불임 원인        256351 non-null  int64  \n",
      " 7   여성 주 불임 원인        256351 non-null  int64  \n",
      " 8   부부 주 불임 원인        256351 non-null  int64  \n",
      " 9   배아 생성 주요 이유       256351 non-null  float64\n",
      " 10  IVF 시술 횟수         256351 non-null  object \n",
      " 11  DI 시술 횟수          256351 non-null  object \n",
      " 12  IVF 임신 횟수         256351 non-null  object \n",
      " 13  DI 임신 횟수          256351 non-null  object \n",
      " 14  IVF 출산 횟수         256351 non-null  object \n",
      " 15  DI 출산 횟수          256351 non-null  object \n",
      " 16  미세주입에서 생성된 배아 수   250060 non-null  float64\n",
      " 17  미세주입 배아 이식 수      250060 non-null  float64\n",
      " 18  미세주입 후 저장된 배아 수   250060 non-null  float64\n",
      " 19  해동 난자 수           250060 non-null  float64\n",
      " 20  파트너 정자와 혼합된 난자 수  250060 non-null  float64\n",
      " 21  난자 출처             256351 non-null  object \n",
      " 22  정자 출처             256351 non-null  object \n",
      " 23  난자 기증자 나이         256351 non-null  object \n",
      " 24  정자 기증자 나이         256351 non-null  object \n",
      " 25  신선 배아 사용 여부       250060 non-null  float64\n",
      " 26  시술 여부             256351 non-null  int64  \n",
      " 27  임신 성공 여부          256351 non-null  int64  \n",
      "dtypes: float64(11), int64(6), object(11)\n",
      "memory usage: 54.8+ MB\n",
      "<class 'pandas.core.frame.DataFrame'>\n",
      "RangeIndex: 90067 entries, 0 to 90066\n",
      "Data columns (total 27 columns):\n",
      " #   Column            Non-Null Count  Dtype  \n",
      "---  ------            --------------  -----  \n",
      " 0   시술 당시 나이          90067 non-null  object \n",
      " 1   시술 유형             90067 non-null  float64\n",
      " 2   배란 자극 여부          90067 non-null  int64  \n",
      " 3   단일 배아 이식 여부       90067 non-null  float64\n",
      " 4   착상 전 유전 검사 사용 여부  90067 non-null  float64\n",
      " 5   착상 전 유전 진단 사용 여부  90067 non-null  float64\n",
      " 6   남성 주 불임 원인        90067 non-null  int64  \n",
      " 7   여성 주 불임 원인        90067 non-null  int64  \n",
      " 8   부부 주 불임 원인        90067 non-null  int64  \n",
      " 9   배아 생성 주요 이유       90067 non-null  float64\n",
      " 10  IVF 시술 횟수         90067 non-null  object \n",
      " 11  DI 시술 횟수          90067 non-null  object \n",
      " 12  IVF 임신 횟수         90067 non-null  object \n",
      " 13  DI 임신 횟수          90067 non-null  object \n",
      " 14  IVF 출산 횟수         90067 non-null  object \n",
      " 15  DI 출산 횟수          90067 non-null  object \n",
      " 16  미세주입에서 생성된 배아 수   87891 non-null  float64\n",
      " 17  미세주입 배아 이식 수      87891 non-null  float64\n",
      " 18  미세주입 후 저장된 배아 수   87891 non-null  float64\n",
      " 19  해동 난자 수           87891 non-null  float64\n",
      " 20  파트너 정자와 혼합된 난자 수  87891 non-null  float64\n",
      " 21  난자 출처             90067 non-null  object \n",
      " 22  정자 출처             90067 non-null  object \n",
      " 23  난자 기증자 나이         90067 non-null  object \n",
      " 24  정자 기증자 나이         90067 non-null  object \n",
      " 25  신선 배아 사용 여부       87891 non-null  float64\n",
      " 26  시술 여부             90067 non-null  int64  \n",
      "dtypes: float64(11), int64(5), object(11)\n",
      "memory usage: 18.6+ MB\n"
     ]
    }
   ],
   "source": [
    "filtered_df.head()\n",
    "filtered_df.info()\n",
    "\n",
    "filtered_test_df.info()"
   ]
  },
  {
   "cell_type": "code",
   "execution_count": 162,
   "metadata": {},
   "outputs": [
    {
     "data": {
      "text/plain": [
       "파트너 정자와 혼합된 난자 수\n",
       "0.0     62921\n",
       "6.0     15012\n",
       "7.0     14706\n",
       "5.0     14229\n",
       "8.0     14070\n",
       "9.0     13055\n",
       "4.0     12416\n",
       "10.0    12017\n",
       "11.0    10713\n",
       "3.0     10103\n",
       "12.0     9463\n",
       "2.0      8077\n",
       "13.0     8043\n",
       "14.0     7030\n",
       "15.0     6028\n",
       "1.0      5722\n",
       "16.0     4898\n",
       "17.0     4021\n",
       "18.0     3293\n",
       "19.0     2680\n",
       "20.0     2222\n",
       "21.0     1792\n",
       "22.0     1477\n",
       "23.0     1213\n",
       "24.0      967\n",
       "25.0      757\n",
       "26.0      598\n",
       "27.0      502\n",
       "28.0      410\n",
       "29.0      295\n",
       "30.0      260\n",
       "31.0      183\n",
       "32.0      171\n",
       "33.0      131\n",
       "34.0      113\n",
       "35.0      100\n",
       "36.0       72\n",
       "37.0       64\n",
       "38.0       47\n",
       "39.0       34\n",
       "40.0       31\n",
       "51.0       28\n",
       "42.0       21\n",
       "43.0       17\n",
       "41.0       16\n",
       "46.0       12\n",
       "47.0        7\n",
       "44.0        7\n",
       "45.0        5\n",
       "49.0        4\n",
       "50.0        4\n",
       "48.0        3\n",
       "Name: count, dtype: int64"
      ]
     },
     "execution_count": 162,
     "metadata": {},
     "output_type": "execute_result"
    }
   ],
   "source": [
    "filtered_df['미세주입에서 생성된 배아 수'].value_counts()\n",
    "filtered_df['미세주입 배아 이식 수'].value_counts()\n",
    "filtered_df['미세주입 후 저장된 배아 수'].value_counts()\n",
    "filtered_df['해동 난자 수'].value_counts()\n",
    "filtered_df['파트너 정자와 혼합된 난자 수'].value_counts()"
   ]
  },
  {
   "cell_type": "code",
   "execution_count": 163,
   "metadata": {},
   "outputs": [
    {
     "name": "stderr",
     "output_type": "stream",
     "text": [
      "C:\\Users\\KimDongyoung\\AppData\\Local\\Temp\\ipykernel_2556\\2584862500.py:5: SettingWithCopyWarning: \n",
      "A value is trying to be set on a copy of a slice from a DataFrame.\n",
      "Try using .loc[row_indexer,col_indexer] = value instead\n",
      "\n",
      "See the caveats in the documentation: https://pandas.pydata.org/pandas-docs/stable/user_guide/indexing.html#returning-a-view-versus-a-copy\n",
      "  filtered_df[columns_to_fill] = filtered_df[columns_to_fill].fillna(-1)\n",
      "C:\\Users\\KimDongyoung\\AppData\\Local\\Temp\\ipykernel_2556\\2584862500.py:6: SettingWithCopyWarning: \n",
      "A value is trying to be set on a copy of a slice from a DataFrame.\n",
      "Try using .loc[row_indexer,col_indexer] = value instead\n",
      "\n",
      "See the caveats in the documentation: https://pandas.pydata.org/pandas-docs/stable/user_guide/indexing.html#returning-a-view-versus-a-copy\n",
      "  filtered_test_df[columns_to_fill] = filtered_test_df[columns_to_fill].fillna(-1)\n"
     ]
    }
   ],
   "source": [
    "# 결측치를 -1로 대체할 변수 목록\n",
    "columns_to_fill = ['미세주입에서 생성된 배아 수', '미세주입 배아 이식 수', '미세주입 후 저장된 배아 수', '해동 난자 수', '파트너 정자와 혼합된 난자 수', '신선 배아 사용 여부']\n",
    "\n",
    "# 결측치를 -1로 대체\n",
    "filtered_df[columns_to_fill] = filtered_df[columns_to_fill].fillna(-1)\n",
    "filtered_test_df[columns_to_fill] = filtered_test_df[columns_to_fill].fillna(-1)"
   ]
  },
  {
   "cell_type": "code",
   "execution_count": 164,
   "metadata": {},
   "outputs": [
    {
     "name": "stdout",
     "output_type": "stream",
     "text": [
      "<class 'pandas.core.frame.DataFrame'>\n",
      "RangeIndex: 256351 entries, 0 to 256350\n",
      "Data columns (total 28 columns):\n",
      " #   Column            Non-Null Count   Dtype  \n",
      "---  ------            --------------   -----  \n",
      " 0   시술 당시 나이          256351 non-null  object \n",
      " 1   시술 유형             256351 non-null  float64\n",
      " 2   배란 자극 여부          256351 non-null  int64  \n",
      " 3   단일 배아 이식 여부       256351 non-null  float64\n",
      " 4   착상 전 유전 검사 사용 여부  256351 non-null  float64\n",
      " 5   착상 전 유전 진단 사용 여부  256351 non-null  float64\n",
      " 6   남성 주 불임 원인        256351 non-null  int64  \n",
      " 7   여성 주 불임 원인        256351 non-null  int64  \n",
      " 8   부부 주 불임 원인        256351 non-null  int64  \n",
      " 9   배아 생성 주요 이유       256351 non-null  float64\n",
      " 10  IVF 시술 횟수         256351 non-null  object \n",
      " 11  DI 시술 횟수          256351 non-null  object \n",
      " 12  IVF 임신 횟수         256351 non-null  object \n",
      " 13  DI 임신 횟수          256351 non-null  object \n",
      " 14  IVF 출산 횟수         256351 non-null  object \n",
      " 15  DI 출산 횟수          256351 non-null  object \n",
      " 16  미세주입에서 생성된 배아 수   256351 non-null  float64\n",
      " 17  미세주입 배아 이식 수      256351 non-null  float64\n",
      " 18  미세주입 후 저장된 배아 수   256351 non-null  float64\n",
      " 19  해동 난자 수           256351 non-null  float64\n",
      " 20  파트너 정자와 혼합된 난자 수  256351 non-null  float64\n",
      " 21  난자 출처             256351 non-null  object \n",
      " 22  정자 출처             256351 non-null  object \n",
      " 23  난자 기증자 나이         256351 non-null  object \n",
      " 24  정자 기증자 나이         256351 non-null  object \n",
      " 25  신선 배아 사용 여부       256351 non-null  float64\n",
      " 26  시술 여부             256351 non-null  int64  \n",
      " 27  임신 성공 여부          256351 non-null  int64  \n",
      "dtypes: float64(11), int64(6), object(11)\n",
      "memory usage: 54.8+ MB\n"
     ]
    }
   ],
   "source": [
    "filtered_df.info()"
   ]
  },
  {
   "cell_type": "code",
   "execution_count": 165,
   "metadata": {},
   "outputs": [
    {
     "name": "stderr",
     "output_type": "stream",
     "text": [
      "C:\\Users\\KimDongyoung\\AppData\\Local\\Temp\\ipykernel_2556\\762467402.py:9: SettingWithCopyWarning: \n",
      "A value is trying to be set on a copy of a slice from a DataFrame.\n",
      "Try using .loc[row_indexer,col_indexer] = value instead\n",
      "\n",
      "See the caveats in the documentation: https://pandas.pydata.org/pandas-docs/stable/user_guide/indexing.html#returning-a-view-versus-a-copy\n",
      "  filtered_df[target_encoding_columns[i]] = encoder.fit_transform(filtered_df[target_encoding_columns[i]], filtered_df['임신 성공 여부'])\n",
      "C:\\Users\\KimDongyoung\\AppData\\Local\\Temp\\ipykernel_2556\\762467402.py:10: SettingWithCopyWarning: \n",
      "A value is trying to be set on a copy of a slice from a DataFrame.\n",
      "Try using .loc[row_indexer,col_indexer] = value instead\n",
      "\n",
      "See the caveats in the documentation: https://pandas.pydata.org/pandas-docs/stable/user_guide/indexing.html#returning-a-view-versus-a-copy\n",
      "  filtered_test_df[target_encoding_columns[i]] = encoder.transform(filtered_test_df[target_encoding_columns[i]])\n",
      "C:\\Users\\KimDongyoung\\AppData\\Local\\Temp\\ipykernel_2556\\762467402.py:9: SettingWithCopyWarning: \n",
      "A value is trying to be set on a copy of a slice from a DataFrame.\n",
      "Try using .loc[row_indexer,col_indexer] = value instead\n",
      "\n",
      "See the caveats in the documentation: https://pandas.pydata.org/pandas-docs/stable/user_guide/indexing.html#returning-a-view-versus-a-copy\n",
      "  filtered_df[target_encoding_columns[i]] = encoder.fit_transform(filtered_df[target_encoding_columns[i]], filtered_df['임신 성공 여부'])\n",
      "C:\\Users\\KimDongyoung\\AppData\\Local\\Temp\\ipykernel_2556\\762467402.py:10: SettingWithCopyWarning: \n",
      "A value is trying to be set on a copy of a slice from a DataFrame.\n",
      "Try using .loc[row_indexer,col_indexer] = value instead\n",
      "\n",
      "See the caveats in the documentation: https://pandas.pydata.org/pandas-docs/stable/user_guide/indexing.html#returning-a-view-versus-a-copy\n",
      "  filtered_test_df[target_encoding_columns[i]] = encoder.transform(filtered_test_df[target_encoding_columns[i]])\n",
      "C:\\Users\\KimDongyoung\\AppData\\Local\\Temp\\ipykernel_2556\\762467402.py:9: SettingWithCopyWarning: \n",
      "A value is trying to be set on a copy of a slice from a DataFrame.\n",
      "Try using .loc[row_indexer,col_indexer] = value instead\n",
      "\n",
      "See the caveats in the documentation: https://pandas.pydata.org/pandas-docs/stable/user_guide/indexing.html#returning-a-view-versus-a-copy\n",
      "  filtered_df[target_encoding_columns[i]] = encoder.fit_transform(filtered_df[target_encoding_columns[i]], filtered_df['임신 성공 여부'])\n",
      "C:\\Users\\KimDongyoung\\AppData\\Local\\Temp\\ipykernel_2556\\762467402.py:10: SettingWithCopyWarning: \n",
      "A value is trying to be set on a copy of a slice from a DataFrame.\n",
      "Try using .loc[row_indexer,col_indexer] = value instead\n",
      "\n",
      "See the caveats in the documentation: https://pandas.pydata.org/pandas-docs/stable/user_guide/indexing.html#returning-a-view-versus-a-copy\n",
      "  filtered_test_df[target_encoding_columns[i]] = encoder.transform(filtered_test_df[target_encoding_columns[i]])\n",
      "C:\\Users\\KimDongyoung\\AppData\\Local\\Temp\\ipykernel_2556\\762467402.py:9: SettingWithCopyWarning: \n",
      "A value is trying to be set on a copy of a slice from a DataFrame.\n",
      "Try using .loc[row_indexer,col_indexer] = value instead\n",
      "\n",
      "See the caveats in the documentation: https://pandas.pydata.org/pandas-docs/stable/user_guide/indexing.html#returning-a-view-versus-a-copy\n",
      "  filtered_df[target_encoding_columns[i]] = encoder.fit_transform(filtered_df[target_encoding_columns[i]], filtered_df['임신 성공 여부'])\n",
      "C:\\Users\\KimDongyoung\\AppData\\Local\\Temp\\ipykernel_2556\\762467402.py:10: SettingWithCopyWarning: \n",
      "A value is trying to be set on a copy of a slice from a DataFrame.\n",
      "Try using .loc[row_indexer,col_indexer] = value instead\n",
      "\n",
      "See the caveats in the documentation: https://pandas.pydata.org/pandas-docs/stable/user_guide/indexing.html#returning-a-view-versus-a-copy\n",
      "  filtered_test_df[target_encoding_columns[i]] = encoder.transform(filtered_test_df[target_encoding_columns[i]])\n",
      "C:\\Users\\KimDongyoung\\AppData\\Local\\Temp\\ipykernel_2556\\762467402.py:9: SettingWithCopyWarning: \n",
      "A value is trying to be set on a copy of a slice from a DataFrame.\n",
      "Try using .loc[row_indexer,col_indexer] = value instead\n",
      "\n",
      "See the caveats in the documentation: https://pandas.pydata.org/pandas-docs/stable/user_guide/indexing.html#returning-a-view-versus-a-copy\n",
      "  filtered_df[target_encoding_columns[i]] = encoder.fit_transform(filtered_df[target_encoding_columns[i]], filtered_df['임신 성공 여부'])\n",
      "C:\\Users\\KimDongyoung\\AppData\\Local\\Temp\\ipykernel_2556\\762467402.py:10: SettingWithCopyWarning: \n",
      "A value is trying to be set on a copy of a slice from a DataFrame.\n",
      "Try using .loc[row_indexer,col_indexer] = value instead\n",
      "\n",
      "See the caveats in the documentation: https://pandas.pydata.org/pandas-docs/stable/user_guide/indexing.html#returning-a-view-versus-a-copy\n",
      "  filtered_test_df[target_encoding_columns[i]] = encoder.transform(filtered_test_df[target_encoding_columns[i]])\n",
      "C:\\Users\\KimDongyoung\\AppData\\Local\\Temp\\ipykernel_2556\\762467402.py:9: SettingWithCopyWarning: \n",
      "A value is trying to be set on a copy of a slice from a DataFrame.\n",
      "Try using .loc[row_indexer,col_indexer] = value instead\n",
      "\n",
      "See the caveats in the documentation: https://pandas.pydata.org/pandas-docs/stable/user_guide/indexing.html#returning-a-view-versus-a-copy\n",
      "  filtered_df[target_encoding_columns[i]] = encoder.fit_transform(filtered_df[target_encoding_columns[i]], filtered_df['임신 성공 여부'])\n",
      "C:\\Users\\KimDongyoung\\AppData\\Local\\Temp\\ipykernel_2556\\762467402.py:10: SettingWithCopyWarning: \n",
      "A value is trying to be set on a copy of a slice from a DataFrame.\n",
      "Try using .loc[row_indexer,col_indexer] = value instead\n",
      "\n",
      "See the caveats in the documentation: https://pandas.pydata.org/pandas-docs/stable/user_guide/indexing.html#returning-a-view-versus-a-copy\n",
      "  filtered_test_df[target_encoding_columns[i]] = encoder.transform(filtered_test_df[target_encoding_columns[i]])\n",
      "C:\\Users\\KimDongyoung\\AppData\\Local\\Temp\\ipykernel_2556\\762467402.py:9: SettingWithCopyWarning: \n",
      "A value is trying to be set on a copy of a slice from a DataFrame.\n",
      "Try using .loc[row_indexer,col_indexer] = value instead\n",
      "\n",
      "See the caveats in the documentation: https://pandas.pydata.org/pandas-docs/stable/user_guide/indexing.html#returning-a-view-versus-a-copy\n",
      "  filtered_df[target_encoding_columns[i]] = encoder.fit_transform(filtered_df[target_encoding_columns[i]], filtered_df['임신 성공 여부'])\n",
      "C:\\Users\\KimDongyoung\\AppData\\Local\\Temp\\ipykernel_2556\\762467402.py:10: SettingWithCopyWarning: \n",
      "A value is trying to be set on a copy of a slice from a DataFrame.\n",
      "Try using .loc[row_indexer,col_indexer] = value instead\n",
      "\n",
      "See the caveats in the documentation: https://pandas.pydata.org/pandas-docs/stable/user_guide/indexing.html#returning-a-view-versus-a-copy\n",
      "  filtered_test_df[target_encoding_columns[i]] = encoder.transform(filtered_test_df[target_encoding_columns[i]])\n",
      "C:\\Users\\KimDongyoung\\AppData\\Local\\Temp\\ipykernel_2556\\762467402.py:9: SettingWithCopyWarning: \n",
      "A value is trying to be set on a copy of a slice from a DataFrame.\n",
      "Try using .loc[row_indexer,col_indexer] = value instead\n",
      "\n",
      "See the caveats in the documentation: https://pandas.pydata.org/pandas-docs/stable/user_guide/indexing.html#returning-a-view-versus-a-copy\n",
      "  filtered_df[target_encoding_columns[i]] = encoder.fit_transform(filtered_df[target_encoding_columns[i]], filtered_df['임신 성공 여부'])\n",
      "C:\\Users\\KimDongyoung\\AppData\\Local\\Temp\\ipykernel_2556\\762467402.py:10: SettingWithCopyWarning: \n",
      "A value is trying to be set on a copy of a slice from a DataFrame.\n",
      "Try using .loc[row_indexer,col_indexer] = value instead\n",
      "\n",
      "See the caveats in the documentation: https://pandas.pydata.org/pandas-docs/stable/user_guide/indexing.html#returning-a-view-versus-a-copy\n",
      "  filtered_test_df[target_encoding_columns[i]] = encoder.transform(filtered_test_df[target_encoding_columns[i]])\n",
      "C:\\Users\\KimDongyoung\\AppData\\Local\\Temp\\ipykernel_2556\\762467402.py:9: SettingWithCopyWarning: \n",
      "A value is trying to be set on a copy of a slice from a DataFrame.\n",
      "Try using .loc[row_indexer,col_indexer] = value instead\n",
      "\n",
      "See the caveats in the documentation: https://pandas.pydata.org/pandas-docs/stable/user_guide/indexing.html#returning-a-view-versus-a-copy\n",
      "  filtered_df[target_encoding_columns[i]] = encoder.fit_transform(filtered_df[target_encoding_columns[i]], filtered_df['임신 성공 여부'])\n",
      "C:\\Users\\KimDongyoung\\AppData\\Local\\Temp\\ipykernel_2556\\762467402.py:10: SettingWithCopyWarning: \n",
      "A value is trying to be set on a copy of a slice from a DataFrame.\n",
      "Try using .loc[row_indexer,col_indexer] = value instead\n",
      "\n",
      "See the caveats in the documentation: https://pandas.pydata.org/pandas-docs/stable/user_guide/indexing.html#returning-a-view-versus-a-copy\n",
      "  filtered_test_df[target_encoding_columns[i]] = encoder.transform(filtered_test_df[target_encoding_columns[i]])\n",
      "C:\\Users\\KimDongyoung\\AppData\\Local\\Temp\\ipykernel_2556\\762467402.py:9: SettingWithCopyWarning: \n",
      "A value is trying to be set on a copy of a slice from a DataFrame.\n",
      "Try using .loc[row_indexer,col_indexer] = value instead\n",
      "\n",
      "See the caveats in the documentation: https://pandas.pydata.org/pandas-docs/stable/user_guide/indexing.html#returning-a-view-versus-a-copy\n",
      "  filtered_df[target_encoding_columns[i]] = encoder.fit_transform(filtered_df[target_encoding_columns[i]], filtered_df['임신 성공 여부'])\n",
      "C:\\Users\\KimDongyoung\\AppData\\Local\\Temp\\ipykernel_2556\\762467402.py:10: SettingWithCopyWarning: \n",
      "A value is trying to be set on a copy of a slice from a DataFrame.\n",
      "Try using .loc[row_indexer,col_indexer] = value instead\n",
      "\n",
      "See the caveats in the documentation: https://pandas.pydata.org/pandas-docs/stable/user_guide/indexing.html#returning-a-view-versus-a-copy\n",
      "  filtered_test_df[target_encoding_columns[i]] = encoder.transform(filtered_test_df[target_encoding_columns[i]])\n",
      "C:\\Users\\KimDongyoung\\AppData\\Local\\Temp\\ipykernel_2556\\762467402.py:9: SettingWithCopyWarning: \n",
      "A value is trying to be set on a copy of a slice from a DataFrame.\n",
      "Try using .loc[row_indexer,col_indexer] = value instead\n",
      "\n",
      "See the caveats in the documentation: https://pandas.pydata.org/pandas-docs/stable/user_guide/indexing.html#returning-a-view-versus-a-copy\n",
      "  filtered_df[target_encoding_columns[i]] = encoder.fit_transform(filtered_df[target_encoding_columns[i]], filtered_df['임신 성공 여부'])\n",
      "C:\\Users\\KimDongyoung\\AppData\\Local\\Temp\\ipykernel_2556\\762467402.py:10: SettingWithCopyWarning: \n",
      "A value is trying to be set on a copy of a slice from a DataFrame.\n",
      "Try using .loc[row_indexer,col_indexer] = value instead\n",
      "\n",
      "See the caveats in the documentation: https://pandas.pydata.org/pandas-docs/stable/user_guide/indexing.html#returning-a-view-versus-a-copy\n",
      "  filtered_test_df[target_encoding_columns[i]] = encoder.transform(filtered_test_df[target_encoding_columns[i]])\n"
     ]
    }
   ],
   "source": [
    "# Target Encoding을 적용할 변수 목록\n",
    "target_encoding_columns = ['시술 당시 나이', 'IVF 시술 횟수', 'DI 시술 횟수', 'IVF 임신 횟수', \n",
    "                           'DI 임신 횟수', 'IVF 출산 횟수', 'DI 출산 횟수', '난자 출처', \n",
    "                           '정자 출처', '난자 기증자 나이', '정자 기증자 나이']\n",
    "\n",
    "# Target Encoding 적용\n",
    "for i in range(len(target_encoding_columns)):\n",
    "    encoder = ce.TargetEncoder(cols=target_encoding_columns[i])\n",
    "    filtered_df[target_encoding_columns[i]] = encoder.fit_transform(filtered_df[target_encoding_columns[i]], filtered_df['임신 성공 여부'])\n",
    "    filtered_test_df[target_encoding_columns[i]] = encoder.transform(filtered_test_df[target_encoding_columns[i]])"
   ]
  },
  {
   "cell_type": "code",
   "execution_count": 170,
   "metadata": {},
   "outputs": [],
   "source": [
    "from sklearn.model_selection import train_test_split\n",
    "from sklearn.ensemble import RandomForestClassifier\n",
    "from sklearn.metrics import accuracy_score, classification_report"
   ]
  },
  {
   "cell_type": "code",
   "execution_count": 171,
   "metadata": {},
   "outputs": [
    {
     "name": "stdout",
     "output_type": "stream",
     "text": [
      "Validation Accuracy: 0.7220260966238224\n",
      "Validation Classification Report:\n",
      "               precision    recall  f1-score   support\n",
      "\n",
      "           0       0.76      0.91      0.83     38145\n",
      "           1       0.40      0.17      0.23     13126\n",
      "\n",
      "    accuracy                           0.72     51271\n",
      "   macro avg       0.58      0.54      0.53     51271\n",
      "weighted avg       0.67      0.72      0.68     51271\n",
      "\n",
      "Feature ranking:\n",
      "1. feature 파트너 정자와 혼합된 난자 수 (0.23390356722142855)\n",
      "2. feature 미세주입에서 생성된 배아 수 (0.14033156560982668)\n",
      "3. feature IVF 시술 횟수 (0.136796558931016)\n",
      "4. feature 시술 당시 나이 (0.09340060892380163)\n",
      "5. feature 미세주입 후 저장된 배아 수 (0.0758634830835162)\n",
      "6. feature 미세주입 배아 이식 수 (0.050936357206725034)\n",
      "7. feature 정자 기증자 나이 (0.04046224989855155)\n",
      "8. feature 배아 생성 주요 이유 (0.03874051689480562)\n",
      "9. feature DI 시술 횟수 (0.029210608905707293)\n",
      "10. feature 단일 배아 이식 여부 (0.029089505011039917)\n",
      "11. feature IVF 임신 횟수 (0.026948121043060238)\n",
      "12. feature 난자 기증자 나이 (0.01975524408347333)\n",
      "13. feature IVF 출산 횟수 (0.017620519957096036)\n",
      "14. feature 배란 자극 여부 (0.00842259572654268)\n",
      "15. feature 난자 출처 (0.008066664644456231)\n",
      "16. feature 정자 출처 (0.00640216165174641)\n",
      "17. feature 여성 주 불임 원인 (0.005975243579336343)\n",
      "18. feature 신선 배아 사용 여부 (0.005803825753245398)\n",
      "19. feature 해동 난자 수 (0.005396808039668288)\n",
      "20. feature 부부 주 불임 원인 (0.005395782908364786)\n",
      "21. feature 남성 주 불임 원인 (0.005200551988839876)\n",
      "22. feature 시술 여부 (0.004519448484598405)\n",
      "23. feature 착상 전 유전 진단 사용 여부 (0.0031685998926970294)\n",
      "24. feature DI 임신 횟수 (0.0030671701929164256)\n",
      "25. feature 착상 전 유전 검사 사용 여부 (0.0024391317279676447)\n",
      "26. feature DI 출산 횟수 (0.002379977197127787)\n",
      "27. feature 시술 유형 (0.0007031314424444857)\n"
     ]
    },
    {
     "data": {
      "image/png": "[encoded data removed]",
      "text/plain": [
       "<Figure size 1000x600 with 1 Axes>"
      ]
     },
     "metadata": {},
     "output_type": "display_data"
    }
   ],
   "source": [
    "# 데이터 분리\n",
    "X = filtered_df.drop('임신 성공 여부', axis=1)\n",
    "y = filtered_df['임신 성공 여부']\n",
    "\n",
    "X_train, X_val, y_train, y_val = train_test_split(X, y, test_size=0.2, random_state=42)\n",
    "\n",
    "# 모델 학습\n",
    "model = RandomForestClassifier(random_state=42)\n",
    "model.fit(X_train, y_train)\n",
    "\n",
    "# 검증 데이터 예측\n",
    "y_pred_val = model.predict(X_val)\n",
    "print(\"Validation Accuracy:\", accuracy_score(y_val, y_pred_val))\n",
    "print(\"Validation Classification Report:\\n\", classification_report(y_val, y_pred_val))\n",
    "\n",
    "# Feature Importance\n",
    "importances = model.feature_importances_\n",
    "indices = np.argsort(importances)[::-1]\n",
    "\n",
    "# Print the feature ranking\n",
    "print(\"Feature ranking:\")\n",
    "\n",
    "for f in range(X_train.shape[1]):\n",
    "  print(f\"{f + 1}. feature {X_train.columns[indices[f]]} ({importances[indices[f]]})\")\n",
    "\n",
    "# Plot the feature importances of the forest\n",
    "plt.figure(figsize=(10, 6))\n",
    "plt.title(\"Feature importances\")\n",
    "plt.bar(range(X_train.shape[1]), importances[indices], align=\"center\")\n",
    "plt.xticks(range(X_train.shape[1]), X_train.columns[indices], rotation=90)\n",
    "plt.xlim([-1, X_train.shape[1]])\n",
    "plt.show()\n"
   ]
  },
  {
   "cell_type": "code",
   "execution_count": null,
   "metadata": {},
   "outputs": [
    {
     "data": {
      "text/plain": [
       "(90067,)"
      ]
     },
     "execution_count": 173,
     "metadata": {},
     "output_type": "execute_result"
    }
   ],
   "source": [
    "# 테스트 데이터 예측\n",
    "test_predictions = model.predict(filtered_test_df)\n",
    "test_predictions"
   ]
  },
  {
   "cell_type": "code",
   "execution_count": 174,
   "metadata": {},
   "outputs": [],
   "source": [
    "sample_submission = pd.read_csv('D:/김동영/11_Github/mygit/LGaimers 6기/Data/sample_submission.csv')\n",
    "sample_submission['probability'] = test_predictions"
   ]
  },
  {
   "cell_type": "code",
   "execution_count": 177,
   "metadata": {},
   "outputs": [
    {
     "data": {
      "text/plain": [
       "probability\n",
       "0    80477\n",
       "1     9590\n",
       "Name: count, dtype: int64"
      ]
     },
     "execution_count": 177,
     "metadata": {},
     "output_type": "execute_result"
    }
   ],
   "source": [
    "sample_submission['probability'].value_counts()"
   ]
  },
  {
   "cell_type": "code",
   "execution_count": null,
   "metadata": {},
   "outputs": [],
   "source": [
    "\n",
    "sample_submission.to_csv('D:/김동영/11_Github/mygit/LGaimers 6기/Submission/0207.csv', index=False)"
   ]
  }
 ],
 "metadata": {
  "kernelspec": {
   "display_name": "Python 3",
   "language": "python",
   "name": "python3"
  },
  "language_info": {
   "codemirror_mode": {
    "name": "ipython",
    "version": 3
   },
   "file_extension": ".py",
   "mimetype": "text/x-python",
   "name": "python",
   "nbconvert_exporter": "python",
   "pygments_lexer": "ipython3",
   "version": "3.12.0"
  }
 },
 "nbformat": 4,
 "nbformat_minor": 2
}
