{
 "cells": [
  {
   "cell_type": "code",
   "execution_count": 1,
   "metadata": {
    "colab": {
     "base_uri": "https://localhost:8080/"
    },
    "executionInfo": {
     "elapsed": 26258,
     "status": "ok",
     "timestamp": 1748339323640,
     "user": {
      "displayName": "이윤빈",
      "userId": "17890783244088517347"
     },
     "user_tz": -540
    },
    "id": "OTcgGjIILY5u",
    "outputId": "d486b2a0-3fd0-4e53-88a8-85e483ef5c2a"
   },
   "outputs": [
    {
     "name": "stderr",
     "output_type": "stream",
     "text": [
      "������ ��θ� ã�� �� �����ϴ�.\n",
      "������ ��θ� ã�� �� �����ϴ�.\n",
      "'rm'��(��) ���� �Ǵ� �ܺ� ����, ������ �� �ִ� ���α׷�, �Ǵ�\n",
      "��ġ ������ �ƴմϴ�.\n",
      "'wget'��(��) ���� �Ǵ� �ܺ� ����, ������ �� �ִ� ���α׷�, �Ǵ�\n",
      "��ġ ������ �ƴմϴ�.\n",
      "������ ��θ� ã�� �� �����ϴ�.\n",
      "������ ��θ� ã�� �� �����ϴ�.\n",
      "'wget'��(��) ���� �Ǵ� �ܺ� ����, ������ �� �ִ� ���α׷�, �Ǵ�\n",
      "��ġ ������ �ƴմϴ�.\n",
      "������ ��θ� ã�� �� �����ϴ�.\n",
      "'mv'��(��) ���� �Ǵ� �ܺ� ����, ������ �� �ִ� ���α׷�, �Ǵ�\n",
      "��ġ ������ �ƴմϴ�.\n",
      "'chmod'��(��) ���� �Ǵ� �ܺ� ����, ������ �� �ִ� ���α׷�, �Ǵ�\n",
      "��ġ ������ �ƴմϴ�.\n"
     ]
    }
   ],
   "source": [
    "# ✅ 셀 0: Chrome 및 Chromedriver 명시적 설치 (Colab에서 안정적 실행용)\n",
    "!apt-get update -qq > /dev/null\n",
    "!apt-get install -yqq unzip > /dev/null\n",
    "\n",
    "# 기존 드라이버 제거\n",
    "!rm -f /usr/bin/chromedriver\n",
    "\n",
    "# Chrome 설치\n",
    "!wget -q -O /tmp/chrome.deb https://dl.google.com/linux/direct/google-chrome-stable_current_amd64.deb\n",
    "!dpkg -i /tmp/chrome.deb > /dev/null 2>&1\n",
    "!apt-get -f install -y > /dev/null\n",
    "\n",
    "# Chromedriver 136 설치 (Chrome과 버전 일치)\n",
    "!wget -q -O /tmp/chromedriver.zip https://storage.googleapis.com/chrome-for-testing-public/136.0.7103.113/linux64/chromedriver-linux64.zip\n",
    "!unzip -o /tmp/chromedriver.zip -d /tmp/chromedriver/ > /dev/null\n",
    "!mv /tmp/chromedriver/chromedriver-linux64/chromedriver /usr/bin/chromedriver\n",
    "!chmod +x /usr/bin/chromedriver\n",
    "\n"
   ]
  },
  {
   "cell_type": "code",
   "execution_count": 2,
   "metadata": {
    "executionInfo": {
     "elapsed": 8003,
     "status": "ok",
     "timestamp": 1748339331655,
     "user": {
      "displayName": "이윤빈",
      "userId": "17890783244088517347"
     },
     "user_tz": -540
    },
    "id": "LIoYA2aBLyt9"
   },
   "outputs": [
    {
     "name": "stderr",
     "output_type": "stream",
     "text": [
      "\n",
      "[notice] A new release of pip is available: 25.1 -> 25.1.1\n",
      "[notice] To update, run: python.exe -m pip install --upgrade pip\n",
      "\n",
      "[notice] A new release of pip is available: 25.1 -> 25.1.1\n",
      "[notice] To update, run: python.exe -m pip install --upgrade pip\n",
      "\n",
      "[notice] A new release of pip is available: 25.1 -> 25.1.1\n",
      "[notice] To update, run: python.exe -m pip install --upgrade pip\n"
     ]
    }
   ],
   "source": [
    "# 필요한 라이브러리 설치\n",
    "!pip install -q selenium\n",
    "!pip install -q webdriver-manager\n",
    "!pip install -q beautifulsoup4"
   ]
  },
  {
   "cell_type": "code",
   "execution_count": 4,
   "metadata": {
    "colab": {
     "base_uri": "https://localhost:8080/"
    },
    "executionInfo": {
     "elapsed": 2783,
     "status": "ok",
     "timestamp": 1748339334440,
     "user": {
      "displayName": "이윤빈",
      "userId": "17890783244088517347"
     },
     "user_tz": -540
    },
    "id": "CEjgckGOoC4i",
    "outputId": "9bf83820-a4b1-4824-bafe-aa00ce9b742a"
   },
   "outputs": [],
   "source": [
    "# from google.colab import drive\n",
    "# drive.mount('/content/drive')\n",
    "\n",
    "\n",
    "\n",
    "# 경로 설정\n",
    "save_path = 'D:/김동영/11_Github/mygit-1/DAT/25-1프로젝트'\n",
    "cookie_path = f'{save_path}/exolyt_login_state.json'"
   ]
  },
  {
   "cell_type": "markdown",
   "metadata": {
    "id": "yQkVe8g1zq8s"
   },
   "source": [
    "\n",
    "\n",
    "---\n",
    "\n"
   ]
  },
  {
   "cell_type": "markdown",
   "metadata": {
    "id": "qAkkDg2zKSaq"
   },
   "source": [
    "###선행되어야 되는 작업\n",
    "###로그인 상태 쿠키 업로드\n",
    "\n",
    "1. 먼저 로컬에 저장해놨던 example.py (playwright 코드로 로그 정보 json파일에 저장하는 코드) 실행\n",
    "2. 드라이브에 새로 만들어진 파일(exolyt_login_state.json)로 업데이트"
   ]
  },
  {
   "cell_type": "code",
   "execution_count": 5,
   "metadata": {
    "executionInfo": {
     "elapsed": 14040,
     "status": "ok",
     "timestamp": 1748339348483,
     "user": {
      "displayName": "이윤빈",
      "userId": "17890783244088517347"
     },
     "user_tz": -540
    },
    "id": "sGI0a-DlKqTl"
   },
   "outputs": [],
   "source": [
    "import json\n",
    "from selenium import webdriver\n",
    "from selenium.webdriver.chrome.options import Options\n",
    "from selenium.webdriver.chrome.service import Service\n",
    "from webdriver_manager.chrome import ChromeDriverManager\n",
    "import time\n",
    "\n",
    "# 브라우저 옵션 설정\n",
    "options = Options()\n",
    "options.add_argument(\"--headless\")\n",
    "options.add_argument(\"--no-sandbox\")\n",
    "options.add_argument(\"--disable-dev-shm-usage\")\n",
    "options.add_argument(\"user-agent=Mozilla/5.0 ...\")  # 실제 브라우저처럼 설정\n",
    "\n",
    "# 웹드라이버 실행\n",
    "driver = webdriver.Chrome(service=Service(ChromeDriverManager().install()), options=options)\n",
    "driver.get(\"https://www.exolyt.com\")  # 쿠키 설정 전 첫 접속\n",
    "\n",
    "# 쿠키 파일 로드\n",
    "with open('D:/김동영/11_Github/mygit-1/DAT/25-1프로젝트/exolyt_login_state.json', 'r', encoding='utf-8') as f:\n",
    "    json_data = json.load(f)\n",
    "\n",
    "cookies_raw = json_data.get('cookies', [])\n",
    "\n",
    "# ✅ 문자열로 저장된 경우 처리\n",
    "cookies = []\n",
    "for c in cookies_raw:\n",
    "    if isinstance(c, str):\n",
    "        try:\n",
    "            cookies.append(json.loads(c))\n",
    "        except Exception as e:\n",
    "            print(f\"❗ JSON 파싱 실패: {c[:30]}... → {e}\")\n",
    "    else:\n",
    "        cookies.append(c)\n",
    "\n",
    "# 쿠키 브라우저에 추가\n",
    "for cookie in cookies:\n",
    "    try:\n",
    "        if 'domain' in cookie:\n",
    "            cookie.pop('domain')  # 도메인 충돌 방지\n",
    "        driver.add_cookie(cookie)\n",
    "    except Exception as e:\n",
    "        print(f\"❗ 쿠키 추가 실패: {cookie.get('name', 'N/A')} → {e}\")\n",
    "\n",
    "# 재접속 후 인증 확인\n",
    "driver.get(\"https://www.exolyt.com\")\n",
    "time.sleep(5)\n"
   ]
  },
  {
   "cell_type": "code",
   "execution_count": 6,
   "metadata": {
    "colab": {
     "base_uri": "https://localhost:8080/"
    },
    "executionInfo": {
     "elapsed": 5784,
     "status": "ok",
     "timestamp": 1748339354272,
     "user": {
      "displayName": "이윤빈",
      "userId": "17890783244088517347"
     },
     "user_tz": -540
    },
    "id": "zwvChxwcOC-n",
    "outputId": "d7f4acf9-cb2e-4898-a4b1-21ee0e1d3bca"
   },
   "outputs": [
    {
     "name": "stdout",
     "output_type": "stream",
     "text": [
      "📄 현재 페이지 제목: Exolyt - son\n"
     ]
    }
   ],
   "source": [
    "driver.get(\"https://exolyt.com/user/tiktok/sontvn\")\n",
    "time.sleep(5)\n",
    "print(\"📄 현재 페이지 제목:\", driver.title)\n"
   ]
  },
  {
   "cell_type": "code",
   "execution_count": 7,
   "metadata": {
    "colab": {
     "base_uri": "https://localhost:8080/"
    },
    "executionInfo": {
     "elapsed": 2457,
     "status": "ok",
     "timestamp": 1748339356732,
     "user": {
      "displayName": "이윤빈",
      "userId": "17890783244088517347"
     },
     "user_tz": -540
    },
    "id": "q60GsMEbNZXA",
    "outputId": "f0cba3e3-b873-4d70-c39f-674eb791ebb0"
   },
   "outputs": [
    {
     "name": "stdout",
     "output_type": "stream",
     "text": [
      "✅ 'Analytics' 탭 클릭 완료\n"
     ]
    }
   ],
   "source": [
    "# Analytics 탭 클릭 및 로딩 페이지 기다리기\n",
    "\n",
    "from selenium.webdriver.common.by import By\n",
    "from selenium.webdriver.support.ui import WebDriverWait\n",
    "from selenium.webdriver.support import expected_conditions as EC\n",
    "import time\n",
    "\n",
    "# Analytics 탭 클릭\n",
    "try:\n",
    "    analytics_button = WebDriverWait(driver, 10).until(\n",
    "        EC.element_to_be_clickable((By.XPATH, \"//button[contains(text(), 'Analytics')]\"))\n",
    "    )\n",
    "    analytics_button.click()\n",
    "    print(\"✅ 'Analytics' 탭 클릭 완료\")\n",
    "\n",
    "    # 로딩 기다리기 (most liked hashtags 테이블 로드 대기)\n",
    "    WebDriverWait(driver, 10).until(\n",
    "        EC.presence_of_element_located((By.XPATH, \"//h3[contains(text(), 'Most liked hashtags')]\"))\n",
    "    )\n",
    "    time.sleep(1)\n",
    "except Exception as e:\n",
    "    print(\"❌ 'Analytics' 탭 클릭 실패:\", e)\n"
   ]
  },
  {
   "cell_type": "code",
   "execution_count": 7,
   "metadata": {
    "colab": {
     "base_uri": "https://localhost:8080/"
    },
    "executionInfo": {
     "elapsed": 319,
     "status": "ok",
     "timestamp": 1748339357054,
     "user": {
      "displayName": "이윤빈",
      "userId": "17890783244088517347"
     },
     "user_tz": -540
    },
    "id": "9UA4c38xT5Jy",
    "outputId": "af98bda3-8007-4959-d3f3-e03d7e97a921"
   },
   "outputs": [
    {
     "name": "stdout",
     "output_type": "stream",
     "text": [
      "✅ Most liked hashtags:\n",
      "foryou\n",
      "fyp\n",
      "sonsfam\n",
      "billieeilish\n",
      "hmhas\n",
      "concert\n",
      "viral\n",
      "billieberlin\n",
      "explore\n",
      "hitmehardandsofttour\n",
      "berlin\n",
      "relatable\n",
      "adele\n",
      "hmhastour\n",
      "capcut\n"
     ]
    }
   ],
   "source": [
    "from bs4 import BeautifulSoup\n",
    "\n",
    "# BeautifulSoup 파싱\n",
    "soup = BeautifulSoup(driver.page_source, \"html.parser\")\n",
    "\n",
    "# 'Most liked hashtags' 섹션 찾기\n",
    "hashtag_heading = soup.find(lambda tag: tag.name == \"h3\" and \"Most liked hashtags\" in tag.get_text())\n",
    "\n",
    "most_liked_hashtags = []\n",
    "if hashtag_heading:\n",
    "    current = hashtag_heading\n",
    "    max_depth = 5\n",
    "    while current and max_depth > 0:\n",
    "        links = current.find_all(\"a\", class_=\"ds-link\")\n",
    "        if links:\n",
    "            most_liked_hashtags = [a.get_text(strip=True).lstrip(\"#\") for a in links]\n",
    "            break\n",
    "        current = current.parent\n",
    "        max_depth -= 1\n",
    "\n",
    "# 결과 확인\n",
    "if most_liked_hashtags:\n",
    "    print(\"✅ Most liked hashtags:\")\n",
    "    for tag in most_liked_hashtags:\n",
    "        print(tag)\n",
    "else:\n",
    "    print(\"❌ Most liked hashtags를 찾지 못했습니다.\")\n"
   ]
  },
  {
   "cell_type": "code",
   "execution_count": 8,
   "metadata": {
    "colab": {
     "base_uri": "https://localhost:8080/"
    },
    "executionInfo": {
     "elapsed": 561,
     "status": "ok",
     "timestamp": 1748339357617,
     "user": {
      "displayName": "이윤빈",
      "userId": "17890783244088517347"
     },
     "user_tz": -540
    },
    "id": "z6gfyEn-L8uo",
    "outputId": "b5a7d186-4a60-4506-eeb6-10aefaca8534"
   },
   "outputs": [
    {
     "name": "stdout",
     "output_type": "stream",
     "text": [
      "  username  verified                                       top_hashtags\n",
      "0   sontvn      True  foryou, fyp, sonsfam, billieeilish, hmhas, con...\n",
      "📁 CSV 저장 완료: /content/drive/MyDrive/DAT 팀_김동영/이윤빈/exolyt_result.csv\n"
     ]
    }
   ],
   "source": [
    "import pandas as pd\n",
    "from urllib.parse import urlparse\n",
    "\n",
    "# username 정제\n",
    "parsed_url = urlparse(driver.current_url)\n",
    "path_parts = parsed_url.path.strip(\"/\").split(\"/\")\n",
    "username = path_parts[-1] if path_parts else None\n",
    "\n",
    "# 인증 여부 체크\n",
    "verified = soup.find(\"svg\", {\"aria-label\": \"Verified\"}) or soup.find(string=\"Verified\")\n",
    "is_verified = bool(verified)\n",
    "\n",
    "# 해시태그 결합\n",
    "hashtags_str = \", \".join(most_liked_hashtags)\n",
    "\n",
    "# DataFrame 저장\n",
    "result_df = pd.DataFrame([{\n",
    "    \"username\": username,\n",
    "    \"verified\": is_verified,\n",
    "    \"top_hashtags\": hashtags_str\n",
    "}])\n",
    "\n",
    "# 결과 출력\n",
    "print(result_df)\n",
    "\n",
    "\n",
    "# CSV 저장\n",
    "result_csv_path = f\"{save_path}/exolyt_result.csv\"\n",
    "result_df.to_csv(result_csv_path, index=False, encoding='utf-8-sig')\n",
    "print(f\"📁 CSV 저장 완료: {result_csv_path}\")\n"
   ]
  },
  {
   "cell_type": "code",
   "execution_count": 9,
   "metadata": {
    "colab": {
     "base_uri": "https://localhost:8080/",
     "height": 81
    },
    "executionInfo": {
     "elapsed": 38,
     "status": "ok",
     "timestamp": 1748339357653,
     "user": {
      "displayName": "이윤빈",
      "userId": "17890783244088517347"
     },
     "user_tz": -540
    },
    "id": "9CsilERnULjL",
    "outputId": "1a899e8d-85de-4f8a-8630-5057a137e648"
   },
   "outputs": [
    {
     "data": {
      "application/vnd.google.colaboratory.intrinsic+json": {
       "summary": "{\n  \"name\": \"result_df\",\n  \"rows\": 1,\n  \"fields\": [\n    {\n      \"column\": \"username\",\n      \"properties\": {\n        \"dtype\": \"string\",\n        \"num_unique_values\": 1,\n        \"samples\": [\n          \"sontvn\"\n        ],\n        \"semantic_type\": \"\",\n        \"description\": \"\"\n      }\n    },\n    {\n      \"column\": \"verified\",\n      \"properties\": {\n        \"dtype\": \"boolean\",\n        \"num_unique_values\": 1,\n        \"samples\": [\n          true\n        ],\n        \"semantic_type\": \"\",\n        \"description\": \"\"\n      }\n    },\n    {\n      \"column\": \"top_hashtags\",\n      \"properties\": {\n        \"dtype\": \"string\",\n        \"num_unique_values\": 1,\n        \"samples\": [\n          \"foryou, fyp, sonsfam, billieeilish, hmhas, concert, viral, billieberlin, explore, hitmehardandsofttour, berlin, relatable, adele, hmhastour, capcut\"\n        ],\n        \"semantic_type\": \"\",\n        \"description\": \"\"\n      }\n    }\n  ]\n}",
       "type": "dataframe",
       "variable_name": "result_df"
      },
      "text/html": [
       "\n",
       "  <div id=\"df-2a641790-7001-476c-b6dd-818396e64829\" class=\"colab-df-container\">\n",
       "    <div>\n",
       "<style scoped>\n",
       "    .dataframe tbody tr th:only-of-type {\n",
       "        vertical-align: middle;\n",
       "    }\n",
       "\n",
       "    .dataframe tbody tr th {\n",
       "        vertical-align: top;\n",
       "    }\n",
       "\n",
       "    .dataframe thead th {\n",
       "        text-align: right;\n",
       "    }\n",
       "</style>\n",
       "<table border=\"1\" class=\"dataframe\">\n",
       "  <thead>\n",
       "    <tr style=\"text-align: right;\">\n",
       "      <th></th>\n",
       "      <th>username</th>\n",
       "      <th>verified</th>\n",
       "      <th>top_hashtags</th>\n",
       "    </tr>\n",
       "  </thead>\n",
       "  <tbody>\n",
       "    <tr>\n",
       "      <th>0</th>\n",
       "      <td>sontvn</td>\n",
       "      <td>True</td>\n",
       "      <td>foryou, fyp, sonsfam, billieeilish, hmhas, con...</td>\n",
       "    </tr>\n",
       "  </tbody>\n",
       "</table>\n",
       "</div>\n",
       "    <div class=\"colab-df-buttons\">\n",
       "\n",
       "  <div class=\"colab-df-container\">\n",
       "    <button class=\"colab-df-convert\" onclick=\"convertToInteractive('df-2a641790-7001-476c-b6dd-818396e64829')\"\n",
       "            title=\"Convert this dataframe to an interactive table.\"\n",
       "            style=\"display:none;\">\n",
       "\n",
       "  <svg xmlns=\"http://www.w3.org/2000/svg\" height=\"24px\" viewBox=\"0 -960 960 960\">\n",
       "    <path d=\"M120-120v-720h720v720H120Zm60-500h600v-160H180v160Zm220 220h160v-160H400v160Zm0 220h160v-160H400v160ZM180-400h160v-160H180v160Zm440 0h160v-160H620v160ZM180-180h160v-160H180v160Zm440 0h160v-160H620v160Z\"/>\n",
       "  </svg>\n",
       "    </button>\n",
       "\n",
       "  <style>\n",
       "    .colab-df-container {\n",
       "      display:flex;\n",
       "      gap: 12px;\n",
       "    }\n",
       "\n",
       "    .colab-df-convert {\n",
       "      background-color: #E8F0FE;\n",
       "      border: none;\n",
       "      border-radius: 50%;\n",
       "      cursor: pointer;\n",
       "      display: none;\n",
       "      fill: #1967D2;\n",
       "      height: 32px;\n",
       "      padding: 0 0 0 0;\n",
       "      width: 32px;\n",
       "    }\n",
       "\n",
       "    .colab-df-convert:hover {\n",
       "      background-color: #E2EBFA;\n",
       "      box-shadow: 0px 1px 2px rgba(60, 64, 67, 0.3), 0px 1px 3px 1px rgba(60, 64, 67, 0.15);\n",
       "      fill: #174EA6;\n",
       "    }\n",
       "\n",
       "    .colab-df-buttons div {\n",
       "      margin-bottom: 4px;\n",
       "    }\n",
       "\n",
       "    [theme=dark] .colab-df-convert {\n",
       "      background-color: #3B4455;\n",
       "      fill: #D2E3FC;\n",
       "    }\n",
       "\n",
       "    [theme=dark] .colab-df-convert:hover {\n",
       "      background-color: #434B5C;\n",
       "      box-shadow: 0px 1px 3px 1px rgba(0, 0, 0, 0.15);\n",
       "      filter: drop-shadow(0px 1px 2px rgba(0, 0, 0, 0.3));\n",
       "      fill: #FFFFFF;\n",
       "    }\n",
       "  </style>\n",
       "\n",
       "    <script>\n",
       "      const buttonEl =\n",
       "        document.querySelector('#df-2a641790-7001-476c-b6dd-818396e64829 button.colab-df-convert');\n",
       "      buttonEl.style.display =\n",
       "        google.colab.kernel.accessAllowed ? 'block' : 'none';\n",
       "\n",
       "      async function convertToInteractive(key) {\n",
       "        const element = document.querySelector('#df-2a641790-7001-476c-b6dd-818396e64829');\n",
       "        const dataTable =\n",
       "          await google.colab.kernel.invokeFunction('convertToInteractive',\n",
       "                                                    [key], {});\n",
       "        if (!dataTable) return;\n",
       "\n",
       "        const docLinkHtml = 'Like what you see? Visit the ' +\n",
       "          '<a target=\"_blank\" href=https://colab.research.google.com/notebooks/data_table.ipynb>data table notebook</a>'\n",
       "          + ' to learn more about interactive tables.';\n",
       "        element.innerHTML = '';\n",
       "        dataTable['output_type'] = 'display_data';\n",
       "        await google.colab.output.renderOutput(dataTable, element);\n",
       "        const docLink = document.createElement('div');\n",
       "        docLink.innerHTML = docLinkHtml;\n",
       "        element.appendChild(docLink);\n",
       "      }\n",
       "    </script>\n",
       "  </div>\n",
       "\n",
       "\n",
       "    </div>\n",
       "  </div>\n"
      ],
      "text/plain": [
       "  username  verified                                       top_hashtags\n",
       "0   sontvn      True  foryou, fyp, sonsfam, billieeilish, hmhas, con..."
      ]
     },
     "execution_count": 9,
     "metadata": {},
     "output_type": "execute_result"
    }
   ],
   "source": [
    "result_df.head(5)"
   ]
  },
  {
   "cell_type": "markdown",
   "metadata": {
    "id": "8N6b0lBqE5CB"
   },
   "source": [
    "### 모든 계정들 테스트"
   ]
  },
  {
   "cell_type": "code",
   "execution_count": 10,
   "metadata": {
    "colab": {
     "base_uri": "https://localhost:8080/"
    },
    "executionInfo": {
     "elapsed": 253,
     "status": "ok",
     "timestamp": 1748339357905,
     "user": {
      "displayName": "이윤빈",
      "userId": "17890783244088517347"
     },
     "user_tz": -540
    },
    "id": "sj3jZGtiE80n",
    "outputId": "e279b1a6-30fb-4015-e345-d4c38871fd86"
   },
   "outputs": [
    {
     "name": "stdout",
     "output_type": "stream",
     "text": [
      "['theonlyhaven', 'turquoise.dec', 'ttalgi.ellie', 'srsaskin_', '_anjello', 'jf.skin24', 'cinthia_dosamples', 'lee.ly1012', 'prettywrinkles', 'xevelynluu', 'chloelouiseliveslife', 'melissahemmingsley', 'kbootyjenny', 'skincare.ninja', 'ugc_withjessi', 'so.calmama', 'jessicaroseugc', 'kayskwa', 'jennasiee', 'ugcxmichelle', 'autumnsaro', 'tinaangelinaaa', 'crystalschob3', 'life.w.lex4', 'jensnomz', 'srsdigitaldiary', 'eloise_ugc', 'shellllls_lifeeee', 'xokena_', 'mindfulugc', 'nooni.ugc', 'heyitsaliquinn', 'glo.ssary', 'ugc.karla', 'pretty.squirrelss', 'danielaapryl', 'allbriwoo', 'grw.alii_', 'jilliangottlieb', '_taniagrover', 'zhala.beauty', 'skinbykristin', 'lifewtamia', 'sunscreen.addict', 'toninlanaa', 'ft.angela', 'pinaydora', 'yangmediary', 'd_dudley4', 'beauty__bymegs', 'witandarte', 'beautycloudlove', 'psdiwan22', 'auraofmahmuda', 'vickyoffishal', '__allaboutskincare__', 'klymi.na', 'jeracoolio', 'razan.alani', 'angelinajarboe', 'waves_for_dayzz', 'jmeans77', 'carmelk1', 'ouibutnon', 'skincredibles', 'kenandmal', 'jamesslushie', '_chicpick', 'aroundtheplanetandback', 'itsomalherself', 'skincarenotes', 'hannie.skin', 'skin_with_zee', 'bel1amur', 'laurynslocs', 'ksuuuushaxx', 'ugc_emma9', 'loriebelle.ugc', 'ugcwithsahar', 'lovinglynat', 'lindsaymae_', 'glowwithhima', 'kimglamglow', 'allansgirl_', 'upasanaarora', 'natik4s', 'reviews_by_bee', 'ugcwithjag', 'hushhalohue', '_just.livinggg_', 'glow.like.korea', 'britnorman_', 'lexlovesmakeup', 'exquisiteexplorerig', 'yepmanythings', 'imjustagirl368', 'xo.lolaenriquez.xo', 'westclau_', 'shannenbudihardjo', 'blossom5113', 'itsugcgirl', 'its.mawii', 'natik4s', 'roselinni_', 'bebethssi', 'h.annahyu', 'topnotchmarvellous', 'rawanalani4', 'torilatise', 'neetimathur0', 'ugc.fer', 'etherealskinwithrinny', 'glowithtay', 'skinwithhillaryy', 'megnugs2', 'alotta_reviews', 'addicted.to.skincare', 'beautycarebydrhind', 's.beauty.makeup12', 'thiglossglow', 'pocketlifestyle__', 'voguereview', 'sydneychriistensen', 'life.bynoeee', 'quyen.la', 'jayanne.roller', 'adriannamg12', 'itsreal_lmb', 'lovebirsu', 'clahh__', '_dollylqve', 'yunalome', 'glowingskinmadie', 'dyknicx', 'vannahluv', 'teresatpham', 'cla.audia', 'kimberly.cat', 'regina_ugc_', 'melii.mar_', 'evesbeautylife', 'urcreatorsophia', 'skincare_with_kylie', 'louysasdiaries', 'lisaameyy', 'her.lifestyle.pri', 'ggiuliarus', 'curly.qaya', 'Hikarifleurr', 'tatgiraldi ', 'jocy.cs ', 'sydnie_1209', 'highimdalilah', 'dearrruzzi', 'itsfufumochii', 'chloemedeiros', 'paolainatl', 'happy.bluedino', 'nghibui_i', 'ninislildiary', 'bythreewishes', 'xo.yokov', 'heyitsclarissaa', 'nakeziaa', 'teacuppuppycoco', 'strawberry_shalyn', 'Thatbaileygal', 'sophie_bskin', 'itsbreeeva', 'rosaliebriere', 'thekimedit', 'thebeautymolecule', 'im.gis3lle', 'im.gis3lle', 'what_can_i_buy', 'Rosemarie.loves', 'victoriahui', 'muji_bee', 'nikkkaayy_', 'edli.ugc', 'yt.jichelleirish', 'newa_supriya', 'creativelyamanda', 'ugcwithb__', 'sunshinefairy444', 'sophia.cathyy', 'sailormina_', 'glowinthegram', 'ericaz_ugc', 'ugc_byivanna', 'krisoncamera', 'ugc.by.iri', 'aeht.ugc', 'lovelyleilani.ugc', 'honest_recs', 'by_ashmariee', 'almostsimplysky', 'lukyss_09p', 'amirka08', 'chilibeauty1201', 'tatiana.ptrnina', 'abigail.ugc.creator', 'trxlyadria', 'skinwsara', 'miralii.m', '_janessam', 'annahostriakova', 'ibubblii', 'beautyfanaticjenn', 'glowyyclover', 'ugcwithedwina', 'christineeugc', 'renlauskin', 'pixelheartsbeauty', 'jelloskinsecrets', 'ugc_adriiana', 'skin_likee', 'glowological', 'hola.danielaxoxo', 'vera_kskincare', 'luv4ikeuuu', 'kat.iveth1', 'fabulous.mira.skincare', 'ugcale', 'skinbyhelen', 'ellasolves', 'skinwithe1', 'ugcwithmeriem', 'joselinastyle', 'starfaceorganics', 'ishmadiaries', 'stanskincare', 'itshazeldiaries', 'skinwithclods', 'greyyychoi', 'heartz4pitii', 'mattrandon', 'melon_park', '_lilyis', 'keytoglo', 'abbyrosemaureen', 'kiki.dee__', 'denitsab3auty', 'lilac__05', 'dreamyglowyskin', 'bethyful_kbeauty', 'maddysbeautytalk', 'lovemisomeskin', 'ugcwithkpm', 'betweendots', 'chen.ugc', 'pinksandrosie', 'aera.ugc', 'skincarewithxia_', 'skinhippie27', 'klea.sotiri', 'zahraxbeauty', 'katysayfi', 'sonuugrg_', 'anika_kozlova', 'itstessjohnson', 'looksbyhiba', 'itsmelissaga', 'zoe.aesthetic.grw', 'thedikshadiary', 'akshayareddykontham', 'lifestylewithfatima', 'bosslady__carla', 'thehydratedhunny', 'grace_forevermore_', 'brendasbeautyblog_', 'curateandglow', 'nizvetsbeautydiaries', 'hijabiskinfluencer', 'skincarepessimist', 'mottaskin', 'zwonylen', 'stephaniienini', 'glam._diaries', 'sashask1n', 'ugc.by.zainab', 'dearkisha_', 'nattylattie', 'celinedamji', 'liansloves', 'andie_sorto', 'melinamujer', 'irisoyeon_', 'arvika_j', '_arishasheikh', 'hanahdewybae', 'gemavm10', 'keirrawebster', 'ugcbyjamie', 'badblory', 'sya.skin', 'skincarewithbrit_', 'skincareuprising', 'beauty_viridiana_', 'emileerachel', 'timeforrice', 'jhamheartsthis', 'aglimpseofglow', 'mariana.ugc', 'tashfia____']\n"
     ]
    }
   ],
   "source": [
    "import pandas as pd\n",
    "\n",
    "# 엑셀 파일 경로\n",
    "handle_path = '/content/drive/MyDrive/DAT 팀_김동영/이윤빈/소셜핸들.xlsx'\n",
    "\n",
    "# 파일에서 Username 열 읽기\n",
    "handle_df = pd.read_excel(handle_path)\n",
    "\n",
    "# @ 기호 제거하고 리스트로 변환\n",
    "usernames = handle_df['Username'].dropna().apply(lambda x: x.lstrip('@')).tolist()\n",
    "\n",
    "# 결과 확인 (상위 5개 미리보기)\n",
    "print(usernames[:])\n",
    "\n",
    "\n"
   ]
  },
  {
   "cell_type": "code",
   "execution_count": 11,
   "metadata": {
    "colab": {
     "base_uri": "https://localhost:8080/"
    },
    "executionInfo": {
     "elapsed": 48,
     "status": "ok",
     "timestamp": 1748339357906,
     "user": {
      "displayName": "이윤빈",
      "userId": "17890783244088517347"
     },
     "user_tz": -540
    },
    "id": "e5uuWntNHwAu",
    "outputId": "7ff9d7d5-e815-48fe-f7be-f711847014f8"
   },
   "outputs": [
    {
     "name": "stdout",
     "output_type": "stream",
     "text": [
      "(305, 1)\n"
     ]
    }
   ],
   "source": [
    "print(handle_df.shape)"
   ]
  },
  {
   "cell_type": "code",
   "execution_count": 16,
   "metadata": {
    "executionInfo": {
     "elapsed": 5,
     "status": "ok",
     "timestamp": 1748339658344,
     "user": {
      "displayName": "이윤빈",
      "userId": "17890783244088517347"
     },
     "user_tz": -540
    },
    "id": "heI9bu-JKa-o"
   },
   "outputs": [],
   "source": [
    "import pandas as pd\n",
    "import time\n",
    "import random\n",
    "from bs4 import BeautifulSoup\n",
    "from urllib.parse import urlparse\n",
    "from selenium import webdriver\n",
    "from selenium.webdriver.chrome.options import Options\n",
    "from selenium.webdriver.chrome.service import Service\n",
    "from selenium.webdriver.common.by import By\n",
    "from selenium.webdriver.support.ui import WebDriverWait\n",
    "from selenium.webdriver.support import expected_conditions as EC\n",
    "from webdriver_manager.chrome import ChromeDriverManager\n"
   ]
  },
  {
   "cell_type": "code",
   "execution_count": 17,
   "metadata": {
    "colab": {
     "base_uri": "https://localhost:8080/",
     "height": 1000
    },
    "executionInfo": {
     "elapsed": 37936,
     "status": "error",
     "timestamp": 1748339697399,
     "user": {
      "displayName": "이윤빈",
      "userId": "17890783244088517347"
     },
     "user_tz": -540
    },
    "id": "WbIzy8WACD61",
    "outputId": "635473db-945b-4dfd-ffab-f532a300cb8c"
   },
   "outputs": [
    {
     "name": "stdout",
     "output_type": "stream",
     "text": [
      "\n",
      "🚀 수집 시작: theonlyhaven\n"
     ]
    },
    {
     "name": "stderr",
     "output_type": "stream",
     "text": [
      "WARNING:urllib3.connectionpool:Retrying (Retry(total=2, connect=None, read=None, redirect=None, status=None)) after connection broken by 'NewConnectionError('<urllib3.connection.HTTPConnection object at 0x7d06089b38d0>: Failed to establish a new connection: [Errno 111] Connection refused')': /session/65a0392e656b5567850309bc35592aa0\n",
      "WARNING:urllib3.connectionpool:Retrying (Retry(total=1, connect=None, read=None, redirect=None, status=None)) after connection broken by 'NewConnectionError('<urllib3.connection.HTTPConnection object at 0x7d062c30ef90>: Failed to establish a new connection: [Errno 111] Connection refused')': /session/65a0392e656b5567850309bc35592aa0\n",
      "WARNING:urllib3.connectionpool:Retrying (Retry(total=0, connect=None, read=None, redirect=None, status=None)) after connection broken by 'NewConnectionError('<urllib3.connection.HTTPConnection object at 0x7d0607da1490>: Failed to establish a new connection: [Errno 111] Connection refused')': /session/65a0392e656b5567850309bc35592aa0\n"
     ]
    },
    {
     "name": "stdout",
     "output_type": "stream",
     "text": [
      "❌ theonlyhaven - Analytics 탭 클릭 실패: Message: \n",
      "Stacktrace:\n",
      "#0 0x55a8b3c3f71a <unknown>\n",
      "#1 0x55a8b36e20a0 <unknown>\n",
      "#2 0x55a8b37339b0 <unknown>\n",
      "#3 0x55a8b3733ba1 <unknown>\n",
      "#4 0x55a8b3781ea4 <unknown>\n",
      "#5 0x55a8b37593cd <unknown>\n",
      "#6 0x55a8b377f2a0 <unknown>\n",
      "#7 0x55a8b3759173 <unknown>\n",
      "#8 0x55a8b3725d4b <unknown>\n",
      "#9 0x55a8b37269b1 <unknown>\n",
      "#10 0x55a8b3c048cb <unknown>\n",
      "#11 0x55a8b3c087ca <unknown>\n",
      "#12 0x55a8b3bec622 <unknown>\n",
      "#13 0x55a8b3c09354 <unknown>\n",
      "#14 0x55a8b3bd145f <unknown>\n",
      "#15 0x55a8b3c2d4f8 <unknown>\n",
      "#16 0x55a8b3c2d6d6 <unknown>\n",
      "#17 0x55a8b3c3e586 <unknown>\n",
      "#18 0x7ab58da07ac3 <unknown>\n",
      "\n",
      "\n",
      "🚀 수집 시작: turquoise.dec\n"
     ]
    },
    {
     "name": "stderr",
     "output_type": "stream",
     "text": [
      "WARNING:urllib3.connectionpool:Retrying (Retry(total=2, connect=None, read=None, redirect=None, status=None)) after connection broken by 'NewConnectionError('<urllib3.connection.HTTPConnection object at 0x7d06080d4f90>: Failed to establish a new connection: [Errno 111] Connection refused')': /session/059bdf243c0dbf57810e8653db471804\n",
      "WARNING:urllib3.connectionpool:Retrying (Retry(total=1, connect=None, read=None, redirect=None, status=None)) after connection broken by 'NewConnectionError('<urllib3.connection.HTTPConnection object at 0x7d0607df3a10>: Failed to establish a new connection: [Errno 111] Connection refused')': /session/059bdf243c0dbf57810e8653db471804\n",
      "WARNING:urllib3.connectionpool:Retrying (Retry(total=0, connect=None, read=None, redirect=None, status=None)) after connection broken by 'NewConnectionError('<urllib3.connection.HTTPConnection object at 0x7d06080e8190>: Failed to establish a new connection: [Errno 111] Connection refused')': /session/059bdf243c0dbf57810e8653db471804\n"
     ]
    },
    {
     "name": "stdout",
     "output_type": "stream",
     "text": [
      "❌ turquoise.dec - Analytics 탭 클릭 실패: Message: \n",
      "Stacktrace:\n",
      "#0 0x5c2bab22a71a <unknown>\n",
      "#1 0x5c2baaccd0a0 <unknown>\n",
      "#2 0x5c2baad1e9b0 <unknown>\n",
      "#3 0x5c2baad1eba1 <unknown>\n",
      "#4 0x5c2baad6cea4 <unknown>\n",
      "#5 0x5c2baad443cd <unknown>\n",
      "#6 0x5c2baad6a2a0 <unknown>\n",
      "#7 0x5c2baad44173 <unknown>\n",
      "#8 0x5c2baad10d4b <unknown>\n",
      "#9 0x5c2baad119b1 <unknown>\n",
      "#10 0x5c2bab1ef8cb <unknown>\n",
      "#11 0x5c2bab1f37ca <unknown>\n",
      "#12 0x5c2bab1d7622 <unknown>\n",
      "#13 0x5c2bab1f4354 <unknown>\n",
      "#14 0x5c2bab1bc45f <unknown>\n",
      "#15 0x5c2bab2184f8 <unknown>\n",
      "#16 0x5c2bab2186d6 <unknown>\n",
      "#17 0x5c2bab229586 <unknown>\n",
      "#18 0x78ebe092cac3 <unknown>\n",
      "\n",
      "\n",
      "🚀 수집 시작: ttalgi.ellie\n"
     ]
    },
    {
     "name": "stderr",
     "output_type": "stream",
     "text": [
      "WARNING:urllib3.connectionpool:Retrying (Retry(total=2, connect=None, read=None, redirect=None, status=None)) after connection broken by 'NewConnectionError('<urllib3.connection.HTTPConnection object at 0x7d0607be9450>: Failed to establish a new connection: [Errno 111] Connection refused')': /session/acbcf4b12b68dea6b3a871e25d0407d3\n",
      "WARNING:urllib3.connectionpool:Retrying (Retry(total=1, connect=None, read=None, redirect=None, status=None)) after connection broken by 'NewConnectionError('<urllib3.connection.HTTPConnection object at 0x7d06080d7850>: Failed to establish a new connection: [Errno 111] Connection refused')': /session/acbcf4b12b68dea6b3a871e25d0407d3\n",
      "WARNING:urllib3.connectionpool:Retrying (Retry(total=0, connect=None, read=None, redirect=None, status=None)) after connection broken by 'NewConnectionError('<urllib3.connection.HTTPConnection object at 0x7d06080eb290>: Failed to establish a new connection: [Errno 111] Connection refused')': /session/acbcf4b12b68dea6b3a871e25d0407d3\n"
     ]
    },
    {
     "ename": "KeyboardInterrupt",
     "evalue": "",
     "output_type": "error",
     "traceback": [
      "\u001b[0;31m---------------------------------------------------------------------------\u001b[0m",
      "\u001b[0;31mKeyboardInterrupt\u001b[0m                         Traceback (most recent call last)",
      "\u001b[0;32m<ipython-input-17-e1b6e02509cc>\u001b[0m in \u001b[0;36m<cell line: 0>\u001b[0;34m()\u001b[0m\n\u001b[1;32m     15\u001b[0m         \u001b[0mdriver\u001b[0m \u001b[0;34m=\u001b[0m \u001b[0mwebdriver\u001b[0m\u001b[0;34m.\u001b[0m\u001b[0mChrome\u001b[0m\u001b[0;34m(\u001b[0m\u001b[0mservice\u001b[0m\u001b[0;34m=\u001b[0m\u001b[0mService\u001b[0m\u001b[0;34m(\u001b[0m\u001b[0mChromeDriverManager\u001b[0m\u001b[0;34m(\u001b[0m\u001b[0;34m)\u001b[0m\u001b[0;34m.\u001b[0m\u001b[0minstall\u001b[0m\u001b[0;34m(\u001b[0m\u001b[0;34m)\u001b[0m\u001b[0;34m)\u001b[0m\u001b[0;34m,\u001b[0m \u001b[0moptions\u001b[0m\u001b[0;34m=\u001b[0m\u001b[0moptions\u001b[0m\u001b[0;34m)\u001b[0m\u001b[0;34m\u001b[0m\u001b[0;34m\u001b[0m\u001b[0m\n\u001b[1;32m     16\u001b[0m         \u001b[0mdriver\u001b[0m\u001b[0;34m.\u001b[0m\u001b[0mget\u001b[0m\u001b[0;34m(\u001b[0m\u001b[0;34mf\"https://exolyt.com/user/tiktok/{username}\"\u001b[0m\u001b[0;34m)\u001b[0m\u001b[0;34m\u001b[0m\u001b[0;34m\u001b[0m\u001b[0m\n\u001b[0;32m---> 17\u001b[0;31m         \u001b[0mtime\u001b[0m\u001b[0;34m.\u001b[0m\u001b[0msleep\u001b[0m\u001b[0;34m(\u001b[0m\u001b[0mrandom\u001b[0m\u001b[0;34m.\u001b[0m\u001b[0muniform\u001b[0m\u001b[0;34m(\u001b[0m\u001b[0;36m4\u001b[0m\u001b[0;34m,\u001b[0m \u001b[0;36m6\u001b[0m\u001b[0;34m)\u001b[0m\u001b[0;34m)\u001b[0m\u001b[0;34m\u001b[0m\u001b[0;34m\u001b[0m\u001b[0m\n\u001b[0m\u001b[1;32m     18\u001b[0m \u001b[0;34m\u001b[0m\u001b[0m\n\u001b[1;32m     19\u001b[0m         \u001b[0;31m# 2️⃣ Analytics 탭 클릭\u001b[0m\u001b[0;34m\u001b[0m\u001b[0;34m\u001b[0m\u001b[0m\n",
      "\u001b[0;31mKeyboardInterrupt\u001b[0m: "
     ]
    }
   ],
   "source": [
    "# 크롤링 결과 저장용 리스트\n",
    "results = []\n",
    "\n",
    "# ✅ 사용자마다 driver 재시작\n",
    "for username in usernames:\n",
    "    print(f\"\\n🚀 수집 시작: {username}\")\n",
    "    try:\n",
    "        # 1️⃣ 드라이버 실행\n",
    "        options = Options()\n",
    "        options.add_argument(\"--headless\")\n",
    "        options.add_argument(\"--no-sandbox\")\n",
    "        options.add_argument(\"--disable-dev-shm-usage\")\n",
    "        options.add_argument(\"user-agent=Mozilla/5.0 (Windows NT 10.0; Win64; x64) AppleWebKit/537.36 (KHTML, like Gecko) Chrome/124.0 Safari/537.36\")\n",
    "\n",
    "        driver = webdriver.Chrome(service=Service(ChromeDriverManager().install()), options=options)\n",
    "        driver.get(f\"https://exolyt.com/user/tiktok/{username}\")\n",
    "        time.sleep(random.uniform(4, 6))\n",
    "\n",
    "        # 2️⃣ Analytics 탭 클릭\n",
    "        try:\n",
    "            WebDriverWait(driver, 10).until(\n",
    "                EC.invisibility_of_element_located((By.CLASS_NAME, \"ds-fade-in\"))\n",
    "            )\n",
    "            analytics_button = WebDriverWait(driver, 10).until(\n",
    "                EC.element_to_be_clickable((By.XPATH, \"//button[contains(text(), 'Analytics')]\"))\n",
    "            )\n",
    "            driver.execute_script(\"arguments[0].click();\", analytics_button)\n",
    "            print(\"✅ 'Analytics' 탭 클릭 완료\")\n",
    "\n",
    "            WebDriverWait(driver, 10).until(\n",
    "                EC.presence_of_element_located((By.XPATH, \"//h3[contains(text(), 'Most liked hashtags')]\"))\n",
    "            )\n",
    "            time.sleep(1)\n",
    "        except Exception as e:\n",
    "            print(f\"❌ {username} - Analytics 탭 클릭 실패: {e}\")\n",
    "            driver.quit()\n",
    "            continue\n",
    "\n",
    "        # 3️⃣ BeautifulSoup 파싱\n",
    "        soup = BeautifulSoup(driver.page_source, \"html.parser\")\n",
    "\n",
    "        # 인증 여부 확인\n",
    "        verified = soup.find(\"svg\", {\"aria-label\": \"Verified\"}) or soup.find(string=\"Verified\")\n",
    "        is_verified = bool(verified)\n",
    "\n",
    "        # 해시태그 추출\n",
    "        most_liked_hashtags = []\n",
    "        hashtag_heading = soup.find(lambda tag: tag.name == \"h3\" and \"Most liked hashtags\" in tag.get_text())\n",
    "        if hashtag_heading:\n",
    "            current = hashtag_heading\n",
    "            max_depth = 5\n",
    "            while current and max_depth > 0:\n",
    "                links = current.find_all(\"a\", class_=\"ds-link\")\n",
    "                if links:\n",
    "                    most_liked_hashtags = [a.get_text(strip=True).lstrip(\"#\") for a in links]\n",
    "                    break\n",
    "                current = current.parent\n",
    "                max_depth -= 1\n",
    "\n",
    "        # 결과 저장\n",
    "        results.append({\n",
    "            \"username\": username,\n",
    "            \"verified\": is_verified,\n",
    "            \"top_hashtags\": \", \".join(most_liked_hashtags)\n",
    "        })\n",
    "        print(f\"✅ {username} - 수집 성공\")\n",
    "\n",
    "    except Exception as e:\n",
    "        print(f\"❌ {username} - 처리 중 오류 발생: {e}\")\n",
    "\n",
    "    finally:\n",
    "        driver.quit()  # 4️⃣ 드라이버 종료\n",
    "\n",
    "# 🔚 최종 결과 저장\n",
    "result_df = pd.DataFrame(results)\n",
    "result_csv_path = f\"{save_path}/exolyt_result.csv\"\n",
    "result_df.to_csv(result_csv_path, index=False, encoding='utf-8-sig')\n",
    "print(f\"\\n📁 CSV 저장 완료: {result_csv_path}\")\n"
   ]
  },
  {
   "cell_type": "markdown",
   "metadata": {
    "id": "scO7n62DRelk"
   },
   "source": [
    "### most liked hashtags가 들어있는 페이지의 HTML 구조 확인하는 코드들 (이젠 필요없음, 참고만)"
   ]
  },
  {
   "cell_type": "code",
   "execution_count": null,
   "metadata": {
    "executionInfo": {
     "elapsed": 107880,
     "status": "aborted",
     "timestamp": 1748339404975,
     "user": {
      "displayName": "이윤빈",
      "userId": "17890783244088517347"
     },
     "user_tz": -540
    },
    "id": "7nFPEMbFQj_5"
   },
   "outputs": [],
   "source": [
    "from selenium.webdriver.common.by import By\n",
    "from selenium.webdriver.support.ui import WebDriverWait\n",
    "from selenium.webdriver.support import expected_conditions as EC\n",
    "\n",
    "# 'Analytics' 탭 클릭 (버튼의 텍스트로 찾음)\n",
    "try:\n",
    "    analytics_button = WebDriverWait(driver, 10).until(\n",
    "        EC.element_to_be_clickable((By.XPATH, \"//button[contains(text(), 'Analytics')]\"))\n",
    "    )\n",
    "    analytics_button.click()\n",
    "    print(\"✅ 'Analytics' 탭 클릭 완료\")\n",
    "    time.sleep(3)  # 탭 클릭 후 로딩 대기\n",
    "except Exception as e:\n",
    "    print(\"❌ 'Analytics' 탭 클릭 실패:\", e)\n",
    "\n",
    "# BeautifulSoup로 다시 파싱\n",
    "soup = BeautifulSoup(driver.page_source, \"html.parser\")\n",
    "\n",
    "# 'Most liked hashtags' 문구가 포함된 h3 태그 탐색\n",
    "hashtag_heading = soup.find(lambda tag: tag.name == \"h3\" and \"Most liked hashtags\" in tag.get_text())\n",
    "\n",
    "if hashtag_heading:\n",
    "    parent_div = hashtag_heading.find_parent()\n",
    "    print(\"✅ Most liked hashtags 전체 HTML 구조:\")\n",
    "    print(parent_div.prettify())\n",
    "else:\n",
    "    print(\"❌ 여전히 'Most liked hashtags' 섹션을 찾을 수 없습니다.\")\n",
    "\n"
   ]
  },
  {
   "cell_type": "code",
   "execution_count": null,
   "metadata": {
    "executionInfo": {
     "elapsed": 107894,
     "status": "aborted",
     "timestamp": 1748339404991,
     "user": {
      "displayName": "이윤빈",
      "userId": "17890783244088517347"
     },
     "user_tz": -540
    },
    "id": "_wIPX-YoRSv7"
   },
   "outputs": [],
   "source": [
    "# 'Analytics' 탭은 이미 눌렀다고 가정\n",
    "soup = BeautifulSoup(driver.page_source, \"html.parser\")\n",
    "\n",
    "# 1. 'Most liked hashtags' 제목이 있는 h3 태그 찾기\n",
    "hashtag_heading = soup.find(lambda tag: tag.name == \"h3\" and \"Most liked hashtags\" in tag.get_text())\n",
    "\n",
    "# 2. 이 제목에서 시작해서 a.ds-link 태그가 들어있는 전체 섹션 찾기\n",
    "if hashtag_heading:\n",
    "    # h3 기준으로 a 태그가 나올 때까지 부모 구조 탐색\n",
    "    current = hashtag_heading\n",
    "    max_depth = 5  # 너무 멀어지지 않도록 제한\n",
    "    while current and max_depth > 0:\n",
    "        links = current.find_all(\"a\", class_=\"ds-link\")\n",
    "        if links:\n",
    "            print(\"✅ 해시태그 a 태그 포함된 전체 섹션 HTML:\")\n",
    "            print(current.prettify())\n",
    "            break\n",
    "        current = current.parent\n",
    "        max_depth -= 1\n",
    "    else:\n",
    "        print(\"❌ a.ds-link 태그를 포함한 섹션을 찾지 못했습니다.\")\n",
    "else:\n",
    "    print(\"❌ 'Most liked hashtags' 제목이 있는 h3 태그를 찾을 수 없습니다.\")\n"
   ]
  }
 ],
 "metadata": {
  "accelerator": "GPU",
  "colab": {
   "gpuType": "T4",
   "provenance": []
  },
  "kernelspec": {
   "display_name": "Python 3",
   "name": "python3"
  },
  "language_info": {
   "codemirror_mode": {
    "name": "ipython",
    "version": 3
   },
   "file_extension": ".py",
   "mimetype": "text/x-python",
   "name": "python",
   "nbconvert_exporter": "python",
   "pygments_lexer": "ipython3",
   "version": "3.12.0"
  }
 },
 "nbformat": 4,
 "nbformat_minor": 0
}
