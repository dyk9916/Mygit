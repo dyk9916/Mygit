{
 "cells": [
  {
   "cell_type": "code",
   "execution_count": 1,
   "metadata": {},
   "outputs": [],
   "source": [
    "import requests, json\n",
    "from bs4 import BeautifulSoup"
   ]
  },
  {
   "cell_type": "code",
   "execution_count": 2,
   "metadata": {},
   "outputs": [],
   "source": [
    "def food_info(name):\n",
    "    '''\n",
    "    This function gives you food information for the given input.\n",
    "\n",
    "    PARAMETERS\n",
    "        - name(str): name of Korean food in Korean ex) food_info(\"김치찌개\")\n",
    "    RETURN\n",
    "        - res(list): list of dict that containing info for some Korean food related to 'name'\n",
    "            - res['name'](str): name of food\n",
    "            - res['ingredients'](str): ingredients to make the food\n",
    "            - res['recipe'](list[str]): contain recipe in order\n",
    "    '''\n",
    "    url = f\"https://www.10000recipe.com/recipe/list.html?q={name}\"\n",
    "    response = requests.get(url)\n",
    "    if response.status_code == 200:\n",
    "        html = response.text\n",
    "        soup = BeautifulSoup(html, 'html.parser')\n",
    "    else : \n",
    "        print(\"HTTP response error :\", response.status_code)\n",
    "        return\n",
    "    \n",
    "    food_list = soup.find_all(attrs={'class':'common_sp_link'})\n",
    "    food_id = food_list[0]['href'].split('/')[-1]\n",
    "    new_url = f'https://www.10000recipe.com/recipe/{food_id}'\n",
    "    new_response = requests.get(new_url)\n",
    "    if new_response.status_code == 200:\n",
    "        html = new_response.text\n",
    "        soup = BeautifulSoup(html, 'html.parser')\n",
    "    else : \n",
    "        print(\"HTTP response error :\", response.status_code)\n",
    "        return\n",
    "    \n",
    "    food_info = soup.find(attrs={'type':'application/ld+json'})\n",
    "    result = json.loads(food_info.text)\n",
    "    ingredient = ','.join(result['recipeIngredient'])\n",
    "    recipe = [result['recipeInstructions'][i]['text'] for i in range(len(result['recipeInstructions']))]\n",
    "    for i in range(len(recipe)):\n",
    "        recipe[i] = f'{i+1}. ' + recipe[i]\n",
    "    \n",
    "    res = {\n",
    "        'name': name,\n",
    "        'ingredients': ingredient,\n",
    "        'recipe': recipe\n",
    "    }\n",
    "\n",
    "    return res"
   ]
  },
  {
   "cell_type": "code",
   "execution_count": 5,
   "metadata": {},
   "outputs": [
    {
     "data": {
      "text/plain": [
       "{'name': '김치전',\n",
       " 'ingredients': '김치 2컵,부침가루 1컵,김치국물 1/3컵,물 2/3컵,다진마늘 1/2스푼',\n",
       " 'recipe': ['1. 먼저 김치는 볼에 넣어 가위를 이용해 쫑쫑 잘게 썰어서 준비합니다 \\u200b 방송에서는 줄기부분이 아삭해서 줄기부분 위주로 쓴다고 하는데 저는 그냥 섞어서 사용했어요',\n",
       "  '2. 그리고 부침가루 1컵 가득 넣고 김치국물 1/3컵 정도 넣어주고 다진마늘 반스푼도 넣어줍니다 \\u200b 수미네반찬 포인트는 바로 다진마늘! 다진마늘 넣으니까 뭔가 감칠맛이 더 나는것 같았어요',\n",
       "  '3. 물도 2/3컵 넣어주는데요 물은 넣어가며 반죽의 농도를 맞춰주면 되요 반죽이 너무 되다면 물을 살짝 추가해줍니다 물 넣고 쉐킷쉐킷 잘 섞어주세요',\n",
       "  '4. 기름두른 팬에 반죽을 올려 동그랗게 모양을 잡아줘 앞뒤로 노릇하게 구워줍니다',\n",
       "  '5. 접시에 예쁘게 담아주니 먹음직스러운 김치전 만들기 완성♥ \\u200b']}"
      ]
     },
     "execution_count": 5,
     "metadata": {},
     "output_type": "execute_result"
    }
   ],
   "source": [
    "food_info(\"김치전\")"
   ]
  },
  {
   "cell_type": "code",
   "execution_count": 6,
   "metadata": {},
   "outputs": [
    {
     "data": {
      "text/html": [
       "<div>\n",
       "<style scoped>\n",
       "    .dataframe tbody tr th:only-of-type {\n",
       "        vertical-align: middle;\n",
       "    }\n",
       "\n",
       "    .dataframe tbody tr th {\n",
       "        vertical-align: top;\n",
       "    }\n",
       "\n",
       "    .dataframe thead th {\n",
       "        text-align: right;\n",
       "    }\n",
       "</style>\n",
       "<table border=\"1\" class=\"dataframe\">\n",
       "  <thead>\n",
       "    <tr style=\"text-align: right;\">\n",
       "      <th></th>\n",
       "      <th>name</th>\n",
       "      <th>ingredients</th>\n",
       "      <th>recipe</th>\n",
       "    </tr>\n",
       "  </thead>\n",
       "  <tbody>\n",
       "    <tr>\n",
       "      <th>0</th>\n",
       "      <td>김치전</td>\n",
       "      <td>김치 2컵,부침가루 1컵,김치국물 1/3컵,물 2/3컵,다진마늘 1/2스푼</td>\n",
       "      <td>[1. 먼저 김치는 볼에 넣어 가위를 이용해 쫑쫑 잘게 썰어서 준비합니다 ​ 방송에...</td>\n",
       "    </tr>\n",
       "    <tr>\n",
       "      <th>1</th>\n",
       "      <td>비빔밥</td>\n",
       "      <td>돼지고기 100g,애호박 1/5개,양파 1/2개,당근 1/3개,고추장 2T,간장 2...</td>\n",
       "      <td>[1. 양파, 당근, 애호박을 채썰어서  준비합니다., 2. 비빔밥에 비벼먹을 양념...</td>\n",
       "    </tr>\n",
       "    <tr>\n",
       "      <th>2</th>\n",
       "      <td>불고기</td>\n",
       "      <td>소불고기 400g,식용유 약간,물 1/4cup,후추 약간,송송 썬 쪽파 1대,간장 ...</td>\n",
       "      <td>[1. 불고기는 먹기 좋은 크기로 썬다., 2. 양념장을 만든다., 3. 불고기에 ...</td>\n",
       "    </tr>\n",
       "  </tbody>\n",
       "</table>\n",
       "</div>"
      ],
      "text/plain": [
       "  name                                        ingredients  \\\n",
       "0  김치전          김치 2컵,부침가루 1컵,김치국물 1/3컵,물 2/3컵,다진마늘 1/2스푼   \n",
       "1  비빔밥  돼지고기 100g,애호박 1/5개,양파 1/2개,당근 1/3개,고추장 2T,간장 2...   \n",
       "2  불고기  소불고기 400g,식용유 약간,물 1/4cup,후추 약간,송송 썬 쪽파 1대,간장 ...   \n",
       "\n",
       "                                              recipe  \n",
       "0  [1. 먼저 김치는 볼에 넣어 가위를 이용해 쫑쫑 잘게 썰어서 준비합니다 ​ 방송에...  \n",
       "1  [1. 양파, 당근, 애호박을 채썰어서  준비합니다., 2. 비빔밥에 비벼먹을 양념...  \n",
       "2  [1. 불고기는 먹기 좋은 크기로 썬다., 2. 양념장을 만든다., 3. 불고기에 ...  "
      ]
     },
     "execution_count": 6,
     "metadata": {},
     "output_type": "execute_result"
    }
   ],
   "source": [
    "import pandas as pd \n",
    "\n",
    "# Create an empty list to store the results\n",
    "food_data = []\n",
    "\n",
    "# List of food names to get information for\n",
    "food_names = [\"김치전\", \"비빔밥\", \"불고기\", \"\"]\n",
    "\n",
    "# Loop through each food name, get the information and append to the list\n",
    "for name in food_names:\n",
    "  info = food_info(name)\n",
    "  if info:\n",
    "    food_data.append(info)\n",
    "\n",
    "# Convert the list of dictionaries to a DataFrame\n",
    "df_food = pd.DataFrame(food_data)\n",
    "\n",
    "# Display the DataFrame\n",
    "df_food"
   ]
  },
  {
   "cell_type": "code",
   "execution_count": null,
   "metadata": {},
   "outputs": [],
   "source": []
  },
  {
   "cell_type": "code",
   "execution_count": null,
   "metadata": {},
   "outputs": [],
   "source": []
  },
  {
   "cell_type": "code",
   "execution_count": null,
   "metadata": {},
   "outputs": [],
   "source": []
  }
 ],
 "metadata": {
  "kernelspec": {
   "display_name": "Python 3",
   "language": "python",
   "name": "python3"
  },
  "language_info": {
   "codemirror_mode": {
    "name": "ipython",
    "version": 3
   },
   "file_extension": ".py",
   "mimetype": "text/x-python",
   "name": "python",
   "nbconvert_exporter": "python",
   "pygments_lexer": "ipython3",
   "version": "3.12.0"
  }
 },
 "nbformat": 4,
 "nbformat_minor": 2
}
