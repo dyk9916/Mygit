{
 "cells": [
  {
   "cell_type": "markdown",
   "id": "794635f2",
   "metadata": {},
   "source": [
    "### 선형 회귀: 당뇨병 예제"
   ]
  },
  {
   "cell_type": "code",
   "execution_count": 1,
   "id": "4c55aa11",
   "metadata": {},
   "outputs": [],
   "source": [
    "from sklearn.datasets import load_diabetes\n",
    "from sklearn.linear_model import LinearRegression\n",
    "import matplotlib.pyplot as plt"
   ]
  },
  {
   "cell_type": "code",
   "execution_count": 2,
   "id": "980cecef",
   "metadata": {},
   "outputs": [
    {
     "name": "stdout",
     "output_type": "stream",
     "text": [
      ".. _diabetes_dataset:\n",
      "\n",
      "Diabetes dataset\n",
      "----------------\n",
      "\n",
      "Ten baseline variables, age, sex, body mass index, average blood\n",
      "pressure, and six blood serum measurements were obtained for each of n =\n",
      "442 diabetes patients, as well as the response of interest, a\n",
      "quantitative measure of disease progression one year after baseline.\n",
      "\n",
      "**Data Set Characteristics:**\n",
      "\n",
      "  :Number of Instances: 442\n",
      "\n",
      "  :Number of Attributes: First 10 columns are numeric predictive values\n",
      "\n",
      "  :Target: Column 11 is a quantitative measure of disease progression one year after baseline\n",
      "\n",
      "  :Attribute Information:\n",
      "      - age     age in years\n",
      "      - sex\n",
      "      - bmi     body mass index\n",
      "      - bp      average blood pressure\n",
      "      - s1      tc, total serum cholesterol\n",
      "      - s2      ldl, low-density lipoproteins\n",
      "      - s3      hdl, high-density lipoproteins\n",
      "      - s4      tch, total cholesterol / HDL\n",
      "      - s5      ltg, possibly log of serum triglycerides level\n",
      "      - s6      glu, blood sugar level\n",
      "\n",
      "Note: Each of these 10 feature variables have been mean centered and scaled by the standard deviation times the square root of `n_samples` (i.e. the sum of squares of each column totals 1).\n",
      "\n",
      "Source URL:\n",
      "https://www4.stat.ncsu.edu/~boos/var.select/diabetes.html\n",
      "\n",
      "For more information see:\n",
      "Bradley Efron, Trevor Hastie, Iain Johnstone and Robert Tibshirani (2004) \"Least Angle Regression,\" Annals of Statistics (with discussion), 407-499.\n",
      "(https://web.stanford.edu/~hastie/Papers/LARS/LeastAngle_2002.pdf)\n",
      "\n"
     ]
    }
   ],
   "source": [
    "# 데이터셋 로드\n",
    "diabetes = load_diabetes()\n",
    "print(diabetes.DESCR)"
   ]
  },
  {
   "cell_type": "code",
   "execution_count": 3,
   "id": "11c41b3a",
   "metadata": {},
   "outputs": [],
   "source": [
    "X = diabetes.data"
   ]
  },
  {
   "cell_type": "code",
   "execution_count": 4,
   "id": "4a6de024",
   "metadata": {},
   "outputs": [
    {
     "data": {
      "text/plain": [
       "array([[ 0.03807591,  0.05068012,  0.06169621, ..., -0.00259226,\n",
       "         0.01990749, -0.01764613],\n",
       "       [-0.00188202, -0.04464164, -0.05147406, ..., -0.03949338,\n",
       "        -0.06833155, -0.09220405],\n",
       "       [ 0.08529891,  0.05068012,  0.04445121, ..., -0.00259226,\n",
       "         0.00286131, -0.02593034],\n",
       "       ...,\n",
       "       [ 0.04170844,  0.05068012, -0.01590626, ..., -0.01107952,\n",
       "        -0.04688253,  0.01549073],\n",
       "       [-0.04547248, -0.04464164,  0.03906215, ...,  0.02655962,\n",
       "         0.04452873, -0.02593034],\n",
       "       [-0.04547248, -0.04464164, -0.0730303 , ..., -0.03949338,\n",
       "        -0.00422151,  0.00306441]])"
      ]
     },
     "execution_count": 4,
     "metadata": {},
     "output_type": "execute_result"
    }
   ],
   "source": [
    "X"
   ]
  },
  {
   "cell_type": "code",
   "execution_count": 5,
   "id": "bd43b204",
   "metadata": {},
   "outputs": [],
   "source": [
    "# 데이터셋 혈당 데이터 추출\n",
    "# 혈당 데이터는 2번째 열에 위치\n",
    "# 2번째 열은 0부터 시작하므로 2번째 열은 인덱스 3에 해당\n",
    "# reshape 함수는 1차원 배열을 2차원 배열로 변환\n",
    "X = diabetes.data[:, 2].reshape(-1, 1)  \n",
    "y = diabetes.target  # Sugar level"
   ]
  },
  {
   "cell_type": "code",
   "execution_count": 6,
   "id": "045469d8",
   "metadata": {},
   "outputs": [
    {
     "data": {
      "text/plain": [
       "array([151.,  75., 141., 206., 135.,  97., 138.,  63., 110., 310., 101.,\n",
       "        69., 179., 185., 118., 171., 166., 144.,  97., 168.,  68.,  49.,\n",
       "        68., 245., 184., 202., 137.,  85., 131., 283., 129.,  59., 341.,\n",
       "        87.,  65., 102., 265., 276., 252.,  90., 100.,  55.,  61.,  92.,\n",
       "       259.,  53., 190., 142.,  75., 142., 155., 225.,  59., 104., 182.,\n",
       "       128.,  52.,  37., 170., 170.,  61., 144.,  52., 128.,  71., 163.,\n",
       "       150.,  97., 160., 178.,  48., 270., 202., 111.,  85.,  42., 170.,\n",
       "       200., 252., 113., 143.,  51.,  52., 210.,  65., 141.,  55., 134.,\n",
       "        42., 111.,  98., 164.,  48.,  96.,  90., 162., 150., 279.,  92.,\n",
       "        83., 128., 102., 302., 198.,  95.,  53., 134., 144., 232.,  81.,\n",
       "       104.,  59., 246., 297., 258., 229., 275., 281., 179., 200., 200.,\n",
       "       173., 180.,  84., 121., 161.,  99., 109., 115., 268., 274., 158.,\n",
       "       107.,  83., 103., 272.,  85., 280., 336., 281., 118., 317., 235.,\n",
       "        60., 174., 259., 178., 128.,  96., 126., 288.,  88., 292.,  71.,\n",
       "       197., 186.,  25.,  84.,  96., 195.,  53., 217., 172., 131., 214.,\n",
       "        59.,  70., 220., 268., 152.,  47.,  74., 295., 101., 151., 127.,\n",
       "       237., 225.,  81., 151., 107.,  64., 138., 185., 265., 101., 137.,\n",
       "       143., 141.,  79., 292., 178.,  91., 116.,  86., 122.,  72., 129.,\n",
       "       142.,  90., 158.,  39., 196., 222., 277.,  99., 196., 202., 155.,\n",
       "        77., 191.,  70.,  73.,  49.,  65., 263., 248., 296., 214., 185.,\n",
       "        78.,  93., 252., 150.,  77., 208.,  77., 108., 160.,  53., 220.,\n",
       "       154., 259.,  90., 246., 124.,  67.,  72., 257., 262., 275., 177.,\n",
       "        71.,  47., 187., 125.,  78.,  51., 258., 215., 303., 243.,  91.,\n",
       "       150., 310., 153., 346.,  63.,  89.,  50.,  39., 103., 308., 116.,\n",
       "       145.,  74.,  45., 115., 264.,  87., 202., 127., 182., 241.,  66.,\n",
       "        94., 283.,  64., 102., 200., 265.,  94., 230., 181., 156., 233.,\n",
       "        60., 219.,  80.,  68., 332., 248.,  84., 200.,  55.,  85.,  89.,\n",
       "        31., 129.,  83., 275.,  65., 198., 236., 253., 124.,  44., 172.,\n",
       "       114., 142., 109., 180., 144., 163., 147.,  97., 220., 190., 109.,\n",
       "       191., 122., 230., 242., 248., 249., 192., 131., 237.,  78., 135.,\n",
       "       244., 199., 270., 164.,  72.,  96., 306.,  91., 214.,  95., 216.,\n",
       "       263., 178., 113., 200., 139., 139.,  88., 148.,  88., 243.,  71.,\n",
       "        77., 109., 272.,  60.,  54., 221.,  90., 311., 281., 182., 321.,\n",
       "        58., 262., 206., 233., 242., 123., 167.,  63., 197.,  71., 168.,\n",
       "       140., 217., 121., 235., 245.,  40.,  52., 104., 132.,  88.,  69.,\n",
       "       219.,  72., 201., 110.,  51., 277.,  63., 118.,  69., 273., 258.,\n",
       "        43., 198., 242., 232., 175.,  93., 168., 275., 293., 281.,  72.,\n",
       "       140., 189., 181., 209., 136., 261., 113., 131., 174., 257.,  55.,\n",
       "        84.,  42., 146., 212., 233.,  91., 111., 152., 120.,  67., 310.,\n",
       "        94., 183.,  66., 173.,  72.,  49.,  64.,  48., 178., 104., 132.,\n",
       "       220.,  57.])"
      ]
     },
     "execution_count": 6,
     "metadata": {},
     "output_type": "execute_result"
    }
   ],
   "source": [
    "y"
   ]
  },
  {
   "cell_type": "code",
   "execution_count": 7,
   "id": "aa003a5a",
   "metadata": {},
   "outputs": [],
   "source": [
    "y = diabetes.target.reshape(-1, 1)  # reshape 함수를 사용해 1차원 배열을 2차원 배열로 변환"
   ]
  },
  {
   "cell_type": "code",
   "execution_count": 8,
   "id": "5f83e675",
   "metadata": {},
   "outputs": [
    {
     "data": {
      "text/html": [
       "<style>#sk-container-id-1 {color: black;}#sk-container-id-1 pre{padding: 0;}#sk-container-id-1 div.sk-toggleable {background-color: white;}#sk-container-id-1 label.sk-toggleable__label {cursor: pointer;display: block;width: 100%;margin-bottom: 0;padding: 0.3em;box-sizing: border-box;text-align: center;}#sk-container-id-1 label.sk-toggleable__label-arrow:before {content: \"▸\";float: left;margin-right: 0.25em;color: #696969;}#sk-container-id-1 label.sk-toggleable__label-arrow:hover:before {color: black;}#sk-container-id-1 div.sk-estimator:hover label.sk-toggleable__label-arrow:before {color: black;}#sk-container-id-1 div.sk-toggleable__content {max-height: 0;max-width: 0;overflow: hidden;text-align: left;background-color: #f0f8ff;}#sk-container-id-1 div.sk-toggleable__content pre {margin: 0.2em;color: black;border-radius: 0.25em;background-color: #f0f8ff;}#sk-container-id-1 input.sk-toggleable__control:checked~div.sk-toggleable__content {max-height: 200px;max-width: 100%;overflow: auto;}#sk-container-id-1 input.sk-toggleable__control:checked~label.sk-toggleable__label-arrow:before {content: \"▾\";}#sk-container-id-1 div.sk-estimator input.sk-toggleable__control:checked~label.sk-toggleable__label {background-color: #d4ebff;}#sk-container-id-1 div.sk-label input.sk-toggleable__control:checked~label.sk-toggleable__label {background-color: #d4ebff;}#sk-container-id-1 input.sk-hidden--visually {border: 0;clip: rect(1px 1px 1px 1px);clip: rect(1px, 1px, 1px, 1px);height: 1px;margin: -1px;overflow: hidden;padding: 0;position: absolute;width: 1px;}#sk-container-id-1 div.sk-estimator {font-family: monospace;background-color: #f0f8ff;border: 1px dotted black;border-radius: 0.25em;box-sizing: border-box;margin-bottom: 0.5em;}#sk-container-id-1 div.sk-estimator:hover {background-color: #d4ebff;}#sk-container-id-1 div.sk-parallel-item::after {content: \"\";width: 100%;border-bottom: 1px solid gray;flex-grow: 1;}#sk-container-id-1 div.sk-label:hover label.sk-toggleable__label {background-color: #d4ebff;}#sk-container-id-1 div.sk-serial::before {content: \"\";position: absolute;border-left: 1px solid gray;box-sizing: border-box;top: 0;bottom: 0;left: 50%;z-index: 0;}#sk-container-id-1 div.sk-serial {display: flex;flex-direction: column;align-items: center;background-color: white;padding-right: 0.2em;padding-left: 0.2em;position: relative;}#sk-container-id-1 div.sk-item {position: relative;z-index: 1;}#sk-container-id-1 div.sk-parallel {display: flex;align-items: stretch;justify-content: center;background-color: white;position: relative;}#sk-container-id-1 div.sk-item::before, #sk-container-id-1 div.sk-parallel-item::before {content: \"\";position: absolute;border-left: 1px solid gray;box-sizing: border-box;top: 0;bottom: 0;left: 50%;z-index: -1;}#sk-container-id-1 div.sk-parallel-item {display: flex;flex-direction: column;z-index: 1;position: relative;background-color: white;}#sk-container-id-1 div.sk-parallel-item:first-child::after {align-self: flex-end;width: 50%;}#sk-container-id-1 div.sk-parallel-item:last-child::after {align-self: flex-start;width: 50%;}#sk-container-id-1 div.sk-parallel-item:only-child::after {width: 0;}#sk-container-id-1 div.sk-dashed-wrapped {border: 1px dashed gray;margin: 0 0.4em 0.5em 0.4em;box-sizing: border-box;padding-bottom: 0.4em;background-color: white;}#sk-container-id-1 div.sk-label label {font-family: monospace;font-weight: bold;display: inline-block;line-height: 1.2em;}#sk-container-id-1 div.sk-label-container {text-align: center;}#sk-container-id-1 div.sk-container {/* jupyter's `normalize.less` sets `[hidden] { display: none; }` but bootstrap.min.css set `[hidden] { display: none !important; }` so we also need the `!important` here to be able to override the default hidden behavior on the sphinx rendered scikit-learn.org. See: https://github.com/scikit-learn/scikit-learn/issues/21755 */display: inline-block !important;position: relative;}#sk-container-id-1 div.sk-text-repr-fallback {display: none;}</style><div id=\"sk-container-id-1\" class=\"sk-top-container\"><div class=\"sk-text-repr-fallback\"><pre>LinearRegression()</pre><b>In a Jupyter environment, please rerun this cell to show the HTML representation or trust the notebook. <br />On GitHub, the HTML representation is unable to render, please try loading this page with nbviewer.org.</b></div><div class=\"sk-container\" hidden><div class=\"sk-item\"><div class=\"sk-estimator sk-toggleable\"><input class=\"sk-toggleable__control sk-hidden--visually\" id=\"sk-estimator-id-1\" type=\"checkbox\" checked><label for=\"sk-estimator-id-1\" class=\"sk-toggleable__label sk-toggleable__label-arrow\">LinearRegression</label><div class=\"sk-toggleable__content\"><pre>LinearRegression()</pre></div></div></div></div></div>"
      ],
      "text/plain": [
       "LinearRegression()"
      ]
     },
     "execution_count": 8,
     "metadata": {},
     "output_type": "execute_result"
    }
   ],
   "source": [
    "# 선형 회귀 모델 생성 및 학습\n",
    "model = LinearRegression()\n",
    "model.fit(X, y)"
   ]
  },
  {
   "cell_type": "code",
   "execution_count": 9,
   "id": "413920ec",
   "metadata": {},
   "outputs": [
    {
     "data": {
      "image/png": "[encoded data removed]",
      "text/plain": [
       "<Figure size 640x480 with 1 Axes>"
      ]
     },
     "metadata": {},
     "output_type": "display_data"
    }
   ],
   "source": [
    "# 회귀선 그리기\n",
    "y_pred = model.predict(X) # 예측값\n",
    "plt.scatter(X,y, alpha=0.5)\n",
    "plt.plot(X,y_pred, color='red')\n",
    "plt.title('BMI vs. Sugar')\n",
    "plt.xlabel('BMI')\n",
    "plt.ylabel('Sugar')\n",
    "plt.show()"
   ]
  },
  {
   "cell_type": "code",
   "execution_count": 10,
   "id": "e0679500",
   "metadata": {},
   "outputs": [
    {
     "data": {
      "image/png": "[encoded data removed]",
      "text/plain": [
       "<Figure size 640x480 with 1 Axes>"
      ]
     },
     "metadata": {},
     "output_type": "display_data"
    }
   ],
   "source": [
    "from sklearn.model_selection import train_test_split\n",
    "# 데이터셋을 훈련 세트와 테스트 세트로 분할\n",
    "X_train, X_test, y_train, y_test = train_test_split(X, y, test_size=0.2, random_state=42)\n",
    "# 모델을 훈련 세트로 학습\n",
    "model.fit(X_train, y_train)\n",
    "\n",
    "y_pred = model.predict(X_test)  # 테스트 세트에 대한 예측값\n",
    "\n",
    "plt.scatter(X_test, y_test, alpha=0.5, label='Actual') # 실제 값\n",
    "plt.scatter(X_test, y_pred, color='red', label='Predicted') # 예측 값\n",
    "plt.show()"
   ]
  },
  {
   "cell_type": "markdown",
   "id": "31a70d60",
   "metadata": {},
   "source": [
    "### K-NN: Iris "
   ]
  },
  {
   "cell_type": "code",
   "execution_count": 11,
   "id": "6fb5ea66",
   "metadata": {},
   "outputs": [],
   "source": [
    "from sklearn.datasets import load_iris\n",
    "\n",
    "# Iris 데이터셋 로드\n",
    "iris = load_iris()"
   ]
  },
  {
   "cell_type": "code",
   "execution_count": 12,
   "id": "3b8dd071",
   "metadata": {},
   "outputs": [
    {
     "name": "stdout",
     "output_type": "stream",
     "text": [
      "(120, 4)\n",
      "(30, 4)\n"
     ]
    }
   ],
   "source": [
    "from sklearn.model_selection import train_test_split\n",
    "\n",
    "# 입력과 출력을 설정한다. \n",
    "X = iris.data\n",
    "y = iris.target\n",
    "\n",
    "# 전체 데이터를 학습 데이터와 테스트 데이터 비율 (80:20)으로 분할한다. \n",
    "X_train,X_test,y_train,y_test = train_test_split(X,y,test_size=0.2,random_state=4)\n",
    "print(X_train.shape)\n",
    "print(X_test.shape)"
   ]
  },
  {
   "cell_type": "code",
   "execution_count": 13,
   "id": "6c743e09",
   "metadata": {},
   "outputs": [
    {
     "name": "stdout",
     "output_type": "stream",
     "text": [
      "(120, 4)\n"
     ]
    }
   ],
   "source": [
    "X_train, X_test, y_train, y_test = train_test_split(X, y, test_size=0.2, random_state=42)\n",
    "print(X_train.shape)"
   ]
  },
  {
   "cell_type": "code",
   "execution_count": 14,
   "id": "87363744",
   "metadata": {},
   "outputs": [
    {
     "name": "stdout",
     "output_type": "stream",
     "text": [
      "1.0\n"
     ]
    }
   ],
   "source": [
    "from sklearn.neighbors import KNeighborsClassifier\n",
    "from sklearn import metrics\n",
    "\n",
    "# 학습 단계\n",
    "knn = KNeighborsClassifier(n_neighbors=6)\n",
    "knn.fit(X_train, y_train)\n",
    "\n",
    "# 테스트 단계\n",
    "y_pred = knn.predict(X_test)\n",
    "\n",
    "# 정확도 점수 출력\n",
    "scores = metrics.accuracy_score(y_test, y_pred)\n",
    "print(scores)"
   ]
  },
  {
   "cell_type": "code",
   "execution_count": 15,
   "id": "81f6f274",
   "metadata": {},
   "outputs": [
    {
     "name": "stdout",
     "output_type": "stream",
     "text": [
      "versicolor\n",
      "setosa\n"
     ]
    }
   ],
   "source": [
    "# 새로운 데이터 제시\n",
    "#0 = setosa, 1=versicolor, 2=virginica\n",
    "classes = {0:'setosa',1:'versicolor',2:'virginica'}\n",
    "\n",
    "# 아직 보지 못한 새로운 데이터를 제시해보자. \n",
    "x_new = [[3,4,5,2],\n",
    "         [5,4,2,2]] # 2개의 새로운 데이터\n",
    "y_predict = knn.predict(x_new)\n",
    "\n",
    "print(classes[y_predict[0]])\n",
    "print(classes[y_predict[1]])"
   ]
  },
  {
   "cell_type": "markdown",
   "id": "08166d6c",
   "metadata": {},
   "source": [
    "### SVM, SVC: Iris"
   ]
  },
  {
   "cell_type": "code",
   "execution_count": 16,
   "id": "d5b4830e",
   "metadata": {},
   "outputs": [
    {
     "name": "stdout",
     "output_type": "stream",
     "text": [
      "1.0\n"
     ]
    }
   ],
   "source": [
    "from sklearn import svm\n",
    "from sklearn import metrics\n",
    "\n",
    "svc = svm.SVC(gamma=0.1, C=5) \n",
    "\n",
    "svc.fit(X_train, y_train)\n",
    "\n",
    "y_pred = svc.predict(X_test)\n",
    "\n",
    "# 정확도 점수 출력\n",
    "scores = metrics.accuracy_score(y_test, y_pred)\n",
    "print(scores)"
   ]
  },
  {
   "cell_type": "code",
   "execution_count": 17,
   "id": "4b1fa6ee",
   "metadata": {},
   "outputs": [
    {
     "name": "stdout",
     "output_type": "stream",
     "text": [
      "virginica\n",
      "setosa\n"
     ]
    }
   ],
   "source": [
    "# 새로운 데이터 제시\n",
    "x_new = [[3,4,5,2],\n",
    "         [5,4,2,2]] # 2개의 새로운 데이터\n",
    "y_predict = svc.predict(x_new)\n",
    "\n",
    "print(classes[y_predict[0]])\n",
    "print(classes[y_predict[1]])"
   ]
  },
  {
   "cell_type": "markdown",
   "id": "9c1b1ce6",
   "metadata": {},
   "source": [
    "### Decision Tree: Iris"
   ]
  },
  {
   "cell_type": "code",
   "execution_count": 18,
   "id": "2564bc76",
   "metadata": {},
   "outputs": [],
   "source": [
    "from sklearn import datasets\n",
    "from sklearn.metrics import accuracy_score\n",
    "from sklearn.model_selection import train_test_split\n",
    "from sklearn.tree import DecisionTreeClassifier\n",
    "\n",
    "iris = datasets.load_iris()\n",
    "X, y = iris.data, iris.target"
   ]
  },
  {
   "cell_type": "code",
   "execution_count": 19,
   "id": "95ce2faf",
   "metadata": {},
   "outputs": [
    {
     "name": "stdout",
     "output_type": "stream",
     "text": [
      "학습 데이터 정확도: 1.0\n",
      "테스트 데이터 정확도: 0.9666666666666667\n"
     ]
    },
    {
     "data": {
      "text/plain": [
       "[Text(0.4, 0.9166666666666666, 'x[3] <= 0.8\\ngini = 0.666\\nsamples = 120\\nvalue = [41, 38, 41]'),\n",
       " Text(0.3, 0.75, 'gini = 0.0\\nsamples = 41\\nvalue = [41, 0, 0]'),\n",
       " Text(0.5, 0.75, 'x[3] <= 1.65\\ngini = 0.499\\nsamples = 79\\nvalue = [0, 38, 41]'),\n",
       " Text(0.2, 0.5833333333333334, 'x[2] <= 4.95\\ngini = 0.176\\nsamples = 41\\nvalue = [0, 37, 4]'),\n",
       " Text(0.1, 0.4166666666666667, 'gini = 0.0\\nsamples = 36\\nvalue = [0, 36, 0]'),\n",
       " Text(0.3, 0.4166666666666667, 'x[3] <= 1.55\\ngini = 0.32\\nsamples = 5\\nvalue = [0, 1, 4]'),\n",
       " Text(0.2, 0.25, 'gini = 0.0\\nsamples = 3\\nvalue = [0, 0, 3]'),\n",
       " Text(0.4, 0.25, 'x[2] <= 5.45\\ngini = 0.5\\nsamples = 2\\nvalue = [0, 1, 1]'),\n",
       " Text(0.3, 0.08333333333333333, 'gini = 0.0\\nsamples = 1\\nvalue = [0, 1, 0]'),\n",
       " Text(0.5, 0.08333333333333333, 'gini = 0.0\\nsamples = 1\\nvalue = [0, 0, 1]'),\n",
       " Text(0.8, 0.5833333333333334, 'x[2] <= 4.85\\ngini = 0.051\\nsamples = 38\\nvalue = [0, 1, 37]'),\n",
       " Text(0.7, 0.4166666666666667, 'x[1] <= 3.1\\ngini = 0.375\\nsamples = 4\\nvalue = [0, 1, 3]'),\n",
       " Text(0.6, 0.25, 'gini = 0.0\\nsamples = 3\\nvalue = [0, 0, 3]'),\n",
       " Text(0.8, 0.25, 'gini = 0.0\\nsamples = 1\\nvalue = [0, 1, 0]'),\n",
       " Text(0.9, 0.4166666666666667, 'gini = 0.0\\nsamples = 34\\nvalue = [0, 0, 34]')]"
      ]
     },
     "execution_count": 19,
     "metadata": {},
     "output_type": "execute_result"
    },
    {
     "data": {
      "image/png": "[encoded data removed]",
      "text/plain": [
       "<Figure size 640x480 with 1 Axes>"
      ]
     },
     "metadata": {},
     "output_type": "display_data"
    }
   ],
   "source": [
    "X_train, X_test, y_train, y_test = train_test_split(X,y, random_state = 50, test_size = 0.20)\n",
    "\n",
    "clf = DecisionTreeClassifier()\n",
    "clf.fit(X_train,y_train)\n",
    "\n",
    "y_pred = clf.predict(X_train)\n",
    "print(\"학습 데이터 정확도:\", accuracy_score(y_true = y_train, y_pred = y_pred))\n",
    "\n",
    "y_pred = clf.predict(X_test)\n",
    "print(\"테스트 데이터 정확도:\", accuracy_score(y_true = y_test, y_pred=y_pred))\n",
    "\n",
    "from sklearn.tree import plot_tree\n",
    "plot_tree(clf)"
   ]
  },
  {
   "cell_type": "markdown",
   "id": "3bc609bc",
   "metadata": {},
   "source": [
    "### K-Means Clustering"
   ]
  },
  {
   "cell_type": "code",
   "execution_count": 20,
   "id": "5c5020d0",
   "metadata": {},
   "outputs": [
    {
     "name": "stderr",
     "output_type": "stream",
     "text": [
      "c:\\Users\\KimDongyoung\\AppData\\Local\\Programs\\Python\\Python312\\Lib\\site-packages\\sklearn\\cluster\\_kmeans.py:1416: FutureWarning: The default value of `n_init` will change from 10 to 'auto' in 1.4. Set the value of `n_init` explicitly to suppress the warning\n",
      "  super()._check_params_vs_input(X, default_n_init=10)\n"
     ]
    },
    {
     "name": "stdout",
     "output_type": "stream",
     "text": [
      "[[16.66666667 15.83333333]\n",
      " [72.16666667 75.66666667]]\n",
      "[0 0 0 0 0 0 1 1 1 1 1 1]\n"
     ]
    },
    {
     "data": {
      "image/png": "[encoded data removed]",
      "text/plain": [
       "<Figure size 640x480 with 1 Axes>"
      ]
     },
     "metadata": {},
     "output_type": "display_data"
    }
   ],
   "source": [
    "from sklearn.cluster import KMeans\n",
    "import numpy as np\n",
    "\n",
    "# X는 2차원 배열로, 각 행은 데이터 포인트를 나타냄\n",
    "X = np.array([\n",
    "     [6,3], [11,15], [17,12], [24,10], [20,25], [22,30],\n",
    "     [85,70], [71,81], [60,79], [56,52], [81,91], [80,81]])\n",
    "\n",
    "# X[:,0]: X의 모든 행에서 첫 번째 열, X[:,1]: X의 모든 행에서 두 번째 열\n",
    "plt.scatter(X[:,0],X[:,1])\n",
    "\n",
    "kmeans = KMeans(n_clusters=2)\n",
    "kmeans.fit(X)\n",
    "\n",
    "# 각 클러스터의 중심 좌표\n",
    "print(kmeans.cluster_centers_)\n",
    "\n",
    "# 각 데이터 포인트가 속한 클러스터 레이블\n",
    "print(kmeans.labels_)\n",
    "\n",
    "plt.scatter(X[:,0],X[:,1], c=kmeans.labels_, cmap='rainbow')\n",
    "plt.show()"
   ]
  },
  {
   "cell_type": "code",
   "execution_count": 21,
   "id": "0bb625a4",
   "metadata": {},
   "outputs": [
    {
     "data": {
      "text/plain": [
       "<matplotlib.collections.PathCollection at 0x254d908c530>"
      ]
     },
     "execution_count": 21,
     "metadata": {},
     "output_type": "execute_result"
    },
    {
     "data": {
      "image/png": "[encoded data removed]",
      "text/plain": [
       "<Figure size 640x480 with 1 Axes>"
      ]
     },
     "metadata": {},
     "output_type": "display_data"
    }
   ],
   "source": [
    "import matplotlib.pyplot as plt\n",
    "import seaborn as sns\n",
    "from sklearn.cluster import KMeans\n",
    "from sklearn.datasets import make_blobs\n",
    "\n",
    "X, y_true = make_blobs(n_samples=300, centers=4,\n",
    "                       cluster_std=0.60, random_state=0)\n",
    "\n",
    "plt.scatter(X[:, 0], X[:, 1], s=50)\n"
   ]
  },
  {
   "cell_type": "code",
   "execution_count": 22,
   "id": "072cc7f7",
   "metadata": {},
   "outputs": [
    {
     "name": "stdout",
     "output_type": "stream",
     "text": [
      "[3 1 0 1 3 3 2 0 1 1 2 1 0 1 3 0 0 3 2 2 3 3 0 2 2 0 3 0 2 0 1 1 0 1 1 1 1\n",
      " 1 2 3 0 2 0 0 2 2 1 2 1 3 2 3 1 3 3 2 1 2 1 3 1 0 1 2 2 2 1 3 1 2 0 2 1 2\n",
      " 2 1 2 0 3 1 3 0 3 3 1 0 3 0 1 1 0 3 1 2 2 0 3 3 0 2 1 3 1 3 0 3 3 0 1 0 2\n",
      " 2 3 1 3 0 1 3 3 0 2 3 2 3 3 3 3 2 3 2 1 2 2 3 1 2 2 1 0 1 1 2 0 2 0 2 1 0\n",
      " 1 1 1 0 1 0 3 2 1 2 3 0 1 0 0 3 0 2 2 0 3 0 0 1 3 0 2 1 3 3 0 2 3 0 2 2 0\n",
      " 0 0 0 3 1 0 2 0 0 2 2 2 0 2 1 0 2 3 2 0 1 2 1 0 1 0 2 0 0 1 2 2 3 3 0 1 3\n",
      " 3 2 3 2 0 1 1 0 0 1 0 3 2 0 3 2 1 2 3 0 3 1 1 1 1 2 2 1 0 2 3 0 2 2 2 3 3\n",
      " 1 0 0 2 3 1 2 0 1 0 3 3 2 2 0 3 3 3 0 1 1 3 3 0 3 3 3 1 2 1 0 3 3 1 1 1 3\n",
      " 3 0 1 2]\n"
     ]
    },
    {
     "name": "stderr",
     "output_type": "stream",
     "text": [
      "c:\\Users\\KimDongyoung\\AppData\\Local\\Programs\\Python\\Python312\\Lib\\site-packages\\sklearn\\cluster\\_kmeans.py:1416: FutureWarning: The default value of `n_init` will change from 10 to 'auto' in 1.4. Set the value of `n_init` explicitly to suppress the warning\n",
      "  super()._check_params_vs_input(X, default_n_init=10)\n"
     ]
    },
    {
     "data": {
      "image/png": "[encoded data removed]",
      "text/plain": [
       "<Figure size 640x480 with 1 Axes>"
      ]
     },
     "metadata": {},
     "output_type": "display_data"
    }
   ],
   "source": [
    "kmeans = KMeans(n_clusters=4)\n",
    "kmeans.fit(X)\n",
    "y_kmeans = kmeans.predict(X)\n",
    "print(y_kmeans)\n",
    "\n",
    "plt.scatter(X[:, 0], X[:, 1], c=y_kmeans, s=50, cmap='viridis')\n",
    "\n",
    "# 클러스터 중심을 표시\n",
    "centers = kmeans.cluster_centers_\n",
    "plt.scatter(centers[:, 0], centers[:, 1], c='black', s=200, alpha=0.5);\n",
    "plt.show()"
   ]
  },
  {
   "cell_type": "markdown",
   "id": "bfad8a27",
   "metadata": {},
   "source": [
    "### PCA 분석"
   ]
  },
  {
   "cell_type": "code",
   "execution_count": 26,
   "id": "e796371b",
   "metadata": {},
   "outputs": [
    {
     "name": "stdout",
     "output_type": "stream",
     "text": [
      "     sepal length (cm)  sepal width (cm)  petal length (cm)  petal width (cm)  \\\n",
      "0                  5.1               3.5                1.4               0.2   \n",
      "1                  4.9               3.0                1.4               0.2   \n",
      "2                  4.7               3.2                1.3               0.2   \n",
      "3                  4.6               3.1                1.5               0.2   \n",
      "4                  5.0               3.6                1.4               0.2   \n",
      "..                 ...               ...                ...               ...   \n",
      "145                6.7               3.0                5.2               2.3   \n",
      "146                6.3               2.5                5.0               1.9   \n",
      "147                6.5               3.0                5.2               2.0   \n",
      "148                6.2               3.4                5.4               2.3   \n",
      "149                5.9               3.0                5.1               1.8   \n",
      "\n",
      "     target  \n",
      "0       0.0  \n",
      "1       0.0  \n",
      "2       0.0  \n",
      "3       0.0  \n",
      "4       0.0  \n",
      "..      ...  \n",
      "145     2.0  \n",
      "146     2.0  \n",
      "147     2.0  \n",
      "148     2.0  \n",
      "149     2.0  \n",
      "\n",
      "[150 rows x 5 columns]\n"
     ]
    }
   ],
   "source": [
    "# 붓꽃 데이터를 읽어 판다스 데이터로 구성\n",
    "\n",
    "import numpy as np\n",
    "import pandas as pd\n",
    "import matplotlib.pyplot as plt\n",
    "from sklearn.datasets import load_iris\n",
    "\n",
    "iris = load_iris()\n",
    "\n",
    "df = pd.DataFrame(data= np.c_[iris['data'], iris['target']], columns= iris['feature_names'] + ['target'])\n",
    "print(df)"
   ]
  },
  {
   "cell_type": "code",
   "execution_count": 27,
   "id": "1e140ee0",
   "metadata": {},
   "outputs": [
    {
     "name": "stdout",
     "output_type": "stream",
     "text": [
      "['sepal length (cm)', 'sepal width (cm)', 'petal length (cm)', 'petal width (cm)']\n",
      "[[-9.00681170e-01  1.01900435e+00 -1.34022653e+00 -1.31544430e+00]\n",
      " [-1.14301691e+00 -1.31979479e-01 -1.34022653e+00 -1.31544430e+00]\n",
      " [-1.38535265e+00  3.28414053e-01 -1.39706395e+00 -1.31544430e+00]\n",
      " [-1.50652052e+00  9.82172869e-02 -1.28338910e+00 -1.31544430e+00]\n",
      " [-1.02184904e+00  1.24920112e+00 -1.34022653e+00 -1.31544430e+00]\n",
      " [-5.37177559e-01  1.93979142e+00 -1.16971425e+00 -1.05217993e+00]\n",
      " [-1.50652052e+00  7.88807586e-01 -1.34022653e+00 -1.18381211e+00]\n",
      " [-1.02184904e+00  7.88807586e-01 -1.28338910e+00 -1.31544430e+00]\n",
      " [-1.74885626e+00 -3.62176246e-01 -1.34022653e+00 -1.31544430e+00]\n",
      " [-1.14301691e+00  9.82172869e-02 -1.28338910e+00 -1.44707648e+00]\n",
      " [-5.37177559e-01  1.47939788e+00 -1.28338910e+00 -1.31544430e+00]\n",
      " [-1.26418478e+00  7.88807586e-01 -1.22655167e+00 -1.31544430e+00]\n",
      " [-1.26418478e+00 -1.31979479e-01 -1.34022653e+00 -1.44707648e+00]\n",
      " [-1.87002413e+00 -1.31979479e-01 -1.51073881e+00 -1.44707648e+00]\n",
      " [-5.25060772e-02  2.16998818e+00 -1.45390138e+00 -1.31544430e+00]\n",
      " [-1.73673948e-01  3.09077525e+00 -1.28338910e+00 -1.05217993e+00]\n",
      " [-5.37177559e-01  1.93979142e+00 -1.39706395e+00 -1.05217993e+00]\n",
      " [-9.00681170e-01  1.01900435e+00 -1.34022653e+00 -1.18381211e+00]\n",
      " [-1.73673948e-01  1.70959465e+00 -1.16971425e+00 -1.18381211e+00]\n",
      " [-9.00681170e-01  1.70959465e+00 -1.28338910e+00 -1.18381211e+00]\n",
      " [-5.37177559e-01  7.88807586e-01 -1.16971425e+00 -1.31544430e+00]\n",
      " [-9.00681170e-01  1.47939788e+00 -1.28338910e+00 -1.05217993e+00]\n",
      " [-1.50652052e+00  1.24920112e+00 -1.56757623e+00 -1.31544430e+00]\n",
      " [-9.00681170e-01  5.58610819e-01 -1.16971425e+00 -9.20547742e-01]\n",
      " [-1.26418478e+00  7.88807586e-01 -1.05603939e+00 -1.31544430e+00]\n",
      " [-1.02184904e+00 -1.31979479e-01 -1.22655167e+00 -1.31544430e+00]\n",
      " [-1.02184904e+00  7.88807586e-01 -1.22655167e+00 -1.05217993e+00]\n",
      " [-7.79513300e-01  1.01900435e+00 -1.28338910e+00 -1.31544430e+00]\n",
      " [-7.79513300e-01  7.88807586e-01 -1.34022653e+00 -1.31544430e+00]\n",
      " [-1.38535265e+00  3.28414053e-01 -1.22655167e+00 -1.31544430e+00]\n",
      " [-1.26418478e+00  9.82172869e-02 -1.22655167e+00 -1.31544430e+00]\n",
      " [-5.37177559e-01  7.88807586e-01 -1.28338910e+00 -1.05217993e+00]\n",
      " [-7.79513300e-01  2.40018495e+00 -1.28338910e+00 -1.44707648e+00]\n",
      " [-4.16009689e-01  2.63038172e+00 -1.34022653e+00 -1.31544430e+00]\n",
      " [-1.14301691e+00  9.82172869e-02 -1.28338910e+00 -1.31544430e+00]\n",
      " [-1.02184904e+00  3.28414053e-01 -1.45390138e+00 -1.31544430e+00]\n",
      " [-4.16009689e-01  1.01900435e+00 -1.39706395e+00 -1.31544430e+00]\n",
      " [-1.14301691e+00  1.24920112e+00 -1.34022653e+00 -1.44707648e+00]\n",
      " [-1.74885626e+00 -1.31979479e-01 -1.39706395e+00 -1.31544430e+00]\n",
      " [-9.00681170e-01  7.88807586e-01 -1.28338910e+00 -1.31544430e+00]\n",
      " [-1.02184904e+00  1.01900435e+00 -1.39706395e+00 -1.18381211e+00]\n",
      " [-1.62768839e+00 -1.74335684e+00 -1.39706395e+00 -1.18381211e+00]\n",
      " [-1.74885626e+00  3.28414053e-01 -1.39706395e+00 -1.31544430e+00]\n",
      " [-1.02184904e+00  1.01900435e+00 -1.22655167e+00 -7.88915558e-01]\n",
      " [-9.00681170e-01  1.70959465e+00 -1.05603939e+00 -1.05217993e+00]\n",
      " [-1.26418478e+00 -1.31979479e-01 -1.34022653e+00 -1.18381211e+00]\n",
      " [-9.00681170e-01  1.70959465e+00 -1.22655167e+00 -1.31544430e+00]\n",
      " [-1.50652052e+00  3.28414053e-01 -1.34022653e+00 -1.31544430e+00]\n",
      " [-6.58345429e-01  1.47939788e+00 -1.28338910e+00 -1.31544430e+00]\n",
      " [-1.02184904e+00  5.58610819e-01 -1.34022653e+00 -1.31544430e+00]\n",
      " [ 1.40150837e+00  3.28414053e-01  5.35408562e-01  2.64141916e-01]\n",
      " [ 6.74501145e-01  3.28414053e-01  4.21733708e-01  3.95774101e-01]\n",
      " [ 1.28034050e+00  9.82172869e-02  6.49083415e-01  3.95774101e-01]\n",
      " [-4.16009689e-01 -1.74335684e+00  1.37546573e-01  1.32509732e-01]\n",
      " [ 7.95669016e-01 -5.92373012e-01  4.78571135e-01  3.95774101e-01]\n",
      " [-1.73673948e-01 -5.92373012e-01  4.21733708e-01  1.32509732e-01]\n",
      " [ 5.53333275e-01  5.58610819e-01  5.35408562e-01  5.27406285e-01]\n",
      " [-1.14301691e+00 -1.51316008e+00 -2.60315415e-01 -2.62386821e-01]\n",
      " [ 9.16836886e-01 -3.62176246e-01  4.78571135e-01  1.32509732e-01]\n",
      " [-7.79513300e-01 -8.22569778e-01  8.07091462e-02  2.64141916e-01]\n",
      " [-1.02184904e+00 -2.43394714e+00 -1.46640561e-01 -2.62386821e-01]\n",
      " [ 6.86617933e-02 -1.31979479e-01  2.51221427e-01  3.95774101e-01]\n",
      " [ 1.89829664e-01 -1.97355361e+00  1.37546573e-01 -2.62386821e-01]\n",
      " [ 3.10997534e-01 -3.62176246e-01  5.35408562e-01  2.64141916e-01]\n",
      " [-2.94841818e-01 -3.62176246e-01 -8.98031345e-02  1.32509732e-01]\n",
      " [ 1.03800476e+00  9.82172869e-02  3.64896281e-01  2.64141916e-01]\n",
      " [-2.94841818e-01 -1.31979479e-01  4.21733708e-01  3.95774101e-01]\n",
      " [-5.25060772e-02 -8.22569778e-01  1.94384000e-01 -2.62386821e-01]\n",
      " [ 4.32165405e-01 -1.97355361e+00  4.21733708e-01  3.95774101e-01]\n",
      " [-2.94841818e-01 -1.28296331e+00  8.07091462e-02 -1.30754636e-01]\n",
      " [ 6.86617933e-02  3.28414053e-01  5.92245988e-01  7.90670654e-01]\n",
      " [ 3.10997534e-01 -5.92373012e-01  1.37546573e-01  1.32509732e-01]\n",
      " [ 5.53333275e-01 -1.28296331e+00  6.49083415e-01  3.95774101e-01]\n",
      " [ 3.10997534e-01 -5.92373012e-01  5.35408562e-01  8.77547895e-04]\n",
      " [ 6.74501145e-01 -3.62176246e-01  3.08058854e-01  1.32509732e-01]\n",
      " [ 9.16836886e-01 -1.31979479e-01  3.64896281e-01  2.64141916e-01]\n",
      " [ 1.15917263e+00 -5.92373012e-01  5.92245988e-01  2.64141916e-01]\n",
      " [ 1.03800476e+00 -1.31979479e-01  7.05920842e-01  6.59038469e-01]\n",
      " [ 1.89829664e-01 -3.62176246e-01  4.21733708e-01  3.95774101e-01]\n",
      " [-1.73673948e-01 -1.05276654e+00 -1.46640561e-01 -2.62386821e-01]\n",
      " [-4.16009689e-01 -1.51316008e+00  2.38717193e-02 -1.30754636e-01]\n",
      " [-4.16009689e-01 -1.51316008e+00 -3.29657076e-02 -2.62386821e-01]\n",
      " [-5.25060772e-02 -8.22569778e-01  8.07091462e-02  8.77547895e-04]\n",
      " [ 1.89829664e-01 -8.22569778e-01  7.62758269e-01  5.27406285e-01]\n",
      " [-5.37177559e-01 -1.31979479e-01  4.21733708e-01  3.95774101e-01]\n",
      " [ 1.89829664e-01  7.88807586e-01  4.21733708e-01  5.27406285e-01]\n",
      " [ 1.03800476e+00  9.82172869e-02  5.35408562e-01  3.95774101e-01]\n",
      " [ 5.53333275e-01 -1.74335684e+00  3.64896281e-01  1.32509732e-01]\n",
      " [-2.94841818e-01 -1.31979479e-01  1.94384000e-01  1.32509732e-01]\n",
      " [-4.16009689e-01 -1.28296331e+00  1.37546573e-01  1.32509732e-01]\n",
      " [-4.16009689e-01 -1.05276654e+00  3.64896281e-01  8.77547895e-04]\n",
      " [ 3.10997534e-01 -1.31979479e-01  4.78571135e-01  2.64141916e-01]\n",
      " [-5.25060772e-02 -1.05276654e+00  1.37546573e-01  8.77547895e-04]\n",
      " [-1.02184904e+00 -1.74335684e+00 -2.60315415e-01 -2.62386821e-01]\n",
      " [-2.94841818e-01 -8.22569778e-01  2.51221427e-01  1.32509732e-01]\n",
      " [-1.73673948e-01 -1.31979479e-01  2.51221427e-01  8.77547895e-04]\n",
      " [-1.73673948e-01 -3.62176246e-01  2.51221427e-01  1.32509732e-01]\n",
      " [ 4.32165405e-01 -3.62176246e-01  3.08058854e-01  1.32509732e-01]\n",
      " [-9.00681170e-01 -1.28296331e+00 -4.30827696e-01 -1.30754636e-01]\n",
      " [-1.73673948e-01 -5.92373012e-01  1.94384000e-01  1.32509732e-01]\n",
      " [ 5.53333275e-01  5.58610819e-01  1.27429511e+00  1.71209594e+00]\n",
      " [-5.25060772e-02 -8.22569778e-01  7.62758269e-01  9.22302838e-01]\n",
      " [ 1.52267624e+00 -1.31979479e-01  1.21745768e+00  1.18556721e+00]\n",
      " [ 5.53333275e-01 -3.62176246e-01  1.04694540e+00  7.90670654e-01]\n",
      " [ 7.95669016e-01 -1.31979479e-01  1.16062026e+00  1.31719939e+00]\n",
      " [ 2.12851559e+00 -1.31979479e-01  1.61531967e+00  1.18556721e+00]\n",
      " [-1.14301691e+00 -1.28296331e+00  4.21733708e-01  6.59038469e-01]\n",
      " [ 1.76501198e+00 -3.62176246e-01  1.44480739e+00  7.90670654e-01]\n",
      " [ 1.03800476e+00 -1.28296331e+00  1.16062026e+00  7.90670654e-01]\n",
      " [ 1.64384411e+00  1.24920112e+00  1.33113254e+00  1.71209594e+00]\n",
      " [ 7.95669016e-01  3.28414053e-01  7.62758269e-01  1.05393502e+00]\n",
      " [ 6.74501145e-01 -8.22569778e-01  8.76433123e-01  9.22302838e-01]\n",
      " [ 1.15917263e+00 -1.31979479e-01  9.90107977e-01  1.18556721e+00]\n",
      " [-1.73673948e-01 -1.28296331e+00  7.05920842e-01  1.05393502e+00]\n",
      " [-5.25060772e-02 -5.92373012e-01  7.62758269e-01  1.58046376e+00]\n",
      " [ 6.74501145e-01  3.28414053e-01  8.76433123e-01  1.44883158e+00]\n",
      " [ 7.95669016e-01 -1.31979479e-01  9.90107977e-01  7.90670654e-01]\n",
      " [ 2.24968346e+00  1.70959465e+00  1.67215710e+00  1.31719939e+00]\n",
      " [ 2.24968346e+00 -1.05276654e+00  1.78583195e+00  1.44883158e+00]\n",
      " [ 1.89829664e-01 -1.97355361e+00  7.05920842e-01  3.95774101e-01]\n",
      " [ 1.28034050e+00  3.28414053e-01  1.10378283e+00  1.44883158e+00]\n",
      " [-2.94841818e-01 -5.92373012e-01  6.49083415e-01  1.05393502e+00]\n",
      " [ 2.24968346e+00 -5.92373012e-01  1.67215710e+00  1.05393502e+00]\n",
      " [ 5.53333275e-01 -8.22569778e-01  6.49083415e-01  7.90670654e-01]\n",
      " [ 1.03800476e+00  5.58610819e-01  1.10378283e+00  1.18556721e+00]\n",
      " [ 1.64384411e+00  3.28414053e-01  1.27429511e+00  7.90670654e-01]\n",
      " [ 4.32165405e-01 -5.92373012e-01  5.92245988e-01  7.90670654e-01]\n",
      " [ 3.10997534e-01 -1.31979479e-01  6.49083415e-01  7.90670654e-01]\n",
      " [ 6.74501145e-01 -5.92373012e-01  1.04694540e+00  1.18556721e+00]\n",
      " [ 1.64384411e+00 -1.31979479e-01  1.16062026e+00  5.27406285e-01]\n",
      " [ 1.88617985e+00 -5.92373012e-01  1.33113254e+00  9.22302838e-01]\n",
      " [ 2.49201920e+00  1.70959465e+00  1.50164482e+00  1.05393502e+00]\n",
      " [ 6.74501145e-01 -5.92373012e-01  1.04694540e+00  1.31719939e+00]\n",
      " [ 5.53333275e-01 -5.92373012e-01  7.62758269e-01  3.95774101e-01]\n",
      " [ 3.10997534e-01 -1.05276654e+00  1.04694540e+00  2.64141916e-01]\n",
      " [ 2.24968346e+00 -1.31979479e-01  1.33113254e+00  1.44883158e+00]\n",
      " [ 5.53333275e-01  7.88807586e-01  1.04694540e+00  1.58046376e+00]\n",
      " [ 6.74501145e-01  9.82172869e-02  9.90107977e-01  7.90670654e-01]\n",
      " [ 1.89829664e-01 -1.31979479e-01  5.92245988e-01  7.90670654e-01]\n",
      " [ 1.28034050e+00  9.82172869e-02  9.33270550e-01  1.18556721e+00]\n",
      " [ 1.03800476e+00  9.82172869e-02  1.04694540e+00  1.58046376e+00]\n",
      " [ 1.28034050e+00  9.82172869e-02  7.62758269e-01  1.44883158e+00]\n",
      " [-5.25060772e-02 -8.22569778e-01  7.62758269e-01  9.22302838e-01]\n",
      " [ 1.15917263e+00  3.28414053e-01  1.21745768e+00  1.44883158e+00]\n",
      " [ 1.03800476e+00  5.58610819e-01  1.10378283e+00  1.71209594e+00]\n",
      " [ 1.03800476e+00 -1.31979479e-01  8.19595696e-01  1.44883158e+00]\n",
      " [ 5.53333275e-01 -1.28296331e+00  7.05920842e-01  9.22302838e-01]\n",
      " [ 7.95669016e-01 -1.31979479e-01  8.19595696e-01  1.05393502e+00]\n",
      " [ 4.32165405e-01  7.88807586e-01  9.33270550e-01  1.44883158e+00]\n",
      " [ 6.86617933e-02 -1.31979479e-01  7.62758269e-01  7.90670654e-01]]\n"
     ]
    }
   ],
   "source": [
    "# 표준화 전처리\n",
    "\n",
    "from sklearn.preprocessing import StandardScaler\n",
    "features = iris['feature_names']\n",
    "print(features)\n",
    "# : 모든 행을 선택, features는 지정한 열 이름들, .values는 선택한 데이터를 NumPy 배열로 변환\n",
    "# df에서 features에 해당하는 열을 뽑아 numpy 배열로 변환\n",
    "X = df.loc[:, features].values\n",
    "# Separating out the target\n",
    "y = df.loc[:,['target']].values\n",
    "\n",
    "# Standardizing the features\n",
    "X = StandardScaler().fit_transform(X)\n",
    "\n",
    "print(X)"
   ]
  },
  {
   "cell_type": "code",
   "execution_count": 28,
   "id": "501e5a2b",
   "metadata": {},
   "outputs": [
    {
     "name": "stdout",
     "output_type": "stream",
     "text": [
      "          PC1       PC2  target\n",
      "0   -2.264703  0.480027     0.0\n",
      "1   -2.080961 -0.674134     0.0\n",
      "2   -2.364229 -0.341908     0.0\n",
      "3   -2.299384 -0.597395     0.0\n",
      "4   -2.389842  0.646835     0.0\n",
      "..        ...       ...     ...\n",
      "145  1.870503  0.386966     2.0\n",
      "146  1.564580 -0.896687     2.0\n",
      "147  1.521170  0.269069     2.0\n",
      "148  1.372788  1.011254     2.0\n",
      "149  0.960656 -0.024332     2.0\n",
      "\n",
      "[150 rows x 3 columns]\n"
     ]
    }
   ],
   "source": [
    "# 표준화된 붓꽃 데이터에 PCA를 적용\n",
    "\n",
    "from sklearn.decomposition import PCA\n",
    "pca = PCA(n_components=2)\n",
    "pca_result  = pca.fit_transform(X)\n",
    "principalDf = pd.DataFrame(data = pca_result, columns = ['PC1', 'PC2'])\n",
    "principalDf, df['target']\n",
    "\n",
    "finalDf = pd.concat([principalDf, df[['target']]], axis = 1)\n",
    "print(finalDf)"
   ]
  },
  {
   "cell_type": "code",
   "execution_count": 29,
   "id": "37d86b86",
   "metadata": {},
   "outputs": [
    {
     "data": {
      "image/png": "[encoded data removed]",
      "text/plain": [
       "<Figure size 500x500 with 1 Axes>"
      ]
     },
     "metadata": {},
     "output_type": "display_data"
    }
   ],
   "source": [
    "# 2차원 공간으로 축소된 데이터를 가시화\n",
    "\n",
    "fig = plt.figure(figsize = (5,5))\n",
    "ax = fig.add_subplot(1,1,1)\n",
    "ax.set_xlabel('Primary Principal Component')\n",
    "ax.set_ylabel('Secondary Principal Component')\n",
    "ax.set_title('Dimension Reduction with PCA', fontsize = 20)\n",
    "targets = [0.0, 1.0, 2.0]\n",
    "colors = ['r', 'g', 'b']\n",
    "for target, color in zip(targets,colors):\n",
    "    idx = finalDf['target'] == target\n",
    "    ax.scatter(finalDf.loc[idx, 'PC1'] , finalDf.loc[idx, 'PC2']\n",
    "               , c = color)\n",
    "ax.legend(targets)\n",
    "ax.grid()"
   ]
  },
  {
   "cell_type": "markdown",
   "id": "9d110a22",
   "metadata": {},
   "source": [
    "### 퍼셉트론 프로그래밍"
   ]
  },
  {
   "cell_type": "code",
   "execution_count": 31,
   "id": "3a8c772c",
   "metadata": {},
   "outputs": [
    {
     "name": "stdout",
     "output_type": "stream",
     "text": [
      "학습된 퍼셉트론의 매개변수:  [[2. 2.]] [-1.]\n",
      "훈련집합에 대한 예측:  [-1  1  1  1]\n",
      "정확률 측정:  100.0 %\n"
     ]
    }
   ],
   "source": [
    "from sklearn.linear_model import Perceptron\n",
    "\n",
    "# 훈련 집합 구축\n",
    "X=[[0,0],[0,1],[1,0],[1,1]]\n",
    "y=[-1,1,1,1]\n",
    "\n",
    "# fit 함수로 Perceptron 학습\n",
    "p=Perceptron()\n",
    "p.fit(X,y)\n",
    "\n",
    "print(\"학습된 퍼셉트론의 매개변수: \",p.coef_,p.intercept_) # p.coef_는 가중치, p.intercept_는 절편\n",
    "print(\"훈련집합에 대한 예측: \",p.predict(X))\n",
    "print(\"정확률 측정: \",p.score(X,y)*100,\"%\")"
   ]
  },
  {
   "cell_type": "code",
   "execution_count": 32,
   "id": "dd304cca",
   "metadata": {},
   "outputs": [],
   "source": [
    "from sklearn import datasets\n",
    "from sklearn.linear_model import Perceptron\n",
    "from sklearn.model_selection import train_test_split\n",
    "import numpy as np\n",
    "\n",
    "# 데이터셋을 읽고 훈련 집합과 테스트 집합으로 분할\n",
    "digit=datasets.load_digits()\n",
    "x_train,x_test,y_train,y_test=train_test_split(digit.data,digit.target,train_size=0.6)"
   ]
  },
  {
   "cell_type": "code",
   "execution_count": 37,
   "id": "eb26faae",
   "metadata": {},
   "outputs": [
    {
     "data": {
      "text/plain": [
       "((1078, 64), (719, 64), (1078,), (719,))"
      ]
     },
     "execution_count": 37,
     "metadata": {},
     "output_type": "execute_result"
    }
   ],
   "source": [
    "# x_train, x_test은 64차원 벡터, y_train, y_test는 0~9 사이의 숫자 레이블 \n",
    "x_train.shape, x_test.shape, y_train.shape, y_test.shape"
   ]
  },
  {
   "cell_type": "code",
   "execution_count": 40,
   "id": "a7d85ee2",
   "metadata": {},
   "outputs": [
    {
     "name": "stdout",
     "output_type": "stream",
     "text": [
      "[[67.  0.  0.  1.  0.  1.  0.  0.  0.  0.]\n",
      " [ 0. 71.  2.  0.  0.  0.  2.  0.  4.  0.]\n",
      " [ 0.  0. 63.  0.  0.  0.  0.  0.  1.  0.]\n",
      " [ 0.  0.  0. 59.  0.  0.  0.  2.  1.  1.]\n",
      " [ 1.  1.  0.  0. 66.  0.  0.  1.  0.  0.]\n",
      " [ 0.  0.  0.  2.  0. 75.  0.  0.  1.  1.]\n",
      " [ 0.  0.  0.  0.  0.  0. 73.  0.  1.  0.]\n",
      " [ 0.  0.  0.  0.  0.  0.  0. 70.  0.  0.]\n",
      " [ 0.  2.  0.  2.  2.  2.  1.  0. 64.  0.]\n",
      " [ 0.  0.  0.  0.  1.  1.  0.  1.  4. 72.]]\n",
      "테스트 집합에 대한 정확률은  94.57579972183588 %입니다.\n"
     ]
    }
   ],
   "source": [
    "# fit 함수로 Perceptron 학습\n",
    "p=Perceptron(max_iter=100,eta0=0.001,verbose=0)\n",
    "p.fit(x_train,y_train) # digit 데이터로 모델링\n",
    "\n",
    "res=p.predict(x_test) # 테스트 집합으로 예측\n",
    "\n",
    "# 혼동 행렬\n",
    "conf=np.zeros((10,10))\n",
    "for i in range(len(res)):\n",
    "    conf[res[i]][y_test[i]]+=1\n",
    "print(conf)\n",
    "\n",
    "# 정확률 계산\n",
    "no_correct=0\n",
    "for i in range(10):\n",
    "    no_correct+=conf[i][i] # 예측이 맞은 경우의 수를 합산\n",
    "accuracy=no_correct/len(res) # 정확률 계산\n",
    "print(\"테스트 집합에 대한 정확률은 \", accuracy*100, \"%입니다.\")"
   ]
  },
  {
   "cell_type": "markdown",
   "id": "b587e5b1",
   "metadata": {},
   "source": [
    "다층 퍼셉트론: digit"
   ]
  },
  {
   "cell_type": "code",
   "execution_count": 41,
   "id": "94ce91da",
   "metadata": {},
   "outputs": [],
   "source": [
    "from sklearn import datasets\n",
    "from sklearn.neural_network import MLPClassifier\n",
    "from sklearn.model_selection import train_test_split\n",
    "import numpy as np"
   ]
  },
  {
   "cell_type": "code",
   "execution_count": 42,
   "id": "432d8545",
   "metadata": {},
   "outputs": [
    {
     "data": {
      "text/plain": [
       "((1078, 64), (719, 64), (1078,), (719,))"
      ]
     },
     "execution_count": 42,
     "metadata": {},
     "output_type": "execute_result"
    }
   ],
   "source": [
    "# 데이터셋을 읽고 훈련 집합과 테스트 집합으로 분할\n",
    "digit=datasets.load_digits()\n",
    "x_train,x_test,y_train,y_test=train_test_split(digit.data,digit.target,train_size=0.6)\n",
    "\n",
    "x_train.shape, x_test.shape, y_train.shape, y_test.shape"
   ]
  },
  {
   "cell_type": "code",
   "execution_count": 44,
   "id": "73669073",
   "metadata": {},
   "outputs": [
    {
     "name": "stdout",
     "output_type": "stream",
     "text": [
      "Iteration 1, loss = 2.02566337\n",
      "Iteration 2, loss = 0.31255177\n",
      "Iteration 3, loss = 0.19860637\n",
      "Iteration 4, loss = 0.15087031\n",
      "Iteration 5, loss = 0.12388851\n",
      "Iteration 6, loss = 0.09886477\n",
      "Iteration 7, loss = 0.08911368\n",
      "Iteration 8, loss = 0.07441360\n",
      "Iteration 9, loss = 0.06653413\n",
      "Iteration 10, loss = 0.06171913\n",
      "Iteration 11, loss = 0.05433126\n",
      "Iteration 12, loss = 0.05209026\n",
      "Iteration 13, loss = 0.04740871\n",
      "Iteration 14, loss = 0.04291463\n",
      "Iteration 15, loss = 0.04139197\n",
      "Iteration 16, loss = 0.03752006\n",
      "Iteration 17, loss = 0.03373321\n",
      "Iteration 18, loss = 0.03296899\n",
      "Iteration 19, loss = 0.03009602\n",
      "Iteration 20, loss = 0.02897487\n",
      "Iteration 21, loss = 0.02701553\n",
      "Iteration 22, loss = 0.02581547\n",
      "Iteration 23, loss = 0.02404046\n",
      "Iteration 24, loss = 0.02361431\n",
      "Iteration 25, loss = 0.02221663\n",
      "Iteration 26, loss = 0.02044407\n",
      "Iteration 27, loss = 0.01982738\n",
      "Iteration 28, loss = 0.01900690\n",
      "Iteration 29, loss = 0.01848791\n",
      "Iteration 30, loss = 0.01810462\n",
      "Iteration 31, loss = 0.01726823\n",
      "Iteration 32, loss = 0.01652190\n",
      "Iteration 33, loss = 0.01609514\n",
      "Iteration 34, loss = 0.01529440\n",
      "Iteration 35, loss = 0.01452754\n",
      "Iteration 36, loss = 0.01428116\n",
      "Iteration 37, loss = 0.01360572\n",
      "Iteration 38, loss = 0.01395689\n",
      "Iteration 39, loss = 0.01318984\n",
      "Iteration 40, loss = 0.01246217\n",
      "Iteration 41, loss = 0.01216889\n",
      "Iteration 42, loss = 0.01176493\n",
      "Iteration 43, loss = 0.01165585\n",
      "Iteration 44, loss = 0.01134563\n",
      "Iteration 45, loss = 0.01113817\n",
      "Iteration 46, loss = 0.01106586\n",
      "Iteration 47, loss = 0.01077299\n",
      "Iteration 48, loss = 0.01025834\n",
      "Iteration 49, loss = 0.01004518\n",
      "Iteration 50, loss = 0.00997194\n",
      "Iteration 51, loss = 0.00994059\n",
      "Iteration 52, loss = 0.00943287\n",
      "Iteration 53, loss = 0.00922773\n",
      "Iteration 54, loss = 0.00903201\n",
      "Iteration 55, loss = 0.00913103\n",
      "Iteration 56, loss = 0.00879773\n",
      "Iteration 57, loss = 0.00850175\n",
      "Iteration 58, loss = 0.00834877\n",
      "Iteration 59, loss = 0.00814334\n",
      "Iteration 60, loss = 0.00802678\n",
      "Iteration 61, loss = 0.00796029\n",
      "Iteration 62, loss = 0.00776350\n",
      "Iteration 63, loss = 0.00763773\n",
      "Iteration 64, loss = 0.00745750\n",
      "Iteration 65, loss = 0.00730292\n",
      "Iteration 66, loss = 0.00723269\n",
      "Iteration 67, loss = 0.00706787\n",
      "Iteration 68, loss = 0.00708415\n",
      "Iteration 69, loss = 0.00687512\n",
      "Iteration 70, loss = 0.00686011\n",
      "Iteration 71, loss = 0.00667931\n",
      "Iteration 72, loss = 0.00661577\n",
      "Iteration 73, loss = 0.00652140\n",
      "Iteration 74, loss = 0.00640827\n",
      "Iteration 75, loss = 0.00628718\n",
      "Iteration 76, loss = 0.00618089\n",
      "Iteration 77, loss = 0.00608854\n",
      "Iteration 78, loss = 0.00597729\n",
      "Iteration 79, loss = 0.00593817\n",
      "Iteration 80, loss = 0.00583621\n",
      "Iteration 81, loss = 0.00577732\n",
      "Iteration 82, loss = 0.00576619\n",
      "Iteration 83, loss = 0.00567656\n",
      "Iteration 84, loss = 0.00552329\n",
      "Iteration 85, loss = 0.00544579\n",
      "Iteration 86, loss = 0.00538858\n",
      "Iteration 87, loss = 0.00535632\n",
      "Iteration 88, loss = 0.00527328\n",
      "Iteration 89, loss = 0.00518832\n",
      "Iteration 90, loss = 0.00517752\n",
      "Iteration 91, loss = 0.00509782\n",
      "Iteration 92, loss = 0.00503650\n",
      "Iteration 93, loss = 0.00496872\n",
      "Iteration 94, loss = 0.00494538\n",
      "Iteration 95, loss = 0.00491842\n",
      "Training loss did not improve more than tol=0.000100 for 10 consecutive epochs. Stopping.\n",
      "[[72.  0.  0.  0.  0.  0.  0.  0.  0.  0.]\n",
      " [ 0. 71.  2.  0.  0.  0.  1.  0.  2.  0.]\n",
      " [ 0.  1. 68.  1.  0.  0.  0.  0.  0.  0.]\n",
      " [ 0.  0.  0. 65.  0.  0.  0.  0.  0.  0.]\n",
      " [ 1.  1.  0.  0. 73.  1.  0.  0.  0.  0.]\n",
      " [ 0.  0.  0.  2.  0. 69.  0.  0.  3.  1.]\n",
      " [ 0.  0.  0.  0.  0.  0. 71.  0.  0.  0.]\n",
      " [ 0.  0.  0.  0.  0.  0.  0. 70.  0.  1.]\n",
      " [ 0.  0.  0.  1.  0.  0.  1.  0. 71.  1.]\n",
      " [ 0.  0.  0.  1.  2.  0.  0.  0.  0. 66.]]\n",
      "테스트 집합에 대한 정확률은  96.80111265646731 %입니다.\n"
     ]
    }
   ],
   "source": [
    "# MLP 분류기 모델을 학습\n",
    "mlp=MLPClassifier(hidden_layer_sizes=(100),learning_rate_init=0.001,batch_size=32,max_iter=300,solver='sgd',verbose=True)\n",
    "mlp.fit(x_train,y_train)\n",
    "\n",
    "res=mlp.predict(x_test) # 테스트 집합으로 예측\n",
    "\n",
    "# 혼동 행렬\n",
    "conf=np.zeros((10,10))\n",
    "for i in range(len(res)):\n",
    "    conf[res[i]][y_test[i]]+=1\n",
    "print(conf)\n",
    "\n",
    "# 정확률 계산\n",
    "no_correct=0\n",
    "for i in range(10):\n",
    "    no_correct+=conf[i][i]\n",
    "accuracy=no_correct/len(res)\n",
    "print(\"테스트 집합에 대한 정확률은 \", accuracy*100, \"%입니다.\")"
   ]
  },
  {
   "cell_type": "code",
   "execution_count": 24,
   "id": "0811c649",
   "metadata": {},
   "outputs": [
    {
     "name": "stdout",
     "output_type": "stream",
     "text": [
      "Iteration 1, loss = 2.01110147\n",
      "Iteration 2, loss = 0.34362461\n",
      "Iteration 3, loss = 0.20937290\n",
      "Iteration 4, loss = 0.16455878\n",
      "Iteration 5, loss = 0.13736480\n",
      "Iteration 6, loss = 0.11845374\n",
      "Iteration 7, loss = 0.10325743\n",
      "Iteration 8, loss = 0.08808226\n",
      "Iteration 9, loss = 0.07525176\n",
      "Iteration 10, loss = 0.06926798\n",
      "Iteration 11, loss = 0.06067452\n",
      "Iteration 12, loss = 0.05672458\n",
      "Iteration 13, loss = 0.05130710\n",
      "Iteration 14, loss = 0.04795216\n",
      "Iteration 15, loss = 0.04599659\n",
      "Iteration 16, loss = 0.04047763\n",
      "Iteration 17, loss = 0.03749261\n",
      "Iteration 18, loss = 0.03421210\n",
      "Iteration 19, loss = 0.03277759\n",
      "Iteration 20, loss = 0.03164504\n",
      "Iteration 21, loss = 0.02919426\n",
      "Iteration 22, loss = 0.02768771\n",
      "Iteration 23, loss = 0.02599514\n",
      "Iteration 24, loss = 0.02611518\n",
      "Iteration 25, loss = 0.02349175\n",
      "Iteration 26, loss = 0.02371478\n",
      "Iteration 27, loss = 0.02110889\n",
      "Iteration 28, loss = 0.02117655\n",
      "Iteration 29, loss = 0.01996884\n",
      "Iteration 30, loss = 0.01920679\n",
      "Iteration 31, loss = 0.01916320\n",
      "Iteration 32, loss = 0.01792364\n",
      "Iteration 33, loss = 0.01732382\n",
      "Iteration 34, loss = 0.01695156\n",
      "Iteration 35, loss = 0.01626577\n",
      "Iteration 36, loss = 0.01558226\n",
      "Iteration 37, loss = 0.01463617\n",
      "Iteration 38, loss = 0.01444188\n",
      "Iteration 39, loss = 0.01383945\n",
      "Iteration 40, loss = 0.01352965\n",
      "Iteration 41, loss = 0.01341520\n",
      "Iteration 42, loss = 0.01282185\n",
      "Iteration 43, loss = 0.01239282\n",
      "Iteration 44, loss = 0.01237881\n",
      "Iteration 45, loss = 0.01212994\n",
      "Iteration 46, loss = 0.01150923\n",
      "Iteration 47, loss = 0.01128715\n",
      "Iteration 48, loss = 0.01106415\n",
      "Iteration 49, loss = 0.01099410\n",
      "Iteration 50, loss = 0.01053159\n",
      "Iteration 51, loss = 0.01052829\n",
      "Iteration 52, loss = 0.01001221\n",
      "Iteration 53, loss = 0.01004956\n",
      "Iteration 54, loss = 0.00981539\n",
      "Iteration 55, loss = 0.00945273\n",
      "Iteration 56, loss = 0.00927339\n",
      "Iteration 57, loss = 0.00921263\n",
      "Iteration 58, loss = 0.00886897\n",
      "Iteration 59, loss = 0.00877698\n",
      "Iteration 60, loss = 0.00866149\n",
      "Iteration 61, loss = 0.00832730\n",
      "Iteration 62, loss = 0.00837061\n",
      "Iteration 63, loss = 0.00816293\n",
      "Iteration 64, loss = 0.00803564\n",
      "Iteration 65, loss = 0.00792516\n",
      "Iteration 66, loss = 0.00768062\n",
      "Iteration 67, loss = 0.00748147\n",
      "Iteration 68, loss = 0.00740564\n",
      "Iteration 69, loss = 0.00740609\n",
      "Iteration 70, loss = 0.00719451\n",
      "Iteration 71, loss = 0.00703402\n",
      "Iteration 72, loss = 0.00694142\n",
      "Iteration 73, loss = 0.00681106\n",
      "Iteration 74, loss = 0.00670185\n",
      "Iteration 75, loss = 0.00656656\n",
      "Iteration 76, loss = 0.00653967\n",
      "Iteration 77, loss = 0.00653072\n",
      "Iteration 78, loss = 0.00639625\n",
      "Iteration 79, loss = 0.00623369\n",
      "Iteration 80, loss = 0.00626934\n",
      "Iteration 81, loss = 0.00608227\n",
      "Iteration 82, loss = 0.00603133\n",
      "Iteration 83, loss = 0.00593893\n",
      "Iteration 84, loss = 0.00585638\n",
      "Iteration 85, loss = 0.00580260\n",
      "Iteration 86, loss = 0.00571663\n",
      "Iteration 87, loss = 0.00565964\n",
      "Iteration 88, loss = 0.00554314\n",
      "Iteration 89, loss = 0.00550054\n",
      "Iteration 90, loss = 0.00537926\n",
      "Iteration 91, loss = 0.00536816\n",
      "Iteration 92, loss = 0.00531637\n",
      "Iteration 93, loss = 0.00524267\n",
      "Iteration 94, loss = 0.00515611\n",
      "Iteration 95, loss = 0.00511782\n",
      "Iteration 96, loss = 0.00507068\n",
      "Iteration 97, loss = 0.00505029\n",
      "Iteration 98, loss = 0.00494872\n",
      "Iteration 99, loss = 0.00493282\n",
      "Iteration 100, loss = 0.00483449\n",
      "Iteration 101, loss = 0.00483751\n",
      "Iteration 102, loss = 0.00473150\n",
      "Iteration 103, loss = 0.00468816\n",
      "Iteration 104, loss = 0.00464379\n",
      "Iteration 105, loss = 0.00460506\n",
      "Iteration 106, loss = 0.00456950\n",
      "Iteration 107, loss = 0.00452755\n",
      "Iteration 108, loss = 0.00445475\n",
      "Iteration 109, loss = 0.00443223\n",
      "Iteration 110, loss = 0.00437739\n",
      "Iteration 111, loss = 0.00437310\n",
      "Iteration 112, loss = 0.00431070\n",
      "Iteration 113, loss = 0.00423917\n",
      "Training loss did not improve more than tol=0.000100 for 10 consecutive epochs. Stopping.\n",
      "[[67.  0.  0.  0.  0.  0.  0.  0.  0.  0.]\n",
      " [ 0. 70.  0.  0.  0.  0.  0.  0.  1.  0.]\n",
      " [ 0.  0. 66.  1.  0.  0.  0.  0.  0.  0.]\n",
      " [ 0.  0.  1. 71.  0.  1.  0.  0.  0.  0.]\n",
      " [ 0.  0.  0.  0. 77.  0.  0.  0.  0.  0.]\n",
      " [ 0.  0.  0.  1.  0. 67.  0.  0.  2.  2.]\n",
      " [ 0.  0.  0.  0.  0.  1. 70.  0.  0.  0.]\n",
      " [ 0.  0.  0.  0.  0.  0.  0. 84.  0.  0.]\n",
      " [ 0.  1.  0.  1.  0.  0.  1.  0. 63.  1.]\n",
      " [ 0.  0.  0.  0.  0.  2.  0.  1.  1. 66.]]\n",
      "테스트 집합에 대한 정확률은  97.49652294853965 %입니다.\n"
     ]
    }
   ],
   "source": [
    "# 데이터셋을 읽고 훈련 집합과 테스트 집합으로 분할\n",
    "digit=datasets.load_digits()\n",
    "x_train,x_test,y_train,y_test=train_test_split(digit.data,digit.target,train_size=0.6)\n",
    "\n",
    "# MLP 분류기 모델을 학습\n",
    "mlp=MLPClassifier(hidden_layer_sizes=(100),learning_rate_init=0.001,batch_size=32,max_iter=300,solver='sgd',verbose=True)\n",
    "mlp.fit(x_train,y_train)\n",
    "\n",
    "res=mlp.predict(x_test) # 테스트 집합으로 예측\n",
    "\n",
    "# 혼동 행렬\n",
    "conf=np.zeros((10,10))\n",
    "for i in range(len(res)):\n",
    "    conf[res[i]][y_test[i]]+=1\n",
    "print(conf)\n",
    "\n",
    "# 정확률 계산\n",
    "no_correct=0\n",
    "for i in range(10):\n",
    "    no_correct+=conf[i][i]\n",
    "accuracy=no_correct/len(res)\n",
    "print(\"테스트 집합에 대한 정확률은 \", accuracy*100, \"%입니다.\")"
   ]
  },
  {
   "cell_type": "markdown",
   "id": "939e981b",
   "metadata": {},
   "source": [
    "텐서플로를 활용한 MLP"
   ]
  },
  {
   "cell_type": "code",
   "execution_count": 25,
   "id": "9fed21b3",
   "metadata": {},
   "outputs": [],
   "source": [
    "import numpy as np\n",
    "import tensorflow as tf\n",
    "from tensorflow.keras.datasets import mnist\n",
    "from tensorflow.keras.models import Sequential\n",
    "from tensorflow.keras.layers import Dense\n",
    "from tensorflow.keras.optimizers import Adam"
   ]
  },
  {
   "cell_type": "code",
   "execution_count": null,
   "id": "5903412b",
   "metadata": {},
   "outputs": [],
   "source": [
    "# MNIST 읽어 와서 신경망에 입력할 형태로 변환\n",
    "(x_train, y_train), (x_test, y_test) = mnist.load_data()\n",
    "x_train = x_train.reshape(60000,784) # 텐서 모양 변환\n",
    "x_test = x_test.reshape(10000,784)\n",
    "x_train=x_train.astype(np.float32)/255.0 # ndarray로 변환\n",
    "x_test=x_test.astype(np.float32)/255.0\n",
    "y_train=tf.keras.utils.to_categorical(y_train,10) # 원핫 코드로 변환\n",
    "y_test=tf.keras.utils.to_categorical(y_test,10)\n",
    "\n",
    "# 신경망 구조 설정\n",
    "n_input=784\n",
    "n_hidden1=1024\n",
    "n_hidden2=512\n",
    "n_hidden3=512\n",
    "n_hidden4=512\n",
    "n_output=10\n",
    "\n",
    "# 신경망 구조 설계\n",
    "mlp=Sequential()\n",
    "# actication, kernel_initializer, bias_initializer는 모두 기본값으로 설정\n",
    "# kernel_initializer는 가중치 초기화하여 기울기 소실이나 폭발 문제를 방지한다. \n",
    "mlp.add(Dense(units=n_hidden1,activation='tanh',input_shape=(n_input,),kernel_initializer='random_uniform',bias_initializer='zeros'))\n",
    "mlp.add(Dense(units=n_hidden2,activation='tanh',kernel_initializer='random_uniform',bias_initializer='zeros'))\n",
    "mlp.add(Dense(units=n_hidden3,activation='tanh',kernel_initializer='random_uniform',bias_initializer='zeros'))\n",
    "mlp.add(Dense(units=n_hidden4,activation='tanh',kernel_initializer='random_uniform',bias_initializer='zeros'))\n",
    "mlp.add(Dense(units=n_output,activation='tanh',kernel_initializer='random_uniform',bias_initializer='zeros'))\n",
    "\n",
    "# 신경망 학습\n",
    "# 옵티마이저로는 Adam을 사용했으나 Adagrad(), RMSprop(), SGD() 등 다른 것도 사용 가능\n",
    "mlp.compile(loss='mean_squared_error',optimizer=Adam(learning_rate=0.001),metrics=['accuracy'])\n",
    "hist=mlp.fit(x_train,y_train,batch_size=128,epochs=30,validation_data=(x_test,y_test),verbose=2)\n",
    "\n",
    "# 신경망의 정확률 측정\n",
    "res=mlp.evaluate(x_test,y_test,verbose=0)\n",
    "print(\"정확률은\",res[1]*100)\n",
    "\n",
    "import matplotlib.pyplot as plt\n",
    "\n",
    "# 정확률 곡선\n",
    "plt.plot(hist.history['accuracy'])\n",
    "plt.plot(hist.history['val_accuracy'])\n",
    "plt.title('Model accuracy')\n",
    "plt.ylabel('Accuracy')\n",
    "plt.xlabel('Epoch')\n",
    "plt.legend(['Train','Validation'], loc='upper left')\n",
    "plt.grid()\n",
    "plt.show()\n",
    "\n",
    "# 손실 함수 곡선\n",
    "plt.plot(hist.history['loss'])\n",
    "plt.plot(hist.history['val_loss'])\n",
    "plt.title('Model loss')\n",
    "plt.ylabel('Loss')\n",
    "plt.xlabel('Epoch')\n",
    "plt.legend(['Train','Validation'], loc='upper right')\n",
    "plt.grid()\n",
    "plt.show()"
   ]
  },
  {
   "cell_type": "code",
   "execution_count": null,
   "id": "f89da708",
   "metadata": {},
   "outputs": [],
   "source": []
  },
  {
   "cell_type": "code",
   "execution_count": null,
   "id": "4aff8c8d",
   "metadata": {},
   "outputs": [],
   "source": []
  },
  {
   "cell_type": "code",
   "execution_count": 9,
   "id": "55545e3f",
   "metadata": {},
   "outputs": [
    {
     "name": "stderr",
     "output_type": "stream",
     "text": [
      "c:\\Users\\KimDongyoung\\AppData\\Local\\Programs\\Python\\Python312\\Lib\\site-packages\\sklearn\\datasets\\_openml.py:1022: FutureWarning: The default value of `parser` will change from `'liac-arff'` to `'auto'` in 1.4. You can set `parser='auto'` to silence this warning. Therefore, an `ImportError` will be raised from 1.4 if the dataset is dense and pandas is not installed. Note that the pandas parser may return different data types. See the Notes Section in fetch_openml's API doc for details.\n",
      "  warn(\n"
     ]
    }
   ],
   "source": [
    "from sklearn.datasets import fetch_openml\n",
    "from sklearn.neural_network import MLPClassifier\n",
    "import matplotlib.pyplot as plt\n",
    "import numpy as np\n",
    "\n",
    "# MNIST 데이터셋을 읽고 훈련 집합과 테스트 집합으로 분할\n",
    "mnist=fetch_openml('mnist_784')\n",
    "mnist.data=mnist.data/255.0\n",
    "x_train=mnist.data[:60000]; x_test=mnist.data[60000:]\n",
    "y_train=np.int16(mnist.target[:60000]); y_test=np.int16(mnist.target[60000:])"
   ]
  },
  {
   "cell_type": "code",
   "execution_count": null,
   "id": "2e752a14",
   "metadata": {},
   "outputs": [],
   "source": [
    "# MLP 분류기 모델을 학습\n",
    "mlp=MLPClassifier(hidden_layer_sizes=(100),learning_rate_init=0.001,batch_size=512,max_iter=300,solver='adam',verbose=True)\n",
    "mlp.fit(x_train,y_train)\n",
    "\n",
    "# 테스트 집합으로 예측\n",
    "res=mlp.predict(x_test)\n",
    "\n",
    "# 혼동 행렬\n",
    "conf=np.zeros((10,10),dtype=np.int16)\n",
    "for i in range(len(res)):\n",
    "    conf[res[i]][y_test[i]]+=1\n",
    "print(conf)\n",
    "\n",
    "# 정확률 계산\n",
    "no_correct=0\n",
    "for i in range(10):\n",
    "    no_correct+=conf[i][i]\n",
    "accuracy=no_correct/len(res)\n",
    "print(\"테스트 집합에 대한 정확률은\", accuracy*100, \"%입니다.\")"
   ]
  },
  {
   "cell_type": "markdown",
   "id": "7491592a",
   "metadata": {},
   "source": [
    "여러 손실함수 사용"
   ]
  },
  {
   "cell_type": "code",
   "execution_count": null,
   "id": "d4be6772",
   "metadata": {},
   "outputs": [],
   "source": [
    "import numpy as np\n",
    "import tensorflow as tf\n",
    "from tensorflow.keras.datasets import mnist\n",
    "from tensorflow.keras.models import Sequential\n",
    "from tensorflow.keras.layers import Dense\n",
    "from tensorflow.keras.optimizers import Adam\n",
    "\n",
    "# MNIST 읽어 와서 신경망에 입력할 형태로 변환\n",
    "(x_train, y_train), (x_test, y_test) = mnist.load_data()\n",
    "x_train = x_train.reshape(60000,784)\n",
    "x_test = x_test.reshape(10000,784)\n",
    "x_train=x_train.astype(np.float32)/255.0\n",
    "x_test=x_test.astype(np.float32)/255.0\n",
    "y_train=tf.keras.utils.to_categorical(y_train,10)\n",
    "y_test=tf.keras.utils.to_categorical(y_test,10)\n",
    "\n",
    "# 신경망 구조 설정\n",
    "n_input=784\n",
    "n_hidden1=1024\n",
    "n_hidden2=512\n",
    "n_hidden3=512\n",
    "n_hidden4=512\n",
    "n_output=10\n",
    "\n",
    "# 평균제곱오차를 사용한 모델\n",
    "dmlp_mse=Sequential()\n",
    "dmlp_mse.add(Dense(units=n_hidden1,activation='tanh',input_shape=(n_input,)))\n",
    "dmlp_mse.add(Dense(units=n_hidden2,activation='tanh'))\n",
    "dmlp_mse.add(Dense(units=n_hidden3,activation='tanh'))\n",
    "dmlp_mse.add(Dense(units=n_hidden4,activation='tanh'))\n",
    "dmlp_mse.add(Dense(units=n_output,activation='softmax'))\n",
    "dmlp_mse.compile(loss='mean_squared_error',optimizer=Adam(learning_rate=0.0001),metrics=['accuracy'])\n",
    "hist_mse=dmlp_mse.fit(x_train,y_train,batch_size=128,epochs=30,validation_data=(x_test,y_test),verbose=2)\n",
    "\n",
    "# 교차 엔트로피를 사용한 모델\n",
    "dmlp_ce=Sequential()\n",
    "dmlp_ce.add(Dense(units=n_hidden1,activation='tanh',input_shape=(n_input,)))\n",
    "dmlp_ce.add(Dense(units=n_hidden2,activation='tanh'))\n",
    "dmlp_ce.add(Dense(units=n_hidden3,activation='tanh'))\n",
    "dmlp_ce.add(Dense(units=n_hidden4,activation='tanh'))\n",
    "dmlp_ce.add (Dense(units=n_output,activation='softmax'))\n",
    "dmlp_ce.compile(loss='categorical_crossentropy',optimizer=Adam(learning_rate=0.0001),metrics=['accuracy'])\n",
    "hist_ce=dmlp_ce.fit(x_train,y_train,batch_size=128,epochs=30,validation_data=(x_test,y_test),verbose=2)\n",
    "\n",
    "# 두 모델의 정확률 비교\n",
    "res_mse=dmlp_mse.evaluate(x_test,y_test,verbose=0)\n",
    "print(\"평균제곱오차의 정확률은\",res_mse[1]*100)\n",
    "res_ce=dmlp_ce.evaluate(x_test,y_test,verbose=0)\n",
    "print(\"교차 엔트로피의 정확률은\",res_ce[1]*100)\n",
    "\n",
    "# 하나의 그래프에서 두 모델을 비교\n",
    "import matplotlib.pyplot as plt\n",
    "plt.plot(hist_mse.history['accuracy'])\n",
    "plt.plot(hist_mse.history['val_accuracy'])\n",
    "plt.plot(hist_ce.history['accuracy'])\n",
    "plt.plot(hist_ce.history['val_accuracy'])\n",
    "plt.title('Model accuracy comparison between MSE and cross entropy')\n",
    "plt.ylabel('Accuracy')\n",
    "plt.xlabel('Epoch')\n",
    "plt.legend(['Train_mse','Validation_mse','Train_ce','Validation_ce'], loc='best')\n",
    "plt.grid()\n",
    "plt.show()"
   ]
  },
  {
   "cell_type": "markdown",
   "id": "4efa817a",
   "metadata": {},
   "source": [
    "텐서플로를 활용해서 CNN 구현"
   ]
  },
  {
   "cell_type": "code",
   "execution_count": 1,
   "id": "4ea9a034",
   "metadata": {},
   "outputs": [],
   "source": [
    "import numpy as np\n",
    "import tensorflow as tf\n",
    "from tensorflow.keras.datasets import mnist\n",
    "from tensorflow.keras.models import Sequential\n",
    "from tensorflow.keras.layers import Conv2D,MaxPooling2D,Flatten,Dense\n",
    "from tensorflow.keras.optimizers import Adam"
   ]
  },
  {
   "cell_type": "code",
   "execution_count": 2,
   "id": "25d422c3",
   "metadata": {},
   "outputs": [],
   "source": [
    "# MNIST 데이터셋을 읽고 신경망에 입력할 형태로 변환\n",
    "(x_train,y_train),(x_test,y_test)= mnist.load_data() # MNIST 데이터셋을 읽어옴\n",
    "x_train=x_train.reshape(60000,28,28,1) # 총 60000개의 이미지, 28x28픽셀, 1채널(흑백)\n",
    "x_test=x_test.reshape(10000,28,28,1)   # 총 10000개의 이미지, 28x28픽셀, 1채널(흑백)\n",
    "x_train=x_train.astype(np.float32)/255.0 # float32형으로 변환 후 픽셀값을 0~1사이로 정규화\n",
    "x_test=x_test.astype(np.float32)/255.0  # float32형으로 변환 후 픽셀값을 0~1사이로 정규화\n",
    "y_train=tf.keras.utils.to_categorical(y_train,10) # 0~9까지의 숫자이므로 10개의 클래스\n",
    "y_test=tf.keras.utils.to_categorical(y_test,10) # 0~9까지의 숫자이므로 10개의 클래스"
   ]
  },
  {
   "cell_type": "code",
   "execution_count": null,
   "id": "4dbe0321",
   "metadata": {},
   "outputs": [],
   "source": [
    "# LeNet-5 신경망 모델 설계\n",
    "cnn=Sequential()\n",
    "# 3개의 합성곱층(Conv2D)과 2개의 풀링층(Maxpooling2D)으로 구성된 LeNet-5 신경망 모델을 설계\n",
    "# 숫자 의미 : (필터 개수, (필터 크기)), padding='same' : 입력과 출력의 크기를 같게 유지\n",
    "cnn.add(Conv2D(6,(5,5),padding='same',activation='relu',input_shape=(28,28,1)))\n",
    "# MaxPooling을 사용하여 2x2 크기의 필터로 2배로 다운샘플링\n",
    "cnn.add(MaxPooling2D(pool_size=(2,2))) # 풀링층은 2x2 크기의 필터를 사용하여 2배로 다운샘플링\n",
    "cnn.add(Conv2D(16,(5,5),padding='same',activation='relu'))\n",
    "cnn.add(MaxPooling2D(pool_size=(2,2)))\n",
    "cnn.add(Conv2D(120,(5,5),padding='same',activation='relu'))\n",
    "# MUlti Layer Perceptron(MLP) : Fully Connected Layer\n",
    "cnn.add(Flatten()) # 3차원 데이터를 1차원으로 변환\n",
    "cnn.add(Dense(84,activation='relu'))\n",
    "cnn.add(Dense(10,activation='softmax'))\n",
    "\n",
    "# 신경망 모델 학습\n",
    "cnn.compile(loss='categorical_crossentropy',optimizer=Adam(),metrics=['accuracy'])\n",
    "hist=cnn.fit(x_train,y_train,batch_size=128,epochs=30,validation_data=(x_test,y_test),verbose=2)\n",
    "\n",
    "# 신경망 모델 정확률 평가\n",
    "res=cnn.evaluate(x_test,y_test,verbose=0)\n",
    "print(\"정확률은\",res[1]*100)\n",
    "\n",
    "import matplotlib.pyplot as plt\n",
    "\n",
    "# 정확률 그래프\n",
    "plt.plot(hist.history['accuracy'])\n",
    "plt.plot(hist.history['val_accuracy'])\n",
    "plt.title('Model accuracy')\n",
    "plt.ylabel('Accuracy')\n",
    "plt.xlabel('Epoch')\n",
    "plt.legend(['Train','Validation'],loc='best')\n",
    "plt.grid()\n",
    "plt.show()\n",
    "\n",
    "# 손실 함수 그래프\n",
    "plt.plot(hist.history['loss'])\n",
    "plt.plot(hist.history['val_loss'])\n",
    "plt.title('Model loss')\n",
    "plt.ylabel('Loss')\n",
    "plt.xlabel('Epoch')\n",
    "plt.legend(['Train','Validation'],loc='best')\n",
    "plt.grid()\n",
    "plt.show()"
   ]
  },
  {
   "cell_type": "markdown",
   "id": "a0defd93",
   "metadata": {},
   "source": [
    "규제 기법을 추가하여 CNN 구현"
   ]
  },
  {
   "cell_type": "code",
   "execution_count": 3,
   "id": "5797640a",
   "metadata": {},
   "outputs": [],
   "source": [
    "import numpy as np\n",
    "import tensorflow as tf\n",
    "from tensorflow.keras.datasets import cifar10\n",
    "from tensorflow.keras.models import Sequential\n",
    "from tensorflow.keras.layers import Conv2D,MaxPooling2D,Flatten,Dense,Dropout\n",
    "from tensorflow.keras.optimizers import Adam\n",
    "from tensorflow.keras.preprocessing.image import ImageDataGenerator"
   ]
  },
  {
   "cell_type": "code",
   "execution_count": null,
   "id": "ef751c90",
   "metadata": {},
   "outputs": [
    {
     "name": "stdout",
     "output_type": "stream",
     "text": [
      "Downloading data from https://www.cs.toronto.edu/~kriz/cifar-10-python.tar.gz\n",
      "\u001b[1m170498071/170498071\u001b[0m \u001b[32m━━━━━━━━━━━━━━━━━━━━\u001b[0m\u001b[37m\u001b[0m \u001b[1m213s\u001b[0m 1us/step\n"
     ]
    }
   ],
   "source": [
    "# CIFAR-10 데이터셋을 읽고 신경망에 입력할 형태로 변환\n",
    "(x_train, y_train), (x_test, y_test) = cifar10.load_data() # CIFAR-10 데이터셋을 읽어옴\n",
    "# train : 50000개, test: 10000개\n",
    "x_train=x_train.astype(np.float32)/255.0 # float32형으로 변환 후 픽셀값을 0~1사이로 정규화\n",
    "x_test=x_test.astype(np.float32)/255.0  # float32형으로 변환 후 픽셀값을 0~1사이로 정규화\n",
    "y_train=tf.keras.utils.to_categorical(y_train,10)\n",
    "y_test=tf.keras.utils.to_categorical(y_test,10)"
   ]
  },
  {
   "cell_type": "code",
   "execution_count": 8,
   "id": "62af03a7",
   "metadata": {},
   "outputs": [
    {
     "data": {
      "text/plain": [
       "(50000, 32, 32, 3)"
      ]
     },
     "execution_count": 8,
     "metadata": {},
     "output_type": "execute_result"
    }
   ],
   "source": [
    "x_train.shape"
   ]
  },
  {
   "cell_type": "code",
   "execution_count": null,
   "id": "b0c0f9b3",
   "metadata": {},
   "outputs": [],
   "source": [
    "# 신경망 모델 설계\n",
    "# 4개의 합성곱층(Conv2D)과 3개의 풀링층(Maxpooling2D)으로 구성된 신경망 모델을 설계\n",
    "# 규제화 기법으로 드롭아웃(Dropout)과 데이터 증대 기법을 사용\n",
    "cnn=Sequential()\n",
    "cnn.add(Conv2D(32,(3,3),activation='relu',input_shape=(32,32,3)))\n",
    "cnn.add(Conv2D(32,(3,3),activation='relu'))\n",
    "cnn.add(MaxPooling2D(pool_size=(2,2)))\n",
    "cnn.add(Dropout(0.25))\n",
    "cnn.add(Conv2D(64,(3,3),activation='relu'))\n",
    "cnn.add(Conv2D(64,(3,3),activation='relu'))\n",
    "cnn.add(MaxPooling2D(pool_size=(2,2)))\n",
    "cnn.add(Dropout(0.25))\n",
    "cnn.add(Flatten())\n",
    "cnn.add(Dense(512,activation='relu'))\n",
    "cnn.add(Dropout(0.5))\n",
    "cnn.add(Dense(10,activation='softmax'))\n",
    "\n",
    "# 신경망 모델 학습(영상 증대기 활용)\n",
    "cnn.compile(loss='categorical_crossentropy',optimizer=Adam(),metrics=['accuracy'])\n",
    "batch_siz=128\n",
    "# 데이터 증대기(ImageDataGenerator)를 사용하여 학습 데이터에 대한 변형을 생성\n",
    "# width_shift_range : 수평 이동 범위, height_shift_range : 수직 이동 범위\n",
    "# horizontal_flip : 수평 반전 여부\n",
    "generator=ImageDataGenerator(width_shift_range=0.1,height_shift_range=0.1,horizontal_flip=True)\n",
    "hist=cnn.fit_generator(generator.flow(x_train,y_train,batch_size=batch_siz),epochs=50,validation_data=(x_test,y_test),verbose=2)\n",
    "\n",
    "# 신경망 모델 정확률 평가\n",
    "res=cnn.evaluate(x_test,y_test,verbose=0)\n",
    "print(\"정확률은\",res[1]*100)\n",
    "\n",
    "import matplotlib.pyplot as plt\n",
    "\n",
    "# 정확률 그래프\n",
    "plt.plot(hist.history['accuracy'])\n",
    "plt.plot(hist.history['val_accuracy'])\n",
    "plt.title('Model accuracy')\n",
    "plt.ylabel('Accuracy')\n",
    "plt.xlabel('Epoch')\n",
    "plt.legend(['Train','Validation'], loc='best')\n",
    "plt.grid()\n",
    "plt.show()\n",
    "\n",
    "# 손실 함수 그래프\n",
    "plt.plot(hist.history['loss'])\n",
    "plt.plot(hist.history['val_loss'])\n",
    "plt.title('Model loss')\n",
    "plt.ylabel('Loss')\n",
    "plt.xlabel('Epoch')\n",
    "plt.legend(['Train','Validation'], loc='best')\n",
    "plt.grid()\n",
    "plt.show()"
   ]
  },
  {
   "cell_type": "markdown",
   "id": "7e133ecf",
   "metadata": {},
   "source": [
    "dropout 비율을 달리 적용"
   ]
  },
  {
   "cell_type": "code",
   "execution_count": null,
   "id": "47b91a74",
   "metadata": {},
   "outputs": [],
   "source": [
    "import numpy as np\n",
    "import tensorflow as tf\n",
    "from tensorflow.keras.datasets import cifar10\n",
    "from tensorflow.keras.models import Sequential\n",
    "from tensorflow.keras.layers import Conv2D,MaxPooling2D,Flatten,Dense,Dropout\n",
    "from tensorflow.keras.optimizers import Adam\n",
    "from tensorflow.keras.preprocessing.image import ImageDataGenerator\n",
    "from sklearn.model_selection import KFold\n",
    "\n",
    "# CIFAR-10 데이터셋을 읽고 신경망에 입력할 형태로 변환\n",
    "(x_train, y_train), (x_test, y_test) = cifar10.load_data()\n",
    "x_train=x_train.astype(np.float32)/255.0\n",
    "x_test=x_test.astype(np.float32)/255.0\n",
    "y_train=tf.keras.utils.to_categorical(y_train,10)\n",
    "y_test=tf.keras.utils.to_categorical(y_test,10)\n",
    "\n",
    "# 하이퍼 매개변수 설정\n",
    "batch_siz=128 # 배치 크기\n",
    "n_epoch=10 # 에포크 수\n",
    "k=5 # k-겹 교차 검증\n",
    "\n",
    "# 드롭아웃 비율에 따라 교차 검증을 수행하고 정확률을 반환하는 함수\n",
    "def cross_validation(dropout_rate):\n",
    "    accuracy=[]\n",
    "    for train_index,val_index in KFold(k).split(x_train): # KFold를 사용하여 훈련 집합과 검증 집합으로 분할\n",
    "        # 훈련 집합과 검증 집합으로 분할\n",
    "        xtrain,xval=x_train[train_index],x_train[val_index]\n",
    "        ytrain,yval=y_train[train_index],y_train[val_index]\n",
    "\n",
    "        # 신경망 모델 설계\n",
    "        cnn=Sequential()\n",
    "        cnn.add(Conv2D(32,(3,3),activation='relu',input_shape=(32,32,3)))\n",
    "        cnn.add(Conv2D(32,(3,3),activation='relu'))\n",
    "        cnn.add(MaxPooling2D(pool_size=(2,2)))\n",
    "        cnn.add(Dropout(dropout_rate[0]))\n",
    "        cnn.add(Conv2D(64,(3,3),activation='relu'))\n",
    "        cnn.add(Conv2D(64,(3,3),activation='relu'))\n",
    "        cnn.add(MaxPooling2D(pool_size=(2,2)))\n",
    "        cnn.add(Dropout(dropout_rate[1]))\n",
    "        cnn.add(Flatten())\n",
    "        cnn.add(Dense(512,activation='relu'))\n",
    "        cnn.add(Dropout(dropout_rate[2]))\n",
    "        cnn.add(Dense(10,activation='softmax'))\n",
    "\n",
    "        # 신경망 모델을 학습하고 평가하기\n",
    "        # loss : 크로스 엔트로피 손실 함수, optimizer : Adam optimizer 사용\n",
    "        cnn.compile(loss='categorical_crossentropy',optimizer=Adam(),metrics=['accuracy'])\n",
    "        cnn.fit(xtrain,ytrain,batch_size=batch_siz,epochs=n_epoch,verbose=0)\n",
    "        accuracy.append(cnn.evaluate(xval,yval,verbose=0)[1])\n",
    "    return accuracy\n",
    "\n",
    "# 드롭아웃 비율을 달리하며 신경망을 평가\n",
    "acc_without_dropout=cross_validation([0.0,0.0,0.0])\n",
    "acc_with_dropout=cross_validation([0.25,0.25,0.5]) # 드롭아웃 비율을 0.25, 0.25, 0.5로 설정\n",
    "\n",
    "print(\"드롭아웃 적용 안 할 때:\",np.array(acc_without_dropout).mean()) # 드롭아웃 적용 안 할 때 평균 정확률\n",
    "print(\"드롭아웃 적용할 때:\",np.array(acc_with_dropout).mean()) # 드롭아웃 적용할 때 평균 정확률\n",
    "\n",
    "import matplotlib.pyplot as plt\n",
    "\n",
    "# 박스 플롯으로 정확률 표시\n",
    "plt.grid()\n",
    "plt.boxplot([acc_without_dropout,acc_with_dropout],labels=[\"Without Dropout\",\"With Dropout\"])"
   ]
  },
  {
   "cell_type": "markdown",
   "id": "b816dab9",
   "metadata": {},
   "source": [
    "배치 사이즈와 에폭 수 조정"
   ]
  },
  {
   "cell_type": "code",
   "execution_count": null,
   "id": "7eb53691",
   "metadata": {},
   "outputs": [],
   "source": [
    "# 배치 사이즈와 에폭 수에 따라 교차 검증을 수행하고 정확률을 반환하는 함수\n",
    "def cross_validation_with_batch_and_epoch(batch_size, epochs):\n",
    "  accuracy = []\n",
    "  for train_index, val_index in KFold(k).split(x_train):  # KFold를 사용하여 훈련 집합과 검증 집합으로 분할\n",
    "    # 훈련 집합과 검증 집합으로 분할\n",
    "    xtrain, xval = x_train[train_index], x_train[val_index]\n",
    "    ytrain, yval = y_train[train_index], y_train[val_index]\n",
    "\n",
    "    # 신경망 모델 설계\n",
    "    cnn = Sequential()\n",
    "    cnn.add(Conv2D(32, (3, 3), activation='relu', input_shape=(32, 32, 3)))\n",
    "    cnn.add(Conv2D(32, (3, 3), activation='relu'))\n",
    "    cnn.add(MaxPooling2D(pool_size=(2, 2)))\n",
    "    cnn.add(Dropout(0.25))\n",
    "    cnn.add(Conv2D(64, (3, 3), activation='relu'))\n",
    "    cnn.add(Conv2D(64, (3, 3), activation='relu'))\n",
    "    cnn.add(MaxPooling2D(pool_size=(2, 2)))\n",
    "    cnn.add(Dropout(0.25))\n",
    "    cnn.add(Flatten())\n",
    "    cnn.add(Dense(512, activation='relu'))\n",
    "    cnn.add(Dropout(0.5))\n",
    "    cnn.add(Dense(10, activation='softmax'))\n",
    "\n",
    "    # 신경망 모델을 학습하고 평가하기\n",
    "    cnn.compile(loss='categorical_crossentropy', optimizer=Adam(), metrics=['accuracy'])\n",
    "    cnn.fit(xtrain, ytrain, batch_size=batch_size, epochs=epochs, verbose=0)\n",
    "    accuracy.append(cnn.evaluate(xval, yval, verbose=0)[1])\n",
    "  return accuracy\n"
   ]
  },
  {
   "cell_type": "code",
   "execution_count": null,
   "id": "0df113df",
   "metadata": {},
   "outputs": [],
   "source": [
    "# 배치 사이즈와 에폭 수를 저장하는 리스트\n",
    "batch_sizes = [64, 128, 256]\n",
    "epochs_list = [10, 20, 5]\n",
    "\n",
    "  # 각 배치 사이즈와 에폭 수에 대해 신경망을 평가\n",
    "accuracies = []\n",
    "for batch_size, epochs in zip(batch_sizes, epochs_list):\n",
    "  acc = cross_validation_with_batch_and_epoch(batch_size=batch_size, epochs=epochs)\n",
    "  accuracies.append((batch_size, epochs, np.array(acc).mean()))\n",
    "\n",
    "  # 결과 출력\n",
    "for batch_size, epochs, mean_acc in accuracies:\n",
    "  print(f\"배치 사이즈: {batch_size}, 에폭 수: {epochs}, 평균 정확률: {mean_acc}\")\n",
    "\n",
    "  # 박스 플롯으로 정확률 표시\n",
    "plt.grid()\n",
    "plt.boxplot([cross_validation_with_batch_and_epoch(batch_size=batch, epochs=epoch) for batch, epoch in zip(batch_sizes, epochs_list)],\n",
    "      labels=[f\"Batch {batch}, Epoch {epoch}\" for batch, epoch in zip(batch_sizes, epochs_list)])\n",
    "plt.title(\"Batch Size and Epoch Comparison\")\n",
    "plt.ylabel(\"Accuracy\")\n",
    "plt.show()"
   ]
  }
 ],
 "metadata": {
  "kernelspec": {
   "display_name": "Python 3",
   "language": "python",
   "name": "python3"
  },
  "language_info": {
   "codemirror_mode": {
    "name": "ipython",
    "version": 3
   },
   "file_extension": ".py",
   "mimetype": "text/x-python",
   "name": "python",
   "nbconvert_exporter": "python",
   "pygments_lexer": "ipython3",
   "version": "3.12.0"
  }
 },
 "nbformat": 4,
 "nbformat_minor": 5
}
