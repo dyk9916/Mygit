{
 "cells": [
  {
   "cell_type": "code",
   "execution_count": 1,
   "id": "41393cf7",
   "metadata": {},
   "outputs": [],
   "source": [
    "from sklearn import datasets\n",
    "from sklearn import svm\n",
    "from sklearn.model_selection import train_test_split\n",
    "import numpy as np"
   ]
  },
  {
   "cell_type": "code",
   "execution_count": 5,
   "id": "f8ef141d",
   "metadata": {},
   "outputs": [],
   "source": [
    "digit = datasets.load_digits()\n",
    "x_train, x_test, y_train, y_test = train_test_split(digit.data, digit.target, train_size=0.6, random_state=42)"
   ]
  },
  {
   "cell_type": "code",
   "execution_count": 6,
   "id": "8e3891d6",
   "metadata": {},
   "outputs": [
    {
     "data": {
      "text/plain": [
       "(1078,)"
      ]
     },
     "execution_count": 6,
     "metadata": {},
     "output_type": "execute_result"
    }
   ],
   "source": [
    "y_train.shape"
   ]
  },
  {
   "cell_type": "code",
   "execution_count": null,
   "id": "168d07c3",
   "metadata": {},
   "outputs": [],
   "source": [
    "s = svm.SVC(gamma=0.001)\n",
    "s.fit(x_train, y_train)\n",
    "\n",
    "res = s.predict(x_test) # 예측값"
   ]
  },
  {
   "cell_type": "code",
   "execution_count": 12,
   "id": "37669038",
   "metadata": {},
   "outputs": [
    {
     "data": {
      "text/plain": [
       "719"
      ]
     },
     "execution_count": 12,
     "metadata": {},
     "output_type": "execute_result"
    }
   ],
   "source": [
    "len(res)"
   ]
  },
  {
   "cell_type": "code",
   "execution_count": null,
   "id": "f3ca872e",
   "metadata": {},
   "outputs": [
    {
     "name": "stdout",
     "output_type": "stream",
     "text": [
      "[[67.  0.  0.  0.  0.  0.  0.  0.  0.  0.]\n",
      " [ 0. 72.  0.  0.  0.  0.  0.  0.  0.  0.]\n",
      " [ 0.  0. 66.  0.  0.  0.  0.  0.  0.  0.]\n",
      " [ 0.  0.  0. 69.  0.  0.  0.  0.  0.  1.]\n",
      " [ 0.  0.  0.  0. 78.  0.  0.  0.  0.  0.]\n",
      " [ 0.  0.  0.  1.  0. 83.  0.  0.  0.  0.]\n",
      " [ 0.  0.  0.  0.  0.  0. 69.  0.  0.  0.]\n",
      " [ 0.  0.  0.  0.  0.  0.  0. 70.  0.  1.]\n",
      " [ 0.  0.  0.  1.  0.  0.  0.  0. 65.  0.]\n",
      " [ 0.  0.  0.  0.  0.  0.  0.  1.  0. 75.]]\n"
     ]
    }
   ],
   "source": [
    "# 혼동 행렬 구함\n",
    "conf = np.zeros((10, 10))\n",
    "\n",
    "for i in range(len(res)):\n",
    "  conf[res[i]][y_test[i]] += 1 # 예측값이 행, 실제값이 열\n",
    "  \n",
    "print(conf)"
   ]
  },
  {
   "cell_type": "markdown",
   "id": "ed564727",
   "metadata": {},
   "source": [
    "부류 3에 속하는 71개 샘플 중 69개를 3, 1개를 5, 1개를 8로 인식"
   ]
  },
  {
   "cell_type": "code",
   "execution_count": 15,
   "id": "925a3c86",
   "metadata": {},
   "outputs": [],
   "source": [
    "from sklearn.model_selection import cross_val_score"
   ]
  },
  {
   "cell_type": "code",
   "execution_count": 17,
   "id": "d48dae41",
   "metadata": {},
   "outputs": [
    {
     "name": "stdout",
     "output_type": "stream",
     "text": [
      "[0.975      0.95       0.98328691 0.99164345 0.96100279]\n",
      "0.9721866295264624\n",
      "0.015013488295959767\n"
     ]
    }
   ],
   "source": [
    "digit = datasets.load_digits()\n",
    "s= svm.SVC(gamma=0.001)\n",
    "accuracy = cross_val_score(s, digit.data, digit.target, cv=5) # 5겹 교차검증\n",
    "\n",
    "print(accuracy) # 5개의 정확도\n",
    "print(accuracy.mean()) # 평균 정확도\n",
    "print(accuracy.std()) # 표준편차"
   ]
  },
  {
   "cell_type": "code",
   "execution_count": null,
   "id": "8a58f4f1",
   "metadata": {},
   "outputs": [
    {
     "name": "stdout",
     "output_type": "stream",
     "text": [
      "Accuracy: 1.0\n"
     ]
    }
   ],
   "source": [
    "# 기본적인 SVC 모델 학습\n",
    "from sklearn.svm import SVC\n",
    "from sklearn.datasets import load_iris\n",
    "from sklearn.model_selection import train_test_split\n",
    "# 데이터 로드\n",
    "iris = load_iris()\n",
    "X_train, X_test, y_train, y_test = train_test_split(iris.data, iris.target, test_size=0.3, random_state=42)\n",
    "# SVM 모델 생성 (기본: rbf 커널)\n",
    "clf = SVC(C=1.0, kernel='rbf', gamma='scale') #C는 하이퍼 파라미터이다. C를 크게 하면 과적합이 발생할 수 있다.\n",
    "# C를 작게 하면 과소적합이 발생할 수 있다.\n",
    "# gamma는 커널의 영향을 미치는 하이퍼 파라미터이다. gamma를 크게 하면 과적합이 발생할 수 있다.\n",
    "# kenel은 커널 함수를 지정하는 하이퍼 파라미터이다. 기본값은 rbf이다.\n",
    "\n",
    "# 모델 학습\n",
    "clf.fit(X_train, y_train)\n",
    "# 예측\n",
    "y_pred = clf.predict(X_test)\n",
    "# 정확도 출력\n",
    "from sklearn.metrics import accuracy_score\n",
    "print(\"Accuracy:\", accuracy_score(y_test, y_pred))"
   ]
  }
 ],
 "metadata": {
  "kernelspec": {
   "display_name": "Python 3",
   "language": "python",
   "name": "python3"
  },
  "language_info": {
   "codemirror_mode": {
    "name": "ipython",
    "version": 3
   },
   "file_extension": ".py",
   "mimetype": "text/x-python",
   "name": "python",
   "nbconvert_exporter": "python",
   "pygments_lexer": "ipython3",
   "version": "3.12.0"
  }
 },
 "nbformat": 4,
 "nbformat_minor": 5
}
