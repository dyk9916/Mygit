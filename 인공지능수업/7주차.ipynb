{
 "cells": [
  {
   "cell_type": "code",
   "execution_count": 1,
   "id": "9d301e75",
   "metadata": {},
   "outputs": [],
   "source": [
    "import numpy as np\n",
    "import tensorflow as tf\n",
    "from PIL import Image\n",
    "import os"
   ]
  },
  {
   "cell_type": "code",
   "execution_count": null,
   "id": "09895401",
   "metadata": {},
   "outputs": [
    {
     "name": "stderr",
     "output_type": "stream",
     "text": [
      "c:\\Users\\KimDongyoung\\AppData\\Local\\Programs\\Python\\Python312\\Lib\\site-packages\\keras\\src\\layers\\convolutional\\base_conv.py:107: UserWarning: Do not pass an `input_shape`/`input_dim` argument to a layer. When using Sequential models, prefer using an `Input(shape)` object as the first layer in the model instead.\n",
      "  super().__init__(activity_regularizer=activity_regularizer, **kwargs)\n",
      "c:\\Users\\KimDongyoung\\AppData\\Local\\Programs\\Python\\Python312\\Lib\\site-packages\\keras\\src\\optimizers\\base_optimizer.py:33: UserWarning: Argument `decay` is no longer supported and will be ignored.\n",
      "  warnings.warn(\n",
      "WARNING:absl:Compiled the loaded model, but the compiled metrics have yet to be built. `model.compile_metrics` will be empty until you train or evaluate the model.\n",
      "WARNING:absl:Error in loading the saved optimizer state. As a result, your model is starting with a freshly initialized optimizer.\n"
     ]
    }
   ],
   "source": [
    "# 학습된 모델 불러오기\n",
    "cnn = tf.keras.models.load_model(\"D:/김동영/source_3/ch7/my_cnn_for_deploy.h5\") # \"D:/김동영/source_3/ch7/my_cnn_for_deploy.h5\"\n",
    "\n",
    "# class\n",
    "class_names=['airplane','automobile','bird','cat','deer','dog','flog','horse','ship','truck'] # CIFAR-10의 부류 이름"
   ]
  },
  {
   "cell_type": "markdown",
   "id": "7f215e81",
   "metadata": {},
   "source": [
    "for fios.listdir(\"D:/김동영/source_3/ch7/test_images\")"
   ]
  },
  {
   "cell_type": "code",
   "execution_count": 7,
   "id": "275a4ae1",
   "metadata": {},
   "outputs": [
    {
     "data": {
      "text/plain": [
       "['01.jpg',\n",
       " '02.jpg',\n",
       " '03.jpg',\n",
       " '04.jpg',\n",
       " '05.jpg',\n",
       " '06.jpg',\n",
       " '07.jpg',\n",
       " '08.jpg',\n",
       " '09.jpg',\n",
       " '10.jpg',\n",
       " '11.jpg',\n",
       " '12.jpg',\n",
       " 'label.txt']"
      ]
     },
     "execution_count": 7,
     "metadata": {},
     "output_type": "execute_result"
    }
   ],
   "source": [
    "os.listdir(\"D:/김동영/source_3/ch7/test_images\")"
   ]
  },
  {
   "cell_type": "code",
   "execution_count": 8,
   "id": "d329d413",
   "metadata": {},
   "outputs": [
    {
     "name": "stdout",
     "output_type": "stream",
     "text": [
      "없음음\n",
      "없음음\n",
      "없음음\n",
      "없음음\n",
      "없음음\n",
      "없음음\n",
      "없음음\n",
      "없음음\n",
      "없음음\n",
      "없음음\n",
      "없음음\n",
      "없음음\n"
     ]
    }
   ],
   "source": [
    "for filename in os.listdir(\"D:/김동영/source_3/ch7/test_images\"):\n",
    "  if 'jpg' in filename:\n",
    "    print('없음음')"
   ]
  },
  {
   "cell_type": "code",
   "execution_count": 18,
   "id": "d515435d",
   "metadata": {},
   "outputs": [],
   "source": [
    "# # 테스트 이미지 경로\n",
    "# test_images_path = \"D:/김동영/source_3/ch7/test_images\"\n",
    "\n",
    "# for filename in os.listdir(test_images_path): # 폴더에서 테스트 영상 읽기, \"D:/김동영/source_3/ch7/test_images\"\n",
    "#     if 'jpg' not in filename:\n",
    "#         continue\n",
    "#     img=Image.open(\"./test_images/\"+filename)\n",
    "#     x=np.asarray(img.resize([32,32]))/255.0\n",
    "#     x_test.append(x)\n",
    "# x_test=np.asarray(x_test)\n",
    "\n",
    "\n",
    "# 테스트 이미지 경로\n",
    "test_images_path = \"D:/김동영/source_3/ch7/test_images\"\n",
    "\n",
    "# 경로가 존재하는지 확인\n",
    "if not os.path.exists(test_images_path):\n",
    "    print(f\"경로가 존재하지 않습니다: {test_images_path}\")\n",
    "else:\n",
    "    x_test = []\n",
    "    img_orig = []\n",
    "    fname=[]\n",
    "    for filename in os.listdir(test_images_path):\n",
    "        if 'jpg' not in filename:\n",
    "            continue\n",
    "        img_path = os.path.join(test_images_path, filename)\n",
    "        try:\n",
    "            img = Image.open(img_path)\n",
    "            img_orig.append(img)\n",
    "            fname.append(filename)\n",
    "            x = np.asarray(img.resize([32, 32])) / 255.0\n",
    "            x_test.append(x)\n",
    "        except FileNotFoundError:\n",
    "            print(f\"파일을 찾을 수 없습니다: {img_path}\")\n",
    "    x_test = np.asarray(x_test)"
   ]
  },
  {
   "cell_type": "code",
   "execution_count": 19,
   "id": "dfc032b7",
   "metadata": {},
   "outputs": [
    {
     "name": "stdout",
     "output_type": "stream",
     "text": [
      "\u001b[1m1/1\u001b[0m \u001b[32m━━━━━━━━━━━━━━━━━━━━\u001b[0m\u001b[37m\u001b[0m \u001b[1m0s\u001b[0m 17ms/step\n",
      "[[9.99998331e-01 7.03214653e-10 1.46756221e-07 1.93375134e-12\n",
      "  6.62823268e-12 2.13516267e-16 2.73792415e-16 2.43426999e-15\n",
      "  1.55774637e-06 2.49173546e-11]\n",
      " [1.09631130e-02 4.53655139e-06 6.99034810e-01 2.02959627e-02\n",
      "  6.36369959e-02 3.69342451e-04 2.05625728e-01 1.00397201e-05\n",
      "  5.60408225e-05 3.40300630e-06]\n",
      " [1.23458587e-22 1.00000000e+00 1.19328093e-26 3.13601689e-35\n",
      "  0.00000000e+00 8.58989197e-36 1.87039172e-31 1.27597485e-36\n",
      "  7.94555900e-22 1.55549087e-12]\n",
      " [1.57414273e-12 1.33295241e-11 3.43926598e-09 9.98561680e-01\n",
      "  3.64418847e-05 1.07682834e-03 3.25112662e-04 7.93281607e-10\n",
      "  2.05789257e-11 8.46088061e-11]\n",
      " [1.61514464e-08 1.64547358e-13 1.11450704e-09 1.02755093e-09\n",
      "  9.99984026e-01 1.20494548e-09 2.08394523e-17 1.59743558e-05\n",
      "  2.37799214e-14 8.82930007e-10]\n",
      " [4.59831604e-08 1.10475638e-08 5.81572019e-03 4.25285471e-05\n",
      "  1.09846027e-04 9.79131579e-01 6.54308323e-08 1.48999747e-02\n",
      "  9.16819745e-11 2.79219847e-07]\n",
      " [2.84136892e-09 6.35167680e-07 1.05551931e-06 7.99173394e-10\n",
      "  9.05011603e-08 5.00409297e-11 9.99978900e-01 9.08631978e-15\n",
      "  1.90524861e-05 1.76665907e-07]\n",
      " [1.58835123e-09 2.72921741e-14 6.15731871e-04 4.25829698e-04\n",
      "  9.97345924e-01 2.89560467e-05 1.58333045e-03 2.11494068e-07\n",
      "  3.82964965e-10 5.60520529e-14]\n",
      " [8.51260702e-05 2.51250250e-14 7.80307374e-09 8.94352084e-13\n",
      "  2.48026000e-09 3.26251016e-13 5.97436732e-15 7.06608302e-14\n",
      "  9.99914885e-01 1.75113645e-12]\n",
      " [7.83764608e-06 6.45432655e-13 6.15163628e-13 2.17187176e-14\n",
      "  1.96777864e-17 9.76568333e-20 4.86157472e-17 1.38637559e-18\n",
      "  9.99992132e-01 6.86473309e-11]\n",
      " [7.90944705e-06 7.61599352e-08 6.64338486e-15 1.58468182e-13\n",
      "  8.61801595e-18 8.11252781e-21 8.14534417e-19 1.22956598e-19\n",
      "  2.25343043e-03 9.97738600e-01]\n",
      " [2.26661232e-05 6.61735207e-13 9.07098074e-05 3.50136543e-05\n",
      "  4.09612439e-05 1.60751841e-03 3.45485862e-09 9.98202920e-01\n",
      "  6.16165174e-10 2.20860997e-07]]\n"
     ]
    }
   ],
   "source": [
    "pred=cnn.predict(x_test) # 예측\n",
    "print(pred)"
   ]
  },
  {
   "cell_type": "code",
   "execution_count": 20,
   "id": "5ee43a0f",
   "metadata": {},
   "outputs": [
    {
     "data": {
      "image/png": "[encoded data removed]",
      "text/plain": [
       "<Figure size 1800x400 with 24 Axes>"
      ]
     },
     "metadata": {},
     "output_type": "display_data"
    }
   ],
   "source": [
    "import matplotlib.pyplot as plt\n",
    "\n",
    "n=len(x_test)\n",
    "plt.figure(figsize=(18,4))\n",
    "\n",
    "for i in range(n):\n",
    "    plt.subplot(2,n,i+1)\n",
    "    plt.imshow(x_test[i])\n",
    "    plt.xticks([]);plt.yticks([])\n",
    "    plt.subplot(2,n,n+i+1)\n",
    "    if i==0:\n",
    "        plt.barh(class_names,pred[i])\n",
    "    else:\n",
    "        plt.barh(['a','A','b','c','d','D','f','h','s','t'],pred[i])\n",
    "    plt.xticks([])"
   ]
  },
  {
   "cell_type": "code",
   "execution_count": 22,
   "id": "a59fd450",
   "metadata": {},
   "outputs": [],
   "source": [
    "os.chdir('D:/김동영/source_3/ch7/test_images')\n",
    "if not os.path.isdir('class_buckets'):\n",
    "    os.mkdir('class_buckets')\n",
    "os.chdir('class_buckets')\n",
    "for i in range(len(class_names)): # 부류별로 폴더 만들기\n",
    "    if not os.path.isdir(class_names[i]):\n",
    "        os.mkdir(class_names[i])\n",
    "\n",
    "for i in range(len(x_test)): # 인식 결과에 따라 폴더에 저장\n",
    "    folder_name=class_names[np.argmax(pred[i])]\n",
    "    os.chdir(folder_name)\n",
    "    img_orig[i].save(fname[i])\n",
    "    os.chdir('..')"
   ]
  },
  {
   "cell_type": "code",
   "execution_count": 27,
   "id": "a50c07e2",
   "metadata": {},
   "outputs": [],
   "source": [
    "import numpy as np\n",
    "import tensorflow as tf\n",
    "import tkinter as tk\n",
    "from tkinter import filedialog\n",
    "from PIL import Image, ImageTk\n",
    "import winsound\n",
    "from gtts import gTTS\n",
    "import playsound\n",
    "import os"
   ]
  },
  {
   "cell_type": "code",
   "execution_count": null,
   "id": "e57af649",
   "metadata": {},
   "outputs": [
    {
     "name": "stderr",
     "output_type": "stream",
     "text": [
      "WARNING:absl:Compiled the loaded model, but the compiled metrics have yet to be built. `model.compile_metrics` will be empty until you train or evaluate the model.\n",
      "WARNING:absl:Error in loading the saved optimizer state. As a result, your model is starting with a freshly initialized optimizer.\n"
     ]
    }
   ],
   "source": [
    "cnn=tf.keras.models.load_model(\"D:/김동영/source_3/ch7/my_cnn_for_deploy.h5\") # 학습된 모델 불러오기\n",
    "\n",
    "class_names_en=['airplane','automobile','bird','cat','deer','dog','frog','horse','ship','truck'] # CIFAR-10의 부류 이름(영어)\n",
    "class_names_fr=['avion','voiture','oiseau','chatte','biche','chienne','grenouille','jument','navire','un camion'] # CIFAR-10의 부류 이름(프랑스어)\n",
    "class_names_de=['Flugzeug','Automobil','Vogel','Katze','Hirsch','Hund','Frosch','Pferd','Schiff','LKW'] # CIFAR-10의 부류 이름(독일어)\n",
    "\n",
    "class_id=0\n",
    "tk_img=''"
   ]
  },
  {
   "cell_type": "code",
   "execution_count": 33,
   "id": "cbdeb5c8",
   "metadata": {},
   "outputs": [],
   "source": [
    "def process_image(): # 사용자가 선택한 영상을 인식하고 결과를 저장\n",
    "    global class_id, tk_img\n",
    "\n",
    "    fname=filedialog.askopenfilename() # 사용자가 폴더에서 영상을 선택하게 함\n",
    "    img=Image.open(fname)\n",
    "    tk_img=img.resize([128,128])\n",
    "    tk_img=ImageTk.PhotoImage(tk_img)\n",
    "    canvas.create_image((canvas.winfo_width()/2,canvas.winfo_height()/2),image=tk_img,anchor='center')\n",
    "\n",
    "    x_test=[]\n",
    "    x=np.asarray(img.resize([32,32]))/255.0\n",
    "    x_test.append(x)\n",
    "    x_test=np.asarray(x_test)\n",
    "    res=cnn.predict(x_test) # 영상 인식\n",
    "    class_id=np.argmax(res)\n",
    "    label_en['text']='영어: '+class_names_en[class_id] # 레이블 위젯용 텍스트 만들기\n",
    "    label_fr['text']='프랑스어: '+class_names_fr[class_id]\n",
    "    label_de['text']='독일어: '+class_names_de[class_id]\n",
    "    winsound.Beep(frequency=500,duration=250)\n",
    "\n",
    "def tts_english(): # 영어로 들려주기\n",
    "    tts=gTTS(text=class_names_en[class_id],lang='en')\n",
    "    if os.path.isfile('word.mp3'): os.remove('word.mp3')\n",
    "    tts.save('word.mp3')\n",
    "    playsound.playsound('word.mp3',True)\n",
    "\n",
    "def tts_french(): # 프랑스어로 들려주기\n",
    "    tts=gTTS(text=class_names_fr[class_id],lang='fr')\n",
    "    if os.path.isfile('word.mp3'): os.remove('word.mp3')\n",
    "    tts.save('word.mp3')\n",
    "    playsound.playsound('word.mp3',True)\n",
    "\n",
    "def tts_deutsch(): # 독일어로 들려주기\n",
    "    tts=gTTS(text=class_names_de[class_id],lang='de')\n",
    "    if os.path.isfile('word.mp3'): os.remove('word.mp3')\n",
    "    tts.save('word.mp3')\n",
    "    playsound.playsound('word.mp3',True)\n",
    "\n",
    "def quit_program(): # 프로그램 종료\n",
    "    win.destroy()\n"
   ]
  },
  {
   "cell_type": "code",
   "execution_count": 34,
   "id": "ba9a6ccc",
   "metadata": {},
   "outputs": [
    {
     "data": {
      "text/plain": [
       "''"
      ]
     },
     "execution_count": 34,
     "metadata": {},
     "output_type": "execute_result"
    }
   ],
   "source": [
    "win=tk.Tk()\n",
    "win.title('다국어 단어 공부')\n",
    "win.geometry('512x500')"
   ]
  },
  {
   "cell_type": "code",
   "execution_count": 36,
   "id": "a65e5688",
   "metadata": {},
   "outputs": [],
   "source": [
    "process_button=tk.Button(win,text='영상 선택',command=process_image) # 위젯 생성\n",
    "quit_button=tk.Button(win,text='끝내기',command=quit_program)\n",
    "canvas=tk.Canvas(win,width=256,height=256,bg='cyan',bd=4)\n",
    "label_en=tk.Label(win,width=16,height=1,bg='yellow',bd=4,text='영어',anchor='w')\n",
    "label_fr=tk.Label(win,width=16,height=1,bg='yellow',bd=4,text='프랑스어',anchor='w')\n",
    "label_de=tk.Label(win,width=16,height=1,bg='yellow',bd=4,text='독일어',anchor='w')\n",
    "tts_en=tk.Button(win,text='듣기',command=tts_english)\n",
    "tts_fr=tk.Button(win,text='듣기',command=tts_french)\n",
    "tts_de=tk.Button(win,text='듣기',command=tts_deutsch)\n",
    "\n",
    "process_button.grid(row=0,column=0) # 위젯 배치\n",
    "quit_button.grid(row=1,column=0)\n",
    "canvas.grid(row=0,column=1)\n",
    "label_en.grid(row=1,column=1,sticky='e')\n",
    "label_fr.grid(row=2,column=1,sticky='e')\n",
    "label_de.grid(row=3,column=1,sticky='e')\n",
    "tts_en.grid(row=1,column=2,sticky='w')\n",
    "tts_fr.grid(row=2,column=2,sticky='w')\n",
    "tts_de.grid(row=3,column=2,sticky='w')"
   ]
  },
  {
   "cell_type": "code",
   "execution_count": 37,
   "id": "7969d104",
   "metadata": {},
   "outputs": [],
   "source": [
    "win.mainloop() # GUI 실행"
   ]
  },
  {
   "cell_type": "code",
   "execution_count": 39,
   "id": "849b1ead",
   "metadata": {},
   "outputs": [],
   "source": [
    "import numpy as np\n",
    "import tensorflow as tf\n",
    "import tkinter as tk\n",
    "from tkinter import filedialog\n",
    "from PIL import Image, ImageTk\n",
    "import winsound\n",
    "from gtts import gTTS\n",
    "import playsound\n",
    "import os\n",
    "import cv2"
   ]
  },
  {
   "cell_type": "code",
   "execution_count": 41,
   "id": "f778e1e4",
   "metadata": {},
   "outputs": [
    {
     "name": "stderr",
     "output_type": "stream",
     "text": [
      "WARNING:absl:Compiled the loaded model, but the compiled metrics have yet to be built. `model.compile_metrics` will be empty until you train or evaluate the model.\n",
      "WARNING:absl:Error in loading the saved optimizer state. As a result, your model is starting with a freshly initialized optimizer.\n"
     ]
    },
    {
     "name": "stdout",
     "output_type": "stream",
     "text": [
      "\u001b[1m1/1\u001b[0m \u001b[32m━━━━━━━━━━━━━━━━━━━━\u001b[0m\u001b[37m\u001b[0m \u001b[1m0s\u001b[0m 64ms/step\n"
     ]
    }
   ],
   "source": [
    "cnn=tf.keras.models.load_model(\"D:/김동영/source_3/ch7/my_cnn_for_deploy.h5\")\n",
    "\n",
    "class_names_en=['airplane','automobile','bird','cat','deer','dog','frog','horse','ship','truck']\n",
    "class_names_fr=['avion','voiture','oiseau','chatte','biche','chienne','grenouille','jument','navire','un camion']\n",
    "class_names_de=['Flugzeug','Automobil','Vogel','Katze','Hirsch','Hund','Frosch','Pferd','Schiff','LKW']\n",
    "\n",
    "class_id=0\n",
    "tk_img=''\n",
    "\n",
    "def process_video():\n",
    "    global class_id, tk_img\n",
    "\n",
    "    video=cv2.VideoCapture(0)\n",
    "    while video.isOpened():\n",
    "        success,frame=video.read()\n",
    "        if success:\n",
    "            cv2.imshow('Camera',frame)\n",
    "            key=cv2.waitKey(1) & 0xFF\n",
    "            if key==27:\n",
    "                break\n",
    "\n",
    "    video.release()\n",
    "    cv2.destroyAllWindows()\n",
    "\n",
    "    frame=cv2.cvtColor(frame,cv2.COLOR_BGR2RGB)\n",
    "    img=Image.fromarray(frame)\n",
    "\n",
    "    tk_img=img.resize([128,128])\n",
    "    tk_img=ImageTk.PhotoImage(tk_img)\n",
    "    canvas.create_image((canvas.winfo_width()/2,canvas.winfo_height()/2),image=tk_img,anchor='center')\n",
    "\n",
    "    x_test=[]\n",
    "    x=np.asarray(img.resize([32,32]))/255.0\n",
    "    x_test.append(x)\n",
    "    x_test=np.asarray(x_test)\n",
    "    res=cnn.predict(x_test)\n",
    "    class_id=np.argmax(res)\n",
    "    label_en['text']='영어: '+class_names_en[class_id]\n",
    "    label_fr['text']='프랑스어: '+class_names_fr[class_id]\n",
    "    label_de['text']='독일어: '+class_names_de[class_id]\n",
    "    winsound.Beep(frequency=500,duration=250)\n",
    "\n",
    "def tts_english():\n",
    "    tts=gTTS(text=class_names_en[class_id],lang='en')\n",
    "    if os.path.isfile('word.mp3'): os.remove('word.mp3')\n",
    "    tts.save('word.mp3')\n",
    "    playsound.playsound('word.mp3',True)\n",
    "\n",
    "def tts_french():\n",
    "    tts=gTTS(text=class_names_fr[class_id],lang='fr')\n",
    "    if os.path.isfile('word.mp3'): os.remove('word.mp3')\n",
    "    tts.save('word.mp3')\n",
    "    playsound.playsound('word.mp3',True)\n",
    "\n",
    "def tts_deutsch():\n",
    "    tts=gTTS(text=class_names_de[class_id],lang='de')\n",
    "    if os.path.isfile('word.mp3'): os.remove('word.mp3')\n",
    "    tts.save('word.mp3')\n",
    "    playsound.playsound('word.mp3',True)\n",
    "\n",
    "def quit_program():\n",
    "    win.destroy()\n",
    "\n",
    "win=tk.Tk()\n",
    "win.title('다국어 단어 공부')\n",
    "win.geometry('512x500')\n",
    "\n",
    "process_button=tk.Button(win,text='비디오 선택',command=process_video)\n",
    "quit_button=tk.Button(win,text='끝내기',command=quit_program)\n",
    "canvas=tk.Canvas(win,width=256,height=256,bg='cyan',bd=4)\n",
    "label_en=tk.Label(win,width=16,height=1,bg='yellow',bd=4,text='영어',anchor='w')\n",
    "label_fr=tk.Label(win,width=16,height=1,bg='yellow',bd=4,text='프랑스어',anchor='w')\n",
    "label_de=tk.Label(win,width=16,height=1,bg='yellow',bd=4,text='독일어',anchor='w')\n",
    "tts_en=tk.Button(win,text='듣기',command=tts_english)\n",
    "tts_fr=tk.Button(win,text='듣기',command=tts_french)\n",
    "tts_de=tk.Button(win,text='듣기',command=tts_deutsch)\n",
    "\n",
    "process_button.grid(row=0,column=0)\n",
    "quit_button.grid(row=1,column=0)\n",
    "canvas.grid(row=0,column=1)\n",
    "label_en.grid(row=1,column=1,sticky='e')\n",
    "label_fr.grid(row=2,column=1,sticky='e')\n",
    "label_de.grid(row=3,column=1,sticky='e')\n",
    "tts_en.grid(row=1,column=2,sticky='w')\n",
    "tts_fr.grid(row=2,column=2,sticky='w')\n",
    "tts_de.grid(row=3,column=2,sticky='w')\n",
    "\n",
    "win.mainloop()"
   ]
  },
  {
   "cell_type": "code",
   "execution_count": 3,
   "id": "3ac54baa",
   "metadata": {},
   "outputs": [],
   "source": [
    "import numpy as np\n",
    "import cv2\n",
    "import winsound\n",
    "import os"
   ]
  },
  {
   "cell_type": "code",
   "execution_count": 4,
   "id": "3d542e4b",
   "metadata": {},
   "outputs": [
    {
     "ename": "error",
     "evalue": "OpenCV(4.10.0) D:\\a\\opencv-python\\opencv-python\\opencv\\modules\\dnn\\src\\darknet\\darknet_importer.cpp:210: error: (-212:Parsing error) Failed to open NetParameter file: D:/김동영/source_3/ch7/yolov3.cfg in function 'cv::dnn::dnn4_v20240521::readNetFromDarknet'\n",
     "output_type": "error",
     "traceback": [
      "\u001b[1;31m---------------------------------------------------------------------------\u001b[0m",
      "\u001b[1;31merror\u001b[0m                                     Traceback (most recent call last)",
      "Cell \u001b[1;32mIn[4], line 11\u001b[0m\n\u001b[0;32m      8\u001b[0m     \u001b[38;5;28mprint\u001b[39m(\u001b[38;5;124mf\u001b[39m\u001b[38;5;124m\"\u001b[39m\u001b[38;5;124mcfg 파일이 존재하지 않습니다: \u001b[39m\u001b[38;5;132;01m{\u001b[39;00mcfg_path\u001b[38;5;132;01m}\u001b[39;00m\u001b[38;5;124m\"\u001b[39m)\n\u001b[0;32m     10\u001b[0m \u001b[38;5;66;03m# YOLO 모델 로드\u001b[39;00m\n\u001b[1;32m---> 11\u001b[0m yolo_model \u001b[38;5;241m=\u001b[39m \u001b[43mcv2\u001b[49m\u001b[38;5;241;43m.\u001b[39;49m\u001b[43mdnn\u001b[49m\u001b[38;5;241;43m.\u001b[39;49m\u001b[43mreadNet\u001b[49m\u001b[43m(\u001b[49m\u001b[43mweights_path\u001b[49m\u001b[43m,\u001b[49m\u001b[43m \u001b[49m\u001b[43mcfg_path\u001b[49m\u001b[43m)\u001b[49m\n",
      "\u001b[1;31merror\u001b[0m: OpenCV(4.10.0) D:\\a\\opencv-python\\opencv-python\\opencv\\modules\\dnn\\src\\darknet\\darknet_importer.cpp:210: error: (-212:Parsing error) Failed to open NetParameter file: D:/김동영/source_3/ch7/yolov3.cfg in function 'cv::dnn::dnn4_v20240521::readNetFromDarknet'\n"
     ]
    }
   ],
   "source": [
    "weights_path = 'D:/김동영/source_3/ch7/yolov3.weights'\n",
    "cfg_path = 'D:/김동영/source_3/ch7/yolov3.cfg'\n",
    "\n",
    "# 경로 확인\n",
    "if not os.path.exists(weights_path):\n",
    "    print(f\"weights 파일이 존재하지 않습니다: {weights_path}\")\n",
    "if not os.path.exists(cfg_path):\n",
    "    print(f\"cfg 파일이 존재하지 않습니다: {cfg_path}\")\n",
    "\n",
    "# YOLO 모델 로드\n",
    "yolo_model = cv2.dnn.readNet(weights_path, cfg_path)"
   ]
  },
  {
   "cell_type": "code",
   "execution_count": 55,
   "id": "716cdca9",
   "metadata": {},
   "outputs": [
    {
     "ename": "error",
     "evalue": "OpenCV(4.10.0) D:\\a\\opencv-python\\opencv-python\\opencv\\modules\\dnn\\src\\darknet\\darknet_importer.cpp:210: error: (-212:Parsing error) Failed to open NetParameter file:  in function 'cv::dnn::dnn4_v20240521::readNetFromDarknet'\n",
     "output_type": "error",
     "traceback": [
      "\u001b[1;31m---------------------------------------------------------------------------\u001b[0m",
      "\u001b[1;31merror\u001b[0m                                     Traceback (most recent call last)",
      "Cell \u001b[1;32mIn[55], line 10\u001b[0m\n\u001b[0;32m      2\u001b[0m weights_path \u001b[38;5;241m=\u001b[39m \u001b[38;5;124m'\u001b[39m\u001b[38;5;124mD:/yolov3.weights\u001b[39m\u001b[38;5;124m'\u001b[39m\n\u001b[0;32m      3\u001b[0m \u001b[38;5;66;03m# cfg_path = 'yolov3.cfg'\u001b[39;00m\n\u001b[0;32m      4\u001b[0m \n\u001b[0;32m      5\u001b[0m \u001b[38;5;66;03m# if not os.path.exists(weights_path):\u001b[39;00m\n\u001b[0;32m      6\u001b[0m \u001b[38;5;66;03m#     print(f\"weights 파일이 존재하지 않습니다: {weights_path}\")\u001b[39;00m\n\u001b[0;32m      7\u001b[0m \u001b[38;5;66;03m# if not os.path.exists(cfg_path):\u001b[39;00m\n\u001b[0;32m      8\u001b[0m \u001b[38;5;66;03m#     print(f\"cfg 파일이 존재하지 않습니다: {cfg_path}\")\u001b[39;00m\n\u001b[1;32m---> 10\u001b[0m yolo_model \u001b[38;5;241m=\u001b[39m \u001b[43mcv2\u001b[49m\u001b[38;5;241;43m.\u001b[39;49m\u001b[43mdnn\u001b[49m\u001b[38;5;241;43m.\u001b[39;49m\u001b[43mreadNet\u001b[49m\u001b[43m(\u001b[49m\u001b[43mweights_path\u001b[49m\u001b[43m)\u001b[49m \n",
      "\u001b[1;31merror\u001b[0m: OpenCV(4.10.0) D:\\a\\opencv-python\\opencv-python\\opencv\\modules\\dnn\\src\\darknet\\darknet_importer.cpp:210: error: (-212:Parsing error) Failed to open NetParameter file:  in function 'cv::dnn::dnn4_v20240521::readNetFromDarknet'\n"
     ]
    }
   ],
   "source": [
    "import os\n",
    "weights_path = 'D:/yolov3.weights'\n",
    "# cfg_path = 'yolov3.cfg'\n",
    "\n",
    "# if not os.path.exists(weights_path):\n",
    "#     print(f\"weights 파일이 존재하지 않습니다: {weights_path}\")\n",
    "# if not os.path.exists(cfg_path):\n",
    "#     print(f\"cfg 파일이 존재하지 않습니다: {cfg_path}\")\n",
    "\n",
    "yolo_model = cv2.dnn.readNet(weights_path) "
   ]
  },
  {
   "cell_type": "code",
   "execution_count": 48,
   "id": "bc4be7a7",
   "metadata": {},
   "outputs": [
    {
     "ename": "error",
     "evalue": "OpenCV(4.10.0) D:\\a\\opencv-python\\opencv-python\\opencv\\modules\\dnn\\src\\darknet\\darknet_importer.cpp:210: error: (-212:Parsing error) Failed to open NetParameter file: D:/김동영/source_3/ch7/yolov3.cfg in function 'cv::dnn::dnn4_v20240521::readNetFromDarknet'\n",
     "output_type": "error",
     "traceback": [
      "\u001b[1;31m---------------------------------------------------------------------------\u001b[0m",
      "\u001b[1;31merror\u001b[0m                                     Traceback (most recent call last)",
      "Cell \u001b[1;32mIn[48], line 6\u001b[0m\n\u001b[0;32m      3\u001b[0m classes\u001b[38;5;241m=\u001b[39m[line\u001b[38;5;241m.\u001b[39mstrip() \u001b[38;5;28;01mfor\u001b[39;00m line \u001b[38;5;129;01min\u001b[39;00m f\u001b[38;5;241m.\u001b[39mreadlines()]\n\u001b[0;32m      4\u001b[0m colors\u001b[38;5;241m=\u001b[39mnp\u001b[38;5;241m.\u001b[39mrandom\u001b[38;5;241m.\u001b[39muniform(\u001b[38;5;241m0\u001b[39m,\u001b[38;5;241m255\u001b[39m,size\u001b[38;5;241m=\u001b[39m(\u001b[38;5;28mlen\u001b[39m(classes),\u001b[38;5;241m3\u001b[39m))\n\u001b[1;32m----> 6\u001b[0m yolo_model\u001b[38;5;241m=\u001b[39m\u001b[43mcv2\u001b[49m\u001b[38;5;241;43m.\u001b[39;49m\u001b[43mdnn\u001b[49m\u001b[38;5;241;43m.\u001b[39;49m\u001b[43mreadNet\u001b[49m\u001b[43m(\u001b[49m\u001b[38;5;124;43m'\u001b[39;49m\u001b[38;5;124;43mD:/김동영/source_3/ch7/yolov3.weights\u001b[39;49m\u001b[38;5;124;43m'\u001b[39;49m\u001b[43m,\u001b[49m\u001b[38;5;124;43m'\u001b[39;49m\u001b[38;5;124;43mD:/김동영/source_3/ch7/yolov3.cfg\u001b[39;49m\u001b[38;5;124;43m'\u001b[39;49m\u001b[43m)\u001b[49m \u001b[38;5;66;03m# 욜로 읽어오기 \"D:/김동영/source_3/ch7/yolov3.weights\", \"D:/김동영/source_3/ch7/yolov3.cfg\"\u001b[39;00m\n\u001b[0;32m      7\u001b[0m layer_names\u001b[38;5;241m=\u001b[39myolo_model\u001b[38;5;241m.\u001b[39mgetLayerNames()\n\u001b[0;32m      8\u001b[0m out_layers\u001b[38;5;241m=\u001b[39m[layer_names[i[\u001b[38;5;241m0\u001b[39m]\u001b[38;5;241m-\u001b[39m\u001b[38;5;241m1\u001b[39m] \u001b[38;5;28;01mfor\u001b[39;00m i \u001b[38;5;129;01min\u001b[39;00m yolo_model\u001b[38;5;241m.\u001b[39mgetUnconnectedOutLayers()]\n",
      "\u001b[1;31merror\u001b[0m: OpenCV(4.10.0) D:\\a\\opencv-python\\opencv-python\\opencv\\modules\\dnn\\src\\darknet\\darknet_importer.cpp:210: error: (-212:Parsing error) Failed to open NetParameter file: D:/김동영/source_3/ch7/yolov3.cfg in function 'cv::dnn::dnn4_v20240521::readNetFromDarknet'\n"
     ]
    }
   ],
   "source": [
    "\n",
    "\n",
    "classes = []\n",
    "f=open('D:/김동영/source_3/ch7/coco.names.txt','r') # \"D:/김동영/source_3/ch7/coco.names.txt\"\n",
    "classes=[line.strip() for line in f.readlines()]\n",
    "colors=np.random.uniform(0,255,size=(len(classes),3))\n",
    "\n",
    "yolo_model=cv2.dnn.readNet('D:/김동영/source_3/ch7/yolov3.weights','D:/김동영/source_3/ch7/yolov3.cfg') # 욜로 읽어오기 \"D:/김동영/source_3/ch7/yolov3.weights\", \"D:/김동영/source_3/ch7/yolov3.cfg\"\n",
    "layer_names=yolo_model.getLayerNames()\n",
    "out_layers=[layer_names[i[0]-1] for i in yolo_model.getUnconnectedOutLayers()]\n",
    "\n",
    "def process_video(): # 비디오에서 침입자 검출해 알리기\n",
    "    video=cv2.VideoCapture(0)\n",
    "    while video.isOpened():\n",
    "        success,img=video.read()\n",
    "        if success:\n",
    "            height,width,channels=img.shape\n",
    "            blob=cv2.dnn.blobFromImage(img,1.0/256,(448,448),(0,0,0),swapRB=True,crop=False)\n",
    "\n",
    "            yolo_model.setInput(blob)\n",
    "            output3=yolo_model.forward(out_layers)\n",
    "\n",
    "            class_ids,confidences,boxes=[],[],[]\n",
    "            for output in output3:\n",
    "                for vec85 in output:\n",
    "                    scores=vec85[5:]\n",
    "                    class_id=np.argmax(scores)\n",
    "                    confidence=scores[class_id]\n",
    "                    if confidence>0.5: # 신뢰도가 50% 이상인 경우만 취함\n",
    "                        centerx,centery=int(vec85[0]*width),int(vec85[1]*height) # [0,1] 표현을 영상 크기로 변환\n",
    "                        w,h=int(vec85[2]*width),int(vec85[3]*height)\n",
    "                        x,y=int(centerx-w/2),int(centery-h/2)\n",
    "                        boxes.append([x,y,w,h])\n",
    "                        confidences.append(float(confidence))\n",
    "                        class_ids.append(class_id)\n",
    "                    \n",
    "            indexes=cv2.dnn.NMSBoxes(boxes,confidences,0.5,0.4)\n",
    "                    \n",
    "            for i in range(len(boxes)):\n",
    "                if i in indexes:\n",
    "                    x,y,w,h=boxes[i]\n",
    "                    text=str(classes[class_ids[i]])+'%.3f'%confidences[i]\n",
    "                    cv2.rectangle(img,(x,y),(x+w,y+h),colors[class_ids[i]],2)\n",
    "                    cv2.putText(img,text,(x,y+30),cv2.FONT_HERSHEY_PLAIN,2,colors[class_ids[i]],2)\n",
    "\n",
    "            cv2.imshow('Object detection',img)\n",
    "\n",
    "            if 0 in class_ids: # 사람이 검출됨(0='person')\n",
    "                print('사람이 나타났다!!!')\n",
    "                winsound.Beep(frequency=2000,duration=500)\n",
    "\n",
    "        key=cv2.waitKey(1) & 0xFF\n",
    "        if key==27: break\n",
    "\n",
    "    video.release()\n",
    "    cv2.destroyAllWindows()\n",
    "\n",
    "process_video()"
   ]
  }
 ],
 "metadata": {
  "kernelspec": {
   "display_name": "Python 3",
   "language": "python",
   "name": "python3"
  },
  "language_info": {
   "codemirror_mode": {
    "name": "ipython",
    "version": 3
   },
   "file_extension": ".py",
   "mimetype": "text/x-python",
   "name": "python",
   "nbconvert_exporter": "python",
   "pygments_lexer": "ipython3",
   "version": "3.12.0"
  }
 },
 "nbformat": 4,
 "nbformat_minor": 5
}
