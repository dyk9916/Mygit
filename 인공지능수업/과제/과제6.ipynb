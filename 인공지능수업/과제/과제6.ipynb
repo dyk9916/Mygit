{
 "cells": [
  {
   "cell_type": "markdown",
   "id": "75bfb4b7",
   "metadata": {},
   "source": [
    "### 시계열 데이터란?\n",
    "\n",
    "시계열 데이터란 시간의 흐름에 따라 순차적으로 수집된 데이터를 의미한다. 보통 일정한 시간 간격으로 관측된 값들이며, 각 데이터 포인트는 해당 시점을 기준으로 한다.    "
   ]
  },
  {
   "cell_type": "markdown",
   "id": "5c42e8a7",
   "metadata": {},
   "source": [
    "### RNN 구조와 동작\n",
    "\n",
    "RNN은 입력 시퀀스를 시간 순서대로 하나씩 처리하며 과거의 정보를 담은 hidden state를 계속 갱신해 나가는 구조이다. 셀 구조를 반복해서 사용하기 때문에 동일한 가중치들을 매 time step에서 공유한다. 과거의 정보를 매 time step에서 적용하기 때문에 각 시점은 과거 정보를 함께 사용해 값을 출력한다.     \n",
    "\n",
    "RNN 셀 내부 동작    \n",
    "입력 벡터 x와 이전 hidden state를 받아 새로운 hidden state 값을 출력하게 된다. "
   ]
  },
  {
   "cell_type": "code",
   "execution_count": 1,
   "id": "f7e98199",
   "metadata": {},
   "outputs": [],
   "source": [
    "import torch\n",
    "import torch.nn as nn\n",
    "import torch.optim as optim"
   ]
  },
  {
   "cell_type": "code",
   "execution_count": 2,
   "id": "5d5c8378",
   "metadata": {},
   "outputs": [],
   "source": [
    "# 1. 하이퍼파라미터 설정\n",
    "input_size = 10      # 하나의 시점t에서의 특성 수, 즉 입력 벡터의 차원\n",
    "hidden_size = 20     # hidden state 크기, 예) 20차원 벡터로 지정\n",
    "output_size = 5      # 출력 크기 (예: 분류 클래스 수)\n",
    "seq_len = 7          # 시퀀스 길이, 예) 7개 시점의 데이터\n",
    "batch_size = 16      # 배치 크기, 예) 16개 샘플을 한 번에 처리\n",
    "num_epochs = 10\n",
    "learning_rate = 0.001\n",
    "\n",
    "# 2. RNN 모델 정의\n",
    "# Recurrent 층이 하나인 단순한 RNN 모델을 정의합니다.\n",
    "class SimpleRNN(nn.Module):\n",
    "    def __init__(self, input_size, hidden_size, output_size):\n",
    "        super(SimpleRNN, self).__init__()\n",
    "        self.rnn = nn.RNN(input_size, hidden_size, batch_first=True)\n",
    "        self.fc = nn.Linear(hidden_size, output_size)\n",
    "\n",
    "    def forward(self, x):\n",
    "        h0 = torch.zeros(1, x.size(0), hidden_size)  # 초기 hidden state, 0으로 초기화\n",
    "        out, _ = self.rnn(x, h0)  # out: (batch, seq_len, hidden_size)\n",
    "        out = out[:, -1, :]       # 마지막 시점의 hidden state만 사용\n",
    "        out = self.fc(out)        # 마지막 시점의 hidden state를 fully connected layer에 통과      \n",
    "        return out                # 최종 출력\n",
    "\n",
    "model = SimpleRNN(input_size, hidden_size, output_size)\n",
    "\n",
    "# 3. 손실 함수와 옵티마이저\n",
    "criterion = nn.CrossEntropyLoss() # 다중 클래스 분류를 위한 손실 함수 크로스 엔트로피\n",
    "optimizer = optim.Adam(model.parameters(), lr=learning_rate) # Adam 옵티마이저"
   ]
  },
  {
   "cell_type": "code",
   "execution_count": null,
   "id": "768fb138",
   "metadata": {},
   "outputs": [
    {
     "name": "stdout",
     "output_type": "stream",
     "text": [
      "Epoch [1/10], Loss: 1.6218\n",
      "Epoch [2/10], Loss: 1.6108\n",
      "Epoch [3/10], Loss: 1.6000\n",
      "Epoch [4/10], Loss: 1.5893\n",
      "Epoch [5/10], Loss: 1.5786\n",
      "Epoch [6/10], Loss: 1.5681\n",
      "Epoch [7/10], Loss: 1.5577\n",
      "Epoch [8/10], Loss: 1.5473\n",
      "Epoch [9/10], Loss: 1.5371\n",
      "Epoch [10/10], Loss: 1.5269\n"
     ]
    },
    {
     "ename": "",
     "evalue": "",
     "output_type": "error",
     "traceback": [
      "\u001b[1;31m현재 셀 또는 이전 셀에서 코드를 실행하는 동안 Kernel이 충돌했습니다. \n",
      "\u001b[1;31m셀의 코드를 검토하여 가능한 오류 원인을 식별하세요. \n",
      "\u001b[1;31m자세한 내용을 보려면 <a href='https://aka.ms/vscodeJupyterKernelCrash'>여기</a>를 클릭하세요. \n",
      "\u001b[1;31m자세한 내용은 Jupyter <a href='command:jupyter.viewOutput'>로그</a>를 참조하세요."
     ]
    }
   ],
   "source": [
    "# 4. 더미 데이터 생성 (예시용)\n",
    "x = torch.randn(batch_size, seq_len, input_size)           # 입력 데이터\n",
    "y = torch.randint(0, output_size, (batch_size,))           # 정답 레이블\n",
    "\n",
    "# 5. 학습 루프\n",
    "for epoch in range(num_epochs):\n",
    "    output = model(x)\n",
    "    loss = criterion(output, y) # output: 모델이 예측한 결과, y: 정답 레이블\n",
    "\n",
    "    optimizer.zero_grad()       # 기울기 0으로 초기화\n",
    "    loss.backward()             # 역전파 계산\n",
    "    optimizer.step()            # 가중치 업데이트    \n",
    "\n",
    "    print(f\"Epoch [{epoch+1}/{num_epochs}], Loss: {loss.item():.4f}\")"
   ]
  }
 ],
 "metadata": {
  "kernelspec": {
   "display_name": "Python 3",
   "language": "python",
   "name": "python3"
  },
  "language_info": {
   "codemirror_mode": {
    "name": "ipython",
    "version": 3
   },
   "file_extension": ".py",
   "mimetype": "text/x-python",
   "name": "python",
   "nbconvert_exporter": "python",
   "pygments_lexer": "ipython3",
   "version": "3.12.0"
  }
 },
 "nbformat": 4,
 "nbformat_minor": 5
}
