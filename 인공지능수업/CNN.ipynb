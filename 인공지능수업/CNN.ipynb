{
 "cells": [
  {
   "cell_type": "code",
   "execution_count": 1,
   "id": "73fcfbb2",
   "metadata": {},
   "outputs": [],
   "source": [
    "import numpy as np\n",
    "import tensorflow as tf\n",
    "from tensorflow.keras.datasets import mnist\n",
    "from tensorflow.keras.models import Sequential\n",
    "from tensorflow.keras.layers import Conv2D,MaxPooling2D,Flatten,Dense\n",
    "from tensorflow.keras.optimizers import Adam"
   ]
  },
  {
   "cell_type": "code",
   "execution_count": null,
   "id": "7a79d5a5",
   "metadata": {},
   "outputs": [],
   "source": [
    "# MNIST 데이터셋을 읽고 신경망에 입력할 형태로 변환\n",
    "(x_train,y_train),(x_test,y_test)= mnist.load_data()\n",
    "x_train=x_train.reshape(60000,28,28,1)            # (60000,28,28,1) 형태로 변환, 28x28 크기의 흑백 이미지 60000장의 훈련 데이터\n",
    "x_test=x_test.reshape(10000,28,28,1)              # (10000,28,28,1) 형태로 변환, 28x28 크기의 흑백 이미지 10000장의 테스트 데이터\n",
    "x_train=x_train.astype(np.float32)/255.0          # 픽셀값을 0~1 사이의 값으로 변환\n",
    "x_test=x_test.astype(np.float32)/255.0            # 픽셀값을 0~1 사이의 값으로 변환\n",
    "y_train=tf.keras.utils.to_categorical(y_train,10) # 0~9까지의 숫자 10개로 분류하기 위해 원-핫 인코딩으로 변환\n",
    "y_test=tf.keras.utils.to_categorical(y_test,10)   # 0~9까지의 숫자 10개로 분류하기 위해 원-핫 인코딩으로 변환"
   ]
  },
  {
   "cell_type": "code",
   "execution_count": null,
   "id": "5b91dc15",
   "metadata": {},
   "outputs": [],
   "source": [
    "# LeNet-5 신경망 모델 설계\n",
    "cnn=Sequential()  # Sequential 모델 생성\n",
    "cnn.add(Conv2D(6,(5,5),padding='same',activation='relu',input_shape=(28,28,1))) # 입력층, 6개의 필터, 5x5 크기, 패딩 'same', 활성화 함수 'relu'\n",
    "cnn.add(MaxPooling2D(pool_size=(2,2)))                                          # 풀링으로 MaxPooling2D 사용, 풀링 크기 2x2\n",
    "cnn.add(Conv2D(16,(5,5),padding='same',activation='relu'))\n",
    "cnn.add(MaxPooling2D(pool_size=(2,2)))\n",
    "cnn.add(Conv2D(120,(5,5),padding='same',activation='relu'))\n",
    "cnn.add(Flatten())\n",
    "cnn.add(Dense(84,activation='relu'))\n",
    "cnn.add(Dense(10,activation='softmax'))"
   ]
  },
  {
   "cell_type": "code",
   "execution_count": null,
   "id": "927355f1",
   "metadata": {},
   "outputs": [],
   "source": [
    "# 신경망 모델 학습\n",
    "cnn.compile(loss='categorical_crossentropy',optimizer=Adam(),metrics=['accuracy'])\n",
    "hist=cnn.fit(x_train,y_train,batch_size=128,epochs=30,validation_data=(x_test,y_test),verbose=2)\n",
    "\n",
    "# 신경망 모델 정확률 평가\n",
    "res=cnn.evaluate(x_test,y_test,verbose=0)\n",
    "print(\"정확률은\",res[1]*100) # res[1]은 정확률을 의미, res[0]은 손실 함수 값"
   ]
  },
  {
   "cell_type": "code",
   "execution_count": null,
   "id": "f7582815",
   "metadata": {},
   "outputs": [],
   "source": [
    "\n",
    "\n",
    "\n",
    "\n",
    "import matplotlib.pyplot as plt\n",
    "\n",
    "# 정확률 그래프\n",
    "plt.plot(hist.history['accuracy'])\n",
    "plt.plot(hist.history['val_accuracy'])\n",
    "plt.title('Model accuracy')\n",
    "plt.ylabel('Accuracy')\n",
    "plt.xlabel('Epoch')\n",
    "plt.legend(['Train','Validation'],loc='best')\n",
    "plt.grid()\n",
    "plt.show()\n",
    "\n",
    "# 손실 함수 그래프\n",
    "plt.plot(hist.history['loss'])\n",
    "plt.plot(hist.history['val_loss'])\n",
    "plt.title('Model loss')\n",
    "plt.ylabel('Loss')\n",
    "plt.xlabel('Epoch')\n",
    "plt.legend(['Train','Validation'],loc='best')\n",
    "plt.grid()\n",
    "plt.show()"
   ]
  },
  {
   "cell_type": "code",
   "execution_count": 2,
   "id": "5736a2cb",
   "metadata": {},
   "outputs": [],
   "source": [
    "from tensorflow.keras.datasets import cifar10\n",
    "from tensorflow.keras.preprocessing.image import ImageDataGenerator\n",
    "import matplotlib.pyplot as plt"
   ]
  },
  {
   "cell_type": "code",
   "execution_count": null,
   "id": "ebbf4763",
   "metadata": {},
   "outputs": [],
   "source": [
    "# CIFAR-10의 부류 이름\n",
    "class_names=['airplane','automobile','bird','cat','deer','dog','flog','horse','ship','truck']\n",
    "\n",
    "# CIFAR-10 데이터셋을 읽고 신경망에 입력할 형태로 변환\n",
    "(x_train, y_train), (x_test, y_test)=cifar10.load_data()\n",
    "x_train=x_train.astype('float32'); x_train/=255\n",
    "x_train=x_train[0:12,]; y_train=y_train[0:12,] # 앞 12개에 대해서만 증대 적용\n",
    "\n",
    "# 앞 12개 영상을 그려줌\n",
    "plt.figure(figsize=(16,2))\n",
    "plt.suptitle(\"First 12 images in the train set\")\n",
    "for i in range(12):\n",
    "    plt.subplot(1,12,i+1)\n",
    "    plt.imshow(x_train[i])\n",
    "    plt.xticks([]); plt.yticks([])\n",
    "    plt.title(class_names[int(y_train[i])])\n"
   ]
  },
  {
   "cell_type": "code",
   "execution_count": null,
   "id": "4ed81f24",
   "metadata": {},
   "outputs": [],
   "source": [
    "\n",
    "\n",
    "\n",
    "# 영상 증대기 생성\n",
    "batch_siz=6 # 한 번에 생성하는 양\n",
    "generator=ImageDataGenerator(rotation_range=30.0,width_shift_range=0.2,height_shift_range=0.2,horizontal_flip=True)\n",
    "gen=generator.flow(x_train,y_train,batch_size=batch_siz)\n",
    "\n",
    "# 첫 번째 증대하고 그리기\n",
    "img,label=gen.next()\n",
    "plt.figure(figsize=(16,3))\n",
    "plt.suptitle(\"Generatior trial 1\")\n",
    "for i in range(batch_siz):\n",
    "    plt.subplot(1,batch_siz,i+1)\n",
    "    plt.imshow(img[i])\n",
    "    plt.xticks([]); plt.yticks([])\n",
    "    plt.title(class_names[int(label[i])])\n",
    "\n",
    "# 두 번째 증대하고 그리기\n",
    "img,label=gen.next()\n",
    "plt.figure(figsize=(16,3))\n",
    "plt.suptitle(\"Generatior trial 2\")\n",
    "for i in range(batch_siz):\n",
    "    plt.subplot(1,batch_siz,i+1)\n",
    "    plt.imshow(img[i])\n",
    "    plt.xticks([]); plt.yticks([])\n",
    "    plt.title(class_names[int(label[i])])"
   ]
  }
 ],
 "metadata": {
  "kernelspec": {
   "display_name": "Python 3",
   "language": "python",
   "name": "python3"
  },
  "language_info": {
   "codemirror_mode": {
    "name": "ipython",
    "version": 3
   },
   "file_extension": ".py",
   "mimetype": "text/x-python",
   "name": "python",
   "nbconvert_exporter": "python",
   "pygments_lexer": "ipython3",
   "version": "3.12.0"
  }
 },
 "nbformat": 4,
 "nbformat_minor": 5
}
