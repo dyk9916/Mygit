{
 "cells": [
  {
   "cell_type": "code",
   "execution_count": 2,
   "id": "f6a554bd",
   "metadata": {},
   "outputs": [],
   "source": [
    "import pandas as pd\n",
    "import numpy as np\n",
    "import os\n",
    "import sys\n",
    "import matplotlib.pyplot as plt\n",
    "import seaborn as sns"
   ]
  },
  {
   "cell_type": "code",
   "execution_count": 1,
   "id": "77b80bc1",
   "metadata": {},
   "outputs": [
    {
     "name": "stdout",
     "output_type": "stream",
     "text": [
      "Warning: Looks like you're using an outdated `kagglehub` version, please consider updating (latest version: 0.3.12)\n",
      "Downloading from https://www.kaggle.com/api/v1/datasets/download/sewonghwang/golf-ball-testing?dataset_version_number=1...\n"
     ]
    },
    {
     "name": "stderr",
     "output_type": "stream",
     "text": [
      "100%|██████████| 598/598 [00:00<00:00, 598kB/s]"
     ]
    },
    {
     "name": "stdout",
     "output_type": "stream",
     "text": [
      "Extracting files...\n",
      "Path to dataset files: C:\\Users\\KimDongyoung\\.cache\\kagglehub\\datasets\\sewonghwang\\golf-ball-testing\\versions\\1\n"
     ]
    },
    {
     "name": "stderr",
     "output_type": "stream",
     "text": [
      "\n"
     ]
    }
   ],
   "source": [
    "import kagglehub\n",
    "\n",
    "# Download latest version\n",
    "path = kagglehub.dataset_download(\"sewonghwang/golf-ball-testing\")\n",
    "\n",
    "print(\"Path to dataset files:\", path)"
   ]
  },
  {
   "cell_type": "code",
   "execution_count": 5,
   "id": "dc60fb5a",
   "metadata": {},
   "outputs": [
    {
     "name": "stdout",
     "output_type": "stream",
     "text": [
      "Dataframe shape: (50, 6)\n"
     ]
    }
   ],
   "source": [
    "df = pd.read_csv(os.path.join(path, \"Golf_test.csv\"))\n",
    "print(\"Dataframe shape:\", df.shape)"
   ]
  },
  {
   "cell_type": "code",
   "execution_count": 6,
   "id": "e4d4e26f",
   "metadata": {},
   "outputs": [
    {
     "data": {
      "text/html": [
       "<div>\n",
       "<style scoped>\n",
       "    .dataframe tbody tr th:only-of-type {\n",
       "        vertical-align: middle;\n",
       "    }\n",
       "\n",
       "    .dataframe tbody tr th {\n",
       "        vertical-align: top;\n",
       "    }\n",
       "\n",
       "    .dataframe thead th {\n",
       "        text-align: right;\n",
       "    }\n",
       "</style>\n",
       "<table border=\"1\" class=\"dataframe\">\n",
       "  <thead>\n",
       "    <tr style=\"text-align: right;\">\n",
       "      <th></th>\n",
       "      <th>TypeA_before</th>\n",
       "      <th>TypeA_after</th>\n",
       "      <th>TypeB_before</th>\n",
       "      <th>TypeB_after</th>\n",
       "      <th>TypeC_before</th>\n",
       "      <th>TypeC_after</th>\n",
       "    </tr>\n",
       "  </thead>\n",
       "  <tbody>\n",
       "    <tr>\n",
       "      <th>0</th>\n",
       "      <td>277</td>\n",
       "      <td>264</td>\n",
       "      <td>265</td>\n",
       "      <td>268</td>\n",
       "      <td>267</td>\n",
       "      <td>268</td>\n",
       "    </tr>\n",
       "    <tr>\n",
       "      <th>1</th>\n",
       "      <td>269</td>\n",
       "      <td>261</td>\n",
       "      <td>264</td>\n",
       "      <td>267</td>\n",
       "      <td>264</td>\n",
       "      <td>269</td>\n",
       "    </tr>\n",
       "    <tr>\n",
       "      <th>2</th>\n",
       "      <td>263</td>\n",
       "      <td>267</td>\n",
       "      <td>269</td>\n",
       "      <td>272</td>\n",
       "      <td>283</td>\n",
       "      <td>283</td>\n",
       "    </tr>\n",
       "    <tr>\n",
       "      <th>3</th>\n",
       "      <td>266</td>\n",
       "      <td>272</td>\n",
       "      <td>274</td>\n",
       "      <td>277</td>\n",
       "      <td>287</td>\n",
       "      <td>266</td>\n",
       "    </tr>\n",
       "    <tr>\n",
       "      <th>4</th>\n",
       "      <td>262</td>\n",
       "      <td>258</td>\n",
       "      <td>261</td>\n",
       "      <td>264</td>\n",
       "      <td>275</td>\n",
       "      <td>266</td>\n",
       "    </tr>\n",
       "  </tbody>\n",
       "</table>\n",
       "</div>"
      ],
      "text/plain": [
       "   TypeA_before  TypeA_after  TypeB_before  TypeB_after  TypeC_before  \\\n",
       "0           277          264           265          268           267   \n",
       "1           269          261           264          267           264   \n",
       "2           263          267           269          272           283   \n",
       "3           266          272           274          277           287   \n",
       "4           262          258           261          264           275   \n",
       "\n",
       "   TypeC_after  \n",
       "0          268  \n",
       "1          269  \n",
       "2          283  \n",
       "3          266  \n",
       "4          266  "
      ]
     },
     "execution_count": 6,
     "metadata": {},
     "output_type": "execute_result"
    }
   ],
   "source": [
    "df.head()"
   ]
  },
  {
   "cell_type": "markdown",
   "id": "03d0ca21",
   "metadata": {},
   "source": [
    "### Z-test 진행\n",
    "\n",
    "Z-test를 선정한 이유\n",
    "1. 연속형 확률분포\n",
    "2. 표본 집단의 크기가 30이상일 때 사용\n",
    "3. 단일 집단 (Type A)의 평균값 차이에 대한 분석이 목적\n"
   ]
  },
  {
   "cell_type": "code",
   "execution_count": 24,
   "id": "27628a26",
   "metadata": {},
   "outputs": [],
   "source": [
    "# 필요한 라이브러리 임포트\n",
    "from statsmodels.stats.weightstats import ztest\n",
    "from scipy import stats"
   ]
  },
  {
   "cell_type": "code",
   "execution_count": 10,
   "id": "2a373223",
   "metadata": {},
   "outputs": [],
   "source": [
    "# TypeA_before와 TypeA_after 컬럼 데이터 추출\n",
    "typeA_before = df['TypeA_before'].dropna()  # 결측치 제거\n",
    "typeA_after = df['TypeA_after'].dropna()    # 결측치 제거"
   ]
  },
  {
   "cell_type": "code",
   "execution_count": 18,
   "id": "583f2e11",
   "metadata": {},
   "outputs": [
    {
     "name": "stdout",
     "output_type": "stream",
     "text": [
      "TypeA_before 평균: 268.46\n",
      "TypeA_after 평균: 270.72\n"
     ]
    }
   ],
   "source": [
    "mean_A = df['TypeA_after'].mean()\n",
    "mean_B = df['TypeA_before'].mean()\n",
    "\n",
    "print(\"TypeA_before 평균:\", mean_B)\n",
    "print(\"TypeA_after 평균:\", mean_A)"
   ]
  },
  {
   "cell_type": "code",
   "execution_count": 19,
   "id": "8a9acc82",
   "metadata": {},
   "outputs": [
    {
     "name": "stdout",
     "output_type": "stream",
     "text": [
      "두 집단 간 차이의 표준 편차: 13.083421508433753\n"
     ]
    }
   ],
   "source": [
    "# 두 집단 간 차이 계산\n",
    "difference = typeA_before - typeA_after\n",
    "\n",
    "# 차이의 표준 편차 계산\n",
    "std_difference = difference.std()\n",
    "\n",
    "# 결과 출력\n",
    "print(f\"두 집단 간 차이의 표준 편차: {std_difference}\")"
   ]
  },
  {
   "cell_type": "code",
   "execution_count": null,
   "id": "fdc3b838",
   "metadata": {},
   "outputs": [
    {
     "name": "stdout",
     "output_type": "stream",
     "text": [
      "Z 값: 1.221439914972929\n",
      "p-value: 0.1109597510944278\n"
     ]
    }
   ],
   "source": [
    "# Z 값 계산\n",
    "\n",
    "z_value = (mean_A - mean_B) / (std_difference / np.sqrt(len(typeA_before)))\n",
    "print(f\"Z 값: {z_value}\")\n",
    "\n",
    "# p-value 계산, p-value는 관찰된 데이터가 귀무가설 하에서 나타날 확률을 의미한다.\n",
    "# 귀무가설: 두 집단 간 차이가 없다.\n",
    "p_value = 1 - stats.norm.cdf(z_value)\n",
    "print(f\"p-value: {p_value}\")"
   ]
  },
  {
   "cell_type": "code",
   "execution_count": 27,
   "id": "2c1a1ddb",
   "metadata": {},
   "outputs": [
    {
     "name": "stdout",
     "output_type": "stream",
     "text": [
      "귀무가설을 기각하지 못합니다. 두 그룹 간 평균에 유의미한 차이가 없습니다.\n"
     ]
    }
   ],
   "source": [
    "# Z-검정 수행\n",
    "# 귀무가설: 두 그룹 간 평균 차이가 없다.\n",
    "# 대립가설: 두 그룹 간 평균 차이가 있다.\n",
    "\n",
    "# 유의 수준 설정 (예: 0.05)\n",
    "alpha = 0.05\n",
    "if p_value < alpha: # 유의 수준(alpha)보다 p-value가 작으면 귀무가설을 기각\n",
    "    print(\"귀무가설을 기각합니다. 두 그룹 간 평균에 유의미한 차이가 있습니다.\")\n",
    "else:\n",
    "    print(\"귀무가설을 기각하지 못합니다. 두 그룹 간 평균에 유의미한 차이가 없습니다.\")"
   ]
  },
  {
   "cell_type": "markdown",
   "id": "9a8cf065",
   "metadata": {},
   "source": [
    "p-value 값이 0.111로 유의 수준(0.05)보다 크기 때문에 귀무가설을 기각하지 못한다. 따라서 Type A 전과 후 평균에 유의미한 차이가 없다."
   ]
  },
  {
   "cell_type": "markdown",
   "id": "5f582de3",
   "metadata": {},
   "source": []
  }
 ],
 "metadata": {
  "kernelspec": {
   "display_name": "Python 3",
   "language": "python",
   "name": "python3"
  },
  "language_info": {
   "codemirror_mode": {
    "name": "ipython",
    "version": 3
   },
   "file_extension": ".py",
   "mimetype": "text/x-python",
   "name": "python",
   "nbconvert_exporter": "python",
   "pygments_lexer": "ipython3",
   "version": "3.12.0"
  }
 },
 "nbformat": 4,
 "nbformat_minor": 5
}
