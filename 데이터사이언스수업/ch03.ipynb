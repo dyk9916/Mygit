{
  "cells": [
    {
      "cell_type": "markdown",
      "metadata": {
        "id": "Dy02-fC3n8-R"
      },
      "source": [
        "# **생능 출판사 \"으뜸 머신러닝\"(1판) 교재의 소스 코드**\n",
        "# *3장: 구현을 위한 코드*\n",
        "---\n",
        "* 출판사 : 생능 출판사( http://www.booksr.co.kr/ )\n",
        "* 으뜸 머신러닝 저자 : 강영민, 박동규, 김성수\n",
        "*  소스코드 저장소 : https://github.com/dknife/ML\n",
        "*  저작권 : 본 주피터 노트북 코드는 자유롭게 배포가능하지만 위의 출판사, 저서, 저자표기와 함께 배포해 주십시오.\n",
        "* [[YES24]](http://www.yes24.com/Product/Goods/102577953), [[인터파크]](http://book.interpark.com/product/BookDisplay.do?_method=detail&sc.shopNo=0000400000&sc.prdNo=352099030&sc.saNo=003002001&bid1=search&bid2=product&bid3=title&bid4=001), [[교보문고]](http://www.kyobobook.co.kr/product/detailViewKor.laf?ejkGb=KOR&mallGb=KOR&barcode=9788970504919&orderClick=LEa&Kc=)\n",
        "\n",
        "---"
      ]
    },
    {
      "cell_type": "markdown",
      "metadata": {
        "id": "dzt49CjbSPBt"
      },
      "source": [
        "### 3.1 파이썬"
      ]
    },
    {
      "cell_type": "code",
      "execution_count": null,
      "metadata": {
        "colab": {
          "base_uri": "https://localhost:8080/"
        },
        "id": "EMrg2Z8oSR8t",
        "outputId": "b2668a1f-2372-40a8-8740-2c45960c41ff"
      },
      "outputs": [
        {
          "data": {
            "text/plain": [
              "['cat', 'dog', 'lion', 'tiger']"
            ]
          },
          "execution_count": 1,
          "metadata": {},
          "output_type": "execute_result"
        }
      ],
      "source": [
        "animals = ['lion', 'tiger', 'cat', 'dog']\n",
        "animals.sort()            # animals 리스트 내부 문자열을 알파벳 순으로 정렬\n",
        "animals"
      ]
    },
    {
      "cell_type": "code",
      "execution_count": null,
      "metadata": {
        "colab": {
          "base_uri": "https://localhost:8080/"
        },
        "id": "6ZYZCxlHSXH9",
        "outputId": "7d2c2635-a639-4306-b31a-46995b6d9b04"
      },
      "outputs": [
        {
          "data": {
            "text/plain": [
              "['lion', 'tiger', 'cat', 'dog', 'rabbit']"
            ]
          },
          "execution_count": 2,
          "metadata": {},
          "output_type": "execute_result"
        }
      ],
      "source": [
        "animals = ['lion', 'tiger', 'cat', 'dog']\n",
        "animals.append('rabbit')  # animals 리스트에 새 원소를 추가\n",
        "animals"
      ]
    },
    {
      "cell_type": "code",
      "execution_count": null,
      "metadata": {
        "colab": {
          "base_uri": "https://localhost:8080/"
        },
        "id": "RzDNmN0KSazT",
        "outputId": "0b9b6417-1085-465a-8f50-95bd834df6d6"
      },
      "outputs": [
        {
          "data": {
            "text/plain": [
              "['rabbit', 'dog', 'cat', 'tiger', 'lion']"
            ]
          },
          "execution_count": 3,
          "metadata": {},
          "output_type": "execute_result"
        }
      ],
      "source": [
        "animals.reverse()         # animals 리스트를 원래 원소의 역순으로 재배열\n",
        "animals"
      ]
    },
    {
      "cell_type": "markdown",
      "metadata": {
        "id": "3kmmzWlGpX92"
      },
      "source": [
        "### 3.2 구글 코래버러토리를 이용한 프로그래밍"
      ]
    },
    {
      "cell_type": "markdown",
      "metadata": {
        "id": "PbtQNjrZVZAN"
      },
      "source": [
        "#### Hello Python을 출력하는 코드"
      ]
    },
    {
      "cell_type": "code",
      "execution_count": null,
      "metadata": {
        "colab": {
          "base_uri": "https://localhost:8080/"
        },
        "id": "7olCrT9ZVV_t",
        "outputId": "27421601-8f59-4b2f-84b1-14497b1417a1"
      },
      "outputs": [
        {
          "name": "stdout",
          "output_type": "stream",
          "text": [
            "Hello Python\n"
          ]
        }
      ],
      "source": [
        "print('Hello Python')"
      ]
    },
    {
      "cell_type": "markdown",
      "metadata": {
        "id": "yiUFxc8XVfwV"
      },
      "source": [
        "#### 자신의 드라이브를 코랩에서 사용할 수 있도록 마운트"
      ]
    },
    {
      "cell_type": "code",
      "execution_count": null,
      "metadata": {
        "colab": {
          "base_uri": "https://localhost:8080/"
        },
        "id": "eQ-ngmQEVdA_",
        "outputId": "52d15481-f214-40b5-86fd-bd3aa4369c02"
      },
      "outputs": [
        {
          "name": "stdout",
          "output_type": "stream",
          "text": [
            "Mounted at /content/drive\n"
          ]
        }
      ],
      "source": [
        "from google.colab import drive\n",
        "drive.mount('/content/drive')"
      ]
    },
    {
      "cell_type": "markdown",
      "metadata": {
        "id": "yghTheGHVnHc"
      },
      "source": [
        "#### 유닉스 명령어의 사용"
      ]
    },
    {
      "cell_type": "code",
      "execution_count": null,
      "metadata": {
        "colab": {
          "base_uri": "https://localhost:8080/"
        },
        "id": "paR_824QVkic",
        "outputId": "6c1a8c9a-14d4-4ed0-f296-1a83c2c11dce"
      },
      "outputs": [
        {
          "name": "stdout",
          "output_type": "stream",
          "text": [
            "/content\n"
          ]
        }
      ],
      "source": [
        "!pwd"
      ]
    },
    {
      "cell_type": "code",
      "execution_count": null,
      "metadata": {
        "colab": {
          "base_uri": "https://localhost:8080/"
        },
        "id": "etBpKGFKVrod",
        "outputId": "bc878d77-46e8-443c-e202-99fc751d08dc"
      },
      "outputs": [
        {
          "name": "stdout",
          "output_type": "stream",
          "text": [
            "total 3737\n",
            "-rw------- 1 root root   73930 Sep 10  2020  bag_cartoon.png\n",
            "-rw------- 1 root root  367152 Sep  9  2020  conclusion.png\n",
            "drwx------ 2 root root    4096 Sep 22  2020  CSV\n",
            "-rw------- 1 root root  175447 Nov  9  2020  flower.jpg\n",
            "-rw------- 1 root root 1068007 Sep 23  2020 'Hands on Machine Learning Summary.pdf'\n",
            "-rw------- 1 root root    5119 Sep  9  2020  myData__.png\n",
            "-rw------- 1 root root  598385 Sep  9  2020  myData.png\n",
            "-rw------- 1 root root 1373600 Sep 25  2020  myFirstModel.h5\n",
            "-rw------- 1 root root     143 Dec  9  2020 'Untitled document.gdoc'\n",
            "-rw------- 1 root root  158753 Sep  9  2020  work.png\n"
          ]
        }
      ],
      "source": [
        "!ls ./drive/MyDrive/Data -la"
      ]
    },
    {
      "cell_type": "code",
      "execution_count": null,
      "metadata": {
        "colab": {
          "base_uri": "https://localhost:8080/",
          "height": 287
        },
        "id": "rMKR6k9vVvzl",
        "outputId": "ecca131f-bf38-4cb2-a0e3-f2c9b91e6c75"
      },
      "outputs": [
        {
          "data": {
            "text/plain": [
              "<matplotlib.image.AxesImage at 0x7f7b84b7c0d0>"
            ]
          },
          "execution_count": 12,
          "metadata": {},
          "output_type": "execute_result"
        },
        {
          "data": {
            "image/png": "[encoded data removed]",
            "text/plain": [
              "<Figure size 432x288 with 1 Axes>"
            ]
          },
          "metadata": {
            "needs_background": "light"
          },
          "output_type": "display_data"
        }
      ],
      "source": [
        "import matplotlib.image as mpimg\n",
        "import matplotlib.pyplot as plt\n",
        "\n",
        "img = mpimg.imread('./drive/MyDrive/Data/flower.jpg')\n",
        "plt.imshow(img)"
      ]
    },
    {
      "cell_type": "markdown",
      "metadata": {
        "id": "dhBvx519W_ZN"
      },
      "source": [
        "### 3.4 넘파이는 머신러닝을 위한 데이터 처리의 핵심 도구"
      ]
    },
    {
      "cell_type": "code",
      "execution_count": null,
      "metadata": {
        "id": "EoVnWYgvXCl_"
      },
      "outputs": [],
      "source": [
        "import numpy as np   # numpy의 별칭으로 np를 지정함\n",
        "my_array = np.array( [ 1, 2, 3] )"
      ]
    },
    {
      "cell_type": "code",
      "execution_count": null,
      "metadata": {
        "colab": {
          "base_uri": "https://localhost:8080/"
        },
        "id": "_dC69CaTX00L",
        "outputId": "a11ecc63-c1b3-47c5-eadb-181433bf4221"
      },
      "outputs": [
        {
          "data": {
            "text/plain": [
              "((3,), 1, dtype('int64'), 8, 3)"
            ]
          },
          "execution_count": 19,
          "metadata": {},
          "output_type": "execute_result"
        }
      ],
      "source": [
        "a = np.array([1, 2, 3])       # 넘파이 ndarray 객체의 생성\n",
        "\n",
        "# a 객체의 형태(shape), 차원, 요소의 자료형, 요소의 크기(byte), 요소의 수\n",
        "a.shape, a.ndim, a.dtype, a.itemsize, a.size"
      ]
    },
    {
      "cell_type": "markdown",
      "metadata": {
        "id": "ciFeGQ1ppn6x"
      },
      "source": [
        "### 3.5 넘파이 활용의 기본 - 브로드캐스팅, 인덱싱, 슬라이싱"
      ]
    },
    {
      "cell_type": "code",
      "execution_count": 1,
      "metadata": {
        "id": "Wmu1M6WuX3bg"
      },
      "outputs": [],
      "source": [
        "import numpy as np\n",
        "sal = np.array([240, 260, 220, 255])"
      ]
    },
    {
      "cell_type": "code",
      "execution_count": null,
      "metadata": {
        "colab": {
          "base_uri": "https://localhost:8080/"
        },
        "id": "9oOCwRKqX6fD",
        "outputId": "1a85003b-f4c8-4575-8bf7-cf9b746b9dff"
      },
      "outputs": [
        {
          "name": "stdout",
          "output_type": "stream",
          "text": [
            "[340 360 320 355]\n"
          ]
        }
      ],
      "source": [
        "sal = sal + 100   # 스칼라값 100은 [100, 100, 100, 100]으로 변환됨\n",
        "print(sal)"
      ]
    },
    {
      "cell_type": "code",
      "execution_count": null,
      "metadata": {
        "colab": {
          "base_uri": "https://localhost:8080/"
        },
        "id": "eRGwDKXjX8PE",
        "outputId": "29cac7ba-3670-4a7f-c544-e0f8ba75613b"
      },
      "outputs": [
        {
          "data": {
            "text/plain": [
              "array([94, 89, 78, 99])"
            ]
          },
          "execution_count": 22,
          "metadata": {},
          "output_type": "execute_result"
        }
      ],
      "source": [
        "scores = np.array([58, 72, 93, 94, 89, 78, 99])\n",
        "scores[3:]     # 인덱스를 생략하면 마지막 요소까지 슬라이싱"
      ]
    },
    {
      "cell_type": "code",
      "execution_count": null,
      "metadata": {
        "colab": {
          "base_uri": "https://localhost:8080/"
        },
        "id": "xHUEwTxjX-CA",
        "outputId": "ebd289e0-6136-4b59-f75b-409d11cba751"
      },
      "outputs": [
        {
          "data": {
            "text/plain": [
              "array([89, 78])"
            ]
          },
          "execution_count": 23,
          "metadata": {},
          "output_type": "execute_result"
        }
      ],
      "source": [
        "scores[4:-1]   # 인덱스로 -1을 사용할 경우 78까지 슬라이싱"
      ]
    },
    {
      "cell_type": "code",
      "execution_count": null,
      "metadata": {
        "colab": {
          "base_uri": "https://localhost:8080/"
        },
        "id": "vacGqgvXX_po",
        "outputId": "7ea69be1-9bca-425a-e217-e1c0c3951610"
      },
      "outputs": [
        {
          "data": {
            "text/plain": [
              "array([[1, 2, 3],\n",
              "       [4, 5, 6],\n",
              "       [7, 8, 9]])"
            ]
          },
          "execution_count": 24,
          "metadata": {},
          "output_type": "execute_result"
        }
      ],
      "source": [
        "np_array = np.array([[1,2,3],\n",
        "                     [4,5,6],\n",
        "                     [7,8,9]])  # 2차원 배열(넘파이 다차원 배열)\n",
        "np_array"
      ]
    },
    {
      "cell_type": "code",
      "execution_count": null,
      "metadata": {
        "colab": {
          "base_uri": "https://localhost:8080/"
        },
        "id": "TP-pP-iSYBx_",
        "outputId": "cddf15cf-2566-4870-d9b6-4ca498e31069"
      },
      "outputs": [
        {
          "data": {
            "text/plain": [
              "3"
            ]
          },
          "execution_count": 25,
          "metadata": {},
          "output_type": "execute_result"
        }
      ],
      "source": [
        " np_array[0, 2]"
      ]
    },
    {
      "cell_type": "code",
      "execution_count": 3,
      "metadata": {
        "colab": {
          "base_uri": "https://localhost:8080/"
        },
        "id": "kB0u1z7zYFre",
        "outputId": "c42fba0c-d713-4008-b736-8d35f7ade67c"
      },
      "outputs": [
        {
          "data": {
            "text/plain": [
              "array([[3, 4],\n",
              "       [7, 8]])"
            ]
          },
          "execution_count": 3,
          "metadata": {},
          "output_type": "execute_result"
        }
      ],
      "source": [
        "np_array = np.array([[1, 2, 3, 4], [5, 6, 7, 8],\n",
        "                     [9, 10, 11, 12], [13, 14, 15, 16]])\n",
        "np_array\n",
        "np_array[0:2, 2:4]"
      ]
    },
    {
      "cell_type": "code",
      "execution_count": null,
      "metadata": {
        "colab": {
          "base_uri": "https://localhost:8080/"
        },
        "id": "KzgjH3F7YHiz",
        "outputId": "5d763c43-4666-4a39-8e17-a9166a5e7144"
      },
      "outputs": [
        {
          "data": {
            "text/plain": [
              "array([], shape=(0, 4), dtype=int64)"
            ]
          },
          "execution_count": 27,
          "metadata": {},
          "output_type": "execute_result"
        }
      ],
      "source": [
        "np_array[0:2][2:4]"
      ]
    },
    {
      "cell_type": "markdown",
      "metadata": {
        "id": "tTd1UgnUYPCd"
      },
      "source": [
        "### 3.6 벡터화 연산 - 넘파이 배열 계산 성능의 핵심"
      ]
    },
    {
      "cell_type": "code",
      "execution_count": null,
      "metadata": {
        "id": "0XAaOSr9YJko"
      },
      "outputs": [],
      "source": [
        "values = np.random.rand(100)\n",
        "weights = np.random.rand(100)\n",
        "weighted_values = np.empty(len(values))  # 빈 행렬 생성\n",
        "for i in range(len(values)):             # 명시적인 작업 지시 : C 스타일\n",
        "    weighted_values[i] = weights[i] * values[i]"
      ]
    },
    {
      "cell_type": "code",
      "execution_count": null,
      "metadata": {
        "id": "q-UZIWgPYWHZ"
      },
      "outputs": [],
      "source": [
        "values = np.random.rand(100)\n",
        "weights = np.random.rand(100)\n",
        "weighted_values = values * weights  # 묵시적 벡터 덧셈 : Python 스타일"
      ]
    },
    {
      "cell_type": "code",
      "execution_count": null,
      "metadata": {
        "id": "Jwbn14jiYbLG"
      },
      "outputs": [],
      "source": [
        "def matmult_naive(a, b):\n",
        "    c = np.zeros( (a.shape[0], b.shape[1]) , dtype = float)\n",
        "\n",
        "    for i in range(a.shape[0]):\n",
        "        for j in range(b.shape[1]):\n",
        "            for k in range(a.shape[1]):\n",
        "                c[i,j] += a[i,k] * b[k,j]\n",
        "    return c"
      ]
    },
    {
      "cell_type": "code",
      "execution_count": null,
      "metadata": {
        "id": "ZtwkMQK9Yb1C"
      },
      "outputs": [],
      "source": [
        "def matmult2d(a, b):\n",
        "    c = np.zeros( (a.shape[0], b.shape[1]) , dtype = float )\n",
        "    for i in range(a.shape[0]):\n",
        "        # a[i,:]는 b.T의 각 행에 브로드캐스팅 된다.\n",
        "        c[i,:] = (a[i,:] * b.T).sum(axis=1)\n",
        "    return c"
      ]
    },
    {
      "cell_type": "code",
      "execution_count": null,
      "metadata": {
        "id": "LcUXQvUag6rO"
      },
      "outputs": [],
      "source": [
        "def create_random_mat(row, col):\n",
        "    mat = np.random.rand(row, col)\n",
        "    return mat"
      ]
    },
    {
      "cell_type": "code",
      "execution_count": null,
      "metadata": {
        "colab": {
          "base_uri": "https://localhost:8080/"
        },
        "id": "SEn60b8QhSGa",
        "outputId": "2d5199bb-7bb4-43f8-cbe8-71fbff3e7642"
      },
      "outputs": [
        {
          "name": "stdout",
          "output_type": "stream",
          "text": [
            "[[0.56224029 0.51272948 0.68790444 0.606155  ]\n",
            " [0.20108878 0.48534747 0.18925195 0.56935242]\n",
            " [0.95448899 0.16553984 0.69121413 0.18028776]]\n",
            "[[0.8758459  0.16979898 0.76921454]\n",
            " [0.39190909 0.20159606 0.53192673]\n",
            " [0.23076517 0.70382351 0.67565299]\n",
            " [0.37030898 0.86516926 0.41189071]]\n",
            "[[1.07658823 1.20742206 1.41967223]\n",
            " [0.62084394 0.75777499 0.77522932]\n",
            " [1.12713216 0.83791562 1.36354163]]\n",
            "[[1.07658823 1.20742206 1.41967223]\n",
            " [0.62084394 0.75777499 0.77522932]\n",
            " [1.12713216 0.83791562 1.36354163]]\n"
          ]
        }
      ],
      "source": [
        "A = create_random_mat(3, 4)\n",
        "B = create_random_mat(4, 3)\n",
        "print(A)\n",
        "print(B)\n",
        "C = matmult_naive(A, B)\n",
        "print(C)\n",
        "C = matmult2d(A, B)\n",
        "print(C)"
      ]
    },
    {
      "cell_type": "code",
      "execution_count": null,
      "metadata": {
        "colab": {
          "base_uri": "https://localhost:8080/"
        },
        "id": "7G7hUICIignZ",
        "outputId": "ffc4d07d-b335-4770-b8af-eef47740e61e"
      },
      "outputs": [
        {
          "name": "stdout",
          "output_type": "stream",
          "text": [
            "naive multiplication time:  0.6658797264099121 ms\n",
            "SIMD multiplication time:  0.0016262531280517578 ms\n"
          ]
        }
      ],
      "source": [
        "import time\n",
        "A = create_random_mat(100,100)\n",
        "B = create_random_mat(100,100)\n",
        "start = time.time()\n",
        "C = matmult_naive(A,B)\n",
        "end = time.time()\n",
        "print('naive multiplication time: ', end-start, 'ms')\n",
        "\n",
        "start = time.time()\n",
        "C = matmult2d(A,B)\n",
        "end = time.time()\n",
        "print('SIMD multiplication time: ', end-start, 'ms')"
      ]
    },
    {
      "cell_type": "markdown",
      "metadata": {
        "id": "3iyoWHCJYfNl"
      },
      "source": [
        "### 3.7 논리 인덱싱으로 빠르게 데이터 추려내기"
      ]
    },
    {
      "cell_type": "code",
      "execution_count": null,
      "metadata": {
        "colab": {
          "base_uri": "https://localhost:8080/"
        },
        "id": "HFzYZjbCYdbl",
        "outputId": "652897f0-d96f-4eef-9e91-fc3c86fb03b2"
      },
      "outputs": [
        {
          "data": {
            "text/plain": [
              "array([False, False,  True,  True,  True])"
            ]
          },
          "execution_count": 46,
          "metadata": {},
          "output_type": "execute_result"
        }
      ],
      "source": [
        "ages = np.array([18, 19, 25, 30, 28])\n",
        "y = ages > 20\n",
        "y"
      ]
    },
    {
      "cell_type": "code",
      "execution_count": null,
      "metadata": {
        "colab": {
          "base_uri": "https://localhost:8080/"
        },
        "id": "xxxKNCqSYmje",
        "outputId": "9c689132-5dae-4fc0-931a-f435f2f1d897"
      },
      "outputs": [
        {
          "data": {
            "text/plain": [
              "array([25, 30, 28])"
            ]
          },
          "execution_count": 47,
          "metadata": {},
          "output_type": "execute_result"
        }
      ],
      "source": [
        "ages[ ages > 20 ]"
      ]
    },
    {
      "cell_type": "code",
      "execution_count": null,
      "metadata": {
        "colab": {
          "base_uri": "https://localhost:8080/"
        },
        "id": "PzW2Ig1dZqUK",
        "outputId": "3e5a93d9-45a3-445f-dbff-a59c0b434819"
      },
      "outputs": [
        {
          "data": {
            "text/plain": [
              "array([[False, False, False],\n",
              "       [False, False,  True],\n",
              "       [ True,  True,  True]])"
            ]
          },
          "execution_count": 48,
          "metadata": {},
          "output_type": "execute_result"
        }
      ],
      "source": [
        "np_array = np.array([[1,2,3], [4,5,6], [7,8,9]])\n",
        "np_array > 5"
      ]
    },
    {
      "cell_type": "code",
      "execution_count": null,
      "metadata": {
        "colab": {
          "base_uri": "https://localhost:8080/"
        },
        "id": "88ZImpGXZsXe",
        "outputId": "58a885e1-d67a-49ea-f223-2d742e419771"
      },
      "outputs": [
        {
          "data": {
            "text/plain": [
              "array([6, 7, 8, 9])"
            ]
          },
          "execution_count": 49,
          "metadata": {},
          "output_type": "execute_result"
        }
      ],
      "source": [
        "np_array[ np_array > 5 ]"
      ]
    },
    {
      "cell_type": "code",
      "execution_count": null,
      "metadata": {
        "colab": {
          "base_uri": "https://localhost:8080/"
        },
        "id": "ynKu9eptZvcL",
        "outputId": "b29dc742-7fd0-401c-9c5f-938e365fcf70"
      },
      "outputs": [
        {
          "data": {
            "text/plain": [
              "array([[False,  True, False],\n",
              "       [ True, False,  True],\n",
              "       [False,  True, False]])"
            ]
          },
          "execution_count": 50,
          "metadata": {},
          "output_type": "execute_result"
        }
      ],
      "source": [
        "np_array % 2 == 0  # 원소가 2로 나누어 0인가 검사하여 참/거짓 반환"
      ]
    },
    {
      "cell_type": "code",
      "execution_count": null,
      "metadata": {
        "colab": {
          "base_uri": "https://localhost:8080/"
        },
        "id": "tTvBkiqiZ7Ad",
        "outputId": "cd9c04c0-2843-402a-9d6e-210626029a15"
      },
      "outputs": [
        {
          "data": {
            "text/plain": [
              "array([2, 4, 6, 8])"
            ]
          },
          "execution_count": 51,
          "metadata": {},
          "output_type": "execute_result"
        }
      ],
      "source": [
        " np_array[ np_array % 2 == 0 ]"
      ]
    },
    {
      "cell_type": "markdown",
      "metadata": {
        "id": "K9NYjRWgaEF8"
      },
      "source": [
        "### 3.8 판다스 소개"
      ]
    },
    {
      "cell_type": "code",
      "execution_count": null,
      "metadata": {
        "colab": {
          "base_uri": "https://localhost:8080/"
        },
        "id": "jkaLx4IgaJGt",
        "outputId": "e523611b-a30f-495d-97b5-86f471671e0d"
      },
      "outputs": [
        {
          "data": {
            "text/plain": [
              "0    1.0\n",
              "1    3.0\n",
              "2    NaN\n",
              "3    4.0\n",
              "dtype: float64"
            ]
          },
          "execution_count": 57,
          "metadata": {},
          "output_type": "execute_result"
        }
      ],
      "source": [
        "import numpy as np\n",
        "import pandas as pd\n",
        "series = pd.Series([1, 3, np.nan, 4])   # np.nan은 결측값\n",
        "series"
      ]
    },
    {
      "cell_type": "code",
      "execution_count": null,
      "metadata": {
        "colab": {
          "base_uri": "https://localhost:8080/"
        },
        "id": "RBUA7-JKaPAK",
        "outputId": "2ecfa149-2f08-4a64-d412-5b4d0ae68204"
      },
      "outputs": [
        {
          "name": "stdout",
          "output_type": "stream",
          "text": [
            "0    김수안\n",
            "1    김수정\n",
            "2    박동윤\n",
            "3    강이안\n",
            "4    강지안\n",
            "5    박동민\n",
            "dtype: object 0    19\n",
            "1    23\n",
            "2    22\n",
            "3    19\n",
            "4    16\n",
            "5    25\n",
            "dtype: int64 0     고교\n",
            "1     대학\n",
            "2     대학\n",
            "3     고교\n",
            "4    중학교\n",
            "5    대학원\n",
            "dtype: object 0    4.35\n",
            "1    4.23\n",
            "2    4.25\n",
            "3    4.37\n",
            "4    4.25\n",
            "5    4.50\n",
            "dtype: float64\n"
          ]
        }
      ],
      "source": [
        "name_series = pd.Series(['김수안', '김수정', '박동윤',\n",
        "                         '강이안', '강지안', '박동민'])\n",
        "age_series = pd.Series([19, 23, 22, 19, 16, 25])\n",
        "school_series = pd.Series(['고교', '대학', '대학',\n",
        "                           '고교', '중학교', '대학원'])\n",
        "grade_series = pd.Series([4.35, 4.23, 4.25, 4.37, 4.25, 4.5])\n",
        "print(name_series, age_series, school_series, grade_series)"
      ]
    },
    {
      "cell_type": "markdown",
      "metadata": {
        "id": "_uVKAz-SaWAl"
      },
      "source": [
        "### 3.9 판다스로 데이터 읽고 확인하기"
      ]
    },
    {
      "cell_type": "code",
      "execution_count": 4,
      "metadata": {
        "id": "qiiXskaQadr1"
      },
      "outputs": [],
      "source": [
        "import pandas as pd\n",
        "\n",
        "path = 'https://github.com/dknife/ML/raw/main/data/'\n",
        "file = path+'vehicle_prod.csv'\n",
        "\n",
        "df = pd.read_csv(file)"
      ]
    },
    {
      "cell_type": "code",
      "execution_count": 5,
      "metadata": {
        "colab": {
          "base_uri": "https://localhost:8080/"
        },
        "id": "2LnILcIeai6s",
        "outputId": "bd87c1d0-26e8-4d8c-9163-3809a9964b80"
      },
      "outputs": [
        {
          "name": "stdout",
          "output_type": "stream",
          "text": [
            "  Unnamed: 0   2007   2008   2009   2010   2011\n",
            "0      China   7.71   7.95  11.96  15.84  16.33\n",
            "1         EU  19.02  17.71  15.00  16.70  17.48\n",
            "2         US  10.47   8.45   5.58   7.60   8.40\n",
            "3      Japan  10.87  10.83   7.55   9.09   7.88\n",
            "4      Korea   4.04   3.78   3.45   4.20   4.62\n",
            "5     Mexico   2.01   2.05   1.50   2.25   2.54\n"
          ]
        }
      ],
      "source": [
        "print(df)"
      ]
    },
    {
      "cell_type": "code",
      "execution_count": null,
      "metadata": {
        "colab": {
          "base_uri": "https://localhost:8080/"
        },
        "id": "YhaPrz7UatVm",
        "outputId": "eac50908-72cd-47b1-80ec-f846a7b503c8"
      },
      "outputs": [
        {
          "name": "stdout",
          "output_type": "stream",
          "text": [
            "         2007   2008   2009   2010   2011\n",
            "China    7.71   7.95  11.96  15.84  16.33\n",
            "EU      19.02  17.71  15.00  16.70  17.48\n",
            "US      10.47   8.45   5.58   7.60   8.40\n",
            "Japan   10.87  10.83   7.55   9.09   7.88\n",
            "Korea    4.04   3.78   3.45   4.20   4.62\n",
            "Mexico   2.01   2.05   1.50   2.25   2.54\n"
          ]
        }
      ],
      "source": [
        "df = pd.read_csv(file, index_col = 0)\n",
        "print(df)"
      ]
    },
    {
      "cell_type": "markdown",
      "metadata": {
        "id": "h0FgiZFWaxFl"
      },
      "source": [
        "### 3.10 데이터 시리즈 선택하여 시각화해 보기"
      ]
    },
    {
      "cell_type": "code",
      "execution_count": null,
      "metadata": {
        "colab": {
          "base_uri": "https://localhost:8080/"
        },
        "id": "7fERIa36a2Dl",
        "outputId": "c3c47a60-b12d-46db-f54c-9f70c0dd3112"
      },
      "outputs": [
        {
          "name": "stdout",
          "output_type": "stream",
          "text": [
            "China      7.71\n",
            "EU        19.02\n",
            "US        10.47\n",
            "Japan     10.87\n",
            "Korea      4.04\n",
            "Mexico     2.01\n",
            "Name: 2007, dtype: float64\n",
            "0     7.71\n",
            "1    19.02\n",
            "2    10.47\n",
            "3    10.87\n",
            "4     4.04\n",
            "5     2.01\n",
            "Name: 2007, dtype: float64\n"
          ]
        }
      ],
      "source": [
        "df_my_index = pd.read_csv(file, index_col = 0)\n",
        "df_no_index = pd.read_csv(file)\n",
        "print(df_my_index['2007'])\n",
        "print(df_no_index['2007'])"
      ]
    },
    {
      "cell_type": "code",
      "execution_count": null,
      "metadata": {
        "colab": {
          "base_uri": "https://localhost:8080/"
        },
        "id": "D9SIu3Afa5M2",
        "outputId": "ba77407f-be39-438a-b913-9c7601aecc66"
      },
      "outputs": [
        {
          "name": "stdout",
          "output_type": "stream",
          "text": [
            "         2007   2008   2009\n",
            "China    7.71   7.95  11.96\n",
            "EU      19.02  17.71  15.00\n",
            "US      10.47   8.45   5.58\n",
            "Japan   10.87  10.83   7.55\n",
            "Korea    4.04   3.78   3.45\n",
            "Mexico   2.01   2.05   1.50\n"
          ]
        }
      ],
      "source": [
        "print(df[['2007', '2008', '2009']])"
      ]
    },
    {
      "cell_type": "code",
      "execution_count": null,
      "metadata": {
        "colab": {
          "base_uri": "https://localhost:8080/",
          "height": 308
        },
        "id": "jLFosoHga_H9",
        "outputId": "a4b5653a-0394-4d98-dc07-1ded75f1bf59"
      },
      "outputs": [
        {
          "data": {
            "text/plain": [
              "<matplotlib.axes._subplots.AxesSubplot at 0x7f7b7b64e7d0>"
            ]
          },
          "execution_count": 63,
          "metadata": {},
          "output_type": "execute_result"
        },
        {
          "data": {
            "image/png": "[encoded data removed]",
            "text/plain": [
              "<Figure size 432x288 with 1 Axes>"
            ]
          },
          "metadata": {
            "needs_background": "light"
          },
          "output_type": "display_data"
        }
      ],
      "source": [
        "import pandas as pd\n",
        "import matplotlib.pyplot as plt\n",
        "...\n",
        "df['2009'].plot(kind='bar', color=('orange','r', 'b', 'm', 'c', 'k'))"
      ]
    },
    {
      "cell_type": "code",
      "execution_count": null,
      "metadata": {
        "colab": {
          "base_uri": "https://localhost:8080/",
          "height": 266
        },
        "id": "x0kkF-FebC98",
        "outputId": "66e50dd2-1f1a-4968-bf6f-89f6e892702a"
      },
      "outputs": [
        {
          "data": {
            "text/plain": [
              "<matplotlib.axes._subplots.AxesSubplot at 0x7f7b7b13c990>"
            ]
          },
          "execution_count": 64,
          "metadata": {},
          "output_type": "execute_result"
        },
        {
          "data": {
            "image/png": "[encoded data removed]",
            "text/plain": [
              "<Figure size 432x288 with 1 Axes>"
            ]
          },
          "metadata": {},
          "output_type": "display_data"
        }
      ],
      "source": [
        "df['2009'].plot(kind='pie')"
      ]
    },
    {
      "cell_type": "markdown",
      "metadata": {
        "id": "iDbahVmIbXCs"
      },
      "source": [
        "### 3.11 편리한 데이터 다루기 - 슬라이싱과 열 데이터 추가"
      ]
    },
    {
      "cell_type": "code",
      "execution_count": null,
      "metadata": {
        "colab": {
          "base_uri": "https://localhost:8080/",
          "height": 143
        },
        "id": "BZ67RHhDbcV_",
        "outputId": "3e46948b-e68c-41bd-d4a0-245ee8fdb259"
      },
      "outputs": [
        {
          "data": {
            "text/html": [
              "\n",
              "  <div id=\"df-0c4009bc-d9bd-4388-93f2-fe77640f0963\">\n",
              "    <div class=\"colab-df-container\">\n",
              "      <div>\n",
              "<style scoped>\n",
              "    .dataframe tbody tr th:only-of-type {\n",
              "        vertical-align: middle;\n",
              "    }\n",
              "\n",
              "    .dataframe tbody tr th {\n",
              "        vertical-align: top;\n",
              "    }\n",
              "\n",
              "    .dataframe thead th {\n",
              "        text-align: right;\n",
              "    }\n",
              "</style>\n",
              "<table border=\"1\" class=\"dataframe\">\n",
              "  <thead>\n",
              "    <tr style=\"text-align: right;\">\n",
              "      <th></th>\n",
              "      <th>2007</th>\n",
              "      <th>2008</th>\n",
              "      <th>2009</th>\n",
              "      <th>2010</th>\n",
              "      <th>2011</th>\n",
              "    </tr>\n",
              "  </thead>\n",
              "  <tbody>\n",
              "    <tr>\n",
              "      <th>China</th>\n",
              "      <td>7.71</td>\n",
              "      <td>7.95</td>\n",
              "      <td>11.96</td>\n",
              "      <td>15.84</td>\n",
              "      <td>16.33</td>\n",
              "    </tr>\n",
              "    <tr>\n",
              "      <th>EU</th>\n",
              "      <td>19.02</td>\n",
              "      <td>17.71</td>\n",
              "      <td>15.00</td>\n",
              "      <td>16.70</td>\n",
              "      <td>17.48</td>\n",
              "    </tr>\n",
              "    <tr>\n",
              "      <th>US</th>\n",
              "      <td>10.47</td>\n",
              "      <td>8.45</td>\n",
              "      <td>5.58</td>\n",
              "      <td>7.60</td>\n",
              "      <td>8.40</td>\n",
              "    </tr>\n",
              "  </tbody>\n",
              "</table>\n",
              "</div>\n",
              "      <button class=\"colab-df-convert\" onclick=\"convertToInteractive('df-0c4009bc-d9bd-4388-93f2-fe77640f0963')\"\n",
              "              title=\"Convert this dataframe to an interactive table.\"\n",
              "              style=\"display:none;\">\n",
              "        \n",
              "  <svg xmlns=\"http://www.w3.org/2000/svg\" height=\"24px\"viewBox=\"0 0 24 24\"\n",
              "       width=\"24px\">\n",
              "    <path d=\"M0 0h24v24H0V0z\" fill=\"none\"/>\n",
              "    <path d=\"M18.56 5.44l.94 2.06.94-2.06 2.06-.94-2.06-.94-.94-2.06-.94 2.06-2.06.94zm-11 1L8.5 8.5l.94-2.06 2.06-.94-2.06-.94L8.5 2.5l-.94 2.06-2.06.94zm10 10l.94 2.06.94-2.06 2.06-.94-2.06-.94-.94-2.06-.94 2.06-2.06.94z\"/><path d=\"M17.41 7.96l-1.37-1.37c-.4-.4-.92-.59-1.43-.59-.52 0-1.04.2-1.43.59L10.3 9.45l-7.72 7.72c-.78.78-.78 2.05 0 2.83L4 21.41c.39.39.9.59 1.41.59.51 0 1.02-.2 1.41-.59l7.78-7.78 2.81-2.81c.8-.78.8-2.07 0-2.86zM5.41 20L4 18.59l7.72-7.72 1.47 1.35L5.41 20z\"/>\n",
              "  </svg>\n",
              "      </button>\n",
              "      \n",
              "  <style>\n",
              "    .colab-df-container {\n",
              "      display:flex;\n",
              "      flex-wrap:wrap;\n",
              "      gap: 12px;\n",
              "    }\n",
              "\n",
              "    .colab-df-convert {\n",
              "      background-color: #E8F0FE;\n",
              "      border: none;\n",
              "      border-radius: 50%;\n",
              "      cursor: pointer;\n",
              "      display: none;\n",
              "      fill: #1967D2;\n",
              "      height: 32px;\n",
              "      padding: 0 0 0 0;\n",
              "      width: 32px;\n",
              "    }\n",
              "\n",
              "    .colab-df-convert:hover {\n",
              "      background-color: #E2EBFA;\n",
              "      box-shadow: 0px 1px 2px rgba(60, 64, 67, 0.3), 0px 1px 3px 1px rgba(60, 64, 67, 0.15);\n",
              "      fill: #174EA6;\n",
              "    }\n",
              "\n",
              "    [theme=dark] .colab-df-convert {\n",
              "      background-color: #3B4455;\n",
              "      fill: #D2E3FC;\n",
              "    }\n",
              "\n",
              "    [theme=dark] .colab-df-convert:hover {\n",
              "      background-color: #434B5C;\n",
              "      box-shadow: 0px 1px 3px 1px rgba(0, 0, 0, 0.15);\n",
              "      filter: drop-shadow(0px 1px 2px rgba(0, 0, 0, 0.3));\n",
              "      fill: #FFFFFF;\n",
              "    }\n",
              "  </style>\n",
              "\n",
              "      <script>\n",
              "        const buttonEl =\n",
              "          document.querySelector('#df-0c4009bc-d9bd-4388-93f2-fe77640f0963 button.colab-df-convert');\n",
              "        buttonEl.style.display =\n",
              "          google.colab.kernel.accessAllowed ? 'block' : 'none';\n",
              "\n",
              "        async function convertToInteractive(key) {\n",
              "          const element = document.querySelector('#df-0c4009bc-d9bd-4388-93f2-fe77640f0963');\n",
              "          const dataTable =\n",
              "            await google.colab.kernel.invokeFunction('convertToInteractive',\n",
              "                                                     [key], {});\n",
              "          if (!dataTable) return;\n",
              "\n",
              "          const docLinkHtml = 'Like what you see? Visit the ' +\n",
              "            '<a target=\"_blank\" href=https://colab.research.google.com/notebooks/data_table.ipynb>data table notebook</a>'\n",
              "            + ' to learn more about interactive tables.';\n",
              "          element.innerHTML = '';\n",
              "          dataTable['output_type'] = 'display_data';\n",
              "          await google.colab.output.renderOutput(dataTable, element);\n",
              "          const docLink = document.createElement('div');\n",
              "          docLink.innerHTML = docLinkHtml;\n",
              "          element.appendChild(docLink);\n",
              "        }\n",
              "      </script>\n",
              "    </div>\n",
              "  </div>\n",
              "  "
            ],
            "text/plain": [
              "        2007   2008   2009   2010   2011\n",
              "China   7.71   7.95  11.96  15.84  16.33\n",
              "EU     19.02  17.71  15.00  16.70  17.48\n",
              "US     10.47   8.45   5.58   7.60   8.40"
            ]
          },
          "execution_count": 65,
          "metadata": {},
          "output_type": "execute_result"
        }
      ],
      "source": [
        "df.head(3)"
      ]
    },
    {
      "cell_type": "code",
      "execution_count": null,
      "metadata": {
        "colab": {
          "base_uri": "https://localhost:8080/",
          "height": 175
        },
        "id": "2bi73h71bdmP",
        "outputId": "1a819d33-0efa-4b3d-a7af-c003d648cc78"
      },
      "outputs": [
        {
          "data": {
            "text/html": [
              "\n",
              "  <div id=\"df-e4b91646-e26e-43b1-9e5a-2a4c979802ea\">\n",
              "    <div class=\"colab-df-container\">\n",
              "      <div>\n",
              "<style scoped>\n",
              "    .dataframe tbody tr th:only-of-type {\n",
              "        vertical-align: middle;\n",
              "    }\n",
              "\n",
              "    .dataframe tbody tr th {\n",
              "        vertical-align: top;\n",
              "    }\n",
              "\n",
              "    .dataframe thead th {\n",
              "        text-align: right;\n",
              "    }\n",
              "</style>\n",
              "<table border=\"1\" class=\"dataframe\">\n",
              "  <thead>\n",
              "    <tr style=\"text-align: right;\">\n",
              "      <th></th>\n",
              "      <th>2007</th>\n",
              "      <th>2008</th>\n",
              "      <th>2009</th>\n",
              "      <th>2010</th>\n",
              "      <th>2011</th>\n",
              "    </tr>\n",
              "  </thead>\n",
              "  <tbody>\n",
              "    <tr>\n",
              "      <th>US</th>\n",
              "      <td>10.47</td>\n",
              "      <td>8.45</td>\n",
              "      <td>5.58</td>\n",
              "      <td>7.60</td>\n",
              "      <td>8.40</td>\n",
              "    </tr>\n",
              "    <tr>\n",
              "      <th>Japan</th>\n",
              "      <td>10.87</td>\n",
              "      <td>10.83</td>\n",
              "      <td>7.55</td>\n",
              "      <td>9.09</td>\n",
              "      <td>7.88</td>\n",
              "    </tr>\n",
              "    <tr>\n",
              "      <th>Korea</th>\n",
              "      <td>4.04</td>\n",
              "      <td>3.78</td>\n",
              "      <td>3.45</td>\n",
              "      <td>4.20</td>\n",
              "      <td>4.62</td>\n",
              "    </tr>\n",
              "    <tr>\n",
              "      <th>Mexico</th>\n",
              "      <td>2.01</td>\n",
              "      <td>2.05</td>\n",
              "      <td>1.50</td>\n",
              "      <td>2.25</td>\n",
              "      <td>2.54</td>\n",
              "    </tr>\n",
              "  </tbody>\n",
              "</table>\n",
              "</div>\n",
              "      <button class=\"colab-df-convert\" onclick=\"convertToInteractive('df-e4b91646-e26e-43b1-9e5a-2a4c979802ea')\"\n",
              "              title=\"Convert this dataframe to an interactive table.\"\n",
              "              style=\"display:none;\">\n",
              "        \n",
              "  <svg xmlns=\"http://www.w3.org/2000/svg\" height=\"24px\"viewBox=\"0 0 24 24\"\n",
              "       width=\"24px\">\n",
              "    <path d=\"M0 0h24v24H0V0z\" fill=\"none\"/>\n",
              "    <path d=\"M18.56 5.44l.94 2.06.94-2.06 2.06-.94-2.06-.94-.94-2.06-.94 2.06-2.06.94zm-11 1L8.5 8.5l.94-2.06 2.06-.94-2.06-.94L8.5 2.5l-.94 2.06-2.06.94zm10 10l.94 2.06.94-2.06 2.06-.94-2.06-.94-.94-2.06-.94 2.06-2.06.94z\"/><path d=\"M17.41 7.96l-1.37-1.37c-.4-.4-.92-.59-1.43-.59-.52 0-1.04.2-1.43.59L10.3 9.45l-7.72 7.72c-.78.78-.78 2.05 0 2.83L4 21.41c.39.39.9.59 1.41.59.51 0 1.02-.2 1.41-.59l7.78-7.78 2.81-2.81c.8-.78.8-2.07 0-2.86zM5.41 20L4 18.59l7.72-7.72 1.47 1.35L5.41 20z\"/>\n",
              "  </svg>\n",
              "      </button>\n",
              "      \n",
              "  <style>\n",
              "    .colab-df-container {\n",
              "      display:flex;\n",
              "      flex-wrap:wrap;\n",
              "      gap: 12px;\n",
              "    }\n",
              "\n",
              "    .colab-df-convert {\n",
              "      background-color: #E8F0FE;\n",
              "      border: none;\n",
              "      border-radius: 50%;\n",
              "      cursor: pointer;\n",
              "      display: none;\n",
              "      fill: #1967D2;\n",
              "      height: 32px;\n",
              "      padding: 0 0 0 0;\n",
              "      width: 32px;\n",
              "    }\n",
              "\n",
              "    .colab-df-convert:hover {\n",
              "      background-color: #E2EBFA;\n",
              "      box-shadow: 0px 1px 2px rgba(60, 64, 67, 0.3), 0px 1px 3px 1px rgba(60, 64, 67, 0.15);\n",
              "      fill: #174EA6;\n",
              "    }\n",
              "\n",
              "    [theme=dark] .colab-df-convert {\n",
              "      background-color: #3B4455;\n",
              "      fill: #D2E3FC;\n",
              "    }\n",
              "\n",
              "    [theme=dark] .colab-df-convert:hover {\n",
              "      background-color: #434B5C;\n",
              "      box-shadow: 0px 1px 3px 1px rgba(0, 0, 0, 0.15);\n",
              "      filter: drop-shadow(0px 1px 2px rgba(0, 0, 0, 0.3));\n",
              "      fill: #FFFFFF;\n",
              "    }\n",
              "  </style>\n",
              "\n",
              "      <script>\n",
              "        const buttonEl =\n",
              "          document.querySelector('#df-e4b91646-e26e-43b1-9e5a-2a4c979802ea button.colab-df-convert');\n",
              "        buttonEl.style.display =\n",
              "          google.colab.kernel.accessAllowed ? 'block' : 'none';\n",
              "\n",
              "        async function convertToInteractive(key) {\n",
              "          const element = document.querySelector('#df-e4b91646-e26e-43b1-9e5a-2a4c979802ea');\n",
              "          const dataTable =\n",
              "            await google.colab.kernel.invokeFunction('convertToInteractive',\n",
              "                                                     [key], {});\n",
              "          if (!dataTable) return;\n",
              "\n",
              "          const docLinkHtml = 'Like what you see? Visit the ' +\n",
              "            '<a target=\"_blank\" href=https://colab.research.google.com/notebooks/data_table.ipynb>data table notebook</a>'\n",
              "            + ' to learn more about interactive tables.';\n",
              "          element.innerHTML = '';\n",
              "          dataTable['output_type'] = 'display_data';\n",
              "          await google.colab.output.renderOutput(dataTable, element);\n",
              "          const docLink = document.createElement('div');\n",
              "          docLink.innerHTML = docLinkHtml;\n",
              "          element.appendChild(docLink);\n",
              "        }\n",
              "      </script>\n",
              "    </div>\n",
              "  </div>\n",
              "  "
            ],
            "text/plain": [
              "         2007   2008  2009  2010  2011\n",
              "US      10.47   8.45  5.58  7.60  8.40\n",
              "Japan   10.87  10.83  7.55  9.09  7.88\n",
              "Korea    4.04   3.78  3.45  4.20  4.62\n",
              "Mexico   2.01   2.05  1.50  2.25  2.54"
            ]
          },
          "execution_count": 66,
          "metadata": {},
          "output_type": "execute_result"
        }
      ],
      "source": [
        " df[2:6]"
      ]
    },
    {
      "cell_type": "code",
      "execution_count": null,
      "metadata": {
        "colab": {
          "base_uri": "https://localhost:8080/"
        },
        "id": "9FbAqr5lbknU",
        "outputId": "17a863b8-9e0d-473f-ce0f-bcc5c01f4f55"
      },
      "outputs": [
        {
          "data": {
            "text/plain": [
              "2007    4.04\n",
              "2008    3.78\n",
              "2009    3.45\n",
              "2010    4.20\n",
              "2011    4.62\n",
              "Name: Korea, dtype: float64"
            ]
          },
          "execution_count": 67,
          "metadata": {},
          "output_type": "execute_result"
        }
      ],
      "source": [
        "df.loc['Korea']"
      ]
    },
    {
      "cell_type": "code",
      "execution_count": null,
      "metadata": {
        "colab": {
          "base_uri": "https://localhost:8080/"
        },
        "id": "9hjPw3GrbmwF",
        "outputId": "35c5b6c2-f384-41e2-c127-32958f851a11"
      },
      "outputs": [
        {
          "data": {
            "text/plain": [
              "China    16.33\n",
              "Korea     4.62\n",
              "Name: 2011, dtype: float64"
            ]
          },
          "execution_count": 68,
          "metadata": {},
          "output_type": "execute_result"
        }
      ],
      "source": [
        "df['2011'][[0, 4]]"
      ]
    },
    {
      "cell_type": "code",
      "execution_count": null,
      "metadata": {
        "colab": {
          "base_uri": "https://localhost:8080/"
        },
        "id": "sKmLmID4bokO",
        "outputId": "e4b4e117-a075-410b-af86-bda1003e097f"
      },
      "outputs": [
        {
          "data": {
            "text/plain": [
              "4.62"
            ]
          },
          "execution_count": 69,
          "metadata": {},
          "output_type": "execute_result"
        }
      ],
      "source": [
        "df.loc['Korea', '2011']"
      ]
    },
    {
      "cell_type": "code",
      "execution_count": null,
      "metadata": {
        "colab": {
          "base_uri": "https://localhost:8080/"
        },
        "id": "eTvK7nZvbp3H",
        "outputId": "f688c442-be33-4c69-a050-127dd3847df2"
      },
      "outputs": [
        {
          "name": "stdout",
          "output_type": "stream",
          "text": [
            "         2007   2008   2009   2010   2011  total\n",
            "China    7.71   7.95  11.96  15.84  16.33  59.79\n",
            "EU      19.02  17.71  15.00  16.70  17.48  85.91\n",
            "US      10.47   8.45   5.58   7.60   8.40  40.50\n",
            "Japan   10.87  10.83   7.55   9.09   7.88  46.22\n",
            "Korea    4.04   3.78   3.45   4.20   4.62  20.09\n",
            "Mexico   2.01   2.05   1.50   2.25   2.54  10.35\n"
          ]
        }
      ],
      "source": [
        "df['total'] = df.sum(axis = 1)\n",
        "print(df)"
      ]
    },
    {
      "cell_type": "markdown",
      "metadata": {
        "id": "nlIw_aRCbvXH"
      },
      "source": [
        "### 3.12 판다스를 이용한 데이터 분석"
      ]
    },
    {
      "cell_type": "code",
      "execution_count": null,
      "metadata": {
        "colab": {
          "base_uri": "https://localhost:8080/"
        },
        "id": "Dwc2cmuAmvhH",
        "outputId": "3ea685f9-78bf-4882-bdd9-087b412953b0"
      },
      "outputs": [
        {
          "name": "stdout",
          "output_type": "stream",
          "text": [
            "            평균기온  최대풍속  평균풍속\n",
            "일시                          \n",
            "2010-08-01  28.7   8.3   3.4\n",
            "2010-08-02  25.2   8.7   3.8\n",
            "2010-08-03  22.1   6.3   2.9\n",
            "weather 데이터의 shape : (3653, 3)\n"
          ]
        }
      ],
      "source": [
        "import pandas as pd\n",
        "\n",
        "path = 'https://github.com/dknife/ML/raw/main/data/'\n",
        "weather_file = path + 'weather.csv'\n",
        "\n",
        "weather = pd.read_csv(weather_file, index_col = 0, encoding='CP949')\n",
        "print(weather.head(3))\n",
        "print('weather 데이터의 shape :', weather.shape)"
      ]
    },
    {
      "cell_type": "code",
      "execution_count": null,
      "metadata": {
        "colab": {
          "base_uri": "https://localhost:8080/"
        },
        "id": "8WA__fbPoeQF",
        "outputId": "22697e6c-c05a-430f-d44e-13f9efd565d5"
      },
      "outputs": [
        {
          "name": "stdout",
          "output_type": "stream",
          "text": [
            "              평균기온         최대풍속         평균풍속\n",
            "count  3653.000000  3649.000000  3647.000000\n",
            "mean     12.942102     7.911099     3.936441\n",
            "std       8.538507     3.029862     1.888473\n",
            "min      -9.000000     2.000000     0.200000\n",
            "25%       5.400000     5.700000     2.500000\n",
            "50%      13.800000     7.600000     3.600000\n",
            "75%      20.100000     9.700000     5.000000\n",
            "max      31.300000    26.000000    14.900000\n"
          ]
        }
      ],
      "source": [
        "print(weather.describe())"
      ]
    },
    {
      "cell_type": "code",
      "execution_count": null,
      "metadata": {
        "colab": {
          "base_uri": "https://localhost:8080/"
        },
        "id": "FskqnhQVomul",
        "outputId": "3c53d7b0-23b5-4604-88b7-97c25497e8ec"
      },
      "outputs": [
        {
          "name": "stdout",
          "output_type": "stream",
          "text": [
            "평균 분석 -----------------------------\n",
            "평균기온    12.942102\n",
            "최대풍속     7.911099\n",
            "평균풍속     3.936441\n",
            "dtype: float64\n",
            "표준편차  분석 -----------------------------\n",
            "평균기온    8.538507\n",
            "최대풍속    3.029862\n",
            "평균풍속    1.888473\n",
            "dtype: float64\n"
          ]
        }
      ],
      "source": [
        "print('평균 분석 -----------------------------')\n",
        "print(weather.mean())\n",
        "print('표준편차  분석 -----------------------------')\n",
        "print(weather.std())"
      ]
    },
    {
      "cell_type": "code",
      "execution_count": null,
      "metadata": {
        "colab": {
          "base_uri": "https://localhost:8080/"
        },
        "id": "71WuvbF0qbP8",
        "outputId": "1445215f-919f-46d4-a998-bac2538132ec"
      },
      "outputs": [
        {
          "data": {
            "text/plain": [
              "최대풍속    26.0\n",
              "평균풍속    14.9\n",
              "dtype: float64"
            ]
          },
          "execution_count": 74,
          "metadata": {},
          "output_type": "execute_result"
        }
      ],
      "source": [
        "weather[['최대풍속','평균풍속']].max()"
      ]
    },
    {
      "cell_type": "markdown",
      "metadata": {
        "id": "cIm0OrC4r8Ix"
      },
      "source": [
        "### 3.13 데이터 정제와 결손값의 처리"
      ]
    },
    {
      "cell_type": "code",
      "execution_count": null,
      "metadata": {
        "colab": {
          "base_uri": "https://localhost:8080/"
        },
        "id": "PIjIgbgbuKCw",
        "outputId": "ee2edf49-dabe-4e68-d23f-34c487fc665d"
      },
      "outputs": [
        {
          "data": {
            "text/plain": [
              "평균기온    3653\n",
              "최대풍속    3649\n",
              "평균풍속    3647\n",
              "dtype: int64"
            ]
          },
          "execution_count": 75,
          "metadata": {},
          "output_type": "execute_result"
        }
      ],
      "source": [
        "weather.count()"
      ]
    },
    {
      "cell_type": "code",
      "execution_count": null,
      "metadata": {
        "colab": {
          "base_uri": "https://localhost:8080/"
        },
        "id": "DECkKXsTuSDa",
        "outputId": "99fbdf46-9a13-4912-9ef8-b34dd58ad621"
      },
      "outputs": [
        {
          "name": "stdout",
          "output_type": "stream",
          "text": [
            "            평균기온  최대풍속  평균풍속\n",
            "일시                          \n",
            "2012-02-11  -0.7   NaN   NaN\n",
            "2012-02-12   0.4   NaN   NaN\n",
            "2012-02-13   4.0   NaN   NaN\n",
            "2015-03-22  10.1  11.6   NaN\n",
            "2015-04-01   7.3  12.1   NaN\n",
            "2019-04-18  15.7  11.7   NaN\n"
          ]
        }
      ],
      "source": [
        "missing_data = weather[ weather['평균풍속'].isna() ]\n",
        "print(missing_data)"
      ]
    },
    {
      "cell_type": "code",
      "execution_count": null,
      "metadata": {
        "colab": {
          "base_uri": "https://localhost:8080/"
        },
        "id": "2Nv-uMJguU8t",
        "outputId": "78e71200-4710-4d6d-f94f-9fa91e650473"
      },
      "outputs": [
        {
          "name": "stdout",
          "output_type": "stream",
          "text": [
            "평균기온   -0.7\n",
            "최대풍속    0.0\n",
            "평균풍속    0.0\n",
            "Name: 2012-02-11, dtype: float64\n"
          ]
        }
      ],
      "source": [
        "# 결손값을 0으로 채움, inplace를 True로 설정해 원본 데이터를 수정\n",
        "weather.fillna(0, inplace = True)\n",
        "print(weather.loc['2012-02-11'])"
      ]
    },
    {
      "cell_type": "code",
      "execution_count": null,
      "metadata": {
        "colab": {
          "base_uri": "https://localhost:8080/"
        },
        "id": "N2tbSUVqqcus",
        "outputId": "976e9d5c-3873-4570-ec40-5b1c20d32447"
      },
      "outputs": [
        {
          "data": {
            "text/plain": [
              "3.929975362715567"
            ]
          },
          "execution_count": 78,
          "metadata": {},
          "output_type": "execute_result"
        }
      ],
      "source": [
        "weather['평균풍속'].mean()"
      ]
    },
    {
      "cell_type": "code",
      "execution_count": null,
      "metadata": {
        "colab": {
          "base_uri": "https://localhost:8080/"
        },
        "id": "o6MbEp6LuXh9",
        "outputId": "dd63bc1d-9e81-49e3-c512-1d9e9c3cf728"
      },
      "outputs": [
        {
          "name": "stdout",
          "output_type": "stream",
          "text": [
            "평균기온   -0.7\n",
            "최대풍속    0.0\n",
            "평균풍속    0.0\n",
            "Name: 2012-02-11, dtype: float64\n"
          ]
        }
      ],
      "source": [
        "weather.fillna( weather['평균풍속'].mean(), inplace = True)\n",
        "print(weather.loc['2012-02-11'])"
      ]
    },
    {
      "cell_type": "markdown",
      "metadata": {
        "id": "KRwpRqrIqiHn"
      },
      "source": [
        "### 3.14 그룹핑과 필터링"
      ]
    },
    {
      "cell_type": "code",
      "execution_count": null,
      "metadata": {
        "colab": {
          "base_uri": "https://localhost:8080/"
        },
        "id": "1cJ7tsPDcTbv",
        "outputId": "740c14e1-dfc1-4fdd-f9f1-647b88f01baf"
      },
      "outputs": [
        {
          "name": "stdout",
          "output_type": "stream",
          "text": [
            "            평균기온      최대풍속      평균풍속\n",
            "month                               \n",
            "1       1.598387  8.158065  3.757419\n",
            "2       2.136396  8.225357  3.946786\n",
            "3       6.250323  8.871935  4.390291\n",
            "4      11.064667  9.305017  4.622483\n",
            "5      16.564194  8.548710  4.219355\n",
            "6      19.616667  6.945667  3.461000\n",
            "7      23.328387  7.322581  3.877419\n",
            "8      24.748710  6.853226  3.596129\n",
            "9      20.323667  6.896333  3.661667\n",
            "10     15.383871  7.766774  3.961613\n",
            "11      9.889667  8.013333  3.930667\n",
            "12      3.753548  8.045484  3.817097\n"
          ]
        }
      ],
      "source": [
        "weather = pd.read_csv(weather_file, encoding='CP949')\n",
        "\n",
        "weather['month'] = pd.DatetimeIndex(weather['일시']).month\n",
        "means = weather.groupby('month').mean()\n",
        "print(means)"
      ]
    },
    {
      "cell_type": "code",
      "execution_count": null,
      "metadata": {
        "colab": {
          "base_uri": "https://localhost:8080/"
        },
        "id": "gP0w_6YEcYH-",
        "outputId": "22e9273b-a996-4f29-afd5-083a84434af1"
      },
      "outputs": [
        {
          "data": {
            "text/plain": [
              "month\n",
              "1     False\n",
              "2     False\n",
              "3      True\n",
              "4      True\n",
              "5      True\n",
              "6     False\n",
              "7     False\n",
              "8     False\n",
              "9     False\n",
              "10    False\n",
              "11    False\n",
              "12    False\n",
              "Name: 평균풍속, dtype: bool"
            ]
          },
          "execution_count": 81,
          "metadata": {},
          "output_type": "execute_result"
        }
      ],
      "source": [
        "means['평균풍속'] >= 4.0"
      ]
    },
    {
      "cell_type": "code",
      "execution_count": null,
      "metadata": {
        "colab": {
          "base_uri": "https://localhost:8080/",
          "height": 175
        },
        "id": "d90emBVQcZfw",
        "outputId": "7d49c4b9-82aa-4690-a86a-643aaf97bae2"
      },
      "outputs": [
        {
          "data": {
            "text/html": [
              "\n",
              "  <div id=\"df-5a2fe939-0bf7-4586-97a3-fcdbac8c292b\">\n",
              "    <div class=\"colab-df-container\">\n",
              "      <div>\n",
              "<style scoped>\n",
              "    .dataframe tbody tr th:only-of-type {\n",
              "        vertical-align: middle;\n",
              "    }\n",
              "\n",
              "    .dataframe tbody tr th {\n",
              "        vertical-align: top;\n",
              "    }\n",
              "\n",
              "    .dataframe thead th {\n",
              "        text-align: right;\n",
              "    }\n",
              "</style>\n",
              "<table border=\"1\" class=\"dataframe\">\n",
              "  <thead>\n",
              "    <tr style=\"text-align: right;\">\n",
              "      <th></th>\n",
              "      <th>평균기온</th>\n",
              "      <th>최대풍속</th>\n",
              "      <th>평균풍속</th>\n",
              "    </tr>\n",
              "    <tr>\n",
              "      <th>month</th>\n",
              "      <th></th>\n",
              "      <th></th>\n",
              "      <th></th>\n",
              "    </tr>\n",
              "  </thead>\n",
              "  <tbody>\n",
              "    <tr>\n",
              "      <th>3</th>\n",
              "      <td>6.250323</td>\n",
              "      <td>8.871935</td>\n",
              "      <td>4.390291</td>\n",
              "    </tr>\n",
              "    <tr>\n",
              "      <th>4</th>\n",
              "      <td>11.064667</td>\n",
              "      <td>9.305017</td>\n",
              "      <td>4.622483</td>\n",
              "    </tr>\n",
              "    <tr>\n",
              "      <th>5</th>\n",
              "      <td>16.564194</td>\n",
              "      <td>8.548710</td>\n",
              "      <td>4.219355</td>\n",
              "    </tr>\n",
              "  </tbody>\n",
              "</table>\n",
              "</div>\n",
              "      <button class=\"colab-df-convert\" onclick=\"convertToInteractive('df-5a2fe939-0bf7-4586-97a3-fcdbac8c292b')\"\n",
              "              title=\"Convert this dataframe to an interactive table.\"\n",
              "              style=\"display:none;\">\n",
              "        \n",
              "  <svg xmlns=\"http://www.w3.org/2000/svg\" height=\"24px\"viewBox=\"0 0 24 24\"\n",
              "       width=\"24px\">\n",
              "    <path d=\"M0 0h24v24H0V0z\" fill=\"none\"/>\n",
              "    <path d=\"M18.56 5.44l.94 2.06.94-2.06 2.06-.94-2.06-.94-.94-2.06-.94 2.06-2.06.94zm-11 1L8.5 8.5l.94-2.06 2.06-.94-2.06-.94L8.5 2.5l-.94 2.06-2.06.94zm10 10l.94 2.06.94-2.06 2.06-.94-2.06-.94-.94-2.06-.94 2.06-2.06.94z\"/><path d=\"M17.41 7.96l-1.37-1.37c-.4-.4-.92-.59-1.43-.59-.52 0-1.04.2-1.43.59L10.3 9.45l-7.72 7.72c-.78.78-.78 2.05 0 2.83L4 21.41c.39.39.9.59 1.41.59.51 0 1.02-.2 1.41-.59l7.78-7.78 2.81-2.81c.8-.78.8-2.07 0-2.86zM5.41 20L4 18.59l7.72-7.72 1.47 1.35L5.41 20z\"/>\n",
              "  </svg>\n",
              "      </button>\n",
              "      \n",
              "  <style>\n",
              "    .colab-df-container {\n",
              "      display:flex;\n",
              "      flex-wrap:wrap;\n",
              "      gap: 12px;\n",
              "    }\n",
              "\n",
              "    .colab-df-convert {\n",
              "      background-color: #E8F0FE;\n",
              "      border: none;\n",
              "      border-radius: 50%;\n",
              "      cursor: pointer;\n",
              "      display: none;\n",
              "      fill: #1967D2;\n",
              "      height: 32px;\n",
              "      padding: 0 0 0 0;\n",
              "      width: 32px;\n",
              "    }\n",
              "\n",
              "    .colab-df-convert:hover {\n",
              "      background-color: #E2EBFA;\n",
              "      box-shadow: 0px 1px 2px rgba(60, 64, 67, 0.3), 0px 1px 3px 1px rgba(60, 64, 67, 0.15);\n",
              "      fill: #174EA6;\n",
              "    }\n",
              "\n",
              "    [theme=dark] .colab-df-convert {\n",
              "      background-color: #3B4455;\n",
              "      fill: #D2E3FC;\n",
              "    }\n",
              "\n",
              "    [theme=dark] .colab-df-convert:hover {\n",
              "      background-color: #434B5C;\n",
              "      box-shadow: 0px 1px 3px 1px rgba(0, 0, 0, 0.15);\n",
              "      filter: drop-shadow(0px 1px 2px rgba(0, 0, 0, 0.3));\n",
              "      fill: #FFFFFF;\n",
              "    }\n",
              "  </style>\n",
              "\n",
              "      <script>\n",
              "        const buttonEl =\n",
              "          document.querySelector('#df-5a2fe939-0bf7-4586-97a3-fcdbac8c292b button.colab-df-convert');\n",
              "        buttonEl.style.display =\n",
              "          google.colab.kernel.accessAllowed ? 'block' : 'none';\n",
              "\n",
              "        async function convertToInteractive(key) {\n",
              "          const element = document.querySelector('#df-5a2fe939-0bf7-4586-97a3-fcdbac8c292b');\n",
              "          const dataTable =\n",
              "            await google.colab.kernel.invokeFunction('convertToInteractive',\n",
              "                                                     [key], {});\n",
              "          if (!dataTable) return;\n",
              "\n",
              "          const docLinkHtml = 'Like what you see? Visit the ' +\n",
              "            '<a target=\"_blank\" href=https://colab.research.google.com/notebooks/data_table.ipynb>data table notebook</a>'\n",
              "            + ' to learn more about interactive tables.';\n",
              "          element.innerHTML = '';\n",
              "          dataTable['output_type'] = 'display_data';\n",
              "          await google.colab.output.renderOutput(dataTable, element);\n",
              "          const docLink = document.createElement('div');\n",
              "          docLink.innerHTML = docLinkHtml;\n",
              "          element.appendChild(docLink);\n",
              "        }\n",
              "      </script>\n",
              "    </div>\n",
              "  </div>\n",
              "  "
            ],
            "text/plain": [
              "            평균기온      최대풍속      평균풍속\n",
              "month                               \n",
              "3       6.250323  8.871935  4.390291\n",
              "4      11.064667  9.305017  4.622483\n",
              "5      16.564194  8.548710  4.219355"
            ]
          },
          "execution_count": 82,
          "metadata": {},
          "output_type": "execute_result"
        }
      ],
      "source": [
        "means[ means['평균풍속'] >= 4.0 ]"
      ]
    },
    {
      "cell_type": "markdown",
      "metadata": {
        "id": "QCTLimOhsrF8"
      },
      "source": [
        "### 3.15 데이터 구조의 변경: pivot과 concat"
      ]
    },
    {
      "cell_type": "code",
      "execution_count": null,
      "metadata": {
        "colab": {
          "base_uri": "https://localhost:8080/",
          "height": 175
        },
        "id": "vQ5trTm4so_M",
        "outputId": "e9f5eedd-07f8-4a40-e9a0-6a87f3a5ac8c"
      },
      "outputs": [
        {
          "data": {
            "text/html": [
              "\n",
              "  <div id=\"df-b8355be6-23f2-41ce-af74-5081e09db342\">\n",
              "    <div class=\"colab-df-container\">\n",
              "      <div>\n",
              "<style scoped>\n",
              "    .dataframe tbody tr th:only-of-type {\n",
              "        vertical-align: middle;\n",
              "    }\n",
              "\n",
              "    .dataframe tbody tr th {\n",
              "        vertical-align: top;\n",
              "    }\n",
              "\n",
              "    .dataframe thead th {\n",
              "        text-align: right;\n",
              "    }\n",
              "</style>\n",
              "<table border=\"1\" class=\"dataframe\">\n",
              "  <thead>\n",
              "    <tr style=\"text-align: right;\">\n",
              "      <th></th>\n",
              "      <th>item</th>\n",
              "      <th>type</th>\n",
              "      <th>price</th>\n",
              "    </tr>\n",
              "  </thead>\n",
              "  <tbody>\n",
              "    <tr>\n",
              "      <th>0</th>\n",
              "      <td>ring0</td>\n",
              "      <td>Gold</td>\n",
              "      <td>20000</td>\n",
              "    </tr>\n",
              "    <tr>\n",
              "      <th>1</th>\n",
              "      <td>ring0</td>\n",
              "      <td>Silver</td>\n",
              "      <td>10000</td>\n",
              "    </tr>\n",
              "    <tr>\n",
              "      <th>2</th>\n",
              "      <td>ring1</td>\n",
              "      <td>Gold</td>\n",
              "      <td>50000</td>\n",
              "    </tr>\n",
              "    <tr>\n",
              "      <th>3</th>\n",
              "      <td>ring1</td>\n",
              "      <td>Bronze</td>\n",
              "      <td>30000</td>\n",
              "    </tr>\n",
              "  </tbody>\n",
              "</table>\n",
              "</div>\n",
              "      <button class=\"colab-df-convert\" onclick=\"convertToInteractive('df-b8355be6-23f2-41ce-af74-5081e09db342')\"\n",
              "              title=\"Convert this dataframe to an interactive table.\"\n",
              "              style=\"display:none;\">\n",
              "        \n",
              "  <svg xmlns=\"http://www.w3.org/2000/svg\" height=\"24px\"viewBox=\"0 0 24 24\"\n",
              "       width=\"24px\">\n",
              "    <path d=\"M0 0h24v24H0V0z\" fill=\"none\"/>\n",
              "    <path d=\"M18.56 5.44l.94 2.06.94-2.06 2.06-.94-2.06-.94-.94-2.06-.94 2.06-2.06.94zm-11 1L8.5 8.5l.94-2.06 2.06-.94-2.06-.94L8.5 2.5l-.94 2.06-2.06.94zm10 10l.94 2.06.94-2.06 2.06-.94-2.06-.94-.94-2.06-.94 2.06-2.06.94z\"/><path d=\"M17.41 7.96l-1.37-1.37c-.4-.4-.92-.59-1.43-.59-.52 0-1.04.2-1.43.59L10.3 9.45l-7.72 7.72c-.78.78-.78 2.05 0 2.83L4 21.41c.39.39.9.59 1.41.59.51 0 1.02-.2 1.41-.59l7.78-7.78 2.81-2.81c.8-.78.8-2.07 0-2.86zM5.41 20L4 18.59l7.72-7.72 1.47 1.35L5.41 20z\"/>\n",
              "  </svg>\n",
              "      </button>\n",
              "      \n",
              "  <style>\n",
              "    .colab-df-container {\n",
              "      display:flex;\n",
              "      flex-wrap:wrap;\n",
              "      gap: 12px;\n",
              "    }\n",
              "\n",
              "    .colab-df-convert {\n",
              "      background-color: #E8F0FE;\n",
              "      border: none;\n",
              "      border-radius: 50%;\n",
              "      cursor: pointer;\n",
              "      display: none;\n",
              "      fill: #1967D2;\n",
              "      height: 32px;\n",
              "      padding: 0 0 0 0;\n",
              "      width: 32px;\n",
              "    }\n",
              "\n",
              "    .colab-df-convert:hover {\n",
              "      background-color: #E2EBFA;\n",
              "      box-shadow: 0px 1px 2px rgba(60, 64, 67, 0.3), 0px 1px 3px 1px rgba(60, 64, 67, 0.15);\n",
              "      fill: #174EA6;\n",
              "    }\n",
              "\n",
              "    [theme=dark] .colab-df-convert {\n",
              "      background-color: #3B4455;\n",
              "      fill: #D2E3FC;\n",
              "    }\n",
              "\n",
              "    [theme=dark] .colab-df-convert:hover {\n",
              "      background-color: #434B5C;\n",
              "      box-shadow: 0px 1px 3px 1px rgba(0, 0, 0, 0.15);\n",
              "      filter: drop-shadow(0px 1px 2px rgba(0, 0, 0, 0.3));\n",
              "      fill: #FFFFFF;\n",
              "    }\n",
              "  </style>\n",
              "\n",
              "      <script>\n",
              "        const buttonEl =\n",
              "          document.querySelector('#df-b8355be6-23f2-41ce-af74-5081e09db342 button.colab-df-convert');\n",
              "        buttonEl.style.display =\n",
              "          google.colab.kernel.accessAllowed ? 'block' : 'none';\n",
              "\n",
              "        async function convertToInteractive(key) {\n",
              "          const element = document.querySelector('#df-b8355be6-23f2-41ce-af74-5081e09db342');\n",
              "          const dataTable =\n",
              "            await google.colab.kernel.invokeFunction('convertToInteractive',\n",
              "                                                     [key], {});\n",
              "          if (!dataTable) return;\n",
              "\n",
              "          const docLinkHtml = 'Like what you see? Visit the ' +\n",
              "            '<a target=\"_blank\" href=https://colab.research.google.com/notebooks/data_table.ipynb>data table notebook</a>'\n",
              "            + ' to learn more about interactive tables.';\n",
              "          element.innerHTML = '';\n",
              "          dataTable['output_type'] = 'display_data';\n",
              "          await google.colab.output.renderOutput(dataTable, element);\n",
              "          const docLink = document.createElement('div');\n",
              "          docLink.innerHTML = docLinkHtml;\n",
              "          element.appendChild(docLink);\n",
              "        }\n",
              "      </script>\n",
              "    </div>\n",
              "  </div>\n",
              "  "
            ],
            "text/plain": [
              "    item    type  price\n",
              "0  ring0    Gold  20000\n",
              "1  ring0  Silver  10000\n",
              "2  ring1    Gold  50000\n",
              "3  ring1  Bronze  30000"
            ]
          },
          "execution_count": 83,
          "metadata": {},
          "output_type": "execute_result"
        }
      ],
      "source": [
        "import pandas as pd\n",
        "df_1 = pd.DataFrame({'item' : ['ring0', 'ring0', 'ring1', 'ring1'],\n",
        "                     'type' : ['Gold', 'Silver', 'Gold', 'Bronze'],\n",
        "                     'price': [20000, 10000, 50000, 30000]})\n",
        "df_1"
      ]
    },
    {
      "cell_type": "code",
      "execution_count": null,
      "metadata": {
        "colab": {
          "base_uri": "https://localhost:8080/",
          "height": 143
        },
        "id": "9X-yTSwoc0rS",
        "outputId": "1d813c69-17fd-4642-cf77-f03f136f1ae6"
      },
      "outputs": [
        {
          "data": {
            "text/html": [
              "\n",
              "  <div id=\"df-6309dfe5-fe1d-4c9e-ad1c-622603e5e997\">\n",
              "    <div class=\"colab-df-container\">\n",
              "      <div>\n",
              "<style scoped>\n",
              "    .dataframe tbody tr th:only-of-type {\n",
              "        vertical-align: middle;\n",
              "    }\n",
              "\n",
              "    .dataframe tbody tr th {\n",
              "        vertical-align: top;\n",
              "    }\n",
              "\n",
              "    .dataframe thead th {\n",
              "        text-align: right;\n",
              "    }\n",
              "</style>\n",
              "<table border=\"1\" class=\"dataframe\">\n",
              "  <thead>\n",
              "    <tr style=\"text-align: right;\">\n",
              "      <th>type</th>\n",
              "      <th>Bronze</th>\n",
              "      <th>Gold</th>\n",
              "      <th>Silver</th>\n",
              "    </tr>\n",
              "    <tr>\n",
              "      <th>item</th>\n",
              "      <th></th>\n",
              "      <th></th>\n",
              "      <th></th>\n",
              "    </tr>\n",
              "  </thead>\n",
              "  <tbody>\n",
              "    <tr>\n",
              "      <th>ring0</th>\n",
              "      <td>NaN</td>\n",
              "      <td>20000.0</td>\n",
              "      <td>10000.0</td>\n",
              "    </tr>\n",
              "    <tr>\n",
              "      <th>ring1</th>\n",
              "      <td>30000.0</td>\n",
              "      <td>50000.0</td>\n",
              "      <td>NaN</td>\n",
              "    </tr>\n",
              "  </tbody>\n",
              "</table>\n",
              "</div>\n",
              "      <button class=\"colab-df-convert\" onclick=\"convertToInteractive('df-6309dfe5-fe1d-4c9e-ad1c-622603e5e997')\"\n",
              "              title=\"Convert this dataframe to an interactive table.\"\n",
              "              style=\"display:none;\">\n",
              "        \n",
              "  <svg xmlns=\"http://www.w3.org/2000/svg\" height=\"24px\"viewBox=\"0 0 24 24\"\n",
              "       width=\"24px\">\n",
              "    <path d=\"M0 0h24v24H0V0z\" fill=\"none\"/>\n",
              "    <path d=\"M18.56 5.44l.94 2.06.94-2.06 2.06-.94-2.06-.94-.94-2.06-.94 2.06-2.06.94zm-11 1L8.5 8.5l.94-2.06 2.06-.94-2.06-.94L8.5 2.5l-.94 2.06-2.06.94zm10 10l.94 2.06.94-2.06 2.06-.94-2.06-.94-.94-2.06-.94 2.06-2.06.94z\"/><path d=\"M17.41 7.96l-1.37-1.37c-.4-.4-.92-.59-1.43-.59-.52 0-1.04.2-1.43.59L10.3 9.45l-7.72 7.72c-.78.78-.78 2.05 0 2.83L4 21.41c.39.39.9.59 1.41.59.51 0 1.02-.2 1.41-.59l7.78-7.78 2.81-2.81c.8-.78.8-2.07 0-2.86zM5.41 20L4 18.59l7.72-7.72 1.47 1.35L5.41 20z\"/>\n",
              "  </svg>\n",
              "      </button>\n",
              "      \n",
              "  <style>\n",
              "    .colab-df-container {\n",
              "      display:flex;\n",
              "      flex-wrap:wrap;\n",
              "      gap: 12px;\n",
              "    }\n",
              "\n",
              "    .colab-df-convert {\n",
              "      background-color: #E8F0FE;\n",
              "      border: none;\n",
              "      border-radius: 50%;\n",
              "      cursor: pointer;\n",
              "      display: none;\n",
              "      fill: #1967D2;\n",
              "      height: 32px;\n",
              "      padding: 0 0 0 0;\n",
              "      width: 32px;\n",
              "    }\n",
              "\n",
              "    .colab-df-convert:hover {\n",
              "      background-color: #E2EBFA;\n",
              "      box-shadow: 0px 1px 2px rgba(60, 64, 67, 0.3), 0px 1px 3px 1px rgba(60, 64, 67, 0.15);\n",
              "      fill: #174EA6;\n",
              "    }\n",
              "\n",
              "    [theme=dark] .colab-df-convert {\n",
              "      background-color: #3B4455;\n",
              "      fill: #D2E3FC;\n",
              "    }\n",
              "\n",
              "    [theme=dark] .colab-df-convert:hover {\n",
              "      background-color: #434B5C;\n",
              "      box-shadow: 0px 1px 3px 1px rgba(0, 0, 0, 0.15);\n",
              "      filter: drop-shadow(0px 1px 2px rgba(0, 0, 0, 0.3));\n",
              "      fill: #FFFFFF;\n",
              "    }\n",
              "  </style>\n",
              "\n",
              "      <script>\n",
              "        const buttonEl =\n",
              "          document.querySelector('#df-6309dfe5-fe1d-4c9e-ad1c-622603e5e997 button.colab-df-convert');\n",
              "        buttonEl.style.display =\n",
              "          google.colab.kernel.accessAllowed ? 'block' : 'none';\n",
              "\n",
              "        async function convertToInteractive(key) {\n",
              "          const element = document.querySelector('#df-6309dfe5-fe1d-4c9e-ad1c-622603e5e997');\n",
              "          const dataTable =\n",
              "            await google.colab.kernel.invokeFunction('convertToInteractive',\n",
              "                                                     [key], {});\n",
              "          if (!dataTable) return;\n",
              "\n",
              "          const docLinkHtml = 'Like what you see? Visit the ' +\n",
              "            '<a target=\"_blank\" href=https://colab.research.google.com/notebooks/data_table.ipynb>data table notebook</a>'\n",
              "            + ' to learn more about interactive tables.';\n",
              "          element.innerHTML = '';\n",
              "          dataTable['output_type'] = 'display_data';\n",
              "          await google.colab.output.renderOutput(dataTable, element);\n",
              "          const docLink = document.createElement('div');\n",
              "          docLink.innerHTML = docLinkHtml;\n",
              "          element.appendChild(docLink);\n",
              "        }\n",
              "      </script>\n",
              "    </div>\n",
              "  </div>\n",
              "  "
            ],
            "text/plain": [
              "type    Bronze     Gold   Silver\n",
              "item                            \n",
              "ring0      NaN  20000.0  10000.0\n",
              "ring1  30000.0  50000.0      NaN"
            ]
          },
          "execution_count": 84,
          "metadata": {},
          "output_type": "execute_result"
        }
      ],
      "source": [
        "df_2 = df_1.pivot(index='item', columns='type', values='price')\n",
        "df_2"
      ]
    },
    {
      "cell_type": "code",
      "execution_count": null,
      "metadata": {
        "id": "HBz8u7IQuJtk"
      },
      "outputs": [],
      "source": [
        "df_1 = pd.DataFrame( {'A' : ['a10', 'a11', 'a12'],\n",
        "                      'B' : ['b10', 'b11', 'b12'],\n",
        "                      'C' : ['c10', 'c11', 'c12']} ,\n",
        "                      index = ['가', '나',  '다'] )\n",
        "\n",
        "df_2 = pd.DataFrame( {'B' : ['b23', 'b24', 'b25'],\n",
        "                      'C' : ['c23', 'c24', 'c25'],\n",
        "                      'D' : ['d23', 'd24', 'd25']} ,\n",
        "                      index = ['다', '라',  '마'] )"
      ]
    },
    {
      "cell_type": "code",
      "execution_count": null,
      "metadata": {
        "colab": {
          "base_uri": "https://localhost:8080/"
        },
        "id": "y8nNiMLFc7Y9",
        "outputId": "d4c1c111-704a-4517-8529-9f92b99f983b"
      },
      "outputs": [
        {
          "name": "stdout",
          "output_type": "stream",
          "text": [
            "     A    B    C    D\n",
            "가  a10  b10  c10  NaN\n",
            "나  a11  b11  c11  NaN\n",
            "다  a12  b12  c12  NaN\n",
            "다  NaN  b23  c23  d23\n",
            "라  NaN  b24  c24  d24\n",
            "마  NaN  b25  c25  d25\n"
          ]
        }
      ],
      "source": [
        "df_3 = pd.concat( [df_1, df_2])\n",
        "print(df_3)"
      ]
    },
    {
      "cell_type": "markdown",
      "metadata": {
        "id": "VrpHLZ3Qc_O8"
      },
      "source": [
        "### 3.16 데이터의 병합: merge"
      ]
    },
    {
      "cell_type": "code",
      "execution_count": null,
      "metadata": {
        "colab": {
          "base_uri": "https://localhost:8080/"
        },
        "id": "HY5MctsadCzm",
        "outputId": "7ae624d7-9c8b-43d4-f832-01f96da0c968"
      },
      "outputs": [
        {
          "name": "stdout",
          "output_type": "stream",
          "text": [
            "left outer \n",
            "      A    B  C_x  C_y    D\n",
            "0  a10  b10  c10  NaN  NaN\n",
            "1  a11  b11  c11  NaN  NaN\n",
            "2  a12  b12  c12  NaN  NaN\n",
            "right outer \n",
            "      A    B  C_x  C_y    D\n",
            "0  NaN  b23  NaN  c23  d23\n",
            "1  NaN  b24  NaN  c24  d24\n",
            "2  NaN  b25  NaN  c25  d25\n",
            "full outer \n",
            "      A    B  C_x  C_y    D\n",
            "0  a10  b10  c10  NaN  NaN\n",
            "1  a11  b11  c11  NaN  NaN\n",
            "2  a12  b12  c12  NaN  NaN\n",
            "3  NaN  b23  NaN  c23  d23\n",
            "4  NaN  b24  NaN  c24  d24\n",
            "5  NaN  b25  NaN  c25  d25\n",
            "inner \n",
            " Empty DataFrame\n",
            "Columns: [A, B, C_x, C_y, D]\n",
            "Index: []\n"
          ]
        }
      ],
      "source": [
        "print('left outer \\n' , df_1.merge(df_2, how='left', on='B' ) )\n",
        "print('right outer \\n' ,df_1.merge(df_2, how='right', on='B' ) )\n",
        "print('full outer \\n' ,df_1.merge(df_2, how='outer', on='B' ) )\n",
        "print('inner \\n' ,df_1.merge(df_2, how='inner', on='B' ) )"
      ]
    },
    {
      "cell_type": "code",
      "execution_count": null,
      "metadata": {
        "colab": {
          "base_uri": "https://localhost:8080/"
        },
        "id": "8FiY2auKdGC0",
        "outputId": "0c95c935-4890-4133-8c8d-8cd281266c3e"
      },
      "outputs": [
        {
          "name": "stdout",
          "output_type": "stream",
          "text": [
            "     A    B  C_x  C_y    D\n",
            "0  a10  b10  c10  NaN  NaN\n",
            "1  a11  b11  c11  NaN  NaN\n",
            "2  a12  b12  c12  NaN  NaN\n",
            "3  NaN  b23  NaN  c23  d23\n",
            "4  NaN  b24  NaN  c24  d24\n",
            "5  NaN  b25  NaN  c25  d25\n"
          ]
        }
      ],
      "source": [
        "df_3 = df_1.merge(df_2, how='outer', on='B')\n",
        "print(df_3)"
      ]
    },
    {
      "cell_type": "code",
      "execution_count": null,
      "metadata": {
        "colab": {
          "base_uri": "https://localhost:8080/"
        },
        "id": "X6Tt2lM_dkVl",
        "outputId": "70a0ff7a-518b-4c5d-a0d8-7c160bb33a44"
      },
      "outputs": [
        {
          "name": "stdout",
          "output_type": "stream",
          "text": [
            "     A  B_x  C_x  B_y  C_y    D\n",
            "가  a10  b10  c10  NaN  NaN  NaN\n",
            "나  a11  b11  c11  NaN  NaN  NaN\n",
            "다  a12  b12  c12  b23  c23  d23\n",
            "라  NaN  NaN  NaN  b24  c24  d24\n",
            "마  NaN  NaN  NaN  b25  c25  d25\n"
          ]
        }
      ],
      "source": [
        "df_3 = df_1.merge(df_2, how = 'outer',\n",
        "                  left_index = True, right_index = True )\n",
        "print(df_3)"
      ]
    }
  ],
  "metadata": {
    "colab": {
      "provenance": []
    },
    "kernelspec": {
      "display_name": "Python 3",
      "name": "python3"
    },
    "language_info": {
      "codemirror_mode": {
        "name": "ipython",
        "version": 3
      },
      "file_extension": ".py",
      "mimetype": "text/x-python",
      "name": "python",
      "nbconvert_exporter": "python",
      "pygments_lexer": "ipython3",
      "version": "3.12.0"
    }
  },
  "nbformat": 4,
  "nbformat_minor": 0
}
