{
 "cells": [
  {
   "cell_type": "code",
   "execution_count": 2,
   "id": "f60be452",
   "metadata": {},
   "outputs": [],
   "source": [
    "from fpdf import FPDF\n",
    "from PIL import Image"
   ]
  },
  {
   "cell_type": "code",
   "execution_count": 3,
   "id": "fce895ad",
   "metadata": {},
   "outputs": [],
   "source": [
    "def png_to_pdf(png_path, pdf_path):\n",
    "    image = Image.open(png_path)\n",
    "    pdf = FPDF()\n",
    "    pdf.add_page()\n",
    "    pdf.image(png_path, x=10, y=8, w=190)\n",
    "    pdf.output(pdf_path)\n",
    "\n",
    "png_to_pdf(\"C:/Users/KimDongyoung/Desktop/KakaoTalk_20250518_115910181.jpg\", \"C:/Users/KimDongyoung/Desktop/output.pdf\")"
   ]
  },
  {
   "cell_type": "code",
   "execution_count": null,
   "id": "616625b0",
   "metadata": {},
   "outputs": [],
   "source": [
    "# 같은 폴더에 없더라도 작동하게 하기\n",
    "# import sys\n",
    "import sys\n",
    "sys.path.append(r'd:\\김동영\\12_Gitub\\mygit\\mygit\\my-python-project\\src')"
   ]
  },
  {
   "cell_type": "code",
   "execution_count": 8,
   "id": "37c4b437",
   "metadata": {},
   "outputs": [],
   "source": [
    "from png_to_pdf import png_to_pdf\n",
    "\n",
    "# 함수 사용 예시\n",
    "png_to_pdf(\"C:/Users/KimDongyoung/Desktop/KakaoTalk_20250518_115910181.jpg\", \"C:/Users/KimDongyoung/Desktop/output.pdf\")"
   ]
  }
 ],
 "metadata": {
  "kernelspec": {
   "display_name": "Python 3",
   "language": "python",
   "name": "python3"
  },
  "language_info": {
   "codemirror_mode": {
    "name": "ipython",
    "version": 3
   },
   "file_extension": ".py",
   "mimetype": "text/x-python",
   "name": "python",
   "nbconvert_exporter": "python",
   "pygments_lexer": "ipython3",
   "version": "3.12.0"
  }
 },
 "nbformat": 4,
 "nbformat_minor": 5
}
