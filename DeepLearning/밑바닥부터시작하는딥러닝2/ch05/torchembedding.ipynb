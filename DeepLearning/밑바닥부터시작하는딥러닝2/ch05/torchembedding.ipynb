{
 "cells": [
  {
   "cell_type": "code",
   "execution_count": 1,
   "metadata": {},
   "outputs": [],
   "source": [
    "import torch\n",
    "import torch.nn as nn"
   ]
  },
  {
   "cell_type": "code",
   "execution_count": 2,
   "metadata": {},
   "outputs": [],
   "source": [
    "# Suppose vocab_size=10000, embed_dim=300, hidden_dim=256\n",
    "embedding_layer = nn.Embedding(num_embeddings=10000, embedding_dim=300) # 10000 words, 임베딩 벡터 차원 300\n",
    "lstm_layer = nn.LSTM(input_size=300, hidden_size=256, batch_first=True) # input 차원 300, hidden 차원 256\n",
    "\n",
    "# Example input: batch of size B=2, sequence length T=5\n",
    "# (tokens have already been converted to integer IDs)\n",
    "x = torch.LongTensor([\n",
    "    [15, 7, 123, 4, 999],   # e.g. \"I love natural language processing\"\n",
    "    [3, 91, 27, 27, 0]      # e.g. \"Another example sentence here\"\n",
    "])\n",
    "\n",
    "# 1) Embedding lookup\n",
    "emb = embedding_layer(x)\n",
    "# emb: shape (B=2, T=5, embed_dim=300)\n",
    "\n",
    "# 2) Feed into LSTM\n",
    "output, (h_n, c_n) = lstm_layer(emb)\n",
    "# output: (B=2, T=5, hidden_dim=256) [if batch_first=True]\n",
    "# h_n:   (1, B=2, hidden_dim=256)    # final hidden state\n",
    "# c_n:   (1, B=2, hidden_dim=256)    # final cell state"
   ]
  },
  {
   "cell_type": "code",
   "execution_count": 6,
   "metadata": {},
   "outputs": [
    {
     "data": {
      "text/plain": [
       "torch.Size([2, 5, 300])"
      ]
     },
     "execution_count": 6,
     "metadata": {},
     "output_type": "execute_result"
    },
    {
     "ename": "",
     "evalue": "",
     "output_type": "error",
     "traceback": [
      "\u001b[1;31m현재 셀 또는 이전 셀에서 코드를 실행하는 동안 Kernel이 충돌했습니다. \n",
      "\u001b[1;31m셀의 코드를 검토하여 가능한 오류 원인을 식별하세요. \n",
      "\u001b[1;31m자세한 내용을 보려면 <a href='https://aka.ms/vscodeJupyterKernelCrash'>여기</a>를 클릭하세요. \n",
      "\u001b[1;31m자세한 내용은 Jupyter <a href='command:jupyter.viewOutput'>로그</a>를 참조하세요."
     ]
    }
   ],
   "source": [
    "emb.shape"
   ]
  }
 ],
 "metadata": {
  "kernelspec": {
   "display_name": "Python 3",
   "language": "python",
   "name": "python3"
  },
  "language_info": {
   "codemirror_mode": {
    "name": "ipython",
    "version": 3
   },
   "file_extension": ".py",
   "mimetype": "text/x-python",
   "name": "python",
   "nbconvert_exporter": "python",
   "pygments_lexer": "ipython3",
   "version": "3.12.0"
  }
 },
 "nbformat": 4,
 "nbformat_minor": 2
}
