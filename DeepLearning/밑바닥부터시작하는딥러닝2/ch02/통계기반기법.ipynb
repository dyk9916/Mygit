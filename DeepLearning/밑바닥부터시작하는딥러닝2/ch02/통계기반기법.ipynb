{
 "cells": [
  {
   "cell_type": "code",
   "execution_count": 1,
   "metadata": {},
   "outputs": [],
   "source": [
    "import numpy as np\n",
    "import matplotlib.pyplot as plt"
   ]
  },
  {
   "cell_type": "code",
   "execution_count": 2,
   "metadata": {},
   "outputs": [
    {
     "data": {
      "text/plain": [
       "'you say goodbye and i say hello .'"
      ]
     },
     "execution_count": 2,
     "metadata": {},
     "output_type": "execute_result"
    }
   ],
   "source": [
    "text = 'you say goodbye and I say hello.'\n",
    "text = text.lower()\n",
    "text = text.replace('.', ' .')\n",
    "text"
   ]
  },
  {
   "cell_type": "code",
   "execution_count": 3,
   "metadata": {},
   "outputs": [
    {
     "data": {
      "text/plain": [
       "['you', 'say', 'goodbye', 'and', 'i', 'say', 'hello', '.']"
      ]
     },
     "execution_count": 3,
     "metadata": {},
     "output_type": "execute_result"
    }
   ],
   "source": [
    "words = text.split(' ') # 단어 단위로 분할\n",
    "words"
   ]
  },
  {
   "cell_type": "code",
   "execution_count": 4,
   "metadata": {},
   "outputs": [
    {
     "data": {
      "text/plain": [
       "{'you': 0, 'say': 1, 'goodbye': 2, 'and': 3, 'i': 4, 'hello': 5, '.': 6}"
      ]
     },
     "execution_count": 4,
     "metadata": {},
     "output_type": "execute_result"
    }
   ],
   "source": [
    "# 단어 ID와 단어 사전 생성\n",
    "\n",
    "words_to_id = {}\n",
    "id_to_words = {}\n",
    "\n",
    "for word in words:\n",
    "    if word not in words_to_id:\n",
    "        new_id = len(words_to_id) # 새로운 단어 추가, ID는 현재의 단어 수\n",
    "        words_to_id[word] = new_id\n",
    "        id_to_words[new_id] = word\n",
    "        \n",
    "words_to_id\n",
    "# id_to_words"
   ]
  },
  {
   "cell_type": "code",
   "execution_count": 5,
   "metadata": {},
   "outputs": [
    {
     "data": {
      "text/plain": [
       "5"
      ]
     },
     "execution_count": 5,
     "metadata": {},
     "output_type": "execute_result"
    }
   ],
   "source": [
    "words_to_id['hello']"
   ]
  },
  {
   "cell_type": "code",
   "execution_count": 6,
   "metadata": {},
   "outputs": [
    {
     "data": {
      "text/plain": [
       "array([0, 1, 2, 3, 4, 1, 5, 6])"
      ]
     },
     "execution_count": 6,
     "metadata": {},
     "output_type": "execute_result"
    }
   ],
   "source": [
    "corpus = [words_to_id[w] for w in words]\n",
    "corpus = np.array(corpus)\n",
    "corpus"
   ]
  },
  {
   "cell_type": "code",
   "execution_count": 7,
   "metadata": {},
   "outputs": [],
   "source": [
    "# 말뭉치 전처리 함수\n",
    "def preprocess(text):\n",
    "    text = text.lower()\n",
    "    text = text.replace('.', ' .')\n",
    "    words = text.split(' ')\n",
    "    \n",
    "    word_to_id = {}\n",
    "    id_to_word = {}\n",
    "    for word in words:\n",
    "        if word not in word_to_id:\n",
    "            new_id = len(word_to_id)\n",
    "            word_to_id[word] = new_id\n",
    "            id_to_word[new_id] = word\n",
    "            \n",
    "    corpus = np.array([word_to_id[w] for w in words])\n",
    "    \n",
    "    return corpus, word_to_id, id_to_word"
   ]
  },
  {
   "cell_type": "code",
   "execution_count": 8,
   "metadata": {},
   "outputs": [],
   "source": [
    "text = 'You say goodbye and I say hello.'\n",
    "corpus, word_to_id, id_to_word = preprocess(text)"
   ]
  },
  {
   "cell_type": "code",
   "execution_count": 9,
   "metadata": {},
   "outputs": [
    {
     "name": "stdout",
     "output_type": "stream",
     "text": [
      "[0 1 2 3 4 1 5 6]\n",
      "{'you': 0, 'say': 1, 'goodbye': 2, 'and': 3, 'i': 4, 'hello': 5, '.': 6}\n",
      "{0: 'you', 1: 'say', 2: 'goodbye', 3: 'and', 4: 'i', 5: 'hello', 6: '.'}\n"
     ]
    }
   ],
   "source": [
    "print(corpus)\n",
    "print(word_to_id)\n",
    "print(id_to_word)"
   ]
  },
  {
   "cell_type": "markdown",
   "metadata": {},
   "source": [
    "### 동시발생 행렬, 분포 가설에 기초해 단어를 벡터로 구현  "
   ]
  },
  {
   "cell_type": "code",
   "execution_count": 10,
   "metadata": {},
   "outputs": [],
   "source": [
    "# 동시발생 행렬\n",
    "\n",
    "c = np.array([[0, 1, 0, 0, 0, 0, 0],\n",
    "              [1, 0, 1, 0, 1, 1, 0],\n",
    "              [0, 1, 0, 1, 0, 0, 0],\n",
    "              [0, 0, 1, 0, 1, 0, 0],\n",
    "              [0, 1, 0, 1, 0, 0, 0],\n",
    "              [0, 1, 0, 0, 0, 0, 1],\n",
    "              [0, 0, 0, 0, 0, 1, 0]], dtype=np.int32)"
   ]
  },
  {
   "cell_type": "code",
   "execution_count": 11,
   "metadata": {},
   "outputs": [
    {
     "name": "stdout",
     "output_type": "stream",
     "text": [
      "[0 1 0 0 0 0 0]\n",
      "[0 1 0 1 0 0 0]\n"
     ]
    }
   ],
   "source": [
    "print(c[0]) # ID가 0인 단어의 벡터 표현\n",
    "print(c[word_to_id['goodbye']]) # goodbye의 벡터 표현\n"
   ]
  },
  {
   "cell_type": "code",
   "execution_count": 12,
   "metadata": {},
   "outputs": [],
   "source": [
    "# 윈도우 크기가 1인 경우의 동시발생 행렬 생성 함수\n",
    "\n",
    "def create_co_matrix(corpus, vocab_size, window_size=1): # corpus: 단어 ID 리스트, vocab_size: 어휘 수, window_size: 윈도우 크기 (기본값 1)\n",
    "  \n",
    "  corpus_size = len(corpus) # 말뭉치 크기\n",
    "  co_matrix = np.zeros((vocab_size, vocab_size), dtype=np.int32) # 동시발생 행렬 0으로 초기화\n",
    "    \n",
    "  for idx, word_id in enumerate(corpus): # idx는 인덱스이고, word_id는 단어 ID이다. idx는 순서 번호를 나타낸다. word_id는 단어 ID를 나타낸다.\n",
    "    for i in range(1, window_size + 1): # 윈도우 크기가 1인 경우, 좌우 한 단어씩만 살펴본다.\n",
    "      left_idx = idx - i                # 타깃 단어의 왼쪽에 있는 단어의 인덱스\n",
    "      right_idx = idx + i               # 타깃 단어의 오른쪽에 있는 단어의 인덱스\n",
    "            \n",
    "      if left_idx >= 0:\n",
    "        left_word_id = corpus[left_idx]\n",
    "        co_matrix[word_id, left_word_id] += 1  # word_id: 행, left_word_id: 열\n",
    "                \n",
    "      if right_idx < corpus_size:\n",
    "        right_word_id = corpus[right_idx]\n",
    "        co_matrix[word_id, right_word_id] += 1\n",
    "                \n",
    "  return co_matrix"
   ]
  },
  {
   "cell_type": "code",
   "execution_count": 13,
   "metadata": {},
   "outputs": [
    {
     "name": "stdout",
     "output_type": "stream",
     "text": [
      "[0 1 2 3 4 1 5 6]\n",
      "{'you': 0, 'say': 1, 'goodbye': 2, 'and': 3, 'i': 4, 'hello': 5, '.': 6}\n",
      "{0: 'you', 1: 'say', 2: 'goodbye', 3: 'and', 4: 'i', 5: 'hello', 6: '.'}\n",
      "[[0 1 0 0 0 0 0]\n",
      " [1 0 1 0 1 1 0]\n",
      " [0 1 0 1 0 0 0]\n",
      " [0 0 1 0 1 0 0]\n",
      " [0 1 0 1 0 0 0]\n",
      " [0 1 0 0 0 0 1]\n",
      " [0 0 0 0 0 1 0]]\n"
     ]
    }
   ],
   "source": [
    "# 예시 코드\n",
    "\n",
    "# 먼저 말뭉치 전처리\n",
    "text = 'you say goodbye and I say hello.'\n",
    "corpus, word_to_id, id_to_word = preprocess(text)\n",
    "\n",
    "print(corpus)\n",
    "print(word_to_id)\n",
    "print(id_to_word)\n",
    "\n",
    "# 동시발생 행렬 생성\n",
    "vocab_size = len(id_to_word) # word_to_id를 넣어도 됨\n",
    "C = create_co_matrix(corpus, vocab_size)\n",
    "print(C)"
   ]
  },
  {
   "cell_type": "code",
   "execution_count": 40,
   "metadata": {},
   "outputs": [
    {
     "data": {
      "text/plain": [
       "7"
      ]
     },
     "execution_count": 40,
     "metadata": {},
     "output_type": "execute_result"
    }
   ],
   "source": [
    "len(word_to_id)"
   ]
  },
  {
   "cell_type": "code",
   "execution_count": 41,
   "metadata": {},
   "outputs": [
    {
     "name": "stdout",
     "output_type": "stream",
     "text": [
      "0 0\n",
      "1 1\n",
      "2 2\n",
      "3 3\n",
      "4 4\n",
      "5 1\n",
      "6 5\n",
      "7 6\n"
     ]
    }
   ],
   "source": [
    "for idx, word_id in enumerate(corpus):\n",
    "  print(idx, word_id)"
   ]
  },
  {
   "cell_type": "markdown",
   "metadata": {},
   "source": [
    "### 벡터 간 유사도 측정  "
   ]
  },
  {
   "cell_type": "code",
   "execution_count": 14,
   "metadata": {},
   "outputs": [],
   "source": [
    "# 코사인 유사도 함수\n",
    "def cosine_similarity(x,y, eps=1e-8): # x 벡터, y 벡터, eps는 인수로 제로 벡터가 들어오면 0으로 나누는 사태를 막기 위한 작은 값\n",
    "  nx = x / np.sqrt(np.sum(x**2) + eps) # x의 정규화\n",
    "  ny = y / np.sqrt(np.sum(y**2) + eps) # y의 정규화\n",
    "  return np.dot(nx, ny) # 정규화된 x와 y의 내적\n",
    "  "
   ]
  },
  {
   "cell_type": "code",
   "execution_count": 16,
   "metadata": {},
   "outputs": [
    {
     "name": "stdout",
     "output_type": "stream",
     "text": [
      "[ 0.98039216 -0.19607843  0.01960784]\n",
      "[-0.89410537  0.44705269  0.02682316]\n"
     ]
    }
   ],
   "source": [
    "x = np.array([100, -20, 2])\n",
    "y = np.array([-100, 50, 3])\n",
    "\n",
    "nx = x / np.sqrt(np.sum(x**2))\n",
    "ny = y / np.sqrt(np.sum(y**2))\n",
    "print(nx)\n",
    "print(ny)"
   ]
  },
  {
   "cell_type": "code",
   "execution_count": 17,
   "metadata": {},
   "outputs": [
    {
     "name": "stdout",
     "output_type": "stream",
     "text": [
      "0.7071067758832467\n"
     ]
    }
   ],
   "source": [
    "c0 = C[word_to_id['you']] # \"you\"의 단어 벡터\n",
    "c1 = C[word_to_id['i']] # \"i\"의 단어 벡터\n",
    "print(cosine_similarity(c0, c1))"
   ]
  },
  {
   "cell_type": "markdown",
   "metadata": {},
   "source": [
    "### 유사 단어의 랭킹 표시 "
   ]
  },
  {
   "cell_type": "code",
   "execution_count": 18,
   "metadata": {},
   "outputs": [],
   "source": [
    "def most_similar(query,word_to_id, id_to_word, word_matrix, top=5): # query: 검색어(단어), word_to_id: 단어에서 단어 ID로 변환하는 딕셔너리, id_to_word: 단어 ID에서 단어로 변환하는 딕셔너리, word_matrix: 단어 벡터를 정리한 행렬, top: 상위 몇 개까지 출력할지 지정\n",
    "  # 검색어의 단어 벡터를 꺼낸다. \n",
    "  if query not in word_to_id:\n",
    "    print('%s(을)를 찾을 수 없습니다.' % query)\n",
    "    return\n",
    "  \n",
    "  print('\\n[query] ' + query)\n",
    "  query_id = word_to_id[query]      # 검색어의 단어 ID\n",
    "  query_vec = word_matrix[query_id] # 검색어의 단어 벡터\n",
    "  \n",
    "  # 코사인 유사도 계산\n",
    "  vocab_size = len(id_to_word)      # 어휘 수, 즉 행렬의 행 수 -> 7\n",
    "  similarity = np.zeros(vocab_size) # 유사도를 담을 리스트 0으로 초기화\n",
    "  for i in range(vocab_size):\n",
    "    similarity[i] = cosine_similarity(word_matrix[i], query_vec) # 각 단어의 벡터와 검색어의 벡터 사이의 코사인 유사도를 구한 후 리스트에 저장\n",
    "    \n",
    "  # 코사인 유사도를 기준으로 내림차순으로 출력\n",
    "  count = 0\n",
    "  for i in (-1 * similarity).argsort():\n",
    "    if id_to_word[i] == query:\n",
    "      continue\n",
    "    print(' %s: %s' % (id_to_word[i], similarity[i]))\n",
    "    \n",
    "    count += 1\n",
    "    if count >= top:\n",
    "      return"
   ]
  },
  {
   "cell_type": "code",
   "execution_count": 19,
   "metadata": {},
   "outputs": [
    {
     "name": "stdout",
     "output_type": "stream",
     "text": [
      "\n",
      "[query] say\n",
      " and: 0.7071067785348971\n",
      " .: 0.4999999968750001\n",
      " you: 0.0\n",
      " goodbye: 0.0\n",
      " i: 0.0\n"
     ]
    }
   ],
   "source": [
    "text = 'you say goodbye and I say hello.'\n",
    "corpus, word_to_id, id_to_word = preprocess(text)     # 말뭉치 전처리\n",
    "vocab_size = len(word_to_id)\n",
    "C = create_co_matrix(corpus, vocab_size)              # 동시발생 행렬 생성\n",
    "most_similar('say', word_to_id, id_to_word, C, top=5) # 코사인 유사도 상위 5개 단어 출력"
   ]
  },
  {
   "cell_type": "markdown",
   "metadata": {},
   "source": [
    "### 양의 상호정보량 (PPMI) "
   ]
  },
  {
   "cell_type": "code",
   "execution_count": 20,
   "metadata": {},
   "outputs": [],
   "source": [
    "def ppmi(C, verbose=False, eps=1e-8):        # C: 동시발생 행렬, verbose: 진행 상황 출력 여부, eps: 0으로 나누는 사태를 막기 위한 작은 값\n",
    "  M = np.zeros_like(C, dtype=np.float32)     # PPMI를 담을 행렬 0으로 초기화\n",
    "  N = np.sum(C)                              # 동시발생 행렬의 총 원소 개수 = 총 1의 개수 -> 14\n",
    "  print(N)\n",
    "  \n",
    "  S = np.sum(C, axis=0)           # 각 단어의 출현 횟수. 행 방향으로 1을 다 더함\n",
    "  total = C.shape[0] * C.shape[1] # 동시발생 행렬의 총 원소 개수  -> 7*7=49\n",
    "   \n",
    "  cnt = 0\n",
    "  \n",
    "  for i in range(C.shape[0]):\n",
    "    for j in range(C.shape[1]):\n",
    "      pmi = np.log2(C[i, j] * N / (S[j]*S[i]) + eps)  # PMI = log2(C(x,y) * N / (S(x)*S(y)))\n",
    "      print(C[i, j],S[j], S[i])\n",
    "      M[i, j] = max(0, pmi)\n",
    "      \n",
    "      if verbose:\n",
    "        cnt += 1\n",
    "        if cnt % (total//100) == 0:\n",
    "          print('%.1f%% 완료' % (100*cnt/total))\n",
    "          \n",
    "  return M"
   ]
  },
  {
   "cell_type": "code",
   "execution_count": 23,
   "metadata": {},
   "outputs": [
    {
     "name": "stdout",
     "output_type": "stream",
     "text": [
      "14\n",
      "0 1 1\n",
      "1 4 1\n",
      "0 2 1\n",
      "0 2 1\n",
      "0 2 1\n",
      "0 2 1\n",
      "0 1 1\n",
      "1 1 4\n",
      "0 4 4\n",
      "1 2 4\n",
      "0 2 4\n",
      "1 2 4\n",
      "1 2 4\n",
      "0 1 4\n",
      "0 1 2\n",
      "1 4 2\n",
      "0 2 2\n",
      "1 2 2\n",
      "0 2 2\n",
      "0 2 2\n",
      "0 1 2\n",
      "0 1 2\n",
      "0 4 2\n",
      "1 2 2\n",
      "0 2 2\n",
      "1 2 2\n",
      "0 2 2\n",
      "0 1 2\n",
      "0 1 2\n",
      "1 4 2\n",
      "0 2 2\n",
      "1 2 2\n",
      "0 2 2\n",
      "0 2 2\n",
      "0 1 2\n",
      "0 1 2\n",
      "1 4 2\n",
      "0 2 2\n",
      "0 2 2\n",
      "0 2 2\n",
      "0 2 2\n",
      "1 1 2\n",
      "0 1 1\n",
      "0 4 1\n",
      "0 2 1\n",
      "0 2 1\n",
      "0 2 1\n",
      "1 2 1\n",
      "0 1 1\n",
      "동시발생 행렬\n",
      "[[0 1 0 0 0 0 0]\n",
      " [1 0 1 0 1 1 0]\n",
      " [0 1 0 1 0 0 0]\n",
      " [0 0 1 0 1 0 0]\n",
      " [0 1 0 1 0 0 0]\n",
      " [0 1 0 0 0 0 1]\n",
      " [0 0 0 0 0 1 0]]\n",
      "--------------------------------------------------\n",
      "PPMI\n",
      "[[0.    1.807 0.    0.    0.    0.    0.   ]\n",
      " [1.807 0.    0.807 0.    0.807 0.807 0.   ]\n",
      " [0.    0.807 0.    1.807 0.    0.    0.   ]\n",
      " [0.    0.    1.807 0.    1.807 0.    0.   ]\n",
      " [0.    0.807 0.    1.807 0.    0.    0.   ]\n",
      " [0.    0.807 0.    0.    0.    0.    2.807]\n",
      " [0.    0.    0.    0.    0.    2.807 0.   ]]\n"
     ]
    }
   ],
   "source": [
    "text = 'you say goodbye and I say hello.'\n",
    "corpus, word_to_id, id_to_word = preprocess(text)     # 말뭉치 전처리\n",
    "vocab_size = len(word_to_id)\n",
    "C = create_co_matrix(corpus, vocab_size)              # 동시발생 행렬 생성\n",
    "W = ppmi(C)                                           # PPMI 계산\n",
    "\n",
    "np.set_printoptions(precision=3) # 유효 자릿수를 세 자리로 표시\n",
    "print('동시발생 행렬')\n",
    "print(C)\n",
    "print('-'*50)\n",
    "print('PPMI')\n",
    "print(W)"
   ]
  },
  {
   "cell_type": "code",
   "execution_count": 25,
   "metadata": {},
   "outputs": [
    {
     "name": "stdout",
     "output_type": "stream",
     "text": [
      "\n",
      "[query] say\n",
      " and: 0.49964451789855957\n",
      " .: 0.3533020317554474\n",
      " you: 0.0\n",
      " goodbye: 0.0\n",
      " i: 0.0\n"
     ]
    },
    {
     "ename": "",
     "evalue": "",
     "output_type": "error",
     "traceback": [
      "\u001b[1;31m현재 셀 또는 이전 셀에서 코드를 실행하는 동안 Kernel이 충돌했습니다. \n",
      "\u001b[1;31m셀의 코드를 검토하여 가능한 오류 원인을 식별하세요. \n",
      "\u001b[1;31m자세한 내용을 보려면 <a href='https://aka.ms/vscodeJupyterKernelCrash'>여기</a>를 클릭하세요. \n",
      "\u001b[1;31m자세한 내용은 Jupyter <a href='command:jupyter.viewOutput'>로그</a>를 참조하세요."
     ]
    }
   ],
   "source": [
    "most_similar('say', word_to_id, id_to_word, W, top=5) # 코사인 유사도 상위 5개 단어 출력"
   ]
  },
  {
   "cell_type": "markdown",
   "metadata": {},
   "source": [
    "### SVD에 의한 차원 감소 "
   ]
  },
  {
   "cell_type": "code",
   "execution_count": 49,
   "metadata": {},
   "outputs": [],
   "source": [
    "# SVD\n",
    "U, S, V = np.linalg.svd(W)"
   ]
  },
  {
   "cell_type": "code",
   "execution_count": 50,
   "metadata": {},
   "outputs": [
    {
     "name": "stdout",
     "output_type": "stream",
     "text": [
      "[[-1.110e-16  3.409e-01 -1.205e-01 -4.163e-16 -1.110e-16 -9.323e-01\n",
      "  -2.426e-17]\n",
      " [-5.976e-01  0.000e+00  0.000e+00  1.802e-01 -7.812e-01  0.000e+00\n",
      "   0.000e+00]\n",
      " [-5.551e-17  4.363e-01 -5.088e-01 -2.220e-16 -1.388e-17  2.253e-01\n",
      "  -7.071e-01]\n",
      " [-4.978e-01  1.665e-16  2.776e-17  6.804e-01  5.378e-01 -1.110e-16\n",
      "   7.467e-17]\n",
      " [-3.124e-17  4.363e-01 -5.088e-01 -1.600e-16 -1.302e-17  2.253e-01\n",
      "   7.071e-01]\n",
      " [-3.124e-17  7.092e-01  6.839e-01 -1.600e-16 -1.302e-17  1.710e-01\n",
      "   7.865e-17]\n",
      " [-6.285e-01 -1.943e-16 -2.776e-17 -7.103e-01  3.169e-01  2.220e-16\n",
      "  -9.614e-17]]\n"
     ]
    }
   ],
   "source": [
    "# print(W[0]) # PPIM 행렬\n",
    "# print(U[0]) # SVD 행렬\n",
    "\n",
    "# print(U[0, :2]) # U의 첫 번째 행에서 처음 두 원소만 꺼냄 -> 차원 축소\n",
    "print(U)"
   ]
  },
  {
   "cell_type": "code",
   "execution_count": 51,
   "metadata": {},
   "outputs": [
    {
     "data": {
      "image/png": "[encoded data removed]",
      "text/plain": [
       "<Figure size 640x480 with 1 Axes>"
      ]
     },
     "metadata": {},
     "output_type": "display_data"
    }
   ],
   "source": [
    "for word, word_id in word_to_id.items():\n",
    "  plt.annotate(word, (U[word_id, 0], U[word_id, 1]))\n",
    "  \n",
    "plt.scatter(U[:,0], U[:,1], alpha=0.5)\n",
    "plt.show()"
   ]
  },
  {
   "cell_type": "code",
   "execution_count": 52,
   "metadata": {},
   "outputs": [],
   "source": [
    "import os\n",
    "# ptb 모듈 경로 추가\n",
    "import sys\n",
    "sys.path.append('C:/Users/KimDongyoung/Desktop/Github/my_git/mygit/DEEPLEARNING/밑바닥부터시작하는딥러닝2/dataset')"
   ]
  },
  {
   "cell_type": "code",
   "execution_count": 53,
   "metadata": {},
   "outputs": [],
   "source": [
    "from ptb import load_data"
   ]
  },
  {
   "cell_type": "code",
   "execution_count": 54,
   "metadata": {},
   "outputs": [],
   "source": [
    "corpus, word_to_id, id_to_word = load_data('train')"
   ]
  },
  {
   "cell_type": "code",
   "execution_count": 55,
   "metadata": {},
   "outputs": [],
   "source": [
    "window_size = 2 # 윈도우 크기\n",
    "wordvec_size = 100 # 단어 임베딩 차원 수\n",
    "vocab_size = len(word_to_id) # 어휘 수"
   ]
  },
  {
   "cell_type": "code",
   "execution_count": null,
   "metadata": {},
   "outputs": [],
   "source": [
    "C = create_co_matrix(corpus, vocab_size, window_size) # 동시발생 행렬 생성, corpus: 단어 ID 리스트, vocab_size: 어휘 수, window_size: 윈도우 크기\n",
    "W = ppmi(C, verbose=True) # PPMI 계산\n",
    "\n",
    "# try:\n",
    "#   from sklearn.utils.extmath import randomized_svd\n",
    "#   U, S, V = randomized_svd(W, n_components=wordvec_size, n_iter=5, random_state=None) # 고속 SVD\n",
    "  \n",
    "# except ImportError:\n",
    "#   U, S, V = np.linalg.svd(W)\n",
    "  \n",
    "# word_vecs = U[:, :wordvec_size] # 차원 축소, wordvec_size: 단어 임베딩 차원 수"
   ]
  },
  {
   "cell_type": "code",
   "execution_count": null,
   "metadata": {},
   "outputs": [],
   "source": [
    "most_similar('say', word_to_id, id_to_word, C, top=5) # 코사인 유사도 상위 5개 단어 출력"
   ]
  },
  {
   "cell_type": "code",
   "execution_count": 136,
   "metadata": {},
   "outputs": [
    {
     "name": "stdout",
     "output_type": "stream",
     "text": [
      "\n",
      "[query] you\n",
      " i: 0.6699886918067932\n",
      " we: 0.5964745283126831\n",
      " do: 0.5654407143592834\n",
      " 'd: 0.5091731548309326\n",
      " someone: 0.4832755923271179\n",
      "\n",
      "[query] year\n",
      " month: 0.6612287163734436\n",
      " quarter: 0.6254000663757324\n",
      " earlier: 0.5893720388412476\n",
      " june: 0.5827305316925049\n",
      " february: 0.5692856907844543\n",
      "\n",
      "[query] car\n",
      " luxury: 0.6450836062431335\n",
      " auto: 0.5802451372146606\n",
      " truck: 0.5297993421554565\n",
      " cars: 0.5115047693252563\n",
      " vehicle: 0.5109766721725464\n",
      "\n",
      "[query] toyota\n",
      " motor: 0.7371780872344971\n",
      " nissan: 0.658774733543396\n",
      " lexus: 0.6483688354492188\n",
      " motors: 0.6271815299987793\n",
      " honda: 0.6032297611236572\n"
     ]
    }
   ],
   "source": [
    "querys = ['you', 'year', 'car', 'toyota']\n",
    "for query in querys:\n",
    "  most_similar(query, word_to_id, id_to_word, word_vecs, top=5)"
   ]
  },
  {
   "cell_type": "code",
   "execution_count": null,
   "metadata": {},
   "outputs": [],
   "source": []
  },
  {
   "cell_type": "code",
   "execution_count": null,
   "metadata": {},
   "outputs": [],
   "source": []
  }
 ],
 "metadata": {
  "kernelspec": {
   "display_name": "Python 3",
   "language": "python",
   "name": "python3"
  },
  "language_info": {
   "codemirror_mode": {
    "name": "ipython",
    "version": 3
   },
   "file_extension": ".py",
   "mimetype": "text/x-python",
   "name": "python",
   "nbconvert_exporter": "python",
   "pygments_lexer": "ipython3",
   "version": "3.12.0"
  }
 },
 "nbformat": 4,
 "nbformat_minor": 2
}
