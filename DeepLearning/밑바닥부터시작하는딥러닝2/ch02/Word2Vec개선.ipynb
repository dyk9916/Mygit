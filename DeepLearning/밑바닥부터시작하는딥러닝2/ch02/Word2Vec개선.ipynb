{
 "cells": [
  {
   "cell_type": "code",
   "execution_count": 20,
   "metadata": {},
   "outputs": [],
   "source": [
    "import os\n",
    "# ptb 모듈 경로 추가\n",
    "import sys\n",
    "sys.path.append('C:/Users/KimDongyoung/Desktop/Github/my_git/mygit/DEEPLEARNING/밑바닥부터시작하는딥러닝2')"
   ]
  },
  {
   "cell_type": "code",
   "execution_count": 21,
   "metadata": {},
   "outputs": [],
   "source": [
    "import numpy as np\n",
    "import collections\n",
    "from common.functions import softmax, cross_entropy_error\n",
    "\n",
    "from common.util import create_contexts_target,to_cpu, to_gpu\n",
    "from common.optimizer import Adam\n",
    "from common.trainer import Trainer"
   ]
  },
  {
   "cell_type": "code",
   "execution_count": 22,
   "metadata": {},
   "outputs": [],
   "source": [
    "sys.path.append('C:/Users/KimDongyoung/Desktop/Github/my_git/mygit/DEEPLEARNING/밑바닥부터시작하는딥러닝2/dataset')\n",
    "from ptb import *"
   ]
  },
  {
   "cell_type": "markdown",
   "metadata": {},
   "source": [
    "### Embedding 계층 구현   "
   ]
  },
  {
   "cell_type": "code",
   "execution_count": 23,
   "metadata": {},
   "outputs": [],
   "source": [
    "class Embedding:\n",
    "  def __init__(self, W):\n",
    "    self.params = [W]\n",
    "    self.grads = [np.zeros_like(W)]\n",
    "    self.idx = None\n",
    "   \n",
    "  # 순전파에서는 가중치 w의 특정 행을 추출 \n",
    "  def forward(self, idx):\n",
    "    W, = self.params\n",
    "    self.idx = idx\n",
    "    out = W[idx]     # idx에 해당하는 가중치 행렬의 행을 추출\n",
    "    return out\n",
    "  \n",
    "  # 역전파에서는 가중치 기울기 dW를 꺼낸다음, dW의 원소를 0으로 설정한 후, idx에 해당하는 행에 dout을 더한다.-> idx의 원소가 중복될 수 있으므로 더해야함. \n",
    "  def backward(self, dout):\n",
    "    dW, = self.grads\n",
    "    dW[...] = 0\n",
    "    np.add.at(dW, self.idx, dout)  # dW의 특정 행에 dout을 더함\n",
    "    return None"
   ]
  },
  {
   "cell_type": "markdown",
   "metadata": {},
   "source": [
    "### Embedding dot 계층 구현  "
   ]
  },
  {
   "cell_type": "code",
   "execution_count": 24,
   "metadata": {},
   "outputs": [],
   "source": [
    "class EmbeddingDot:\n",
    "  def __init__(self, W):\n",
    "    self.embed = Embedding(W)\n",
    "    self.params = self.embed.params\n",
    "    self.grads = self.embed.grads\n",
    "    self.cache = None                   # 순전파 시의 계산 결과를 담아두는 변수\n",
    "\n",
    "  def forward(self, h, idx):            # h는 은닉층 뉴런의 출력, idx는 단어 ID 배열\n",
    "    target_W = self.embed.forward(idx)  # Embedding 계층의 forward 메서드 호출, idx에 해당하는 가중치 행렬의 행을 추출, 여기서 idx는 정답 레이블의 단어 ID이다. \n",
    "    out = np.sum(target_W * h, axis=1)  # target_W와 h의 행렬 곱 계산\n",
    "\n",
    "    self.cache = (h, target_W)        \n",
    "    return out\n",
    "\n",
    "  def backward(self, dout):\n",
    "    h, target_W = self.cache\n",
    "    dout = dout.reshape(dout.shape[0], 1)\n",
    "\n",
    "    dtarget_W = dout * h\n",
    "    self.embed.backward(dtarget_W)\n",
    "    dh = dout * target_W\n",
    "    return dh"
   ]
  },
  {
   "cell_type": "markdown",
   "metadata": {},
   "source": [
    "### 네거티브 샘플링 구현  "
   ]
  },
  {
   "cell_type": "code",
   "execution_count": 25,
   "metadata": {},
   "outputs": [
    {
     "data": {
      "text/plain": [
       "'.'"
      ]
     },
     "execution_count": 25,
     "metadata": {},
     "output_type": "execute_result"
    }
   ],
   "source": [
    "# 단어 빈도 수를 구해 확률분포에 따라 샘플링하는 함수\n",
    "\n",
    "words = ['you', 'say', 'goodbye', 'I', 'hello', '.']\n",
    "np.random.choice(words, size=2, replace=False)  # words에서 무작위로 5개 선택, 중복 없음\n",
    "\n",
    "# 확률분포에 따라 샘플링\n",
    "p = [0.1, 0.05, 0.5, 0.2, 0.05, 0.1] # 합이 1인 확률분포\n",
    "np.random.choice(words, p=p)  # words에서 확률분포 p에 따라 샘플링"
   ]
  },
  {
   "cell_type": "code",
   "execution_count": 26,
   "metadata": {},
   "outputs": [],
   "source": [
    "# 네거티브 샘플링 구현\n",
    "class UnigramSampler:\n",
    "    def __init__(self, corpus, power, sample_size):\n",
    "        self.sample_size = sample_size\n",
    "        self.vocab_size = None\n",
    "        self.word_p = None\n",
    "\n",
    "        counts = collections.Counter()\n",
    "        for word_id in corpus:\n",
    "            counts[word_id] += 1\n",
    "\n",
    "        vocab_size = len(counts)\n",
    "        self.vocab_size = vocab_size\n",
    "\n",
    "        self.word_p = np.zeros(vocab_size)\n",
    "        for i in range(vocab_size):\n",
    "            self.word_p[i] = counts[i]\n",
    "\n",
    "        self.word_p = np.power(self.word_p, power)\n",
    "        self.word_p /= np.sum(self.word_p)\n",
    "\n",
    "    def get_negative_sample(self, target):\n",
    "        batch_size = target.shape[0]\n",
    "\n",
    "        if not GPU:\n",
    "            negative_sample = np.zeros((batch_size, self.sample_size), dtype=np.int32)\n",
    "\n",
    "            for i in range(batch_size):\n",
    "                p = self.word_p.copy()\n",
    "                target_idx = target[i]\n",
    "                p[target_idx] = 0\n",
    "                p /= p.sum()\n",
    "                negative_sample[i, :] = np.random.choice(self.vocab_size, size=self.sample_size, replace=False, p=p)\n",
    "        else:\n",
    "            # GPU(cupy）로 계산할 때는 속도를 우선한다.\n",
    "            # 부정적 예에 타깃이 포함될 수 있다.\n",
    "            negative_sample = np.random.choice(self.vocab_size, size=(batch_size, self.sample_size),\n",
    "                                               replace=True, p=self.word_p)\n",
    "\n",
    "        return negative_sample"
   ]
  },
  {
   "cell_type": "code",
   "execution_count": 27,
   "metadata": {},
   "outputs": [
    {
     "name": "stdout",
     "output_type": "stream",
     "text": [
      "[[2 3]\n",
      " [1 2]\n",
      " [2 3]]\n"
     ]
    }
   ],
   "source": [
    "# GPU 사용 여부 설정\n",
    "GPU = False\n",
    "\n",
    "corpus = np.array([0, 1, 2, 3, 4, 1, 2, 3])\n",
    "power = 0.75\n",
    "sample_size = 2\n",
    "\n",
    "sampler = UnigramSampler(corpus, power, sample_size) # UnigramSampler 클래스의 인스턴스 생성\n",
    "target = np.array([1, 3, 0]) # 3개의 데이터를 미니배치로 묶어 처리한다고 가정, 긍정적 예\n",
    "negative_sample = sampler.get_negative_sample(target) # 부정적 예 샘플링\n",
    "print(negative_sample)"
   ]
  },
  {
   "cell_type": "code",
   "execution_count": 28,
   "metadata": {},
   "outputs": [],
   "source": [
    "class SigmoidWithLoss:\n",
    "    def __init__(self):\n",
    "        self.params, self.grads = [], []\n",
    "        self.loss = None\n",
    "        self.y = None  # sigmoid의 출력\n",
    "        self.t = None  # 정답 데이터\n",
    "\n",
    "    def forward(self, x, t):\n",
    "        self.t = t\n",
    "        self.y = 1 / (1 + np.exp(-x))\n",
    "\n",
    "        self.loss = cross_entropy_error(np.c_[1 - self.y, self.y], self.t)\n",
    "\n",
    "        return self.loss\n",
    "\n",
    "    def backward(self, dout=1):\n",
    "        batch_size = self.t.shape[0]\n",
    "\n",
    "        dx = (self.y - self.t) * dout / batch_size\n",
    "        return dx"
   ]
  },
  {
   "cell_type": "code",
   "execution_count": 29,
   "metadata": {},
   "outputs": [],
   "source": [
    "# 네거티브 샘플링을 수행하는 손실함수 구현\n",
    "# NegativeSampling 클래스 내부에는 EmbeddingDot 계층과 SigmoidWithLoss 계층이 포함되어 있다.\n",
    "class NegativeSamplingLoss:\n",
    "  def __init__(self, W, corpus, power=0.75, sample_size=5):\n",
    "    self.sample_size = sample_size                                          # 샘플링 수\n",
    "    self.sampler = UnigramSampler(corpus, power, sample_size)               # UnigramSampler 클래스의 인스턴스 생성\n",
    "    self.loss_layers = [SigmoidWithLoss() for _ in range(sample_size + 1)]  # 긍정적 예 1개 + 부정적 예 sample_size개, loss_layers[0]는 긍정적 예에 대한 손실을 구하는 계층이다.\n",
    "    self.embed_dot_layers = [EmbeddingDot(W) for _ in range(sample_size + 1)] # 긍정적 예 1개 + 부정적 예 sample_size개, embed_dot_layers[0]는 긍정적 예에 대한 점수를 구하는 계층이다.\n",
    "    \n",
    "    self.params, self.grads = [], []                                        # 모든 가중치와 기울기를 리스트에 모은다.\n",
    "    for layer in self.embed_dot_layers:\n",
    "      self.params += layer.params\n",
    "      self.grads += layer.grads\n",
    "  \n",
    "  # 순전파, 긍정적 예와 부정적 예의 점수를 구하고, 손실을 계산한다.\n",
    "  def forward(self, h, target):\n",
    "    batch_size = target.shape[0]\n",
    "    negative_sample = self.sampler.get_negative_sample(target)  # 부정적 예 샘플링, UnigramSampler 클래스의 get_negative_sample 메서드 호출\n",
    "    \n",
    "    # 긍정적 예의 순전파\n",
    "    score = self.embed_dot_layers[0].forward(h, target)          # 긍정적 예의 점수, EmbeddingDot 클래스의 forward 메서드 호출, h와 target 간의 내적을 계산. \n",
    "    correct_label = np.ones(batch_size, dtype=np.int32)          # 긍정적 예의 레이블은 1\n",
    "    loss = self.loss_layers[0].forward(score, correct_label)      # 긍정적 예의 손실, SigmoidWithLoss 클래스의 forward 메서드 호출, score를 SigmoidWithLoss 계층에 입력하여 손실을 계산.\n",
    "    \n",
    "    # 부정적 예의 순전파\n",
    "    negative_label = np.zeros(batch_size, dtype=np.int32)        # 부정적 예의 레이블은 0\n",
    "    for i in range(self.sample_size):\n",
    "      negative_target = negative_sample[:, i]                    # 부정적 예의 타깃\n",
    "      score = self.embed_dot_layers[1 + i].forward(h, negative_target)  # 부정적 예의 점수, EmbeddingDot 클래스의 forward 메서드 호출, h와 negative_target 간의 내적을 계산.\n",
    "      loss += self.loss_layers[1 + i].forward(score, negative_label)    # 부정적 예의 손실, SigmoidWithLoss 클래스의 forward 메서드 호출, score를 SigmoidWithLoss 계층에 입력하여 손실을 계산.\n",
    "      \n",
    "    return loss\n",
    "  \n",
    "  # 역전파\n",
    "  def backward(self, dout=1):\n",
    "    dh = 0\n",
    "    for l0, l1 in zip(self.loss_layers, self.embed_dot_layers):\n",
    "      dscore = l0.backward(dout)  # SigmoidWithLoss 계층의 역전파, SigmoidWithLoss 클래스의 backward 메서드 호출\n",
    "      dh += l1.backward(dscore)   # EmbeddingDot 계층의 역전파, EmbeddingDot 클래스의 backward 메서드 호출\n",
    "    return dh"
   ]
  },
  {
   "cell_type": "markdown",
   "metadata": {},
   "source": [
    "### SimpleCBOW 모델을 개선한 CBOW 모델, Embedding 계층과 Negative Sampling Loss 계층을 적용했다.  "
   ]
  },
  {
   "cell_type": "code",
   "execution_count": 30,
   "metadata": {},
   "outputs": [],
   "source": [
    "class CBOW:\n",
    "  def __init__(self, vocab_size, hidden_size, window_size, corpus): # voab_size:어휘수, hidden_size:은닉층 뉴런 수, window_size:맥락의 크기, corpus:말뭉치\n",
    "    V, H = vocab_size, hidden_size                  \n",
    "\n",
    "    # 가중치 초기화\n",
    "    W_in = 0.01 * np.random.randn(V, H).astype('f')\n",
    "    W_out = 0.01 * np.random.randn(V, H).astype('f')\n",
    "\n",
    "    # 계층 생성\n",
    "    self.in_layers = []\n",
    "    for i in range(2 * window_size):\n",
    "      layer = Embedding(W_in)              # Embedding 계층 사용, 2*window_size만큼 생성, 예) window_size가 1이면 2개의 Embedding 계층 생성\n",
    "      self.in_layers.append(layer)         # Embedding 계층을 인스턴스 변수 in_layers에 배열로 저장\n",
    "    self.ns_loss = NegativeSamplingLoss(W_out, corpus, power=0.75, sample_size=5)  # NegativeSamplingLoss 계층을 인스턴스 변수 ns_loss에 저장\n",
    "\n",
    "    # 모든 가중치와 기울기를 리스트에 모은다.\n",
    "    layers = self.in_layers + [self.ns_loss]  # in_layers와 ns_loss를 합쳐 layers에 저장, 모든 계층을 리스트에 모은다.\n",
    "    self.params, self.grads = [], []\n",
    "    for layer in layers:\n",
    "      self.params += layer.params             # params에 각 계층의 가중치를 저장\n",
    "      self.grads += layer.grads               # grads에 각 계층의 기울기를 저장\n",
    "\n",
    "    # 인스턴스 변수에 단어의 분산 표현을 저장한다.\n",
    "    self.word_vecs = W_in   # 인스턴스 변수 word_vecs에 W_in을 저장해 단어의 분산 표현에 접근할 수 있게 한다. 사실상 word_vecs를 구하기 위해 필요한 것은 W_in이다.\n",
    "    \n",
    "  # 순전파\n",
    "  def forward(self, contexts, target):     # contexts는 맥락, target은 타깃을 나타내는데 이 두 인수는 단어 ID의 배열이다.\n",
    "    h = 0\n",
    "    for i, layer in enumerate(self.in_layers):\n",
    "      h += layer.forward(contexts[:, i])  # Embedding 계층의 forward 메서드 호출, contexts[:, i]는 각 맥락의 단어 ID를 추출\n",
    "    h *= 1 / len(self.in_layers)           # 은닉층 노드 h의 값이 맥락의 수만큼 나눠서 평균값을 구한다. \n",
    "\n",
    "    loss = self.ns_loss.forward(h, target) # NegativeSamplingLoss 계층의 forward 메서드 호출, h와 target을 입력하여 손실을 계산\n",
    "    return loss\n",
    "  \n",
    "  # 역전파\n",
    "  def backward(self, dout=1):\n",
    "    dout = self.ns_loss.backward(dout)  # NegativeSamplingLoss 계층의 역전파, NegativeSamplingLoss 클래스의 backward 메서드 호출\n",
    "    dout *= 1 / len(self.in_layers)     # 은닉층 노드 h의 기울기를 맥락의 수만큼 나눠서 평균값을 구한다.\n",
    "\n",
    "    for layer in self.in_layers:\n",
    "      layer.backward(dout)              # Embedding 계층의 역전파, Embedding 클래스의 backward 메서드 호출"
   ]
  },
  {
   "cell_type": "markdown",
   "metadata": {},
   "source": [
    "### CBOW 모델 학습 코드  "
   ]
  },
  {
   "cell_type": "code",
   "execution_count": 31,
   "metadata": {},
   "outputs": [
    {
     "name": "stdout",
     "output_type": "stream",
     "text": [
      "| 에폭 1 |  반복 1 / 309862 | 시간 0[s] | 손실 4.16\n",
      "| 에폭 1 |  반복 21 / 309862 | 시간 0[s] | 손실 4.16\n",
      "| 에폭 1 |  반복 41 / 309862 | 시간 0[s] | 손실 4.16\n",
      "| 에폭 1 |  반복 61 / 309862 | 시간 0[s] | 손실 4.16\n",
      "| 에폭 1 |  반복 81 / 309862 | 시간 0[s] | 손실 4.16\n",
      "| 에폭 1 |  반복 101 / 309862 | 시간 0[s] | 손실 4.16\n",
      "| 에폭 1 |  반복 121 / 309862 | 시간 0[s] | 손실 4.16\n",
      "| 에폭 1 |  반복 141 / 309862 | 시간 0[s] | 손실 4.16\n",
      "| 에폭 1 |  반복 161 / 309862 | 시간 0[s] | 손실 4.16\n",
      "| 에폭 1 |  반복 181 / 309862 | 시간 0[s] | 손실 4.16\n",
      "| 에폭 1 |  반복 201 / 309862 | 시간 0[s] | 손실 4.16\n",
      "| 에폭 1 |  반복 221 / 309862 | 시간 0[s] | 손실 4.16\n",
      "| 에폭 1 |  반복 241 / 309862 | 시간 0[s] | 손실 4.16\n",
      "| 에폭 1 |  반복 261 / 309862 | 시간 0[s] | 손실 4.16\n",
      "| 에폭 1 |  반복 281 / 309862 | 시간 0[s] | 손실 4.16\n",
      "| 에폭 1 |  반복 301 / 309862 | 시간 0[s] | 손실 4.16\n",
      "| 에폭 1 |  반복 321 / 309862 | 시간 0[s] | 손실 4.16\n",
      "| 에폭 1 |  반복 341 / 309862 | 시간 0[s] | 손실 4.16\n",
      "| 에폭 1 |  반복 361 / 309862 | 시간 0[s] | 손실 4.16\n",
      "| 에폭 1 |  반복 381 / 309862 | 시간 0[s] | 손실 4.16\n",
      "| 에폭 1 |  반복 401 / 309862 | 시간 0[s] | 손실 4.16\n",
      "| 에폭 1 |  반복 421 / 309862 | 시간 0[s] | 손실 4.16\n",
      "| 에폭 1 |  반복 441 / 309862 | 시간 0[s] | 손실 4.16\n",
      "| 에폭 1 |  반복 461 / 309862 | 시간 0[s] | 손실 4.16\n",
      "| 에폭 1 |  반복 481 / 309862 | 시간 0[s] | 손실 4.16\n",
      "| 에폭 1 |  반복 501 / 309862 | 시간 0[s] | 손실 4.16\n",
      "| 에폭 1 |  반복 521 / 309862 | 시간 0[s] | 손실 4.16\n",
      "| 에폭 1 |  반복 541 / 309862 | 시간 0[s] | 손실 4.16\n",
      "| 에폭 1 |  반복 561 / 309862 | 시간 0[s] | 손실 4.15\n",
      "| 에폭 1 |  반복 581 / 309862 | 시간 0[s] | 손실 4.15\n",
      "| 에폭 1 |  반복 601 / 309862 | 시간 0[s] | 손실 4.15\n",
      "| 에폭 1 |  반복 621 / 309862 | 시간 0[s] | 손실 4.15\n",
      "| 에폭 1 |  반복 641 / 309862 | 시간 0[s] | 손실 4.15\n",
      "| 에폭 1 |  반복 661 / 309862 | 시간 0[s] | 손실 4.15\n",
      "| 에폭 1 |  반복 681 / 309862 | 시간 0[s] | 손실 4.15\n",
      "| 에폭 1 |  반복 701 / 309862 | 시간 0[s] | 손실 4.15\n",
      "| 에폭 1 |  반복 721 / 309862 | 시간 0[s] | 손실 4.15\n",
      "| 에폭 1 |  반복 741 / 309862 | 시간 0[s] | 손실 4.14\n",
      "| 에폭 1 |  반복 761 / 309862 | 시간 0[s] | 손실 4.14\n",
      "| 에폭 1 |  반복 781 / 309862 | 시간 0[s] | 손실 4.14\n",
      "| 에폭 1 |  반복 801 / 309862 | 시간 0[s] | 손실 4.14\n",
      "| 에폭 1 |  반복 821 / 309862 | 시간 0[s] | 손실 4.14\n",
      "| 에폭 1 |  반복 841 / 309862 | 시간 0[s] | 손실 4.14\n",
      "| 에폭 1 |  반복 861 / 309862 | 시간 0[s] | 손실 4.13\n",
      "| 에폭 1 |  반복 881 / 309862 | 시간 1[s] | 손실 4.12\n",
      "| 에폭 1 |  반복 901 / 309862 | 시간 1[s] | 손실 4.13\n",
      "| 에폭 1 |  반복 921 / 309862 | 시간 1[s] | 손실 4.13\n",
      "| 에폭 1 |  반복 941 / 309862 | 시간 1[s] | 손실 4.12\n",
      "| 에폭 1 |  반복 961 / 309862 | 시간 1[s] | 손실 4.12\n",
      "| 에폭 1 |  반복 981 / 309862 | 시간 1[s] | 손실 4.11\n"
     ]
    },
    {
     "ename": "KeyboardInterrupt",
     "evalue": "",
     "output_type": "error",
     "traceback": [
      "\u001b[1;31m---------------------------------------------------------------------------\u001b[0m",
      "\u001b[1;31mKeyboardInterrupt\u001b[0m                         Traceback (most recent call last)",
      "Cell \u001b[1;32mIn[31], line 21\u001b[0m\n\u001b[0;32m     18\u001b[0m trainer \u001b[38;5;241m=\u001b[39m Trainer(model, optimizer)\n\u001b[0;32m     20\u001b[0m \u001b[38;5;66;03m# 학습 시작\u001b[39;00m\n\u001b[1;32m---> 21\u001b[0m \u001b[43mtrainer\u001b[49m\u001b[38;5;241;43m.\u001b[39;49m\u001b[43mfit\u001b[49m\u001b[43m(\u001b[49m\u001b[43mcontexts\u001b[49m\u001b[43m,\u001b[49m\u001b[43m \u001b[49m\u001b[43mtarget\u001b[49m\u001b[43m,\u001b[49m\u001b[43m \u001b[49m\u001b[43mmax_epoch\u001b[49m\u001b[43m,\u001b[49m\u001b[43m \u001b[49m\u001b[43mbatch_size\u001b[49m\u001b[43m)\u001b[49m\n\u001b[0;32m     22\u001b[0m trainer\u001b[38;5;241m.\u001b[39mplot()\n",
      "File \u001b[1;32mC:\\Users/KimDongyoung/Desktop/Github/my_git/mygit/DEEPLEARNING/밑바닥부터시작하는딥러닝2\\common\\trainer.py:41\u001b[0m, in \u001b[0;36mTrainer.fit\u001b[1;34m(self, x, t, max_epoch, batch_size, max_grad, eval_interval)\u001b[0m\n\u001b[0;32m     39\u001b[0m \u001b[38;5;66;03m# 기울기 구해 매개변수 갱신\u001b[39;00m\n\u001b[0;32m     40\u001b[0m loss \u001b[38;5;241m=\u001b[39m model\u001b[38;5;241m.\u001b[39mforward(batch_x, batch_t) \u001b[38;5;66;03m# 모델의 forward 메서드 호출하여 손실 계산\u001b[39;00m\n\u001b[1;32m---> 41\u001b[0m \u001b[43mmodel\u001b[49m\u001b[38;5;241;43m.\u001b[39;49m\u001b[43mbackward\u001b[49m\u001b[43m(\u001b[49m\u001b[43m)\u001b[49m                       \u001b[38;5;66;03m# 모델의 backward 메서드 호출하여 기울기 계산\u001b[39;00m\n\u001b[0;32m     42\u001b[0m params, grads \u001b[38;5;241m=\u001b[39m remove_duplicate(model\u001b[38;5;241m.\u001b[39mparams, model\u001b[38;5;241m.\u001b[39mgrads)  \u001b[38;5;66;03m# 공유된 가중치를 하나로 모음\u001b[39;00m\n\u001b[0;32m     43\u001b[0m \u001b[38;5;28;01mif\u001b[39;00m max_grad \u001b[38;5;129;01mis\u001b[39;00m \u001b[38;5;129;01mnot\u001b[39;00m \u001b[38;5;28;01mNone\u001b[39;00m:\n",
      "Cell \u001b[1;32mIn[30], line 38\u001b[0m, in \u001b[0;36mCBOW.backward\u001b[1;34m(self, dout)\u001b[0m\n\u001b[0;32m     37\u001b[0m \u001b[38;5;28;01mdef\u001b[39;00m \u001b[38;5;21mbackward\u001b[39m(\u001b[38;5;28mself\u001b[39m, dout\u001b[38;5;241m=\u001b[39m\u001b[38;5;241m1\u001b[39m):\n\u001b[1;32m---> 38\u001b[0m   dout \u001b[38;5;241m=\u001b[39m \u001b[38;5;28;43mself\u001b[39;49m\u001b[38;5;241;43m.\u001b[39;49m\u001b[43mns_loss\u001b[49m\u001b[38;5;241;43m.\u001b[39;49m\u001b[43mbackward\u001b[49m\u001b[43m(\u001b[49m\u001b[43mdout\u001b[49m\u001b[43m)\u001b[49m  \u001b[38;5;66;03m# NegativeSamplingLoss 계층의 역전파, NegativeSamplingLoss 클래스의 backward 메서드 호출\u001b[39;00m\n\u001b[0;32m     39\u001b[0m   dout \u001b[38;5;241m*\u001b[39m\u001b[38;5;241m=\u001b[39m \u001b[38;5;241m1\u001b[39m \u001b[38;5;241m/\u001b[39m \u001b[38;5;28mlen\u001b[39m(\u001b[38;5;28mself\u001b[39m\u001b[38;5;241m.\u001b[39min_layers)     \u001b[38;5;66;03m# 은닉층 노드 h의 기울기를 맥락의 수만큼 나눠서 평균값을 구한다.\u001b[39;00m\n\u001b[0;32m     41\u001b[0m   \u001b[38;5;28;01mfor\u001b[39;00m layer \u001b[38;5;129;01min\u001b[39;00m \u001b[38;5;28mself\u001b[39m\u001b[38;5;241m.\u001b[39min_layers:\n",
      "Cell \u001b[1;32mIn[29], line 39\u001b[0m, in \u001b[0;36mNegativeSamplingLoss.backward\u001b[1;34m(self, dout)\u001b[0m\n\u001b[0;32m     37\u001b[0m \u001b[38;5;28;01mfor\u001b[39;00m l0, l1 \u001b[38;5;129;01min\u001b[39;00m \u001b[38;5;28mzip\u001b[39m(\u001b[38;5;28mself\u001b[39m\u001b[38;5;241m.\u001b[39mloss_layers, \u001b[38;5;28mself\u001b[39m\u001b[38;5;241m.\u001b[39membed_dot_layers):\n\u001b[0;32m     38\u001b[0m   dscore \u001b[38;5;241m=\u001b[39m l0\u001b[38;5;241m.\u001b[39mbackward(dout)  \u001b[38;5;66;03m# SigmoidWithLoss 계층의 역전파, SigmoidWithLoss 클래스의 backward 메서드 호출\u001b[39;00m\n\u001b[1;32m---> 39\u001b[0m   dh \u001b[38;5;241m+\u001b[39m\u001b[38;5;241m=\u001b[39m \u001b[43ml1\u001b[49m\u001b[38;5;241;43m.\u001b[39;49m\u001b[43mbackward\u001b[49m\u001b[43m(\u001b[49m\u001b[43mdscore\u001b[49m\u001b[43m)\u001b[49m   \u001b[38;5;66;03m# EmbeddingDot 계층의 역전파, EmbeddingDot 클래스의 backward 메서드 호출\u001b[39;00m\n\u001b[0;32m     40\u001b[0m \u001b[38;5;28;01mreturn\u001b[39;00m dh\n",
      "Cell \u001b[1;32mIn[24], line 20\u001b[0m, in \u001b[0;36mEmbeddingDot.backward\u001b[1;34m(self, dout)\u001b[0m\n\u001b[0;32m     17\u001b[0m dout \u001b[38;5;241m=\u001b[39m dout\u001b[38;5;241m.\u001b[39mreshape(dout\u001b[38;5;241m.\u001b[39mshape[\u001b[38;5;241m0\u001b[39m], \u001b[38;5;241m1\u001b[39m)\n\u001b[0;32m     19\u001b[0m dtarget_W \u001b[38;5;241m=\u001b[39m dout \u001b[38;5;241m*\u001b[39m h\n\u001b[1;32m---> 20\u001b[0m \u001b[38;5;28;43mself\u001b[39;49m\u001b[38;5;241;43m.\u001b[39;49m\u001b[43membed\u001b[49m\u001b[38;5;241;43m.\u001b[39;49m\u001b[43mbackward\u001b[49m\u001b[43m(\u001b[49m\u001b[43mdtarget_W\u001b[49m\u001b[43m)\u001b[49m\n\u001b[0;32m     21\u001b[0m dh \u001b[38;5;241m=\u001b[39m dout \u001b[38;5;241m*\u001b[39m target_W\n\u001b[0;32m     22\u001b[0m \u001b[38;5;28;01mreturn\u001b[39;00m dh\n",
      "Cell \u001b[1;32mIn[23], line 18\u001b[0m, in \u001b[0;36mEmbedding.backward\u001b[1;34m(self, dout)\u001b[0m\n\u001b[0;32m     16\u001b[0m dW, \u001b[38;5;241m=\u001b[39m \u001b[38;5;28mself\u001b[39m\u001b[38;5;241m.\u001b[39mgrads\n\u001b[0;32m     17\u001b[0m dW[\u001b[38;5;241m.\u001b[39m\u001b[38;5;241m.\u001b[39m\u001b[38;5;241m.\u001b[39m] \u001b[38;5;241m=\u001b[39m \u001b[38;5;241m0\u001b[39m\n\u001b[1;32m---> 18\u001b[0m \u001b[43mnp\u001b[49m\u001b[38;5;241;43m.\u001b[39;49m\u001b[43madd\u001b[49m\u001b[38;5;241;43m.\u001b[39;49m\u001b[43mat\u001b[49m\u001b[43m(\u001b[49m\u001b[43mdW\u001b[49m\u001b[43m,\u001b[49m\u001b[43m \u001b[49m\u001b[38;5;28;43mself\u001b[39;49m\u001b[38;5;241;43m.\u001b[39;49m\u001b[43midx\u001b[49m\u001b[43m,\u001b[49m\u001b[43m \u001b[49m\u001b[43mdout\u001b[49m\u001b[43m)\u001b[49m  \u001b[38;5;66;03m# dW의 특정 행에 dout을 더함\u001b[39;00m\n\u001b[0;32m     19\u001b[0m \u001b[38;5;28;01mreturn\u001b[39;00m \u001b[38;5;28;01mNone\u001b[39;00m\n",
      "\u001b[1;31mKeyboardInterrupt\u001b[0m: "
     ]
    }
   ],
   "source": [
    "# 하이퍼 파라미터 설정\n",
    "window_size = 1\n",
    "hidden_size = 5\n",
    "batch_size = 3 # 미니배치 크기\n",
    "max_epoch = 2\n",
    "\n",
    "# 데이터 읽기\n",
    "corpus, word_to_id, id_to_word = load_data('train')\n",
    "vocab_size = len(word_to_id)\n",
    "vocab_size\n",
    "contexts, target = create_contexts_target(corpus, window_size) # 맥락과 타깃 생성하는 함수 호출\n",
    "if GPU:\n",
    "    contexts, target = to_gpu(contexts), to_gpu(target)\n",
    "    \n",
    "# 모델 생성\n",
    "model = CBOW(vocab_size, hidden_size, window_size, corpus)\n",
    "optimizer = Adam()\n",
    "trainer = Trainer(model, optimizer)\n",
    "\n",
    "# 학습 시작\n",
    "trainer.fit(contexts, target, max_epoch, batch_size)\n",
    "trainer.plot()\n",
    "\n"
   ]
  },
  {
   "cell_type": "code",
   "execution_count": 18,
   "metadata": {},
   "outputs": [],
   "source": [
    "import pickle"
   ]
  },
  {
   "cell_type": "code",
   "execution_count": 19,
   "metadata": {},
   "outputs": [],
   "source": [
    "# 학습이 끝난 후 단어의 분산 표현을 추출\n",
    "word_vecs = model.word_vecs\n",
    "if GPU:\n",
    "    word_vecs = to_cpu(word_vecs)\n",
    "\n",
    "# 단어 별 분산 표현을 사전에 저장\n",
    "params = {}\n",
    "params['word_vecs'] = word_vecs.astype(np.float16)\n",
    "params['word_to_id'] = word_to_id\n",
    "params['id_to_word'] = id_to_word\n",
    "pkl_file = 'cbow_params.pkl'\n",
    "with open(pkl_file, 'wb') as f:\n",
    "    pickle.dump(params, f, -1)"
   ]
  },
  {
   "cell_type": "code",
   "execution_count": null,
   "metadata": {},
   "outputs": [],
   "source": []
  },
  {
   "cell_type": "code",
   "execution_count": null,
   "metadata": {},
   "outputs": [],
   "source": []
  }
 ],
 "metadata": {
  "kernelspec": {
   "display_name": "Python 3",
   "language": "python",
   "name": "python3"
  },
  "language_info": {
   "codemirror_mode": {
    "name": "ipython",
    "version": 3
   },
   "file_extension": ".py",
   "mimetype": "text/x-python",
   "name": "python",
   "nbconvert_exporter": "python",
   "pygments_lexer": "ipython3",
   "version": "3.12.0"
  }
 },
 "nbformat": 4,
 "nbformat_minor": 2
}
